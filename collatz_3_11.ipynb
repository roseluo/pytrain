{
 "cells": [
  {
   "cell_type": "markdown",
   "metadata": {},
   "source": [
    "# 3.11.1 Collatz序列"
   ]
  },
  {
   "cell_type": "code",
   "execution_count": 17,
   "metadata": {},
   "outputs": [],
   "source": [
    "def collatz(number):\n",
    "    ret=0\n",
    "    if number % 2 == 0:\n",
    "        ret=number//2\n",
    "        \n",
    "    else:\n",
    "        ret=number*3+1\n",
    "        \n",
    "    print(str(ret))\n",
    "    return ret\n",
    "    "
   ]
  },
  {
   "cell_type": "code",
   "execution_count": 20,
   "metadata": {},
   "outputs": [
    {
     "name": "stdout",
     "output_type": "stream",
     "text": [
      "Please input a number:dfs\n",
      "There must be a int digit!\n"
     ]
    }
   ],
   "source": [
    "try:\n",
    "    num=int(input(\"Please input a number:\"))\n",
    "except ValueError:\n",
    "    print(\"There must be a int digit!\")\n",
    "while num!=1:\n",
    "    num=collatz(num)\n",
    "    \n",
    "#print(str(num))"
   ]
  }
 ],
 "metadata": {
  "kernelspec": {
   "display_name": "Python 3",
   "language": "python",
   "name": "python3"
  },
  "language_info": {
   "codemirror_mode": {
    "name": "ipython",
    "version": 3
   },
   "file_extension": ".py",
   "mimetype": "text/x-python",
   "name": "python",
   "nbconvert_exporter": "python",
   "pygments_lexer": "ipython3",
   "version": "3.7.3"
  }
 },
 "nbformat": 4,
 "nbformat_minor": 2
}

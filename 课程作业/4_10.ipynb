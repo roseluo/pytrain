{
 "cells": [
  {
   "cell_type": "code",
   "execution_count": 3,
   "metadata": {},
   "outputs": [
    {
     "name": "stdout",
     "output_type": "stream",
     "text": [
      "apples,bananas,tofu,and cats\n"
     ]
    }
   ],
   "source": [
    "#4.10.1\n",
    "\n",
    "def f1(m):\n",
    "    ret=''\n",
    "    for i in range(len(m)):\n",
    "        if i < len(m)-1:\n",
    "            ret+=m[i]+\",\"\n",
    "        else:\n",
    "            ret+=\"and \"+m[i]\n",
    "    return ret\n",
    "\n",
    "spam=['apples','bananas','tofu','cats']\n",
    "print(f1(spam))"
   ]
  },
  {
   "cell_type": "code",
   "execution_count": 7,
   "metadata": {},
   "outputs": [
    {
     "data": {
      "text/plain": [
       "9"
      ]
     },
     "execution_count": 7,
     "metadata": {},
     "output_type": "execute_result"
    }
   ],
   "source": [
    "#4.10.2\n",
    "\n",
    "grid=[['.','.','.','.','.','.'],\n",
    "      ['.','0','0','.','.','.'],\n",
    "      ['0','0','0','0','.','.'],\n",
    "      ['0','0','0','0','0','.'],\n",
    "      ['.','0','0','0','0','0'],\n",
    "      ['0','0','0','0','0','.'],\n",
    "      ['0','0','0','0','.','.'],\n",
    "      ['.','0','0','.','.','.'],\n",
    "      ['.','.','.','.','.','.']\n",
    "     ]\n",
    "\n",
    "len(grid)"
   ]
  },
  {
   "cell_type": "code",
   "execution_count": 12,
   "metadata": {},
   "outputs": [
    {
     "name": "stdout",
     "output_type": "stream",
     "text": [
      "..00.00..\n",
      ".0000000.\n",
      ".0000000.\n",
      "..00000..\n",
      "...000...\n",
      "....0....\n"
     ]
    }
   ],
   "source": [
    "for i in range(len(grid[1])):\n",
    "    \n",
    "    for j in range(len(grid)):\n",
    "        print(grid[j][i],end='')\n",
    "    print('')"
   ]
  }
 ],
 "metadata": {
  "kernelspec": {
   "display_name": "Python 3",
   "language": "python",
   "name": "python3"
  },
  "language_info": {
   "codemirror_mode": {
    "name": "ipython",
    "version": 3
   },
   "file_extension": ".py",
   "mimetype": "text/x-python",
   "name": "python",
   "nbconvert_exporter": "python",
   "pygments_lexer": "ipython3",
   "version": "3.7.1"
  }
 },
 "nbformat": 4,
 "nbformat_minor": 2
}

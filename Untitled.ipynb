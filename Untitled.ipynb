{
 "cells": [
  {
   "cell_type": "raw",
   "metadata": {},
   "source": [
    "14. 最长公共前缀\n",
    "编写一个函数来查找字符串数组中的最长公共前缀。\n",
    "\n",
    "如果不存在公共前缀，返回空字符串 \"\"。\n",
    "\n",
    "示例 1:\n",
    "\n",
    "输入: [\"flower\",\"flow\",\"flight\"]\n",
    "输出: \"fl\"\n",
    "示例 2:\n",
    "\n",
    "输入: [\"dog\",\"racecar\",\"car\"]\n",
    "输出: \"\"\n",
    "解释: 输入不存在公共前缀。\n",
    "说明:\n",
    "\n",
    "所有输入只包含小写字母 a-z 。"
   ]
  },
  {
   "cell_type": "code",
   "execution_count": 36,
   "metadata": {},
   "outputs": [],
   "source": [
    "\n",
    "def longestCommonPrefix(strs):\n",
    "    if len(strs) == 0:\n",
    "        return \"\"\n",
    "    for i in range(min( (len(x),x) for x in strs)[0]):    \n",
    "        x=strs[0][i]\n",
    "        for j in range(1,len(strs)):\n",
    "            if x!=strs[j][i]:\n",
    "                return strs[j][0:i] if j>0 else \"\""
   ]
  },
  {
   "cell_type": "code",
   "execution_count": 38,
   "metadata": {},
   "outputs": [
    {
     "data": {
      "text/plain": [
       "''"
      ]
     },
     "execution_count": 38,
     "metadata": {},
     "output_type": "execute_result"
    }
   ],
   "source": [
    "strs=[]\n",
    "longestCommonPrefix(strs)"
   ]
  },
  {
   "cell_type": "code",
   "execution_count": 37,
   "metadata": {},
   "outputs": [
    {
     "data": {
      "text/plain": [
       "'fl'"
      ]
     },
     "execution_count": 37,
     "metadata": {},
     "output_type": "execute_result"
    }
   ],
   "source": [
    "strs=[\"flower\",\"flow\",\"flight\"]\n",
    "\n",
    "longestCommonPrefix(strs)"
   ]
  },
  {
   "cell_type": "code",
   "execution_count": 29,
   "metadata": {},
   "outputs": [
    {
     "name": "stdout",
     "output_type": "stream",
     "text": [
      "x= f\n",
      "strs[ 1 ][ 0 ]= f\n",
      "strs[ 2 ][ 0 ]= f\n",
      "x= l\n",
      "strs[ 1 ][ 1 ]= l\n",
      "strs[ 2 ][ 1 ]= l\n",
      "x= o\n",
      "strs[ 1 ][ 2 ]= o\n",
      "strs[ 2 ][ 2 ]= i\n",
      "fl\n",
      "x= w\n",
      "strs[ 1 ][ 3 ]= w\n",
      "strs[ 2 ][ 3 ]= g\n",
      "fli\n"
     ]
    }
   ],
   "source": [
    "for i in range(min( (len(x),x) for x in strs)[0]):    \n",
    "    x=strs[0][i]\n",
    "    print(\"x=\",x)\n",
    "    for j in range(1,len(strs)):\n",
    "        print('strs[',j,'][',i,']=',strs[j][i])\n",
    "        if x!=strs[j][i]:\n",
    "            #print(strs[j][i])\n",
    "            print(strs[j][0:i] if j>0 else \"\")\n",
    "            break"
   ]
  },
  {
   "cell_type": "code",
   "execution_count": 34,
   "metadata": {},
   "outputs": [
    {
     "data": {
      "text/plain": [
       "''"
      ]
     },
     "execution_count": 34,
     "metadata": {},
     "output_type": "execute_result"
    }
   ],
   "source": [
    "strs=[\"dog\",\"racecar\",\"car\"]\n",
    "longestCommonPrefix(strs)"
   ]
  }
 ],
 "metadata": {
  "kernelspec": {
   "display_name": "Python 3",
   "language": "python",
   "name": "python3"
  },
  "language_info": {
   "codemirror_mode": {
    "name": "ipython",
    "version": 3
   },
   "file_extension": ".py",
   "mimetype": "text/x-python",
   "name": "python",
   "nbconvert_exporter": "python",
   "pygments_lexer": "ipython3",
   "version": "3.7.3"
  }
 },
 "nbformat": 4,
 "nbformat_minor": 2
}

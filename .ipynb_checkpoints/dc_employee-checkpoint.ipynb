{
 "cells": [
  {
   "cell_type": "markdown",
   "metadata": {},
   "source": [
    "# 员工离职预测训练赛\n",
    "\n",
    "http://www.pkbigdata.com/common/cmpt/%E5%91%98%E5%B7%A5%E7%A6%BB%E8%81%8C%E9%A2%84%E6%B5%8B%E8%AE%AD%E7%BB%83%E8%B5%9B_%E7%AB%9E%E8%B5%9B%E4%BF%A1%E6%81%AF.html\n",
    "\n",
    "其中训练数据主要包括1100条记录，31个字段，主要字段说明如下：\n",
    "（1）Age：员工年龄\n",
    "（2）Attrition：员工是否已经离职，1表示已经离职，2表示未离职，这是目标预测值；\n",
    "（3）BusinessTravel：商务差旅频率，Non-Travel表示不出差，Travel_Rarely表示不经常出差，Travel_Frequently表示经常出差；\n",
    "（4）Department：员工所在部门，Sales表示销售部，Research & Development表示研发部，Human Resources表示人力资源部；\n",
    "（5）DistanceFromHome：公司跟家庭住址的距离，从1到29，1表示最近，29表示最远；\n",
    "（6）Education：员工的教育程度，从1到5，5表示教育程度最高；\n",
    "（7）EducationField：员工所学习的专业领域，Life Sciences表示生命科学，Medical表示医疗，Marketing表示市场营销，Technical Degree表示技术学位，Human Resources表示人力资源，Other表示其他；\n",
    "（8）EmployeeNumber：员工号码；\n",
    "（9）EnvironmentSatisfaction：员工对于工作环境的满意程度，从1到4，1的满意程度最低，4的满意程度最高；\n",
    "（10）Gender：员工性别，Male表示男性，Female表示女性；\n",
    "（11）JobInvolvement：员工工作投入度，从1到4，1为投入度最低，4为投入度最高；\n",
    "（12）JobLevel：职业级别，从1到5，1为最低级别，5为最高级别；\n",
    "（13）JobRole：工作角色：Sales Executive是销售主管，Research Scientist是科学研究员，Laboratory Technician实验室技术员，Manufacturing Director是制造总监，Healthcare Representative是医疗代表，Manager是经理，Sales Representative是销售代表，Research Director是研究总监，Human Resources是人力资源；\n",
    "（14）JobSatisfaction：工作满意度，从1到4，1代表满意程度最低，4代表满意程度最高；\n",
    "（15）MaritalStatus：员工婚姻状况，Single代表单身，Married代表已婚，Divorced代表离婚；\n",
    "（16）MonthlyIncome：员工月收入，范围在1009到19999之间；\n",
    "（17）NumCompaniesWorked：员工曾经工作过的公司数；\n",
    "（18）Over18：年龄是否超过18岁；\n",
    "（19）OverTime：是否加班，Yes表示加班，No表示不加班；\n",
    "（20）PercentSalaryHike：工资提高的百分比；\n",
    "（21）PerformanceRating：绩效评估；\n",
    "（22）RelationshipSatisfaction：关系满意度，从1到4，1表示满意度最低，4表示满意度最高；\n",
    "（23）StandardHours：标准工时；\n",
    "（24）StockOptionLevel：股票期权水平；\n",
    "（25）TotalWorkingYears：总工龄；\n",
    "（26）TrainingTimesLastYear：上一年的培训时长，从0到6，0表示没有培训，6表示培训时间最长；\n",
    "（27）WorkLifeBalance：工作与生活平衡程度，从1到4，1表示平衡程度最低，4表示平衡程度最高；\n",
    "（28）YearsAtCompany：在目前公司工作年数；\n",
    "（29）YearsInCurrentRole：在目前工作职责的工作年数\n",
    "（30）YearsSinceLastPromotion：距离上次升职时长\n",
    "（31）YearsWithCurrManager：跟目前的管理者共事年数；\n"
   ]
  },
  {
   "cell_type": "code",
   "execution_count": null,
   "metadata": {},
   "outputs": [],
   "source": [
    "import numpy as np\n",
    "import pandas as pd\n",
    "from sklearn.preprocessing import LabelEncoder\n",
    "from sklearn.ensemble import RandomForestClassifier\n",
    "from sklearn.linear_model import LogisticRegression\n",
    "from sklearn.metrics import roc_auc_score,confusion_matrix\n",
    "from sklearn.model_selection import train_test_split\n",
    "import matplotlib.pyplot as plt\n",
    "\n",
    "from sklearn.preprocessing import MinMaxScaler\n",
    "from sklearn.preprocessing import StandardScaler\n",
    "from sklearn.feature_selection import VarianceThreshold\n",
    "\n",
    "from imblearn.over_sampling import SMOTE  # 过抽样处理库SMOTE\n",
    "from imblearn.under_sampling import RandomUnderSampler  # 欠抽样处理库RandomUnderSampler\n",
    "from sklearn.svm import SVC  # SVM中的分类算法SVC\n",
    "from imblearn.ensemble import EasyEnsemble  # 简单集成方法EasyEnsemble\n"
   ]
  },
  {
   "cell_type": "code",
   "execution_count": null,
   "metadata": {},
   "outputs": [],
   "source": [
    "file=open(\"C:/Users/jxluo/Downloads/员工离职预测训练赛/pfm_train.csv\", encoding='utf-8')\n",
    "data=pd.read_csv(file, encoding='utf-8')\n",
    "\n",
    "\n",
    "file=open(\"C:/Users/jxluo/Downloads/员工离职预测训练赛/pfm_test.csv\", encoding='utf-8')\n",
    "test=pd.read_csv(file)\n",
    "file.close()"
   ]
  },
  {
   "cell_type": "code",
   "execution_count": null,
   "metadata": {},
   "outputs": [],
   "source": []
  }
 ],
 "metadata": {
  "kernelspec": {
   "display_name": "Python 3",
   "language": "python",
   "name": "python3"
  },
  "language_info": {
   "codemirror_mode": {
    "name": "ipython",
    "version": 3
   },
   "file_extension": ".py",
   "mimetype": "text/x-python",
   "name": "python",
   "nbconvert_exporter": "python",
   "pygments_lexer": "ipython3",
   "version": "3.7.1"
  }
 },
 "nbformat": 4,
 "nbformat_minor": 2
}

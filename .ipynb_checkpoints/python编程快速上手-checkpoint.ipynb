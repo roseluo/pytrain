{
 "cells": [
  {
   "cell_type": "markdown",
   "metadata": {},
   "source": [
    "# 好玩游戏的物品清单"
   ]
  },
  {
   "cell_type": "code",
   "execution_count": 19,
   "metadata": {},
   "outputs": [],
   "source": [
    "def displayInventory(inventory):\n",
    "    print(\"Inventory\")\n",
    "    total=0\n",
    "    for k, v in inventory.items():\n",
    "        print(k+\" : \"+str(v))\n",
    "        total+=v\n",
    "    print(\"Total value of items :\"+str(total))"
   ]
  },
  {
   "cell_type": "code",
   "execution_count": 31,
   "metadata": {},
   "outputs": [],
   "source": [
    "def addInventory(inventory, addItems):\n",
    "    for i in addItems: \n",
    "        if i in inventory.keys():\n",
    "            inventory[i]+=1\n",
    "        else:\n",
    "            inventory.setdefault(i,1)\n",
    "\n",
    "    return inventory"
   ]
  },
  {
   "cell_type": "code",
   "execution_count": 32,
   "metadata": {},
   "outputs": [
    {
     "name": "stdout",
     "output_type": "stream",
     "text": [
      "Inventory\n",
      "rope : 1\n",
      "torch : 6\n",
      "gold coin : 42\n",
      "danger : 1\n",
      "arrow : 12\n",
      "Total value of items :62\n"
     ]
    }
   ],
   "source": [
    "inventory={'rope':1, 'torch':6, 'gold coin':42, 'danger':1, 'arrow': 12 }\n",
    "displayInventory(inventory)\n"
   ]
  },
  {
   "cell_type": "code",
   "execution_count": 33,
   "metadata": {},
   "outputs": [
    {
     "name": "stdout",
     "output_type": "stream",
     "text": [
      "Inventory\n",
      "gold coin : 45\n",
      "rope : 1\n",
      "dagger : 1\n",
      "ruby : 1\n",
      "Total value of items :48\n"
     ]
    }
   ],
   "source": [
    "inv={'gold coin':42, 'rope':1}\n",
    "dragonLoot=['gold coin','dagger','gold coin', 'gold coin', 'ruby']\n",
    "\n",
    "inv=addInventory(inv, dragonLoot)\n",
    "\n",
    "displayInventory(inv)"
   ]
  }
 ],
 "metadata": {
  "kernelspec": {
   "display_name": "Python 3",
   "language": "python",
   "name": "python3"
  },
  "language_info": {
   "codemirror_mode": {
    "name": "ipython",
    "version": 3
   },
   "file_extension": ".py",
   "mimetype": "text/x-python",
   "name": "python",
   "nbconvert_exporter": "python",
   "pygments_lexer": "ipython3",
   "version": "3.7.1"
  }
 },
 "nbformat": 4,
 "nbformat_minor": 2
}

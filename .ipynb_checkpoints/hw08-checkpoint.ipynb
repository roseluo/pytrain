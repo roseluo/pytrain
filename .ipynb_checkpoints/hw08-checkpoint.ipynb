{
 "cells": [
  {
   "cell_type": "markdown",
   "metadata": {},
   "source": [
    "# 尝试完成以下爬虫\n",
    "1. 爬取 iphone 搜索结果中，销量最高的10个商品的商品名称、店铺名称、商品评论\n"
   ]
  },
  {
   "cell_type": "code",
   "execution_count": 55,
   "metadata": {},
   "outputs": [],
   "source": [
    "from selenium import webdriver\n",
    "import pandas as pd\n",
    "from urllib.parse import quote\n",
    "import time\n",
    "import re"
   ]
  },
  {
   "cell_type": "code",
   "execution_count": 56,
   "metadata": {},
   "outputs": [],
   "source": [
    "def get_page_comment():\n",
    "    content=driver.find_elements_by_xpath('//*[@id=\"comment-0\"]//div/div[2]/p')\n",
    "    content_list=[c.text for c in content]\n",
    "    return content_list"
   ]
  },
  {
   "cell_type": "code",
   "execution_count": 57,
   "metadata": {},
   "outputs": [],
   "source": [
    "def get_page_all_comment():\n",
    "    all_content=get_page_comment()\n",
    "    i=0 #练习中只爬取3页\n",
    "    while i<=3:\n",
    "        try:\n",
    "            driver.find_element_by_link_text('下一页').click()\n",
    "            time.sleep(5)\n",
    "            i+=1\n",
    "            all_content=all_content+get_page_comment()\n",
    "        except:\n",
    "            break\n",
    "    return all_content"
   ]
  },
  {
   "cell_type": "code",
   "execution_count": 58,
   "metadata": {},
   "outputs": [],
   "source": [
    "def get_topN_links(key):\n",
    "    url='https://search.jd.com/Search?keyword='+quote(key)+'&enc=utf-8'  #构造url\n",
    "    driver.get(url)\n",
    "    driver.implicitly_wait(3)\n",
    "    \n",
    "    try:\n",
    "        driver.find_element_by_xpath('//*[@id=\"J_filter\"]/div[1]/div[1]/a[2]/span').click()\n",
    "        time.sleep(3)\n",
    "    except:\n",
    "        pass    \n",
    "    \n",
    "    links=driver.find_elements_by_xpath('//*[@id=\"J_goodsList\"]/ul/li[position()<=10]/div/div[4]/a')\n",
    "    urls=[l.get_attribute('href') for l in links]\n",
    "    return urls"
   ]
  },
  {
   "cell_type": "code",
   "execution_count": 59,
   "metadata": {},
   "outputs": [],
   "source": [
    "def get_all_comment(urls, outpath):\n",
    "    for url in urls:\n",
    "        driver.get(url)\n",
    "        driver.find_element_by_xpath('//*[@id=\"detail\"]/div[1]/ul/li[5]').click()\n",
    "        name=driver.find_element_by_xpath('/html/body/div[8]/div/div[2]/div[1]').text\n",
    "        shopName=driver.find_element_by_xpath('//*[@id=\"popbox\"]/div/div[1]/h3/a').text\n",
    "        comment=get_page_all_comment()\n",
    "        comment=pd.DataFrame(comment)\n",
    "        rstr=r\"[\\/\\\\\\:\\*\\?\\\"\\<\\>\\|]\"\n",
    "        #name=re.sub(rstr,\"_\",name)\n",
    "        print(shopName)\n",
    "        comment.to_csv(outpath+name+\"_\"+shopName+\".csv\")\n",
    "    return None"
   ]
  },
  {
   "cell_type": "code",
   "execution_count": 60,
   "metadata": {},
   "outputs": [],
   "source": [
    "def main1(key):\n",
    "    chrome_options=webdriver.ChromeOptions()\n",
    "    global driver\n",
    "    driver=webdriver.Chrome(chrome_options=chrome_options)\n",
    "    driver.maximize_window()\n",
    "    urls=get_topN_links(key)\n",
    "    #print(urls)\n",
    "    get_all_comment(urls,outpath=\"C:/Users/jxluo/Downloads/\")\n",
    "    driver.close()"
   ]
  },
  {
   "cell_type": "code",
   "execution_count": 54,
   "metadata": {},
   "outputs": [
    {
     "name": "stderr",
     "output_type": "stream",
     "text": [
      "C:\\ProgramData\\Anaconda3\\lib\\site-packages\\ipykernel_launcher.py:4: DeprecationWarning: use options instead of chrome_options\n",
      "  after removing the cwd from sys.path.\n"
     ]
    },
    {
     "name": "stdout",
     "output_type": "stream",
     "text": [
      "Apple产品京东自营旗舰店\n",
      "Apple产品京东自营旗舰店\n",
      "Apple产品京东自营旗舰店\n",
      "Apple产品京东自营旗舰店\n",
      "Apple产品京东自营旗舰店\n",
      "Apple产品京东自营旗舰店\n",
      "Apple产品京东自营旗舰店\n",
      "Apple产品京东自营旗舰店\n",
      "牧申手机旗舰店\n",
      "疆界互联旗舰店\n"
     ]
    }
   ],
   "source": [
    "main1(\"iphone\")"
   ]
  },
  {
   "cell_type": "markdown",
   "metadata": {},
   "source": [
    "2. 爬取京东 python 相关书籍的全部商品信息（商品名称、链接、店铺等）"
   ]
  },
  {
   "cell_type": "code",
   "execution_count": 111,
   "metadata": {},
   "outputs": [],
   "source": [
    "def main2(key):\n",
    "    chrome_options=webdriver.ChromeOptions()\n",
    "    global driver\n",
    "    driver=webdriver.Chrome(chrome_options=chrome_options)\n",
    "    driver.maximize_window()\n",
    "    url=get_all_items(key)\n",
    "    get_all_content(url,outpath=\"C:/Users/jxluo/Downloads/\")\n",
    "    \n",
    "    driver.close()"
   ]
  },
  {
   "cell_type": "code",
   "execution_count": 146,
   "metadata": {},
   "outputs": [],
   "source": [
    "def get_all_items(key):\n",
    "    url='https://search.jd.com/Search?keyword='+quote(key)+'&enc=utf-8'  #构造url\n",
    "    driver.get(url)\n",
    "    driver.implicitly_wait(3)   \n",
    "    \n",
    "\n",
    "    i=0\n",
    "    data=pd.DataFrame()\n",
    "    urls=[]\n",
    "    while i<2:\n",
    "        driver.execute_script('window.scrollTo(0, document.body.scrollHeight)')\n",
    "        time.sleep(3)\n",
    "        \n",
    "        link=driver.find_elements_by_xpath('//*[@id=\"J_goodsList\"]/ul/li[*]/div/div[3]/a')\n",
    "        \n",
    "        urls.extend([l.get_attribute('href') for l in link])\n",
    "        \n",
    "        driver.find_element_by_class_name('pn-next').click()\n",
    "        i+=1\n",
    "    return urls\n",
    "    "
   ]
  },
  {
   "cell_type": "code",
   "execution_count": 147,
   "metadata": {},
   "outputs": [],
   "source": [
    "def get_all_content(urls, outpath):\n",
    "    content=pd.DataFrame(['name','link','shopName'],index=None)\n",
    "    print(urls)\n",
    "    for url in urls:\n",
    "        try:\n",
    "            driver.get(url)\n",
    "\n",
    "            name=driver.find_element_by_xpath('//*[@id=\"name\"]/div[1]').text\n",
    "            shopName=driver.find_element_by_xpath('//*[@id=\"crumb-wrap\"]/div/div[2]/div[2]/div[1]/div/a').text\n",
    "\n",
    "            content=content.append({'name':name, 'link':url, 'shopName':shopName},ignore_index=True)\n",
    "\n",
    "            print(name)\n",
    "        except:\n",
    "            pass\n",
    "    content.to_csv(outpath+\"python.csv\")\n",
    "    return None"
   ]
  },
  {
   "cell_type": "code",
   "execution_count": null,
   "metadata": {},
   "outputs": [
    {
     "name": "stderr",
     "output_type": "stream",
     "text": [
      "C:\\ProgramData\\Anaconda3\\lib\\site-packages\\ipykernel_launcher.py:4: DeprecationWarning: use options instead of chrome_options\n",
      "  after removing the cwd from sys.path.\n"
     ]
    },
    {
     "name": "stdout",
     "output_type": "stream",
     "text": [
      "['https://item.jd.com/11993134.html', 'https://item.jd.com/12458274.html', 'https://item.jd.com/11936238.html', 'https://item.jd.com/12468732.html', 'https://item.jd.com/12398725.html', 'https://item.jd.com/12452929.html', 'https://item.jd.com/12279949.html', 'https://item.jd.com/11943853.html', 'https://item.jd.com/12372646.html', 'https://item.jd.com/12456107.html', 'https://item.jd.com/12186192.html', 'https://item.jd.com/12409581.html', 'https://item.jd.com/12333540.html', 'https://item.jd.com/11896415.html', 'https://item.jd.com/12335366.html', 'https://item.jd.com/40580160814.html', 'https://item.jd.com/11681561.html', 'https://item.jd.com/12594658.html', 'https://item.jd.com/11841674.html', 'https://item.jd.com/12403048.html', 'https://item.jd.com/1060018965.html', 'https://item.jd.com/11808235.html', 'https://item.jd.com/11821937.html', 'https://item.jd.com/12004711.html', 'https://item.jd.com/12392747.html', 'https://item.jd.com/11598704.html', 'https://item.jd.com/26147900526.html', 'https://item.jd.com/12425597.html', 'https://item.jd.com/12273412.html', 'https://item.jd.com/11848567.html', 'https://item.jd.com/12585016.html', 'https://item.jd.com/12273591.html', 'https://item.jd.com/26809408972.html', 'https://item.jd.com/12301195.html', 'https://item.jd.com/11576833.html', 'https://item.jd.com/11645599.html', 'https://item.jd.com/12148832.html', 'https://item.jd.com/11487324.html', 'https://item.jd.com/31329707691.html', 'https://item.jd.com/12230702.html', 'https://item.jd.com/11242112.html', 'https://item.jd.com/12537842.html', 'https://item.jd.com/12287533.html', 'https://item.jd.com/12397576.html', 'https://item.jd.com/21738292624.html', 'https://item.jd.com/12602672.html', 'https://item.jd.com/11612266.html', 'https://item.jd.com/27176955108.html', 'https://item.jd.com/10376980038.html', 'https://item.jd.com/12467272.html', 'https://item.jd.com/12513593.html', 'https://item.jd.com/12494398.html', 'https://item.jd.com/12128326.html', 'https://item.jd.com/12585508.html', 'https://item.jd.com/25627438858.html', 'https://item.jd.com/1060018965.html', 'https://item.jd.com/11864820.html', 'https://item.jd.com/12513158.html', 'https://item.jd.com/12445029.html', 'https://item.jd.com/28823471438.html', 'https://item.jd.com/1552960010.html', 'https://item.jd.com/12384998.html', 'https://item.jd.com/12461168.html', 'https://item.jd.com/43261150644.html', 'https://item.jd.com/26147900526.html', 'https://item.jd.com/12173437.html', 'https://item.jd.com/12531181.html', 'https://item.jd.com/12584858.html', 'https://item.jd.com/1034750114.html', 'https://item.jd.com/12293703.html', 'https://item.jd.com/12463591.html', 'https://item.jd.com/12542116.html', 'https://item.jd.com/41983358872.html', 'https://item.jd.com/12301786.html', 'https://item.jd.com/12509361.html', 'https://item.jd.com/14017202143.html', 'https://item.jd.com/12375644.html', 'https://item.jd.com/12346637.html', 'https://item.jd.com/49453457900.html', 'https://item.jd.com/12364204.html', 'https://item.jd.com/11666319.html', 'https://item.jd.com/12482042.html', 'https://item.jd.com/11967520.html', 'https://item.jd.com/12442068.html', 'https://item.jd.com/14963802520.html', 'https://item.jd.com/12512510.html', 'https://item.jd.com/12625976.html', 'https://item.jd.com/30888143262.html', 'https://item.jd.com/12524381.html', 'https://item.jd.com/12366000.html', 'https://item.jd.com/50525418717.html', 'https://item.jd.com/12516552.html', 'https://item.jd.com/11559950.html', 'https://item.jd.com/12535623.html', 'https://item.jd.com/12415177.html', 'https://item.jd.com/25752560762.html', 'https://item.jd.com/49223778302.html', 'https://item.jd.com/12493751.html', 'https://item.jd.com/12215717.html', 'https://item.jd.com/12217483.html', 'https://item.jd.com/11410467.html', 'https://item.jd.com/33567926365.html', 'https://item.jd.com/39746303492.html', 'https://item.jd.com/12576906.html', 'https://item.jd.com/12625418.html', 'https://item.jd.com/12460609.html', 'https://item.jd.com/12292223.html', 'https://item.jd.com/12527917.html', 'https://item.jd.com/12327454.html', 'https://item.jd.com/31329707691.html', 'https://item.jd.com/12628706.html', 'https://item.jd.com/12456395.html', 'https://item.jd.com/12515465.html', 'https://item.jd.com/12164814.html']\n",
      "Python编程 从入门到实践\n",
      "Python编程从零基础到项目实战（微课视频版）\n",
      "Python核心编程（第3版） [Core Python Applications Programming（3rd Edition）]\n",
      "Python从小白到大牛\n",
      "利用Python进行数据分析（原书第2版） [Python for Data Analysis: Data Wrangling with Pand]\n",
      "Python学习手册（套装上下册）（原书第5版）\n",
      "Python基础教程（第3版）\n",
      "Python编程快速上手 让繁琐工作自动化\n",
      "笨办法学Python 3\n",
      "疯狂Python讲义\n",
      "流畅的Python\n",
      "Python深度学习\n",
      "Python 3网络爬虫开发实战\n",
      "教孩子学编程 Python语言版\n",
      "Python神经网络编程\n",
      "Python学习手册 原书第5版(2册) 华章图书 O'Reilly精品图书系列\n"
     ]
    }
   ],
   "source": [
    "main2('python')"
   ]
  }
 ],
 "metadata": {
  "kernelspec": {
   "display_name": "Python 3",
   "language": "python",
   "name": "python3"
  },
  "language_info": {
   "codemirror_mode": {
    "name": "ipython",
    "version": 3
   },
   "file_extension": ".py",
   "mimetype": "text/x-python",
   "name": "python",
   "nbconvert_exporter": "python",
   "pygments_lexer": "ipython3",
   "version": "3.7.1"
  },
  "toc": {
   "base_numbering": 1,
   "nav_menu": {},
   "number_sections": true,
   "sideBar": true,
   "skip_h1_title": false,
   "title_cell": "Table of Contents",
   "title_sidebar": "Contents",
   "toc_cell": false,
   "toc_position": {},
   "toc_section_display": true,
   "toc_window_display": false
  }
 },
 "nbformat": 4,
 "nbformat_minor": 2
}

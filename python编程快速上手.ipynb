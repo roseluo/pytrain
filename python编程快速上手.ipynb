{
 "cells": [
  {
   "cell_type": "markdown",
   "metadata": {},
   "source": [
    "# 第5章 字典和结构化数据"
   ]
  },
  {
   "cell_type": "code",
   "execution_count": 2,
   "metadata": {},
   "outputs": [],
   "source": [
    "def displayInventory(inventory):\n",
    "    print(\"Inventory\")\n",
    "    total=0\n",
    "    for k, v in inventory.items():\n",
    "        print(k+\" : \"+str(v))\n",
    "        total+=v\n",
    "    print(\"Total value of items :\"+str(total))"
   ]
  },
  {
   "cell_type": "code",
   "execution_count": 3,
   "metadata": {},
   "outputs": [],
   "source": [
    "def addInventory(inventory, addItems):\n",
    "    for i in addItems: \n",
    "        if i in inventory.keys():\n",
    "            inventory[i]+=1\n",
    "        else:\n",
    "            inventory.setdefault(i,1)\n",
    "\n",
    "    return inventory"
   ]
  },
  {
   "cell_type": "code",
   "execution_count": 4,
   "metadata": {},
   "outputs": [
    {
     "name": "stdout",
     "output_type": "stream",
     "text": [
      "Inventory\n",
      "rope : 1\n",
      "torch : 6\n",
      "gold coin : 42\n",
      "danger : 1\n",
      "arrow : 12\n",
      "Total value of items :62\n"
     ]
    }
   ],
   "source": [
    "inventory={'rope':1, 'torch':6, 'gold coin':42, 'danger':1, 'arrow': 12 }\n",
    "displayInventory(inventory)\n"
   ]
  },
  {
   "cell_type": "code",
   "execution_count": 5,
   "metadata": {},
   "outputs": [
    {
     "name": "stdout",
     "output_type": "stream",
     "text": [
      "Inventory\n",
      "gold coin : 45\n",
      "rope : 1\n",
      "dagger : 1\n",
      "ruby : 1\n",
      "Total value of items :48\n"
     ]
    }
   ],
   "source": [
    "inv={'gold coin':42, 'rope':1}\n",
    "dragonLoot=['gold coin','dagger','gold coin', 'gold coin', 'ruby']\n",
    "\n",
    "inv=addInventory(inv, dragonLoot)\n",
    "\n",
    "displayInventory(inv)"
   ]
  },
  {
   "cell_type": "markdown",
   "metadata": {},
   "source": [
    "# 第6章 字符串操作"
   ]
  },
  {
   "cell_type": "code",
   "execution_count": 7,
   "metadata": {},
   "outputs": [],
   "source": [
    "tableData=[['apples', 'oranges', 'cherries', 'banana'],\n",
    "          ['Alice', 'Bob', 'Carol', 'David'],\n",
    "          ['dogs', 'cats', 'moose', 'goose']]"
   ]
  },
  {
   "cell_type": "code",
   "execution_count": 65,
   "metadata": {},
   "outputs": [],
   "source": [
    "\n",
    "def printTable(data):\n",
    "    colWidths=[0]*len(data[0])\n",
    "    for i in range(len(data[0])):\n",
    "        for j in range(len(data)):\n",
    "            colWidths[i]=max(colWidths[i],len(data[j][i]))\n",
    " \n",
    "    for i in range(len(data)):\n",
    "        line=''\n",
    "        for j in range(len(data[i])):\n",
    "            line+=data[i][j].rjust(colWidths[j]+1)\n",
    "        print(line)\n",
    "        \n",
    "    print(colWidths)\n",
    "            "
   ]
  },
  {
   "cell_type": "code",
   "execution_count": 66,
   "metadata": {},
   "outputs": [
    {
     "name": "stdout",
     "output_type": "stream",
     "text": [
      " apples oranges cherries banana\n",
      "  Alice     Bob    Carol  David\n",
      "   dogs    cats    moose  goose\n",
      "[6, 7, 8, 6]\n"
     ]
    }
   ],
   "source": [
    "printTable(tableData)"
   ]
  },
  {
   "cell_type": "markdown",
   "metadata": {},
   "source": [
    "# 第7章 模式匹配与正则表达式"
   ]
  },
  {
   "cell_type": "code",
   "execution_count": 68,
   "metadata": {},
   "outputs": [
    {
     "data": {
      "text/plain": [
       "'415'"
      ]
     },
     "execution_count": 68,
     "metadata": {},
     "output_type": "execute_result"
    }
   ],
   "source": [
    "import re\n",
    "\n",
    "phoneNumRegex=re.compile(r'(\\d\\d\\d)-(\\d\\d\\d-\\d\\d\\d\\d)')\n",
    "mo=phoneNumRegex.search('My number is 415-555-4242.')\n",
    "mo.group(1)"
   ]
  },
  {
   "cell_type": "code",
   "execution_count": 41,
   "metadata": {},
   "outputs": [
    {
     "data": {
      "text/plain": [
       "3"
      ]
     },
     "execution_count": 41,
     "metadata": {},
     "output_type": "execute_result"
    }
   ],
   "source": [
    "len(tableData)"
   ]
  },
  {
   "cell_type": "code",
   "execution_count": 38,
   "metadata": {},
   "outputs": [
    {
     "data": {
      "text/plain": [
       "['apples', 'oranges', 'cherries', 'banana']"
      ]
     },
     "execution_count": 38,
     "metadata": {},
     "output_type": "execute_result"
    }
   ],
   "source": [
    "tableData[0]"
   ]
  },
  {
   "cell_type": "code",
   "execution_count": 40,
   "metadata": {},
   "outputs": [
    {
     "data": {
      "text/plain": [
       "list"
      ]
     },
     "execution_count": 40,
     "metadata": {},
     "output_type": "execute_result"
    }
   ],
   "source": [
    "type(tableData)\n"
   ]
  },
  {
   "cell_type": "code",
   "execution_count": null,
   "metadata": {},
   "outputs": [],
   "source": []
  }
 ],
 "metadata": {
  "kernelspec": {
   "display_name": "Python 3",
   "language": "python",
   "name": "python3"
  },
  "language_info": {
   "codemirror_mode": {
    "name": "ipython",
    "version": 3
   },
   "file_extension": ".py",
   "mimetype": "text/x-python",
   "name": "python",
   "nbconvert_exporter": "python",
   "pygments_lexer": "ipython3",
   "version": "3.7.3"
  },
  "toc": {
   "base_numbering": 1,
   "nav_menu": {},
   "number_sections": true,
   "sideBar": true,
   "skip_h1_title": false,
   "title_cell": "Table of Contents",
   "title_sidebar": "Contents",
   "toc_cell": false,
   "toc_position": {},
   "toc_section_display": true,
   "toc_window_display": true
  }
 },
 "nbformat": 4,
 "nbformat_minor": 2
}

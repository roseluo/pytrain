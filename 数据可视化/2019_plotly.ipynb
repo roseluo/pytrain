{
 "cells": [
  {
   "cell_type": "code",
   "execution_count": 94,
   "metadata": {},
   "outputs": [],
   "source": [
    "import pandas as pd\n",
    "import os\n",
    "import  plotly.express as px\n",
    "import plotly.graph_objects as go"
   ]
  },
  {
   "cell_type": "code",
   "execution_count": 88,
   "metadata": {},
   "outputs": [],
   "source": [
    "os.chdir(r'C:\\Users\\jxluo\\homework\\python数据可视化')\n",
    "\n",
    "df=pd.read_excel('微记账账单 流水_2019-12-31.xls')\n",
    "\n",
    "data=df[(df['year']==2019) & (df['账本名称']!='有借有还') & (df['账本名称']!='投资赚钱')]\n"
   ]
  },
  {
   "cell_type": "markdown",
   "metadata": {},
   "source": []
  },
  {
   "cell_type": "code",
   "execution_count": 112,
   "metadata": {},
   "outputs": [
    {
     "data": {
      "text/html": [
       "<div>\n",
       "<style scoped>\n",
       "    .dataframe tbody tr th:only-of-type {\n",
       "        vertical-align: middle;\n",
       "    }\n",
       "\n",
       "    .dataframe tbody tr th {\n",
       "        vertical-align: top;\n",
       "    }\n",
       "\n",
       "    .dataframe thead th {\n",
       "        text-align: right;\n",
       "    }\n",
       "</style>\n",
       "<table border=\"1\" class=\"dataframe\">\n",
       "  <thead>\n",
       "    <tr style=\"text-align: right;\">\n",
       "      <th></th>\n",
       "      <th>账单日期</th>\n",
       "      <th>账本名称</th>\n",
       "      <th>子账本</th>\n",
       "      <th>收入/支出</th>\n",
       "      <th>类别</th>\n",
       "      <th>金额(本币)</th>\n",
       "      <th>本币币种</th>\n",
       "      <th>金额(外币)</th>\n",
       "      <th>外币币种</th>\n",
       "      <th>报销状态</th>\n",
       "      <th>记账地点</th>\n",
       "      <th>源记录</th>\n",
       "      <th>消费心得</th>\n",
       "      <th>支付渠道</th>\n",
       "      <th>成员</th>\n",
       "      <th>year</th>\n",
       "      <th>month</th>\n",
       "    </tr>\n",
       "  </thead>\n",
       "  <tbody>\n",
       "    <tr>\n",
       "      <th>0</th>\n",
       "      <td>2019-12-31</td>\n",
       "      <td>日常生活</td>\n",
       "      <td>NaN</td>\n",
       "      <td>支出</td>\n",
       "      <td>餐饮买菜</td>\n",
       "      <td>42.0</td>\n",
       "      <td>CNY</td>\n",
       "      <td>0</td>\n",
       "      <td>NaN</td>\n",
       "      <td>非报销</td>\n",
       "      <td>法兰西世家</td>\n",
       "      <td>自己的晚饭42</td>\n",
       "      <td>NaN</td>\n",
       "      <td>NaN</td>\n",
       "      <td>自己</td>\n",
       "      <td>2019</td>\n",
       "      <td>12</td>\n",
       "    </tr>\n",
       "    <tr>\n",
       "      <th>1</th>\n",
       "      <td>2019-12-30</td>\n",
       "      <td>亲子育儿</td>\n",
       "      <td>NaN</td>\n",
       "      <td>支出</td>\n",
       "      <td>宝宝服饰</td>\n",
       "      <td>29.0</td>\n",
       "      <td>CNY</td>\n",
       "      <td>0</td>\n",
       "      <td>NaN</td>\n",
       "      <td>非报销</td>\n",
       "      <td>法兰西世家</td>\n",
       "      <td>衣服29</td>\n",
       "      <td>NaN</td>\n",
       "      <td>NaN</td>\n",
       "      <td>张嘉芯</td>\n",
       "      <td>2019</td>\n",
       "      <td>12</td>\n",
       "    </tr>\n",
       "    <tr>\n",
       "      <th>2</th>\n",
       "      <td>2019-12-30</td>\n",
       "      <td>日常生活</td>\n",
       "      <td>NaN</td>\n",
       "      <td>支出</td>\n",
       "      <td>餐饮买菜</td>\n",
       "      <td>21.6</td>\n",
       "      <td>CNY</td>\n",
       "      <td>0</td>\n",
       "      <td>NaN</td>\n",
       "      <td>非报销</td>\n",
       "      <td>法兰西世家</td>\n",
       "      <td>晚饭20块3毛6</td>\n",
       "      <td>NaN</td>\n",
       "      <td>NaN</td>\n",
       "      <td>自己</td>\n",
       "      <td>2019</td>\n",
       "      <td>12</td>\n",
       "    </tr>\n",
       "    <tr>\n",
       "      <th>3</th>\n",
       "      <td>2019-12-29</td>\n",
       "      <td>日常生活</td>\n",
       "      <td>NaN</td>\n",
       "      <td>支出</td>\n",
       "      <td>餐饮买菜</td>\n",
       "      <td>15.0</td>\n",
       "      <td>CNY</td>\n",
       "      <td>0</td>\n",
       "      <td>NaN</td>\n",
       "      <td>非报销</td>\n",
       "      <td>法兰西世家</td>\n",
       "      <td>买醋15块</td>\n",
       "      <td>NaN</td>\n",
       "      <td>NaN</td>\n",
       "      <td>NaN</td>\n",
       "      <td>2019</td>\n",
       "      <td>12</td>\n",
       "    </tr>\n",
       "    <tr>\n",
       "      <th>4</th>\n",
       "      <td>2019-12-29</td>\n",
       "      <td>亲子育儿</td>\n",
       "      <td>NaN</td>\n",
       "      <td>支出</td>\n",
       "      <td>宝宝食品</td>\n",
       "      <td>9.9</td>\n",
       "      <td>CNY</td>\n",
       "      <td>0</td>\n",
       "      <td>NaN</td>\n",
       "      <td>非报销</td>\n",
       "      <td>法兰西世家</td>\n",
       "      <td>零食9块9</td>\n",
       "      <td>NaN</td>\n",
       "      <td>NaN</td>\n",
       "      <td>张嘉芯</td>\n",
       "      <td>2019</td>\n",
       "      <td>12</td>\n",
       "    </tr>\n",
       "  </tbody>\n",
       "</table>\n",
       "</div>"
      ],
      "text/plain": [
       "         账单日期  账本名称  子账本 收入/支出    类别  金额(本币) 本币币种  金额(外币)  外币币种 报销状态   记账地点  \\\n",
       "0  2019-12-31  日常生活  NaN    支出  餐饮买菜    42.0  CNY       0   NaN  非报销  法兰西世家   \n",
       "1  2019-12-30  亲子育儿  NaN    支出  宝宝服饰    29.0  CNY       0   NaN  非报销  法兰西世家   \n",
       "2  2019-12-30  日常生活  NaN    支出  餐饮买菜    21.6  CNY       0   NaN  非报销  法兰西世家   \n",
       "3  2019-12-29  日常生活  NaN    支出  餐饮买菜    15.0  CNY       0   NaN  非报销  法兰西世家   \n",
       "4  2019-12-29  亲子育儿  NaN    支出  宝宝食品     9.9  CNY       0   NaN  非报销  法兰西世家   \n",
       "\n",
       "        源记录 消费心得 支付渠道   成员  year  month  \n",
       "0   自己的晚饭42  NaN  NaN   自己  2019     12  \n",
       "1      衣服29  NaN  NaN  张嘉芯  2019     12  \n",
       "2  晚饭20块3毛6  NaN  NaN   自己  2019     12  \n",
       "3     买醋15块  NaN  NaN  NaN  2019     12  \n",
       "4     零食9块9  NaN  NaN  张嘉芯  2019     12  "
      ]
     },
     "execution_count": 112,
     "metadata": {},
     "output_type": "execute_result"
    }
   ],
   "source": [
    "out.head()"
   ]
  },
  {
   "cell_type": "code",
   "execution_count": 104,
   "metadata": {},
   "outputs": [
    {
     "data": {
      "text/html": [
       "<div>\n",
       "<style scoped>\n",
       "    .dataframe tbody tr th:only-of-type {\n",
       "        vertical-align: middle;\n",
       "    }\n",
       "\n",
       "    .dataframe tbody tr th {\n",
       "        vertical-align: top;\n",
       "    }\n",
       "\n",
       "    .dataframe thead th {\n",
       "        text-align: right;\n",
       "    }\n",
       "</style>\n",
       "<table border=\"1\" class=\"dataframe\">\n",
       "  <thead>\n",
       "    <tr style=\"text-align: right;\">\n",
       "      <th></th>\n",
       "      <th>month</th>\n",
       "      <th>name</th>\n",
       "      <th>type</th>\n",
       "      <th>amount</th>\n",
       "    </tr>\n",
       "  </thead>\n",
       "  <tbody>\n",
       "    <tr>\n",
       "      <th>0</th>\n",
       "      <td>1</td>\n",
       "      <td>亲子育儿</td>\n",
       "      <td>医疗健康</td>\n",
       "      <td>197.40</td>\n",
       "    </tr>\n",
       "    <tr>\n",
       "      <th>1</th>\n",
       "      <td>1</td>\n",
       "      <td>亲子育儿</td>\n",
       "      <td>奶粉</td>\n",
       "      <td>775.99</td>\n",
       "    </tr>\n",
       "    <tr>\n",
       "      <th>2</th>\n",
       "      <td>1</td>\n",
       "      <td>亲子育儿</td>\n",
       "      <td>宝宝服饰</td>\n",
       "      <td>10.00</td>\n",
       "    </tr>\n",
       "    <tr>\n",
       "      <th>3</th>\n",
       "      <td>1</td>\n",
       "      <td>亲子育儿</td>\n",
       "      <td>宝宝食品</td>\n",
       "      <td>212.82</td>\n",
       "    </tr>\n",
       "    <tr>\n",
       "      <th>4</th>\n",
       "      <td>1</td>\n",
       "      <td>亲子育儿</td>\n",
       "      <td>教育支出</td>\n",
       "      <td>2518.20</td>\n",
       "    </tr>\n",
       "  </tbody>\n",
       "</table>\n",
       "</div>"
      ],
      "text/plain": [
       "   month  name  type   amount\n",
       "0      1  亲子育儿  医疗健康   197.40\n",
       "1      1  亲子育儿    奶粉   775.99\n",
       "2      1  亲子育儿  宝宝服饰    10.00\n",
       "3      1  亲子育儿  宝宝食品   212.82\n",
       "4      1  亲子育儿  教育支出  2518.20"
      ]
     },
     "execution_count": 104,
     "metadata": {},
     "output_type": "execute_result"
    }
   ],
   "source": [
    "#支出统计\n",
    "out=data[data['收入/支出']=='支出']\n",
    "out1=out.groupby(['month','账本名称','类别'])[['金额(本币)']].sum().reset_index()\n",
    "out1.columns=['month','name','type','amount']\n",
    "out1.head()\n"
   ]
  },
  {
   "cell_type": "code",
   "execution_count": null,
   "metadata": {},
   "outputs": [],
   "source": []
  },
  {
   "cell_type": "code",
   "execution_count": 72,
   "metadata": {},
   "outputs": [
    {
     "data": {
      "application/vnd.plotly.v1+json": {
       "config": {
        "plotlyServerURL": "https://plot.ly"
       },
       "data": [
        {
         "domain": {
          "x": [
           0,
           1
          ],
          "y": [
           0,
           1
          ]
         },
         "hoverlabel": {
          "namelength": 0
         },
         "hovertemplate": "name=%{label}<br>amount=%{value}",
         "labels": [
          "亲子育儿",
          "亲子育儿",
          "亲子育儿",
          "亲子育儿",
          "亲子育儿",
          "亲子育儿",
          "亲子育儿",
          "人情往来",
          "人情往来",
          "日常生活",
          "日常生活",
          "日常生活",
          "日常生活",
          "日常生活",
          "日常生活",
          "日常生活",
          "日常生活",
          "日常生活",
          "日常生活",
          "日常生活",
          "日常生活",
          "亲子育儿",
          "亲子育儿",
          "亲子育儿",
          "亲子育儿",
          "亲子育儿",
          "人情往来",
          "人情往来",
          "人情往来",
          "人情往来",
          "日常生活",
          "日常生活",
          "日常生活",
          "日常生活",
          "日常生活",
          "日常生活",
          "日常生活",
          "日常生活",
          "日常生活",
          "亲子育儿",
          "亲子育儿",
          "亲子育儿",
          "亲子育儿",
          "亲子育儿",
          "亲子育儿",
          "亲子育儿",
          "亲子育儿",
          "亲子育儿",
          "旅行时光",
          "日常生活",
          "日常生活",
          "日常生活",
          "日常生活",
          "日常生活",
          "日常生活",
          "日常生活",
          "日常生活",
          "日常生活",
          "日常生活",
          "日常生活",
          "日常生活",
          "日常生活",
          "日常生活",
          "亲子育儿",
          "亲子育儿",
          "亲子育儿",
          "亲子育儿",
          "亲子育儿",
          "亲子育儿",
          "人情往来",
          "旅行时光",
          "旅行时光",
          "旅行时光",
          "旅行时光",
          "旅行时光",
          "旅行时光",
          "日常生活",
          "日常生活",
          "日常生活",
          "日常生活",
          "日常生活",
          "日常生活",
          "日常生活",
          "日常生活",
          "日常生活",
          "日常生活",
          "日常生活",
          "日常生活",
          "日常生活",
          "日常生活",
          "亲子育儿",
          "亲子育儿",
          "亲子育儿",
          "亲子育儿",
          "亲子育儿",
          "亲子育儿",
          "亲子育儿",
          "亲子育儿",
          "人情往来",
          "旅行时光",
          "旅行时光",
          "旅行时光",
          "日常生活",
          "日常生活",
          "日常生活",
          "日常生活",
          "日常生活",
          "日常生活",
          "日常生活",
          "日常生活",
          "日常生活",
          "日常生活",
          "日常生活",
          "日常生活",
          "日常生活",
          "亲子育儿",
          "亲子育儿",
          "亲子育儿",
          "亲子育儿",
          "亲子育儿",
          "亲子育儿",
          "亲子育儿",
          "亲子育儿",
          "亲子育儿",
          "亲子育儿",
          "人情往来",
          "人情往来",
          "日常生活",
          "日常生活",
          "日常生活",
          "日常生活",
          "日常生活",
          "日常生活",
          "日常生活",
          "日常生活",
          "日常生活",
          "日常生活",
          "日常生活",
          "日常生活",
          "日常生活",
          "亲子育儿",
          "亲子育儿",
          "亲子育儿",
          "亲子育儿",
          "亲子育儿",
          "亲子育儿",
          "亲子育儿",
          "日常生活",
          "日常生活",
          "日常生活",
          "日常生活",
          "日常生活",
          "日常生活",
          "日常生活",
          "日常生活",
          "日常生活",
          "日常生活",
          "亲子育儿",
          "亲子育儿",
          "亲子育儿",
          "亲子育儿",
          "亲子育儿",
          "亲子育儿",
          "人情往来",
          "旅行时光",
          "旅行时光",
          "旅行时光",
          "旅行时光",
          "旅行时光",
          "旅行时光",
          "日常生活",
          "日常生活",
          "日常生活",
          "日常生活",
          "日常生活",
          "日常生活",
          "日常生活",
          "日常生活",
          "日常生活",
          "亲子育儿",
          "亲子育儿",
          "亲子育儿",
          "亲子育儿",
          "亲子育儿",
          "亲子育儿",
          "亲子育儿",
          "亲子育儿",
          "亲子育儿",
          "亲子育儿",
          "人情往来",
          "日常生活",
          "日常生活",
          "日常生活",
          "日常生活",
          "日常生活",
          "日常生活",
          "日常生活",
          "日常生活",
          "日常生活",
          "日常生活",
          "日常生活",
          "亲子育儿",
          "亲子育儿",
          "亲子育儿",
          "亲子育儿",
          "亲子育儿",
          "亲子育儿",
          "亲子育儿",
          "人情往来",
          "旅行时光",
          "旅行时光",
          "旅行时光",
          "旅行时光",
          "旅行时光",
          "日常生活",
          "日常生活",
          "日常生活",
          "日常生活",
          "日常生活",
          "日常生活",
          "日常生活",
          "日常生活",
          "日常生活",
          "日常生活",
          "日常生活",
          "亲子育儿",
          "亲子育儿",
          "亲子育儿",
          "亲子育儿",
          "亲子育儿",
          "亲子育儿",
          "亲子育儿",
          "亲子育儿",
          "亲子育儿",
          "人情往来",
          "人情往来",
          "人情往来",
          "日常生活",
          "日常生活",
          "日常生活",
          "日常生活",
          "日常生活",
          "日常生活",
          "日常生活",
          "日常生活",
          "日常生活",
          "日常生活",
          "日常生活",
          "日常生活",
          "亲子育儿",
          "亲子育儿",
          "亲子育儿",
          "亲子育儿",
          "亲子育儿",
          "亲子育儿",
          "亲子育儿",
          "亲子育儿",
          "人情往来",
          "日常生活",
          "日常生活",
          "日常生活",
          "日常生活",
          "日常生活",
          "日常生活",
          "日常生活",
          "日常生活",
          "日常生活",
          "日常生活",
          "日常生活",
          "日常生活"
         ],
         "legendgroup": "",
         "name": "",
         "showlegend": true,
         "textinfo": "percent+label+value",
         "textposition": "inside",
         "type": "pie",
         "values": [
          197.4,
          775.9899999999999,
          10,
          212.82,
          2518.2,
          238,
          47,
          1084,
          5000,
          4442.75,
          148.89,
          4639.04,
          24.3,
          39.4,
          140,
          131,
          295.78,
          1383,
          2146,
          101.8,
          2899.4700000000003,
          100,
          535.52,
          30.5,
          2000,
          5,
          100,
          521,
          3200,
          700,
          1007,
          135,
          1748.5700000000002,
          2205,
          84.6,
          88.5,
          1400,
          99.5,
          1517.9900000000002,
          15373.6,
          227,
          3223,
          246.88,
          312.9,
          65.9,
          250.71,
          2000,
          961.9,
          112,
          1054,
          290.8,
          1027.85,
          3528,
          228,
          178.9,
          410.48,
          2787.9,
          535.1999999999999,
          2104,
          1344,
          199,
          289.61,
          2356.7900000000004,
          190,
          3393.9,
          222.24,
          118,
          135.36,
          2400,
          331.5,
          454.38,
          976,
          85,
          240,
          142.8,
          646,
          732.49,
          267.64,
          1050.5,
          2972,
          39.620000000000005,
          405,
          119,
          544.8299999999999,
          158.6,
          1988,
          35,
          159.2,
          393.28,
          1699.8000000000006,
          64,
          480.85,
          503.24,
          227.5,
          144.23,
          1410,
          167.8,
          204.4,
          444,
          5,
          200,
          60,
          1512.2700000000002,
          1781.73,
          312.12,
          73.42,
          840,
          184.7,
          255.85999999999999,
          75.71,
          1900,
          1608.86,
          219.15,
          59.599999999999994,
          3168.08,
          99,
          504.36,
          878.1700000000001,
          921,
          15.9,
          545.05,
          5099,
          55.4,
          52.66,
          526.66,
          104.64,
          68,
          569.4300000000001,
          1066.3,
          27,
          92,
          63,
          881.42,
          411.1,
          1006.23,
          1900,
          2694.41,
          149.25,
          26.1,
          2618.0900000000006,
          15,
          50,
          156.81,
          50.6,
          2000,
          212.39999999999998,
          35,
          5519.96,
          164,
          1078.6,
          38.03,
          49.86,
          234.28,
          1900,
          170,
          618.02,
          3029.3499999999995,
          15,
          478.95,
          316.16,
          593.55,
          2010.95,
          55.66,
          49.8,
          3278.86,
          1005,
          123.4,
          83,
          487.77,
          1296.5,
          1208.76,
          196,
          1815.1200000000001,
          686.29,
          1900,
          370.44,
          256.65999999999997,
          204.13000000000002,
          1727.9900000000005,
          11.97,
          45,
          6909.9,
          255,
          1285.8,
          258.6,
          2950,
          82.68,
          29,
          55.8,
          51.94,
          760.98,
          1208.7,
          240,
          26.8,
          376.01,
          587.12,
          1900,
          1182.9,
          118.94,
          42.09,
          2549.2799999999997,
          9586.4,
          157.7,
          92.5,
          43,
          2599,
          107.52,
          131.5,
          230,
          5,
          626,
          270,
          32.5,
          635,
          1012.6199999999999,
          179,
          1105.4,
          100.7,
          164.5,
          12.9,
          1900,
          347.78999999999996,
          158.31,
          116.57000000000001,
          1996.5899999999997,
          8760,
          479,
          467.8,
          224.49,
          221.22,
          4917.969999999999,
          513.5699999999999,
          58,
          28.8,
          169,
          1000,
          200,
          2151.5,
          95.9,
          1732.22,
          1580,
          326.44,
          3415.8,
          938.23,
          2300,
          3912.13,
          139,
          128.42000000000002,
          2785.9900000000002,
          331,
          630.9,
          789.6700000000001,
          9.9,
          240.04,
          2000,
          212.43,
          25.4,
          227.8,
          1957.49,
          550.5,
          1388.5,
          20.66,
          1732.49,
          31,
          856.44,
          1900,
          2398.38,
          297.25,
          354.42999999999995,
          2600.37
         ]
        }
       ],
       "layout": {
        "legend": {
         "tracegroupgap": 0
        },
        "template": {
         "data": {
          "bar": [
           {
            "error_x": {
             "color": "#2a3f5f"
            },
            "error_y": {
             "color": "#2a3f5f"
            },
            "marker": {
             "line": {
              "color": "#E5ECF6",
              "width": 0.5
             }
            },
            "type": "bar"
           }
          ],
          "barpolar": [
           {
            "marker": {
             "line": {
              "color": "#E5ECF6",
              "width": 0.5
             }
            },
            "type": "barpolar"
           }
          ],
          "carpet": [
           {
            "aaxis": {
             "endlinecolor": "#2a3f5f",
             "gridcolor": "white",
             "linecolor": "white",
             "minorgridcolor": "white",
             "startlinecolor": "#2a3f5f"
            },
            "baxis": {
             "endlinecolor": "#2a3f5f",
             "gridcolor": "white",
             "linecolor": "white",
             "minorgridcolor": "white",
             "startlinecolor": "#2a3f5f"
            },
            "type": "carpet"
           }
          ],
          "choropleth": [
           {
            "colorbar": {
             "outlinewidth": 0,
             "ticks": ""
            },
            "type": "choropleth"
           }
          ],
          "contour": [
           {
            "colorbar": {
             "outlinewidth": 0,
             "ticks": ""
            },
            "colorscale": [
             [
              0,
              "#0d0887"
             ],
             [
              0.1111111111111111,
              "#46039f"
             ],
             [
              0.2222222222222222,
              "#7201a8"
             ],
             [
              0.3333333333333333,
              "#9c179e"
             ],
             [
              0.4444444444444444,
              "#bd3786"
             ],
             [
              0.5555555555555556,
              "#d8576b"
             ],
             [
              0.6666666666666666,
              "#ed7953"
             ],
             [
              0.7777777777777778,
              "#fb9f3a"
             ],
             [
              0.8888888888888888,
              "#fdca26"
             ],
             [
              1,
              "#f0f921"
             ]
            ],
            "type": "contour"
           }
          ],
          "contourcarpet": [
           {
            "colorbar": {
             "outlinewidth": 0,
             "ticks": ""
            },
            "type": "contourcarpet"
           }
          ],
          "heatmap": [
           {
            "colorbar": {
             "outlinewidth": 0,
             "ticks": ""
            },
            "colorscale": [
             [
              0,
              "#0d0887"
             ],
             [
              0.1111111111111111,
              "#46039f"
             ],
             [
              0.2222222222222222,
              "#7201a8"
             ],
             [
              0.3333333333333333,
              "#9c179e"
             ],
             [
              0.4444444444444444,
              "#bd3786"
             ],
             [
              0.5555555555555556,
              "#d8576b"
             ],
             [
              0.6666666666666666,
              "#ed7953"
             ],
             [
              0.7777777777777778,
              "#fb9f3a"
             ],
             [
              0.8888888888888888,
              "#fdca26"
             ],
             [
              1,
              "#f0f921"
             ]
            ],
            "type": "heatmap"
           }
          ],
          "heatmapgl": [
           {
            "colorbar": {
             "outlinewidth": 0,
             "ticks": ""
            },
            "colorscale": [
             [
              0,
              "#0d0887"
             ],
             [
              0.1111111111111111,
              "#46039f"
             ],
             [
              0.2222222222222222,
              "#7201a8"
             ],
             [
              0.3333333333333333,
              "#9c179e"
             ],
             [
              0.4444444444444444,
              "#bd3786"
             ],
             [
              0.5555555555555556,
              "#d8576b"
             ],
             [
              0.6666666666666666,
              "#ed7953"
             ],
             [
              0.7777777777777778,
              "#fb9f3a"
             ],
             [
              0.8888888888888888,
              "#fdca26"
             ],
             [
              1,
              "#f0f921"
             ]
            ],
            "type": "heatmapgl"
           }
          ],
          "histogram": [
           {
            "marker": {
             "colorbar": {
              "outlinewidth": 0,
              "ticks": ""
             }
            },
            "type": "histogram"
           }
          ],
          "histogram2d": [
           {
            "colorbar": {
             "outlinewidth": 0,
             "ticks": ""
            },
            "colorscale": [
             [
              0,
              "#0d0887"
             ],
             [
              0.1111111111111111,
              "#46039f"
             ],
             [
              0.2222222222222222,
              "#7201a8"
             ],
             [
              0.3333333333333333,
              "#9c179e"
             ],
             [
              0.4444444444444444,
              "#bd3786"
             ],
             [
              0.5555555555555556,
              "#d8576b"
             ],
             [
              0.6666666666666666,
              "#ed7953"
             ],
             [
              0.7777777777777778,
              "#fb9f3a"
             ],
             [
              0.8888888888888888,
              "#fdca26"
             ],
             [
              1,
              "#f0f921"
             ]
            ],
            "type": "histogram2d"
           }
          ],
          "histogram2dcontour": [
           {
            "colorbar": {
             "outlinewidth": 0,
             "ticks": ""
            },
            "colorscale": [
             [
              0,
              "#0d0887"
             ],
             [
              0.1111111111111111,
              "#46039f"
             ],
             [
              0.2222222222222222,
              "#7201a8"
             ],
             [
              0.3333333333333333,
              "#9c179e"
             ],
             [
              0.4444444444444444,
              "#bd3786"
             ],
             [
              0.5555555555555556,
              "#d8576b"
             ],
             [
              0.6666666666666666,
              "#ed7953"
             ],
             [
              0.7777777777777778,
              "#fb9f3a"
             ],
             [
              0.8888888888888888,
              "#fdca26"
             ],
             [
              1,
              "#f0f921"
             ]
            ],
            "type": "histogram2dcontour"
           }
          ],
          "mesh3d": [
           {
            "colorbar": {
             "outlinewidth": 0,
             "ticks": ""
            },
            "type": "mesh3d"
           }
          ],
          "parcoords": [
           {
            "line": {
             "colorbar": {
              "outlinewidth": 0,
              "ticks": ""
             }
            },
            "type": "parcoords"
           }
          ],
          "pie": [
           {
            "automargin": true,
            "type": "pie"
           }
          ],
          "scatter": [
           {
            "marker": {
             "colorbar": {
              "outlinewidth": 0,
              "ticks": ""
             }
            },
            "type": "scatter"
           }
          ],
          "scatter3d": [
           {
            "line": {
             "colorbar": {
              "outlinewidth": 0,
              "ticks": ""
             }
            },
            "marker": {
             "colorbar": {
              "outlinewidth": 0,
              "ticks": ""
             }
            },
            "type": "scatter3d"
           }
          ],
          "scattercarpet": [
           {
            "marker": {
             "colorbar": {
              "outlinewidth": 0,
              "ticks": ""
             }
            },
            "type": "scattercarpet"
           }
          ],
          "scattergeo": [
           {
            "marker": {
             "colorbar": {
              "outlinewidth": 0,
              "ticks": ""
             }
            },
            "type": "scattergeo"
           }
          ],
          "scattergl": [
           {
            "marker": {
             "colorbar": {
              "outlinewidth": 0,
              "ticks": ""
             }
            },
            "type": "scattergl"
           }
          ],
          "scattermapbox": [
           {
            "marker": {
             "colorbar": {
              "outlinewidth": 0,
              "ticks": ""
             }
            },
            "type": "scattermapbox"
           }
          ],
          "scatterpolar": [
           {
            "marker": {
             "colorbar": {
              "outlinewidth": 0,
              "ticks": ""
             }
            },
            "type": "scatterpolar"
           }
          ],
          "scatterpolargl": [
           {
            "marker": {
             "colorbar": {
              "outlinewidth": 0,
              "ticks": ""
             }
            },
            "type": "scatterpolargl"
           }
          ],
          "scatterternary": [
           {
            "marker": {
             "colorbar": {
              "outlinewidth": 0,
              "ticks": ""
             }
            },
            "type": "scatterternary"
           }
          ],
          "surface": [
           {
            "colorbar": {
             "outlinewidth": 0,
             "ticks": ""
            },
            "colorscale": [
             [
              0,
              "#0d0887"
             ],
             [
              0.1111111111111111,
              "#46039f"
             ],
             [
              0.2222222222222222,
              "#7201a8"
             ],
             [
              0.3333333333333333,
              "#9c179e"
             ],
             [
              0.4444444444444444,
              "#bd3786"
             ],
             [
              0.5555555555555556,
              "#d8576b"
             ],
             [
              0.6666666666666666,
              "#ed7953"
             ],
             [
              0.7777777777777778,
              "#fb9f3a"
             ],
             [
              0.8888888888888888,
              "#fdca26"
             ],
             [
              1,
              "#f0f921"
             ]
            ],
            "type": "surface"
           }
          ],
          "table": [
           {
            "cells": {
             "fill": {
              "color": "#EBF0F8"
             },
             "line": {
              "color": "white"
             }
            },
            "header": {
             "fill": {
              "color": "#C8D4E3"
             },
             "line": {
              "color": "white"
             }
            },
            "type": "table"
           }
          ]
         },
         "layout": {
          "annotationdefaults": {
           "arrowcolor": "#2a3f5f",
           "arrowhead": 0,
           "arrowwidth": 1
          },
          "coloraxis": {
           "colorbar": {
            "outlinewidth": 0,
            "ticks": ""
           }
          },
          "colorscale": {
           "diverging": [
            [
             0,
             "#8e0152"
            ],
            [
             0.1,
             "#c51b7d"
            ],
            [
             0.2,
             "#de77ae"
            ],
            [
             0.3,
             "#f1b6da"
            ],
            [
             0.4,
             "#fde0ef"
            ],
            [
             0.5,
             "#f7f7f7"
            ],
            [
             0.6,
             "#e6f5d0"
            ],
            [
             0.7,
             "#b8e186"
            ],
            [
             0.8,
             "#7fbc41"
            ],
            [
             0.9,
             "#4d9221"
            ],
            [
             1,
             "#276419"
            ]
           ],
           "sequential": [
            [
             0,
             "#0d0887"
            ],
            [
             0.1111111111111111,
             "#46039f"
            ],
            [
             0.2222222222222222,
             "#7201a8"
            ],
            [
             0.3333333333333333,
             "#9c179e"
            ],
            [
             0.4444444444444444,
             "#bd3786"
            ],
            [
             0.5555555555555556,
             "#d8576b"
            ],
            [
             0.6666666666666666,
             "#ed7953"
            ],
            [
             0.7777777777777778,
             "#fb9f3a"
            ],
            [
             0.8888888888888888,
             "#fdca26"
            ],
            [
             1,
             "#f0f921"
            ]
           ],
           "sequentialminus": [
            [
             0,
             "#0d0887"
            ],
            [
             0.1111111111111111,
             "#46039f"
            ],
            [
             0.2222222222222222,
             "#7201a8"
            ],
            [
             0.3333333333333333,
             "#9c179e"
            ],
            [
             0.4444444444444444,
             "#bd3786"
            ],
            [
             0.5555555555555556,
             "#d8576b"
            ],
            [
             0.6666666666666666,
             "#ed7953"
            ],
            [
             0.7777777777777778,
             "#fb9f3a"
            ],
            [
             0.8888888888888888,
             "#fdca26"
            ],
            [
             1,
             "#f0f921"
            ]
           ]
          },
          "colorway": [
           "#636efa",
           "#EF553B",
           "#00cc96",
           "#ab63fa",
           "#FFA15A",
           "#19d3f3",
           "#FF6692",
           "#B6E880",
           "#FF97FF",
           "#FECB52"
          ],
          "font": {
           "color": "#2a3f5f"
          },
          "geo": {
           "bgcolor": "white",
           "lakecolor": "white",
           "landcolor": "#E5ECF6",
           "showlakes": true,
           "showland": true,
           "subunitcolor": "white"
          },
          "hoverlabel": {
           "align": "left"
          },
          "hovermode": "closest",
          "mapbox": {
           "style": "light"
          },
          "paper_bgcolor": "white",
          "plot_bgcolor": "#E5ECF6",
          "polar": {
           "angularaxis": {
            "gridcolor": "white",
            "linecolor": "white",
            "ticks": ""
           },
           "bgcolor": "#E5ECF6",
           "radialaxis": {
            "gridcolor": "white",
            "linecolor": "white",
            "ticks": ""
           }
          },
          "scene": {
           "xaxis": {
            "backgroundcolor": "#E5ECF6",
            "gridcolor": "white",
            "gridwidth": 2,
            "linecolor": "white",
            "showbackground": true,
            "ticks": "",
            "zerolinecolor": "white"
           },
           "yaxis": {
            "backgroundcolor": "#E5ECF6",
            "gridcolor": "white",
            "gridwidth": 2,
            "linecolor": "white",
            "showbackground": true,
            "ticks": "",
            "zerolinecolor": "white"
           },
           "zaxis": {
            "backgroundcolor": "#E5ECF6",
            "gridcolor": "white",
            "gridwidth": 2,
            "linecolor": "white",
            "showbackground": true,
            "ticks": "",
            "zerolinecolor": "white"
           }
          },
          "shapedefaults": {
           "line": {
            "color": "#2a3f5f"
           }
          },
          "ternary": {
           "aaxis": {
            "gridcolor": "white",
            "linecolor": "white",
            "ticks": ""
           },
           "baxis": {
            "gridcolor": "white",
            "linecolor": "white",
            "ticks": ""
           },
           "bgcolor": "#E5ECF6",
           "caxis": {
            "gridcolor": "white",
            "linecolor": "white",
            "ticks": ""
           }
          },
          "title": {
           "x": 0.05
          },
          "xaxis": {
           "automargin": true,
           "gridcolor": "white",
           "linecolor": "white",
           "ticks": "",
           "title": {
            "standoff": 15
           },
           "zerolinecolor": "white",
           "zerolinewidth": 2
          },
          "yaxis": {
           "automargin": true,
           "gridcolor": "white",
           "linecolor": "white",
           "ticks": "",
           "title": {
            "standoff": 15
           },
           "zerolinecolor": "white",
           "zerolinewidth": 2
          }
         }
        },
        "title": {
         "text": "2019年各账本支出占比"
        }
       }
      },
      "text/html": [
       "<div>\n",
       "        \n",
       "        \n",
       "            <div id=\"8f2d49ec-52c5-4012-be88-49fecb3fe129\" class=\"plotly-graph-div\" style=\"height:525px; width:100%;\"></div>\n",
       "            <script type=\"text/javascript\">\n",
       "                require([\"plotly\"], function(Plotly) {\n",
       "                    window.PLOTLYENV=window.PLOTLYENV || {};\n",
       "                    \n",
       "                if (document.getElementById(\"8f2d49ec-52c5-4012-be88-49fecb3fe129\")) {\n",
       "                    Plotly.newPlot(\n",
       "                        '8f2d49ec-52c5-4012-be88-49fecb3fe129',\n",
       "                        [{\"domain\": {\"x\": [0.0, 1.0], \"y\": [0.0, 1.0]}, \"hoverlabel\": {\"namelength\": 0}, \"hovertemplate\": \"name=%{label}<br>amount=%{value}\", \"labels\": [\"\\u4eb2\\u5b50\\u80b2\\u513f\", \"\\u4eb2\\u5b50\\u80b2\\u513f\", \"\\u4eb2\\u5b50\\u80b2\\u513f\", \"\\u4eb2\\u5b50\\u80b2\\u513f\", \"\\u4eb2\\u5b50\\u80b2\\u513f\", \"\\u4eb2\\u5b50\\u80b2\\u513f\", \"\\u4eb2\\u5b50\\u80b2\\u513f\", \"\\u4eba\\u60c5\\u5f80\\u6765\", \"\\u4eba\\u60c5\\u5f80\\u6765\", \"\\u65e5\\u5e38\\u751f\\u6d3b\", \"\\u65e5\\u5e38\\u751f\\u6d3b\", \"\\u65e5\\u5e38\\u751f\\u6d3b\", \"\\u65e5\\u5e38\\u751f\\u6d3b\", \"\\u65e5\\u5e38\\u751f\\u6d3b\", \"\\u65e5\\u5e38\\u751f\\u6d3b\", \"\\u65e5\\u5e38\\u751f\\u6d3b\", \"\\u65e5\\u5e38\\u751f\\u6d3b\", \"\\u65e5\\u5e38\\u751f\\u6d3b\", \"\\u65e5\\u5e38\\u751f\\u6d3b\", \"\\u65e5\\u5e38\\u751f\\u6d3b\", \"\\u65e5\\u5e38\\u751f\\u6d3b\", \"\\u4eb2\\u5b50\\u80b2\\u513f\", \"\\u4eb2\\u5b50\\u80b2\\u513f\", \"\\u4eb2\\u5b50\\u80b2\\u513f\", \"\\u4eb2\\u5b50\\u80b2\\u513f\", \"\\u4eb2\\u5b50\\u80b2\\u513f\", \"\\u4eba\\u60c5\\u5f80\\u6765\", \"\\u4eba\\u60c5\\u5f80\\u6765\", \"\\u4eba\\u60c5\\u5f80\\u6765\", \"\\u4eba\\u60c5\\u5f80\\u6765\", \"\\u65e5\\u5e38\\u751f\\u6d3b\", \"\\u65e5\\u5e38\\u751f\\u6d3b\", \"\\u65e5\\u5e38\\u751f\\u6d3b\", \"\\u65e5\\u5e38\\u751f\\u6d3b\", \"\\u65e5\\u5e38\\u751f\\u6d3b\", \"\\u65e5\\u5e38\\u751f\\u6d3b\", \"\\u65e5\\u5e38\\u751f\\u6d3b\", \"\\u65e5\\u5e38\\u751f\\u6d3b\", \"\\u65e5\\u5e38\\u751f\\u6d3b\", \"\\u4eb2\\u5b50\\u80b2\\u513f\", \"\\u4eb2\\u5b50\\u80b2\\u513f\", \"\\u4eb2\\u5b50\\u80b2\\u513f\", \"\\u4eb2\\u5b50\\u80b2\\u513f\", \"\\u4eb2\\u5b50\\u80b2\\u513f\", \"\\u4eb2\\u5b50\\u80b2\\u513f\", \"\\u4eb2\\u5b50\\u80b2\\u513f\", \"\\u4eb2\\u5b50\\u80b2\\u513f\", \"\\u4eb2\\u5b50\\u80b2\\u513f\", \"\\u65c5\\u884c\\u65f6\\u5149\", \"\\u65e5\\u5e38\\u751f\\u6d3b\", \"\\u65e5\\u5e38\\u751f\\u6d3b\", \"\\u65e5\\u5e38\\u751f\\u6d3b\", \"\\u65e5\\u5e38\\u751f\\u6d3b\", \"\\u65e5\\u5e38\\u751f\\u6d3b\", \"\\u65e5\\u5e38\\u751f\\u6d3b\", \"\\u65e5\\u5e38\\u751f\\u6d3b\", \"\\u65e5\\u5e38\\u751f\\u6d3b\", \"\\u65e5\\u5e38\\u751f\\u6d3b\", \"\\u65e5\\u5e38\\u751f\\u6d3b\", \"\\u65e5\\u5e38\\u751f\\u6d3b\", \"\\u65e5\\u5e38\\u751f\\u6d3b\", \"\\u65e5\\u5e38\\u751f\\u6d3b\", \"\\u65e5\\u5e38\\u751f\\u6d3b\", \"\\u4eb2\\u5b50\\u80b2\\u513f\", \"\\u4eb2\\u5b50\\u80b2\\u513f\", \"\\u4eb2\\u5b50\\u80b2\\u513f\", \"\\u4eb2\\u5b50\\u80b2\\u513f\", \"\\u4eb2\\u5b50\\u80b2\\u513f\", \"\\u4eb2\\u5b50\\u80b2\\u513f\", \"\\u4eba\\u60c5\\u5f80\\u6765\", \"\\u65c5\\u884c\\u65f6\\u5149\", \"\\u65c5\\u884c\\u65f6\\u5149\", \"\\u65c5\\u884c\\u65f6\\u5149\", \"\\u65c5\\u884c\\u65f6\\u5149\", \"\\u65c5\\u884c\\u65f6\\u5149\", \"\\u65c5\\u884c\\u65f6\\u5149\", \"\\u65e5\\u5e38\\u751f\\u6d3b\", \"\\u65e5\\u5e38\\u751f\\u6d3b\", \"\\u65e5\\u5e38\\u751f\\u6d3b\", \"\\u65e5\\u5e38\\u751f\\u6d3b\", \"\\u65e5\\u5e38\\u751f\\u6d3b\", \"\\u65e5\\u5e38\\u751f\\u6d3b\", \"\\u65e5\\u5e38\\u751f\\u6d3b\", \"\\u65e5\\u5e38\\u751f\\u6d3b\", \"\\u65e5\\u5e38\\u751f\\u6d3b\", \"\\u65e5\\u5e38\\u751f\\u6d3b\", \"\\u65e5\\u5e38\\u751f\\u6d3b\", \"\\u65e5\\u5e38\\u751f\\u6d3b\", \"\\u65e5\\u5e38\\u751f\\u6d3b\", \"\\u65e5\\u5e38\\u751f\\u6d3b\", \"\\u4eb2\\u5b50\\u80b2\\u513f\", \"\\u4eb2\\u5b50\\u80b2\\u513f\", \"\\u4eb2\\u5b50\\u80b2\\u513f\", \"\\u4eb2\\u5b50\\u80b2\\u513f\", \"\\u4eb2\\u5b50\\u80b2\\u513f\", \"\\u4eb2\\u5b50\\u80b2\\u513f\", \"\\u4eb2\\u5b50\\u80b2\\u513f\", \"\\u4eb2\\u5b50\\u80b2\\u513f\", \"\\u4eba\\u60c5\\u5f80\\u6765\", \"\\u65c5\\u884c\\u65f6\\u5149\", \"\\u65c5\\u884c\\u65f6\\u5149\", \"\\u65c5\\u884c\\u65f6\\u5149\", \"\\u65e5\\u5e38\\u751f\\u6d3b\", \"\\u65e5\\u5e38\\u751f\\u6d3b\", \"\\u65e5\\u5e38\\u751f\\u6d3b\", \"\\u65e5\\u5e38\\u751f\\u6d3b\", \"\\u65e5\\u5e38\\u751f\\u6d3b\", \"\\u65e5\\u5e38\\u751f\\u6d3b\", \"\\u65e5\\u5e38\\u751f\\u6d3b\", \"\\u65e5\\u5e38\\u751f\\u6d3b\", \"\\u65e5\\u5e38\\u751f\\u6d3b\", \"\\u65e5\\u5e38\\u751f\\u6d3b\", \"\\u65e5\\u5e38\\u751f\\u6d3b\", \"\\u65e5\\u5e38\\u751f\\u6d3b\", \"\\u65e5\\u5e38\\u751f\\u6d3b\", \"\\u4eb2\\u5b50\\u80b2\\u513f\", \"\\u4eb2\\u5b50\\u80b2\\u513f\", \"\\u4eb2\\u5b50\\u80b2\\u513f\", \"\\u4eb2\\u5b50\\u80b2\\u513f\", \"\\u4eb2\\u5b50\\u80b2\\u513f\", \"\\u4eb2\\u5b50\\u80b2\\u513f\", \"\\u4eb2\\u5b50\\u80b2\\u513f\", \"\\u4eb2\\u5b50\\u80b2\\u513f\", \"\\u4eb2\\u5b50\\u80b2\\u513f\", \"\\u4eb2\\u5b50\\u80b2\\u513f\", \"\\u4eba\\u60c5\\u5f80\\u6765\", \"\\u4eba\\u60c5\\u5f80\\u6765\", \"\\u65e5\\u5e38\\u751f\\u6d3b\", \"\\u65e5\\u5e38\\u751f\\u6d3b\", \"\\u65e5\\u5e38\\u751f\\u6d3b\", \"\\u65e5\\u5e38\\u751f\\u6d3b\", \"\\u65e5\\u5e38\\u751f\\u6d3b\", \"\\u65e5\\u5e38\\u751f\\u6d3b\", \"\\u65e5\\u5e38\\u751f\\u6d3b\", \"\\u65e5\\u5e38\\u751f\\u6d3b\", \"\\u65e5\\u5e38\\u751f\\u6d3b\", \"\\u65e5\\u5e38\\u751f\\u6d3b\", \"\\u65e5\\u5e38\\u751f\\u6d3b\", \"\\u65e5\\u5e38\\u751f\\u6d3b\", \"\\u65e5\\u5e38\\u751f\\u6d3b\", \"\\u4eb2\\u5b50\\u80b2\\u513f\", \"\\u4eb2\\u5b50\\u80b2\\u513f\", \"\\u4eb2\\u5b50\\u80b2\\u513f\", \"\\u4eb2\\u5b50\\u80b2\\u513f\", \"\\u4eb2\\u5b50\\u80b2\\u513f\", \"\\u4eb2\\u5b50\\u80b2\\u513f\", \"\\u4eb2\\u5b50\\u80b2\\u513f\", \"\\u65e5\\u5e38\\u751f\\u6d3b\", \"\\u65e5\\u5e38\\u751f\\u6d3b\", \"\\u65e5\\u5e38\\u751f\\u6d3b\", \"\\u65e5\\u5e38\\u751f\\u6d3b\", \"\\u65e5\\u5e38\\u751f\\u6d3b\", \"\\u65e5\\u5e38\\u751f\\u6d3b\", \"\\u65e5\\u5e38\\u751f\\u6d3b\", \"\\u65e5\\u5e38\\u751f\\u6d3b\", \"\\u65e5\\u5e38\\u751f\\u6d3b\", \"\\u65e5\\u5e38\\u751f\\u6d3b\", \"\\u4eb2\\u5b50\\u80b2\\u513f\", \"\\u4eb2\\u5b50\\u80b2\\u513f\", \"\\u4eb2\\u5b50\\u80b2\\u513f\", \"\\u4eb2\\u5b50\\u80b2\\u513f\", \"\\u4eb2\\u5b50\\u80b2\\u513f\", \"\\u4eb2\\u5b50\\u80b2\\u513f\", \"\\u4eba\\u60c5\\u5f80\\u6765\", \"\\u65c5\\u884c\\u65f6\\u5149\", \"\\u65c5\\u884c\\u65f6\\u5149\", \"\\u65c5\\u884c\\u65f6\\u5149\", \"\\u65c5\\u884c\\u65f6\\u5149\", \"\\u65c5\\u884c\\u65f6\\u5149\", \"\\u65c5\\u884c\\u65f6\\u5149\", \"\\u65e5\\u5e38\\u751f\\u6d3b\", \"\\u65e5\\u5e38\\u751f\\u6d3b\", \"\\u65e5\\u5e38\\u751f\\u6d3b\", \"\\u65e5\\u5e38\\u751f\\u6d3b\", \"\\u65e5\\u5e38\\u751f\\u6d3b\", \"\\u65e5\\u5e38\\u751f\\u6d3b\", \"\\u65e5\\u5e38\\u751f\\u6d3b\", \"\\u65e5\\u5e38\\u751f\\u6d3b\", \"\\u65e5\\u5e38\\u751f\\u6d3b\", \"\\u4eb2\\u5b50\\u80b2\\u513f\", \"\\u4eb2\\u5b50\\u80b2\\u513f\", \"\\u4eb2\\u5b50\\u80b2\\u513f\", \"\\u4eb2\\u5b50\\u80b2\\u513f\", \"\\u4eb2\\u5b50\\u80b2\\u513f\", \"\\u4eb2\\u5b50\\u80b2\\u513f\", \"\\u4eb2\\u5b50\\u80b2\\u513f\", \"\\u4eb2\\u5b50\\u80b2\\u513f\", \"\\u4eb2\\u5b50\\u80b2\\u513f\", \"\\u4eb2\\u5b50\\u80b2\\u513f\", \"\\u4eba\\u60c5\\u5f80\\u6765\", \"\\u65e5\\u5e38\\u751f\\u6d3b\", \"\\u65e5\\u5e38\\u751f\\u6d3b\", \"\\u65e5\\u5e38\\u751f\\u6d3b\", \"\\u65e5\\u5e38\\u751f\\u6d3b\", \"\\u65e5\\u5e38\\u751f\\u6d3b\", \"\\u65e5\\u5e38\\u751f\\u6d3b\", \"\\u65e5\\u5e38\\u751f\\u6d3b\", \"\\u65e5\\u5e38\\u751f\\u6d3b\", \"\\u65e5\\u5e38\\u751f\\u6d3b\", \"\\u65e5\\u5e38\\u751f\\u6d3b\", \"\\u65e5\\u5e38\\u751f\\u6d3b\", \"\\u4eb2\\u5b50\\u80b2\\u513f\", \"\\u4eb2\\u5b50\\u80b2\\u513f\", \"\\u4eb2\\u5b50\\u80b2\\u513f\", \"\\u4eb2\\u5b50\\u80b2\\u513f\", \"\\u4eb2\\u5b50\\u80b2\\u513f\", \"\\u4eb2\\u5b50\\u80b2\\u513f\", \"\\u4eb2\\u5b50\\u80b2\\u513f\", \"\\u4eba\\u60c5\\u5f80\\u6765\", \"\\u65c5\\u884c\\u65f6\\u5149\", \"\\u65c5\\u884c\\u65f6\\u5149\", \"\\u65c5\\u884c\\u65f6\\u5149\", \"\\u65c5\\u884c\\u65f6\\u5149\", \"\\u65c5\\u884c\\u65f6\\u5149\", \"\\u65e5\\u5e38\\u751f\\u6d3b\", \"\\u65e5\\u5e38\\u751f\\u6d3b\", \"\\u65e5\\u5e38\\u751f\\u6d3b\", \"\\u65e5\\u5e38\\u751f\\u6d3b\", \"\\u65e5\\u5e38\\u751f\\u6d3b\", \"\\u65e5\\u5e38\\u751f\\u6d3b\", \"\\u65e5\\u5e38\\u751f\\u6d3b\", \"\\u65e5\\u5e38\\u751f\\u6d3b\", \"\\u65e5\\u5e38\\u751f\\u6d3b\", \"\\u65e5\\u5e38\\u751f\\u6d3b\", \"\\u65e5\\u5e38\\u751f\\u6d3b\", \"\\u4eb2\\u5b50\\u80b2\\u513f\", \"\\u4eb2\\u5b50\\u80b2\\u513f\", \"\\u4eb2\\u5b50\\u80b2\\u513f\", \"\\u4eb2\\u5b50\\u80b2\\u513f\", \"\\u4eb2\\u5b50\\u80b2\\u513f\", \"\\u4eb2\\u5b50\\u80b2\\u513f\", \"\\u4eb2\\u5b50\\u80b2\\u513f\", \"\\u4eb2\\u5b50\\u80b2\\u513f\", \"\\u4eb2\\u5b50\\u80b2\\u513f\", \"\\u4eba\\u60c5\\u5f80\\u6765\", \"\\u4eba\\u60c5\\u5f80\\u6765\", \"\\u4eba\\u60c5\\u5f80\\u6765\", \"\\u65e5\\u5e38\\u751f\\u6d3b\", \"\\u65e5\\u5e38\\u751f\\u6d3b\", \"\\u65e5\\u5e38\\u751f\\u6d3b\", \"\\u65e5\\u5e38\\u751f\\u6d3b\", \"\\u65e5\\u5e38\\u751f\\u6d3b\", \"\\u65e5\\u5e38\\u751f\\u6d3b\", \"\\u65e5\\u5e38\\u751f\\u6d3b\", \"\\u65e5\\u5e38\\u751f\\u6d3b\", \"\\u65e5\\u5e38\\u751f\\u6d3b\", \"\\u65e5\\u5e38\\u751f\\u6d3b\", \"\\u65e5\\u5e38\\u751f\\u6d3b\", \"\\u65e5\\u5e38\\u751f\\u6d3b\", \"\\u4eb2\\u5b50\\u80b2\\u513f\", \"\\u4eb2\\u5b50\\u80b2\\u513f\", \"\\u4eb2\\u5b50\\u80b2\\u513f\", \"\\u4eb2\\u5b50\\u80b2\\u513f\", \"\\u4eb2\\u5b50\\u80b2\\u513f\", \"\\u4eb2\\u5b50\\u80b2\\u513f\", \"\\u4eb2\\u5b50\\u80b2\\u513f\", \"\\u4eb2\\u5b50\\u80b2\\u513f\", \"\\u4eba\\u60c5\\u5f80\\u6765\", \"\\u65e5\\u5e38\\u751f\\u6d3b\", \"\\u65e5\\u5e38\\u751f\\u6d3b\", \"\\u65e5\\u5e38\\u751f\\u6d3b\", \"\\u65e5\\u5e38\\u751f\\u6d3b\", \"\\u65e5\\u5e38\\u751f\\u6d3b\", \"\\u65e5\\u5e38\\u751f\\u6d3b\", \"\\u65e5\\u5e38\\u751f\\u6d3b\", \"\\u65e5\\u5e38\\u751f\\u6d3b\", \"\\u65e5\\u5e38\\u751f\\u6d3b\", \"\\u65e5\\u5e38\\u751f\\u6d3b\", \"\\u65e5\\u5e38\\u751f\\u6d3b\", \"\\u65e5\\u5e38\\u751f\\u6d3b\"], \"legendgroup\": \"\", \"name\": \"\", \"showlegend\": true, \"textinfo\": \"percent+label+value\", \"textposition\": \"inside\", \"type\": \"pie\", \"values\": [197.4, 775.9899999999999, 10.0, 212.82, 2518.2, 238.0, 47.0, 1084.0, 5000.0, 4442.75, 148.89, 4639.04, 24.3, 39.4, 140.0, 131.0, 295.78, 1383.0, 2146.0, 101.8, 2899.4700000000003, 100.0, 535.52, 30.5, 2000.0, 5.0, 100.0, 521.0, 3200.0, 700.0, 1007.0, 135.0, 1748.5700000000002, 2205.0, 84.6, 88.5, 1400.0, 99.5, 1517.9900000000002, 15373.6, 227.0, 3223.0, 246.88, 312.9, 65.9, 250.71, 2000.0, 961.9, 112.0, 1054.0, 290.8, 1027.85, 3528.0, 228.0, 178.9, 410.48, 2787.9, 535.1999999999999, 2104.0, 1344.0, 199.0, 289.61, 2356.7900000000004, 190.0, 3393.9, 222.24, 118.0, 135.36, 2400.0, 331.5, 454.38, 976.0, 85.0, 240.0, 142.8, 646.0, 732.49, 267.64, 1050.5, 2972.0, 39.620000000000005, 405.0, 119.0, 544.8299999999999, 158.6, 1988.0, 35.0, 159.2, 393.28, 1699.8000000000006, 64.0, 480.85, 503.24, 227.5, 144.23, 1410.0, 167.8, 204.4, 444.0, 5.0, 200.0, 60.0, 1512.2700000000002, 1781.73, 312.12, 73.42, 840.0, 184.7, 255.85999999999999, 75.71, 1900.0, 1608.86, 219.15, 59.599999999999994, 3168.08, 99.0, 504.36, 878.1700000000001, 921.0, 15.9, 545.05, 5099.0, 55.4, 52.66, 526.66, 104.64, 68.0, 569.4300000000001, 1066.3, 27.0, 92.0, 63.0, 881.42, 411.1, 1006.23, 1900.0, 2694.41, 149.25, 26.1, 2618.0900000000006, 15.0, 50.0, 156.81, 50.6, 2000.0, 212.39999999999998, 35.0, 5519.96, 164.0, 1078.6, 38.03, 49.86, 234.28, 1900.0, 170.0, 618.02, 3029.3499999999995, 15.0, 478.95, 316.16, 593.55, 2010.95, 55.66, 49.8, 3278.86, 1005.0, 123.4, 83.0, 487.77, 1296.5, 1208.76, 196.0, 1815.1200000000001, 686.29, 1900.0, 370.44, 256.65999999999997, 204.13000000000002, 1727.9900000000005, 11.97, 45.0, 6909.9, 255.0, 1285.8, 258.6, 2950.0, 82.68, 29.0, 55.8, 51.94, 760.98, 1208.7, 240.0, 26.8, 376.01, 587.12, 1900.0, 1182.9, 118.94, 42.09, 2549.2799999999997, 9586.4, 157.7, 92.5, 43.0, 2599.0, 107.52, 131.5, 230.0, 5.0, 626.0, 270.0, 32.5, 635.0, 1012.6199999999999, 179.0, 1105.4, 100.7, 164.5, 12.9, 1900.0, 347.78999999999996, 158.31, 116.57000000000001, 1996.5899999999997, 8760.0, 479.0, 467.8, 224.49, 221.22, 4917.969999999999, 513.5699999999999, 58.0, 28.8, 169.0, 1000.0, 200.0, 2151.5, 95.9, 1732.22, 1580.0, 326.44, 3415.8, 938.23, 2300.0, 3912.13, 139.0, 128.42000000000002, 2785.9900000000002, 331.0, 630.9, 789.6700000000001, 9.9, 240.04, 2000.0, 212.43, 25.4, 227.8, 1957.49, 550.5, 1388.5, 20.66, 1732.49, 31.0, 856.44, 1900.0, 2398.38, 297.25, 354.42999999999995, 2600.37]}],\n",
       "                        {\"legend\": {\"tracegroupgap\": 0}, \"template\": {\"data\": {\"bar\": [{\"error_x\": {\"color\": \"#2a3f5f\"}, \"error_y\": {\"color\": \"#2a3f5f\"}, \"marker\": {\"line\": {\"color\": \"#E5ECF6\", \"width\": 0.5}}, \"type\": \"bar\"}], \"barpolar\": [{\"marker\": {\"line\": {\"color\": \"#E5ECF6\", \"width\": 0.5}}, \"type\": \"barpolar\"}], \"carpet\": [{\"aaxis\": {\"endlinecolor\": \"#2a3f5f\", \"gridcolor\": \"white\", \"linecolor\": \"white\", \"minorgridcolor\": \"white\", \"startlinecolor\": \"#2a3f5f\"}, \"baxis\": {\"endlinecolor\": \"#2a3f5f\", \"gridcolor\": \"white\", \"linecolor\": \"white\", \"minorgridcolor\": \"white\", \"startlinecolor\": \"#2a3f5f\"}, \"type\": \"carpet\"}], \"choropleth\": [{\"colorbar\": {\"outlinewidth\": 0, \"ticks\": \"\"}, \"type\": \"choropleth\"}], \"contour\": [{\"colorbar\": {\"outlinewidth\": 0, \"ticks\": \"\"}, \"colorscale\": [[0.0, \"#0d0887\"], [0.1111111111111111, \"#46039f\"], [0.2222222222222222, \"#7201a8\"], [0.3333333333333333, \"#9c179e\"], [0.4444444444444444, \"#bd3786\"], [0.5555555555555556, \"#d8576b\"], [0.6666666666666666, \"#ed7953\"], [0.7777777777777778, \"#fb9f3a\"], [0.8888888888888888, \"#fdca26\"], [1.0, \"#f0f921\"]], \"type\": \"contour\"}], \"contourcarpet\": [{\"colorbar\": {\"outlinewidth\": 0, \"ticks\": \"\"}, \"type\": \"contourcarpet\"}], \"heatmap\": [{\"colorbar\": {\"outlinewidth\": 0, \"ticks\": \"\"}, \"colorscale\": [[0.0, \"#0d0887\"], [0.1111111111111111, \"#46039f\"], [0.2222222222222222, \"#7201a8\"], [0.3333333333333333, \"#9c179e\"], [0.4444444444444444, \"#bd3786\"], [0.5555555555555556, \"#d8576b\"], [0.6666666666666666, \"#ed7953\"], [0.7777777777777778, \"#fb9f3a\"], [0.8888888888888888, \"#fdca26\"], [1.0, \"#f0f921\"]], \"type\": \"heatmap\"}], \"heatmapgl\": [{\"colorbar\": {\"outlinewidth\": 0, \"ticks\": \"\"}, \"colorscale\": [[0.0, \"#0d0887\"], [0.1111111111111111, \"#46039f\"], [0.2222222222222222, \"#7201a8\"], [0.3333333333333333, \"#9c179e\"], [0.4444444444444444, \"#bd3786\"], [0.5555555555555556, \"#d8576b\"], [0.6666666666666666, \"#ed7953\"], [0.7777777777777778, \"#fb9f3a\"], [0.8888888888888888, \"#fdca26\"], [1.0, \"#f0f921\"]], \"type\": \"heatmapgl\"}], \"histogram\": [{\"marker\": {\"colorbar\": {\"outlinewidth\": 0, \"ticks\": \"\"}}, \"type\": \"histogram\"}], \"histogram2d\": [{\"colorbar\": {\"outlinewidth\": 0, \"ticks\": \"\"}, \"colorscale\": [[0.0, \"#0d0887\"], [0.1111111111111111, \"#46039f\"], [0.2222222222222222, \"#7201a8\"], [0.3333333333333333, \"#9c179e\"], [0.4444444444444444, \"#bd3786\"], [0.5555555555555556, \"#d8576b\"], [0.6666666666666666, \"#ed7953\"], [0.7777777777777778, \"#fb9f3a\"], [0.8888888888888888, \"#fdca26\"], [1.0, \"#f0f921\"]], \"type\": \"histogram2d\"}], \"histogram2dcontour\": [{\"colorbar\": {\"outlinewidth\": 0, \"ticks\": \"\"}, \"colorscale\": [[0.0, \"#0d0887\"], [0.1111111111111111, \"#46039f\"], [0.2222222222222222, \"#7201a8\"], [0.3333333333333333, \"#9c179e\"], [0.4444444444444444, \"#bd3786\"], [0.5555555555555556, \"#d8576b\"], [0.6666666666666666, \"#ed7953\"], [0.7777777777777778, \"#fb9f3a\"], [0.8888888888888888, \"#fdca26\"], [1.0, \"#f0f921\"]], \"type\": \"histogram2dcontour\"}], \"mesh3d\": [{\"colorbar\": {\"outlinewidth\": 0, \"ticks\": \"\"}, \"type\": \"mesh3d\"}], \"parcoords\": [{\"line\": {\"colorbar\": {\"outlinewidth\": 0, \"ticks\": \"\"}}, \"type\": \"parcoords\"}], \"pie\": [{\"automargin\": true, \"type\": \"pie\"}], \"scatter\": [{\"marker\": {\"colorbar\": {\"outlinewidth\": 0, \"ticks\": \"\"}}, \"type\": \"scatter\"}], \"scatter3d\": [{\"line\": {\"colorbar\": {\"outlinewidth\": 0, \"ticks\": \"\"}}, \"marker\": {\"colorbar\": {\"outlinewidth\": 0, \"ticks\": \"\"}}, \"type\": \"scatter3d\"}], \"scattercarpet\": [{\"marker\": {\"colorbar\": {\"outlinewidth\": 0, \"ticks\": \"\"}}, \"type\": \"scattercarpet\"}], \"scattergeo\": [{\"marker\": {\"colorbar\": {\"outlinewidth\": 0, \"ticks\": \"\"}}, \"type\": \"scattergeo\"}], \"scattergl\": [{\"marker\": {\"colorbar\": {\"outlinewidth\": 0, \"ticks\": \"\"}}, \"type\": \"scattergl\"}], \"scattermapbox\": [{\"marker\": {\"colorbar\": {\"outlinewidth\": 0, \"ticks\": \"\"}}, \"type\": \"scattermapbox\"}], \"scatterpolar\": [{\"marker\": {\"colorbar\": {\"outlinewidth\": 0, \"ticks\": \"\"}}, \"type\": \"scatterpolar\"}], \"scatterpolargl\": [{\"marker\": {\"colorbar\": {\"outlinewidth\": 0, \"ticks\": \"\"}}, \"type\": \"scatterpolargl\"}], \"scatterternary\": [{\"marker\": {\"colorbar\": {\"outlinewidth\": 0, \"ticks\": \"\"}}, \"type\": \"scatterternary\"}], \"surface\": [{\"colorbar\": {\"outlinewidth\": 0, \"ticks\": \"\"}, \"colorscale\": [[0.0, \"#0d0887\"], [0.1111111111111111, \"#46039f\"], [0.2222222222222222, \"#7201a8\"], [0.3333333333333333, \"#9c179e\"], [0.4444444444444444, \"#bd3786\"], [0.5555555555555556, \"#d8576b\"], [0.6666666666666666, \"#ed7953\"], [0.7777777777777778, \"#fb9f3a\"], [0.8888888888888888, \"#fdca26\"], [1.0, \"#f0f921\"]], \"type\": \"surface\"}], \"table\": [{\"cells\": {\"fill\": {\"color\": \"#EBF0F8\"}, \"line\": {\"color\": \"white\"}}, \"header\": {\"fill\": {\"color\": \"#C8D4E3\"}, \"line\": {\"color\": \"white\"}}, \"type\": \"table\"}]}, \"layout\": {\"annotationdefaults\": {\"arrowcolor\": \"#2a3f5f\", \"arrowhead\": 0, \"arrowwidth\": 1}, \"coloraxis\": {\"colorbar\": {\"outlinewidth\": 0, \"ticks\": \"\"}}, \"colorscale\": {\"diverging\": [[0, \"#8e0152\"], [0.1, \"#c51b7d\"], [0.2, \"#de77ae\"], [0.3, \"#f1b6da\"], [0.4, \"#fde0ef\"], [0.5, \"#f7f7f7\"], [0.6, \"#e6f5d0\"], [0.7, \"#b8e186\"], [0.8, \"#7fbc41\"], [0.9, \"#4d9221\"], [1, \"#276419\"]], \"sequential\": [[0.0, \"#0d0887\"], [0.1111111111111111, \"#46039f\"], [0.2222222222222222, \"#7201a8\"], [0.3333333333333333, \"#9c179e\"], [0.4444444444444444, \"#bd3786\"], [0.5555555555555556, \"#d8576b\"], [0.6666666666666666, \"#ed7953\"], [0.7777777777777778, \"#fb9f3a\"], [0.8888888888888888, \"#fdca26\"], [1.0, \"#f0f921\"]], \"sequentialminus\": [[0.0, \"#0d0887\"], [0.1111111111111111, \"#46039f\"], [0.2222222222222222, \"#7201a8\"], [0.3333333333333333, \"#9c179e\"], [0.4444444444444444, \"#bd3786\"], [0.5555555555555556, \"#d8576b\"], [0.6666666666666666, \"#ed7953\"], [0.7777777777777778, \"#fb9f3a\"], [0.8888888888888888, \"#fdca26\"], [1.0, \"#f0f921\"]]}, \"colorway\": [\"#636efa\", \"#EF553B\", \"#00cc96\", \"#ab63fa\", \"#FFA15A\", \"#19d3f3\", \"#FF6692\", \"#B6E880\", \"#FF97FF\", \"#FECB52\"], \"font\": {\"color\": \"#2a3f5f\"}, \"geo\": {\"bgcolor\": \"white\", \"lakecolor\": \"white\", \"landcolor\": \"#E5ECF6\", \"showlakes\": true, \"showland\": true, \"subunitcolor\": \"white\"}, \"hoverlabel\": {\"align\": \"left\"}, \"hovermode\": \"closest\", \"mapbox\": {\"style\": \"light\"}, \"paper_bgcolor\": \"white\", \"plot_bgcolor\": \"#E5ECF6\", \"polar\": {\"angularaxis\": {\"gridcolor\": \"white\", \"linecolor\": \"white\", \"ticks\": \"\"}, \"bgcolor\": \"#E5ECF6\", \"radialaxis\": {\"gridcolor\": \"white\", \"linecolor\": \"white\", \"ticks\": \"\"}}, \"scene\": {\"xaxis\": {\"backgroundcolor\": \"#E5ECF6\", \"gridcolor\": \"white\", \"gridwidth\": 2, \"linecolor\": \"white\", \"showbackground\": true, \"ticks\": \"\", \"zerolinecolor\": \"white\"}, \"yaxis\": {\"backgroundcolor\": \"#E5ECF6\", \"gridcolor\": \"white\", \"gridwidth\": 2, \"linecolor\": \"white\", \"showbackground\": true, \"ticks\": \"\", \"zerolinecolor\": \"white\"}, \"zaxis\": {\"backgroundcolor\": \"#E5ECF6\", \"gridcolor\": \"white\", \"gridwidth\": 2, \"linecolor\": \"white\", \"showbackground\": true, \"ticks\": \"\", \"zerolinecolor\": \"white\"}}, \"shapedefaults\": {\"line\": {\"color\": \"#2a3f5f\"}}, \"ternary\": {\"aaxis\": {\"gridcolor\": \"white\", \"linecolor\": \"white\", \"ticks\": \"\"}, \"baxis\": {\"gridcolor\": \"white\", \"linecolor\": \"white\", \"ticks\": \"\"}, \"bgcolor\": \"#E5ECF6\", \"caxis\": {\"gridcolor\": \"white\", \"linecolor\": \"white\", \"ticks\": \"\"}}, \"title\": {\"x\": 0.05}, \"xaxis\": {\"automargin\": true, \"gridcolor\": \"white\", \"linecolor\": \"white\", \"ticks\": \"\", \"title\": {\"standoff\": 15}, \"zerolinecolor\": \"white\", \"zerolinewidth\": 2}, \"yaxis\": {\"automargin\": true, \"gridcolor\": \"white\", \"linecolor\": \"white\", \"ticks\": \"\", \"title\": {\"standoff\": 15}, \"zerolinecolor\": \"white\", \"zerolinewidth\": 2}}}, \"title\": {\"text\": \"2019\\u5e74\\u5404\\u8d26\\u672c\\u652f\\u51fa\\u5360\\u6bd4\"}},\n",
       "                        {\"responsive\": true}\n",
       "                    ).then(function(){\n",
       "                            \n",
       "var gd = document.getElementById('8f2d49ec-52c5-4012-be88-49fecb3fe129');\n",
       "var x = new MutationObserver(function (mutations, observer) {{\n",
       "        var display = window.getComputedStyle(gd).display;\n",
       "        if (!display || display === 'none') {{\n",
       "            console.log([gd, 'removed!']);\n",
       "            Plotly.purge(gd);\n",
       "            observer.disconnect();\n",
       "        }}\n",
       "}});\n",
       "\n",
       "// Listen for the removal of the full notebook cells\n",
       "var notebookContainer = gd.closest('#notebook-container');\n",
       "if (notebookContainer) {{\n",
       "    x.observe(notebookContainer, {childList: true});\n",
       "}}\n",
       "\n",
       "// Listen for the clearing of the current output cell\n",
       "var outputEl = gd.closest('.output');\n",
       "if (outputEl) {{\n",
       "    x.observe(outputEl, {childList: true});\n",
       "}}\n",
       "\n",
       "                        })\n",
       "                };\n",
       "                });\n",
       "            </script>\n",
       "        </div>"
      ]
     },
     "metadata": {},
     "output_type": "display_data"
    }
   ],
   "source": [
    "fig=px.pie(out1, values='amount', names='name', title='2019年各账本支出占比')\n",
    "fig.update_traces(textposition='inside', textinfo='percent+label+value')\n",
    "fig.show()"
   ]
  },
  {
   "cell_type": "code",
   "execution_count": 73,
   "metadata": {},
   "outputs": [
    {
     "data": {
      "text/html": [
       "<div>\n",
       "<style scoped>\n",
       "    .dataframe tbody tr th:only-of-type {\n",
       "        vertical-align: middle;\n",
       "    }\n",
       "\n",
       "    .dataframe tbody tr th {\n",
       "        vertical-align: top;\n",
       "    }\n",
       "\n",
       "    .dataframe thead th {\n",
       "        text-align: right;\n",
       "    }\n",
       "</style>\n",
       "<table border=\"1\" class=\"dataframe\">\n",
       "  <thead>\n",
       "    <tr style=\"text-align: right;\">\n",
       "      <th></th>\n",
       "      <th>month</th>\n",
       "      <th>name</th>\n",
       "      <th>type</th>\n",
       "      <th>amount</th>\n",
       "    </tr>\n",
       "  </thead>\n",
       "  <tbody>\n",
       "    <tr>\n",
       "      <th>9</th>\n",
       "      <td>1</td>\n",
       "      <td>日常生活</td>\n",
       "      <td>交通</td>\n",
       "      <td>4442.75</td>\n",
       "    </tr>\n",
       "    <tr>\n",
       "      <th>10</th>\n",
       "      <td>1</td>\n",
       "      <td>日常生活</td>\n",
       "      <td>休闲娱乐</td>\n",
       "      <td>148.89</td>\n",
       "    </tr>\n",
       "    <tr>\n",
       "      <th>11</th>\n",
       "      <td>1</td>\n",
       "      <td>日常生活</td>\n",
       "      <td>住房</td>\n",
       "      <td>4639.04</td>\n",
       "    </tr>\n",
       "    <tr>\n",
       "      <th>12</th>\n",
       "      <td>1</td>\n",
       "      <td>日常生活</td>\n",
       "      <td>医疗</td>\n",
       "      <td>24.30</td>\n",
       "    </tr>\n",
       "    <tr>\n",
       "      <th>13</th>\n",
       "      <td>1</td>\n",
       "      <td>日常生活</td>\n",
       "      <td>学习</td>\n",
       "      <td>39.40</td>\n",
       "    </tr>\n",
       "  </tbody>\n",
       "</table>\n",
       "</div>"
      ],
      "text/plain": [
       "    month  name  type   amount\n",
       "9       1  日常生活    交通  4442.75\n",
       "10      1  日常生活  休闲娱乐   148.89\n",
       "11      1  日常生活    住房  4639.04\n",
       "12      1  日常生活    医疗    24.30\n",
       "13      1  日常生活    学习    39.40"
      ]
     },
     "execution_count": 73,
     "metadata": {},
     "output_type": "execute_result"
    }
   ],
   "source": [
    "disp1=out1[out1['name']=='日常生活']\n",
    "# disp1.sort_values(by=['amount'], inplace=True)\n",
    "disp1.head()"
   ]
  },
  {
   "cell_type": "code",
   "execution_count": 86,
   "metadata": {},
   "outputs": [
    {
     "data": {
      "application/vnd.plotly.v1+json": {
       "config": {
        "plotlyServerURL": "https://plot.ly"
       },
       "data": [
        {
         "domain": {
          "x": [
           0,
           1
          ],
          "y": [
           0,
           1
          ]
         },
         "hoverlabel": {
          "namelength": 0
         },
         "hovertemplate": "type=%{label}<br>amount=%{value}",
         "labels": [
          "交通",
          "休闲娱乐",
          "住房",
          "医疗",
          "学习",
          "家居",
          "护肤彩妆",
          "日用品",
          "洛洛爸",
          "衣服鞋帽",
          "零食饮料",
          "餐饮买菜",
          "交通",
          "休闲娱乐",
          "住房",
          "保险",
          "学习",
          "日用品",
          "洛洛爸",
          "通讯网费",
          "餐饮买菜",
          "交通",
          "休闲娱乐",
          "住房",
          "保险",
          "其他支出",
          "学习",
          "护肤彩妆",
          "数码",
          "日用品",
          "洛洛爸",
          "衣服鞋帽",
          "通讯网费",
          "零食饮料",
          "餐饮买菜",
          "交通",
          "休闲娱乐",
          "住房",
          "保险",
          "其他支出",
          "学习",
          "宠物",
          "护肤彩妆",
          "日用品",
          "洛洛爸",
          "衣服鞋帽",
          "通讯网费",
          "零食饮料",
          "餐饮买菜",
          "交通",
          "住房",
          "医疗",
          "学习",
          "家居",
          "护肤彩妆",
          "数码",
          "日用品",
          "洛洛爸",
          "衣服鞋帽",
          "通讯网费",
          "零食饮料",
          "餐饮买菜",
          "交通",
          "住房",
          "其他支出",
          "医疗",
          "学习",
          "护肤彩妆",
          "数码",
          "日用品",
          "洛洛爸",
          "衣服鞋帽",
          "通讯网费",
          "零食饮料",
          "餐饮买菜",
          "交通",
          "休闲娱乐",
          "住房",
          "学习",
          "数码",
          "日用品",
          "洛洛爸",
          "通讯网费",
          "零食饮料",
          "餐饮买菜",
          "交通",
          "休闲娱乐",
          "住房",
          "护肤彩妆",
          "洛洛爸",
          "衣服鞋帽",
          "通讯网费",
          "零食饮料",
          "餐饮买菜",
          "交通",
          "住房",
          "医疗",
          "学习",
          "护肤彩妆",
          "日用品",
          "洛洛爸",
          "衣服鞋帽",
          "通讯网费",
          "零食饮料",
          "餐饮买菜",
          "交通",
          "休闲娱乐",
          "住房",
          "学习",
          "护肤彩妆",
          "日用品",
          "洛洛爸",
          "衣服鞋帽",
          "通讯网费",
          "零食饮料",
          "餐饮买菜",
          "交通",
          "休闲娱乐",
          "住房",
          "学习",
          "护肤彩妆",
          "数码",
          "日用品",
          "洛洛爸",
          "衣服鞋帽",
          "通讯网费",
          "零食饮料",
          "餐饮买菜",
          "交通",
          "休闲娱乐",
          "住房",
          "保险",
          "学习",
          "数码",
          "日用品",
          "洛洛爸",
          "衣服鞋帽",
          "通讯网费",
          "零食饮料",
          "餐饮买菜"
         ],
         "legendgroup": "",
         "name": "",
         "showlegend": true,
         "textinfo": "percent+label+value",
         "textposition": "inside",
         "type": "pie",
         "values": [
          4442.75,
          148.89,
          4639.04,
          24.3,
          39.4,
          140,
          131,
          295.78,
          1383,
          2146,
          101.8,
          2899.4700000000003,
          1007,
          135,
          1748.5700000000002,
          2205,
          84.6,
          88.5,
          1400,
          99.5,
          1517.9900000000002,
          1054,
          290.8,
          1027.85,
          3528,
          228,
          178.9,
          410.48,
          2787.9,
          535.1999999999999,
          2104,
          1344,
          199,
          289.61,
          2356.7900000000004,
          732.49,
          267.64,
          1050.5,
          2972,
          39.620000000000005,
          405,
          119,
          544.8299999999999,
          158.6,
          1988,
          35,
          159.2,
          393.28,
          1699.8000000000006,
          1512.2700000000002,
          1781.73,
          312.12,
          73.42,
          840,
          184.7,
          255.85999999999999,
          75.71,
          1900,
          1608.86,
          219.15,
          59.599999999999994,
          3168.08,
          569.4300000000001,
          1066.3,
          27,
          92,
          63,
          881.42,
          411.1,
          1006.23,
          1900,
          2694.41,
          149.25,
          26.1,
          2618.0900000000006,
          5519.96,
          164,
          1078.6,
          38.03,
          49.86,
          234.28,
          1900,
          170,
          618.02,
          3029.3499999999995,
          1208.76,
          196,
          1815.1200000000001,
          686.29,
          1900,
          370.44,
          256.65999999999997,
          204.13000000000002,
          1727.9900000000005,
          760.98,
          1208.7,
          240,
          26.8,
          376.01,
          587.12,
          1900,
          1182.9,
          118.94,
          42.09,
          2549.2799999999997,
          1012.6199999999999,
          179,
          1105.4,
          100.7,
          164.5,
          12.9,
          1900,
          347.78999999999996,
          158.31,
          116.57000000000001,
          1996.5899999999997,
          2151.5,
          95.9,
          1732.22,
          1580,
          326.44,
          3415.8,
          938.23,
          2300,
          3912.13,
          139,
          128.42000000000002,
          2785.9900000000002,
          1957.49,
          550.5,
          1388.5,
          20.66,
          1732.49,
          31,
          856.44,
          1900,
          2398.38,
          297.25,
          354.42999999999995,
          2600.37
         ]
        }
       ],
       "layout": {
        "legend": {
         "tracegroupgap": 0
        },
        "template": {
         "data": {
          "bar": [
           {
            "error_x": {
             "color": "#2a3f5f"
            },
            "error_y": {
             "color": "#2a3f5f"
            },
            "marker": {
             "line": {
              "color": "#E5ECF6",
              "width": 0.5
             }
            },
            "type": "bar"
           }
          ],
          "barpolar": [
           {
            "marker": {
             "line": {
              "color": "#E5ECF6",
              "width": 0.5
             }
            },
            "type": "barpolar"
           }
          ],
          "carpet": [
           {
            "aaxis": {
             "endlinecolor": "#2a3f5f",
             "gridcolor": "white",
             "linecolor": "white",
             "minorgridcolor": "white",
             "startlinecolor": "#2a3f5f"
            },
            "baxis": {
             "endlinecolor": "#2a3f5f",
             "gridcolor": "white",
             "linecolor": "white",
             "minorgridcolor": "white",
             "startlinecolor": "#2a3f5f"
            },
            "type": "carpet"
           }
          ],
          "choropleth": [
           {
            "colorbar": {
             "outlinewidth": 0,
             "ticks": ""
            },
            "type": "choropleth"
           }
          ],
          "contour": [
           {
            "colorbar": {
             "outlinewidth": 0,
             "ticks": ""
            },
            "colorscale": [
             [
              0,
              "#0d0887"
             ],
             [
              0.1111111111111111,
              "#46039f"
             ],
             [
              0.2222222222222222,
              "#7201a8"
             ],
             [
              0.3333333333333333,
              "#9c179e"
             ],
             [
              0.4444444444444444,
              "#bd3786"
             ],
             [
              0.5555555555555556,
              "#d8576b"
             ],
             [
              0.6666666666666666,
              "#ed7953"
             ],
             [
              0.7777777777777778,
              "#fb9f3a"
             ],
             [
              0.8888888888888888,
              "#fdca26"
             ],
             [
              1,
              "#f0f921"
             ]
            ],
            "type": "contour"
           }
          ],
          "contourcarpet": [
           {
            "colorbar": {
             "outlinewidth": 0,
             "ticks": ""
            },
            "type": "contourcarpet"
           }
          ],
          "heatmap": [
           {
            "colorbar": {
             "outlinewidth": 0,
             "ticks": ""
            },
            "colorscale": [
             [
              0,
              "#0d0887"
             ],
             [
              0.1111111111111111,
              "#46039f"
             ],
             [
              0.2222222222222222,
              "#7201a8"
             ],
             [
              0.3333333333333333,
              "#9c179e"
             ],
             [
              0.4444444444444444,
              "#bd3786"
             ],
             [
              0.5555555555555556,
              "#d8576b"
             ],
             [
              0.6666666666666666,
              "#ed7953"
             ],
             [
              0.7777777777777778,
              "#fb9f3a"
             ],
             [
              0.8888888888888888,
              "#fdca26"
             ],
             [
              1,
              "#f0f921"
             ]
            ],
            "type": "heatmap"
           }
          ],
          "heatmapgl": [
           {
            "colorbar": {
             "outlinewidth": 0,
             "ticks": ""
            },
            "colorscale": [
             [
              0,
              "#0d0887"
             ],
             [
              0.1111111111111111,
              "#46039f"
             ],
             [
              0.2222222222222222,
              "#7201a8"
             ],
             [
              0.3333333333333333,
              "#9c179e"
             ],
             [
              0.4444444444444444,
              "#bd3786"
             ],
             [
              0.5555555555555556,
              "#d8576b"
             ],
             [
              0.6666666666666666,
              "#ed7953"
             ],
             [
              0.7777777777777778,
              "#fb9f3a"
             ],
             [
              0.8888888888888888,
              "#fdca26"
             ],
             [
              1,
              "#f0f921"
             ]
            ],
            "type": "heatmapgl"
           }
          ],
          "histogram": [
           {
            "marker": {
             "colorbar": {
              "outlinewidth": 0,
              "ticks": ""
             }
            },
            "type": "histogram"
           }
          ],
          "histogram2d": [
           {
            "colorbar": {
             "outlinewidth": 0,
             "ticks": ""
            },
            "colorscale": [
             [
              0,
              "#0d0887"
             ],
             [
              0.1111111111111111,
              "#46039f"
             ],
             [
              0.2222222222222222,
              "#7201a8"
             ],
             [
              0.3333333333333333,
              "#9c179e"
             ],
             [
              0.4444444444444444,
              "#bd3786"
             ],
             [
              0.5555555555555556,
              "#d8576b"
             ],
             [
              0.6666666666666666,
              "#ed7953"
             ],
             [
              0.7777777777777778,
              "#fb9f3a"
             ],
             [
              0.8888888888888888,
              "#fdca26"
             ],
             [
              1,
              "#f0f921"
             ]
            ],
            "type": "histogram2d"
           }
          ],
          "histogram2dcontour": [
           {
            "colorbar": {
             "outlinewidth": 0,
             "ticks": ""
            },
            "colorscale": [
             [
              0,
              "#0d0887"
             ],
             [
              0.1111111111111111,
              "#46039f"
             ],
             [
              0.2222222222222222,
              "#7201a8"
             ],
             [
              0.3333333333333333,
              "#9c179e"
             ],
             [
              0.4444444444444444,
              "#bd3786"
             ],
             [
              0.5555555555555556,
              "#d8576b"
             ],
             [
              0.6666666666666666,
              "#ed7953"
             ],
             [
              0.7777777777777778,
              "#fb9f3a"
             ],
             [
              0.8888888888888888,
              "#fdca26"
             ],
             [
              1,
              "#f0f921"
             ]
            ],
            "type": "histogram2dcontour"
           }
          ],
          "mesh3d": [
           {
            "colorbar": {
             "outlinewidth": 0,
             "ticks": ""
            },
            "type": "mesh3d"
           }
          ],
          "parcoords": [
           {
            "line": {
             "colorbar": {
              "outlinewidth": 0,
              "ticks": ""
             }
            },
            "type": "parcoords"
           }
          ],
          "pie": [
           {
            "automargin": true,
            "type": "pie"
           }
          ],
          "scatter": [
           {
            "marker": {
             "colorbar": {
              "outlinewidth": 0,
              "ticks": ""
             }
            },
            "type": "scatter"
           }
          ],
          "scatter3d": [
           {
            "line": {
             "colorbar": {
              "outlinewidth": 0,
              "ticks": ""
             }
            },
            "marker": {
             "colorbar": {
              "outlinewidth": 0,
              "ticks": ""
             }
            },
            "type": "scatter3d"
           }
          ],
          "scattercarpet": [
           {
            "marker": {
             "colorbar": {
              "outlinewidth": 0,
              "ticks": ""
             }
            },
            "type": "scattercarpet"
           }
          ],
          "scattergeo": [
           {
            "marker": {
             "colorbar": {
              "outlinewidth": 0,
              "ticks": ""
             }
            },
            "type": "scattergeo"
           }
          ],
          "scattergl": [
           {
            "marker": {
             "colorbar": {
              "outlinewidth": 0,
              "ticks": ""
             }
            },
            "type": "scattergl"
           }
          ],
          "scattermapbox": [
           {
            "marker": {
             "colorbar": {
              "outlinewidth": 0,
              "ticks": ""
             }
            },
            "type": "scattermapbox"
           }
          ],
          "scatterpolar": [
           {
            "marker": {
             "colorbar": {
              "outlinewidth": 0,
              "ticks": ""
             }
            },
            "type": "scatterpolar"
           }
          ],
          "scatterpolargl": [
           {
            "marker": {
             "colorbar": {
              "outlinewidth": 0,
              "ticks": ""
             }
            },
            "type": "scatterpolargl"
           }
          ],
          "scatterternary": [
           {
            "marker": {
             "colorbar": {
              "outlinewidth": 0,
              "ticks": ""
             }
            },
            "type": "scatterternary"
           }
          ],
          "surface": [
           {
            "colorbar": {
             "outlinewidth": 0,
             "ticks": ""
            },
            "colorscale": [
             [
              0,
              "#0d0887"
             ],
             [
              0.1111111111111111,
              "#46039f"
             ],
             [
              0.2222222222222222,
              "#7201a8"
             ],
             [
              0.3333333333333333,
              "#9c179e"
             ],
             [
              0.4444444444444444,
              "#bd3786"
             ],
             [
              0.5555555555555556,
              "#d8576b"
             ],
             [
              0.6666666666666666,
              "#ed7953"
             ],
             [
              0.7777777777777778,
              "#fb9f3a"
             ],
             [
              0.8888888888888888,
              "#fdca26"
             ],
             [
              1,
              "#f0f921"
             ]
            ],
            "type": "surface"
           }
          ],
          "table": [
           {
            "cells": {
             "fill": {
              "color": "#EBF0F8"
             },
             "line": {
              "color": "white"
             }
            },
            "header": {
             "fill": {
              "color": "#C8D4E3"
             },
             "line": {
              "color": "white"
             }
            },
            "type": "table"
           }
          ]
         },
         "layout": {
          "annotationdefaults": {
           "arrowcolor": "#2a3f5f",
           "arrowhead": 0,
           "arrowwidth": 1
          },
          "coloraxis": {
           "colorbar": {
            "outlinewidth": 0,
            "ticks": ""
           }
          },
          "colorscale": {
           "diverging": [
            [
             0,
             "#8e0152"
            ],
            [
             0.1,
             "#c51b7d"
            ],
            [
             0.2,
             "#de77ae"
            ],
            [
             0.3,
             "#f1b6da"
            ],
            [
             0.4,
             "#fde0ef"
            ],
            [
             0.5,
             "#f7f7f7"
            ],
            [
             0.6,
             "#e6f5d0"
            ],
            [
             0.7,
             "#b8e186"
            ],
            [
             0.8,
             "#7fbc41"
            ],
            [
             0.9,
             "#4d9221"
            ],
            [
             1,
             "#276419"
            ]
           ],
           "sequential": [
            [
             0,
             "#0d0887"
            ],
            [
             0.1111111111111111,
             "#46039f"
            ],
            [
             0.2222222222222222,
             "#7201a8"
            ],
            [
             0.3333333333333333,
             "#9c179e"
            ],
            [
             0.4444444444444444,
             "#bd3786"
            ],
            [
             0.5555555555555556,
             "#d8576b"
            ],
            [
             0.6666666666666666,
             "#ed7953"
            ],
            [
             0.7777777777777778,
             "#fb9f3a"
            ],
            [
             0.8888888888888888,
             "#fdca26"
            ],
            [
             1,
             "#f0f921"
            ]
           ],
           "sequentialminus": [
            [
             0,
             "#0d0887"
            ],
            [
             0.1111111111111111,
             "#46039f"
            ],
            [
             0.2222222222222222,
             "#7201a8"
            ],
            [
             0.3333333333333333,
             "#9c179e"
            ],
            [
             0.4444444444444444,
             "#bd3786"
            ],
            [
             0.5555555555555556,
             "#d8576b"
            ],
            [
             0.6666666666666666,
             "#ed7953"
            ],
            [
             0.7777777777777778,
             "#fb9f3a"
            ],
            [
             0.8888888888888888,
             "#fdca26"
            ],
            [
             1,
             "#f0f921"
            ]
           ]
          },
          "colorway": [
           "#636efa",
           "#EF553B",
           "#00cc96",
           "#ab63fa",
           "#FFA15A",
           "#19d3f3",
           "#FF6692",
           "#B6E880",
           "#FF97FF",
           "#FECB52"
          ],
          "font": {
           "color": "#2a3f5f"
          },
          "geo": {
           "bgcolor": "white",
           "lakecolor": "white",
           "landcolor": "#E5ECF6",
           "showlakes": true,
           "showland": true,
           "subunitcolor": "white"
          },
          "hoverlabel": {
           "align": "left"
          },
          "hovermode": "closest",
          "mapbox": {
           "style": "light"
          },
          "paper_bgcolor": "white",
          "plot_bgcolor": "#E5ECF6",
          "polar": {
           "angularaxis": {
            "gridcolor": "white",
            "linecolor": "white",
            "ticks": ""
           },
           "bgcolor": "#E5ECF6",
           "radialaxis": {
            "gridcolor": "white",
            "linecolor": "white",
            "ticks": ""
           }
          },
          "scene": {
           "xaxis": {
            "backgroundcolor": "#E5ECF6",
            "gridcolor": "white",
            "gridwidth": 2,
            "linecolor": "white",
            "showbackground": true,
            "ticks": "",
            "zerolinecolor": "white"
           },
           "yaxis": {
            "backgroundcolor": "#E5ECF6",
            "gridcolor": "white",
            "gridwidth": 2,
            "linecolor": "white",
            "showbackground": true,
            "ticks": "",
            "zerolinecolor": "white"
           },
           "zaxis": {
            "backgroundcolor": "#E5ECF6",
            "gridcolor": "white",
            "gridwidth": 2,
            "linecolor": "white",
            "showbackground": true,
            "ticks": "",
            "zerolinecolor": "white"
           }
          },
          "shapedefaults": {
           "line": {
            "color": "#2a3f5f"
           }
          },
          "ternary": {
           "aaxis": {
            "gridcolor": "white",
            "linecolor": "white",
            "ticks": ""
           },
           "baxis": {
            "gridcolor": "white",
            "linecolor": "white",
            "ticks": ""
           },
           "bgcolor": "#E5ECF6",
           "caxis": {
            "gridcolor": "white",
            "linecolor": "white",
            "ticks": ""
           }
          },
          "title": {
           "x": 0.05
          },
          "xaxis": {
           "automargin": true,
           "gridcolor": "white",
           "linecolor": "white",
           "ticks": "",
           "title": {
            "standoff": 15
           },
           "zerolinecolor": "white",
           "zerolinewidth": 2
          },
          "yaxis": {
           "automargin": true,
           "gridcolor": "white",
           "linecolor": "white",
           "ticks": "",
           "title": {
            "standoff": 15
           },
           "zerolinecolor": "white",
           "zerolinewidth": 2
          }
         }
        },
        "title": {
         "text": "2019年日常生活各类别占比"
        }
       }
      },
      "text/html": [
       "<div>\n",
       "        \n",
       "        \n",
       "            <div id=\"0f8068d6-4a5b-4e45-9847-55d3c3065549\" class=\"plotly-graph-div\" style=\"height:525px; width:100%;\"></div>\n",
       "            <script type=\"text/javascript\">\n",
       "                require([\"plotly\"], function(Plotly) {\n",
       "                    window.PLOTLYENV=window.PLOTLYENV || {};\n",
       "                    \n",
       "                if (document.getElementById(\"0f8068d6-4a5b-4e45-9847-55d3c3065549\")) {\n",
       "                    Plotly.newPlot(\n",
       "                        '0f8068d6-4a5b-4e45-9847-55d3c3065549',\n",
       "                        [{\"domain\": {\"x\": [0.0, 1.0], \"y\": [0.0, 1.0]}, \"hoverlabel\": {\"namelength\": 0}, \"hovertemplate\": \"type=%{label}<br>amount=%{value}\", \"labels\": [\"\\u4ea4\\u901a\", \"\\u4f11\\u95f2\\u5a31\\u4e50\", \"\\u4f4f\\u623f\", \"\\u533b\\u7597\", \"\\u5b66\\u4e60\", \"\\u5bb6\\u5c45\", \"\\u62a4\\u80a4\\u5f69\\u5986\", \"\\u65e5\\u7528\\u54c1\", \"\\u6d1b\\u6d1b\\u7238\", \"\\u8863\\u670d\\u978b\\u5e3d\", \"\\u96f6\\u98df\\u996e\\u6599\", \"\\u9910\\u996e\\u4e70\\u83dc\", \"\\u4ea4\\u901a\", \"\\u4f11\\u95f2\\u5a31\\u4e50\", \"\\u4f4f\\u623f\", \"\\u4fdd\\u9669\", \"\\u5b66\\u4e60\", \"\\u65e5\\u7528\\u54c1\", \"\\u6d1b\\u6d1b\\u7238\", \"\\u901a\\u8baf\\u7f51\\u8d39\", \"\\u9910\\u996e\\u4e70\\u83dc\", \"\\u4ea4\\u901a\", \"\\u4f11\\u95f2\\u5a31\\u4e50\", \"\\u4f4f\\u623f\", \"\\u4fdd\\u9669\", \"\\u5176\\u4ed6\\u652f\\u51fa\", \"\\u5b66\\u4e60\", \"\\u62a4\\u80a4\\u5f69\\u5986\", \"\\u6570\\u7801\", \"\\u65e5\\u7528\\u54c1\", \"\\u6d1b\\u6d1b\\u7238\", \"\\u8863\\u670d\\u978b\\u5e3d\", \"\\u901a\\u8baf\\u7f51\\u8d39\", \"\\u96f6\\u98df\\u996e\\u6599\", \"\\u9910\\u996e\\u4e70\\u83dc\", \"\\u4ea4\\u901a\", \"\\u4f11\\u95f2\\u5a31\\u4e50\", \"\\u4f4f\\u623f\", \"\\u4fdd\\u9669\", \"\\u5176\\u4ed6\\u652f\\u51fa\", \"\\u5b66\\u4e60\", \"\\u5ba0\\u7269\", \"\\u62a4\\u80a4\\u5f69\\u5986\", \"\\u65e5\\u7528\\u54c1\", \"\\u6d1b\\u6d1b\\u7238\", \"\\u8863\\u670d\\u978b\\u5e3d\", \"\\u901a\\u8baf\\u7f51\\u8d39\", \"\\u96f6\\u98df\\u996e\\u6599\", \"\\u9910\\u996e\\u4e70\\u83dc\", \"\\u4ea4\\u901a\", \"\\u4f4f\\u623f\", \"\\u533b\\u7597\", \"\\u5b66\\u4e60\", \"\\u5bb6\\u5c45\", \"\\u62a4\\u80a4\\u5f69\\u5986\", \"\\u6570\\u7801\", \"\\u65e5\\u7528\\u54c1\", \"\\u6d1b\\u6d1b\\u7238\", \"\\u8863\\u670d\\u978b\\u5e3d\", \"\\u901a\\u8baf\\u7f51\\u8d39\", \"\\u96f6\\u98df\\u996e\\u6599\", \"\\u9910\\u996e\\u4e70\\u83dc\", \"\\u4ea4\\u901a\", \"\\u4f4f\\u623f\", \"\\u5176\\u4ed6\\u652f\\u51fa\", \"\\u533b\\u7597\", \"\\u5b66\\u4e60\", \"\\u62a4\\u80a4\\u5f69\\u5986\", \"\\u6570\\u7801\", \"\\u65e5\\u7528\\u54c1\", \"\\u6d1b\\u6d1b\\u7238\", \"\\u8863\\u670d\\u978b\\u5e3d\", \"\\u901a\\u8baf\\u7f51\\u8d39\", \"\\u96f6\\u98df\\u996e\\u6599\", \"\\u9910\\u996e\\u4e70\\u83dc\", \"\\u4ea4\\u901a\", \"\\u4f11\\u95f2\\u5a31\\u4e50\", \"\\u4f4f\\u623f\", \"\\u5b66\\u4e60\", \"\\u6570\\u7801\", \"\\u65e5\\u7528\\u54c1\", \"\\u6d1b\\u6d1b\\u7238\", \"\\u901a\\u8baf\\u7f51\\u8d39\", \"\\u96f6\\u98df\\u996e\\u6599\", \"\\u9910\\u996e\\u4e70\\u83dc\", \"\\u4ea4\\u901a\", \"\\u4f11\\u95f2\\u5a31\\u4e50\", \"\\u4f4f\\u623f\", \"\\u62a4\\u80a4\\u5f69\\u5986\", \"\\u6d1b\\u6d1b\\u7238\", \"\\u8863\\u670d\\u978b\\u5e3d\", \"\\u901a\\u8baf\\u7f51\\u8d39\", \"\\u96f6\\u98df\\u996e\\u6599\", \"\\u9910\\u996e\\u4e70\\u83dc\", \"\\u4ea4\\u901a\", \"\\u4f4f\\u623f\", \"\\u533b\\u7597\", \"\\u5b66\\u4e60\", \"\\u62a4\\u80a4\\u5f69\\u5986\", \"\\u65e5\\u7528\\u54c1\", \"\\u6d1b\\u6d1b\\u7238\", \"\\u8863\\u670d\\u978b\\u5e3d\", \"\\u901a\\u8baf\\u7f51\\u8d39\", \"\\u96f6\\u98df\\u996e\\u6599\", \"\\u9910\\u996e\\u4e70\\u83dc\", \"\\u4ea4\\u901a\", \"\\u4f11\\u95f2\\u5a31\\u4e50\", \"\\u4f4f\\u623f\", \"\\u5b66\\u4e60\", \"\\u62a4\\u80a4\\u5f69\\u5986\", \"\\u65e5\\u7528\\u54c1\", \"\\u6d1b\\u6d1b\\u7238\", \"\\u8863\\u670d\\u978b\\u5e3d\", \"\\u901a\\u8baf\\u7f51\\u8d39\", \"\\u96f6\\u98df\\u996e\\u6599\", \"\\u9910\\u996e\\u4e70\\u83dc\", \"\\u4ea4\\u901a\", \"\\u4f11\\u95f2\\u5a31\\u4e50\", \"\\u4f4f\\u623f\", \"\\u5b66\\u4e60\", \"\\u62a4\\u80a4\\u5f69\\u5986\", \"\\u6570\\u7801\", \"\\u65e5\\u7528\\u54c1\", \"\\u6d1b\\u6d1b\\u7238\", \"\\u8863\\u670d\\u978b\\u5e3d\", \"\\u901a\\u8baf\\u7f51\\u8d39\", \"\\u96f6\\u98df\\u996e\\u6599\", \"\\u9910\\u996e\\u4e70\\u83dc\", \"\\u4ea4\\u901a\", \"\\u4f11\\u95f2\\u5a31\\u4e50\", \"\\u4f4f\\u623f\", \"\\u4fdd\\u9669\", \"\\u5b66\\u4e60\", \"\\u6570\\u7801\", \"\\u65e5\\u7528\\u54c1\", \"\\u6d1b\\u6d1b\\u7238\", \"\\u8863\\u670d\\u978b\\u5e3d\", \"\\u901a\\u8baf\\u7f51\\u8d39\", \"\\u96f6\\u98df\\u996e\\u6599\", \"\\u9910\\u996e\\u4e70\\u83dc\"], \"legendgroup\": \"\", \"name\": \"\", \"showlegend\": true, \"textinfo\": \"percent+label+value\", \"textposition\": \"inside\", \"type\": \"pie\", \"values\": [4442.75, 148.89, 4639.04, 24.3, 39.4, 140.0, 131.0, 295.78, 1383.0, 2146.0, 101.8, 2899.4700000000003, 1007.0, 135.0, 1748.5700000000002, 2205.0, 84.6, 88.5, 1400.0, 99.5, 1517.9900000000002, 1054.0, 290.8, 1027.85, 3528.0, 228.0, 178.9, 410.48, 2787.9, 535.1999999999999, 2104.0, 1344.0, 199.0, 289.61, 2356.7900000000004, 732.49, 267.64, 1050.5, 2972.0, 39.620000000000005, 405.0, 119.0, 544.8299999999999, 158.6, 1988.0, 35.0, 159.2, 393.28, 1699.8000000000006, 1512.2700000000002, 1781.73, 312.12, 73.42, 840.0, 184.7, 255.85999999999999, 75.71, 1900.0, 1608.86, 219.15, 59.599999999999994, 3168.08, 569.4300000000001, 1066.3, 27.0, 92.0, 63.0, 881.42, 411.1, 1006.23, 1900.0, 2694.41, 149.25, 26.1, 2618.0900000000006, 5519.96, 164.0, 1078.6, 38.03, 49.86, 234.28, 1900.0, 170.0, 618.02, 3029.3499999999995, 1208.76, 196.0, 1815.1200000000001, 686.29, 1900.0, 370.44, 256.65999999999997, 204.13000000000002, 1727.9900000000005, 760.98, 1208.7, 240.0, 26.8, 376.01, 587.12, 1900.0, 1182.9, 118.94, 42.09, 2549.2799999999997, 1012.6199999999999, 179.0, 1105.4, 100.7, 164.5, 12.9, 1900.0, 347.78999999999996, 158.31, 116.57000000000001, 1996.5899999999997, 2151.5, 95.9, 1732.22, 1580.0, 326.44, 3415.8, 938.23, 2300.0, 3912.13, 139.0, 128.42000000000002, 2785.9900000000002, 1957.49, 550.5, 1388.5, 20.66, 1732.49, 31.0, 856.44, 1900.0, 2398.38, 297.25, 354.42999999999995, 2600.37]}],\n",
       "                        {\"legend\": {\"tracegroupgap\": 0}, \"template\": {\"data\": {\"bar\": [{\"error_x\": {\"color\": \"#2a3f5f\"}, \"error_y\": {\"color\": \"#2a3f5f\"}, \"marker\": {\"line\": {\"color\": \"#E5ECF6\", \"width\": 0.5}}, \"type\": \"bar\"}], \"barpolar\": [{\"marker\": {\"line\": {\"color\": \"#E5ECF6\", \"width\": 0.5}}, \"type\": \"barpolar\"}], \"carpet\": [{\"aaxis\": {\"endlinecolor\": \"#2a3f5f\", \"gridcolor\": \"white\", \"linecolor\": \"white\", \"minorgridcolor\": \"white\", \"startlinecolor\": \"#2a3f5f\"}, \"baxis\": {\"endlinecolor\": \"#2a3f5f\", \"gridcolor\": \"white\", \"linecolor\": \"white\", \"minorgridcolor\": \"white\", \"startlinecolor\": \"#2a3f5f\"}, \"type\": \"carpet\"}], \"choropleth\": [{\"colorbar\": {\"outlinewidth\": 0, \"ticks\": \"\"}, \"type\": \"choropleth\"}], \"contour\": [{\"colorbar\": {\"outlinewidth\": 0, \"ticks\": \"\"}, \"colorscale\": [[0.0, \"#0d0887\"], [0.1111111111111111, \"#46039f\"], [0.2222222222222222, \"#7201a8\"], [0.3333333333333333, \"#9c179e\"], [0.4444444444444444, \"#bd3786\"], [0.5555555555555556, \"#d8576b\"], [0.6666666666666666, \"#ed7953\"], [0.7777777777777778, \"#fb9f3a\"], [0.8888888888888888, \"#fdca26\"], [1.0, \"#f0f921\"]], \"type\": \"contour\"}], \"contourcarpet\": [{\"colorbar\": {\"outlinewidth\": 0, \"ticks\": \"\"}, \"type\": \"contourcarpet\"}], \"heatmap\": [{\"colorbar\": {\"outlinewidth\": 0, \"ticks\": \"\"}, \"colorscale\": [[0.0, \"#0d0887\"], [0.1111111111111111, \"#46039f\"], [0.2222222222222222, \"#7201a8\"], [0.3333333333333333, \"#9c179e\"], [0.4444444444444444, \"#bd3786\"], [0.5555555555555556, \"#d8576b\"], [0.6666666666666666, \"#ed7953\"], [0.7777777777777778, \"#fb9f3a\"], [0.8888888888888888, \"#fdca26\"], [1.0, \"#f0f921\"]], \"type\": \"heatmap\"}], \"heatmapgl\": [{\"colorbar\": {\"outlinewidth\": 0, \"ticks\": \"\"}, \"colorscale\": [[0.0, \"#0d0887\"], [0.1111111111111111, \"#46039f\"], [0.2222222222222222, \"#7201a8\"], [0.3333333333333333, \"#9c179e\"], [0.4444444444444444, \"#bd3786\"], [0.5555555555555556, \"#d8576b\"], [0.6666666666666666, \"#ed7953\"], [0.7777777777777778, \"#fb9f3a\"], [0.8888888888888888, \"#fdca26\"], [1.0, \"#f0f921\"]], \"type\": \"heatmapgl\"}], \"histogram\": [{\"marker\": {\"colorbar\": {\"outlinewidth\": 0, \"ticks\": \"\"}}, \"type\": \"histogram\"}], \"histogram2d\": [{\"colorbar\": {\"outlinewidth\": 0, \"ticks\": \"\"}, \"colorscale\": [[0.0, \"#0d0887\"], [0.1111111111111111, \"#46039f\"], [0.2222222222222222, \"#7201a8\"], [0.3333333333333333, \"#9c179e\"], [0.4444444444444444, \"#bd3786\"], [0.5555555555555556, \"#d8576b\"], [0.6666666666666666, \"#ed7953\"], [0.7777777777777778, \"#fb9f3a\"], [0.8888888888888888, \"#fdca26\"], [1.0, \"#f0f921\"]], \"type\": \"histogram2d\"}], \"histogram2dcontour\": [{\"colorbar\": {\"outlinewidth\": 0, \"ticks\": \"\"}, \"colorscale\": [[0.0, \"#0d0887\"], [0.1111111111111111, \"#46039f\"], [0.2222222222222222, \"#7201a8\"], [0.3333333333333333, \"#9c179e\"], [0.4444444444444444, \"#bd3786\"], [0.5555555555555556, \"#d8576b\"], [0.6666666666666666, \"#ed7953\"], [0.7777777777777778, \"#fb9f3a\"], [0.8888888888888888, \"#fdca26\"], [1.0, \"#f0f921\"]], \"type\": \"histogram2dcontour\"}], \"mesh3d\": [{\"colorbar\": {\"outlinewidth\": 0, \"ticks\": \"\"}, \"type\": \"mesh3d\"}], \"parcoords\": [{\"line\": {\"colorbar\": {\"outlinewidth\": 0, \"ticks\": \"\"}}, \"type\": \"parcoords\"}], \"pie\": [{\"automargin\": true, \"type\": \"pie\"}], \"scatter\": [{\"marker\": {\"colorbar\": {\"outlinewidth\": 0, \"ticks\": \"\"}}, \"type\": \"scatter\"}], \"scatter3d\": [{\"line\": {\"colorbar\": {\"outlinewidth\": 0, \"ticks\": \"\"}}, \"marker\": {\"colorbar\": {\"outlinewidth\": 0, \"ticks\": \"\"}}, \"type\": \"scatter3d\"}], \"scattercarpet\": [{\"marker\": {\"colorbar\": {\"outlinewidth\": 0, \"ticks\": \"\"}}, \"type\": \"scattercarpet\"}], \"scattergeo\": [{\"marker\": {\"colorbar\": {\"outlinewidth\": 0, \"ticks\": \"\"}}, \"type\": \"scattergeo\"}], \"scattergl\": [{\"marker\": {\"colorbar\": {\"outlinewidth\": 0, \"ticks\": \"\"}}, \"type\": \"scattergl\"}], \"scattermapbox\": [{\"marker\": {\"colorbar\": {\"outlinewidth\": 0, \"ticks\": \"\"}}, \"type\": \"scattermapbox\"}], \"scatterpolar\": [{\"marker\": {\"colorbar\": {\"outlinewidth\": 0, \"ticks\": \"\"}}, \"type\": \"scatterpolar\"}], \"scatterpolargl\": [{\"marker\": {\"colorbar\": {\"outlinewidth\": 0, \"ticks\": \"\"}}, \"type\": \"scatterpolargl\"}], \"scatterternary\": [{\"marker\": {\"colorbar\": {\"outlinewidth\": 0, \"ticks\": \"\"}}, \"type\": \"scatterternary\"}], \"surface\": [{\"colorbar\": {\"outlinewidth\": 0, \"ticks\": \"\"}, \"colorscale\": [[0.0, \"#0d0887\"], [0.1111111111111111, \"#46039f\"], [0.2222222222222222, \"#7201a8\"], [0.3333333333333333, \"#9c179e\"], [0.4444444444444444, \"#bd3786\"], [0.5555555555555556, \"#d8576b\"], [0.6666666666666666, \"#ed7953\"], [0.7777777777777778, \"#fb9f3a\"], [0.8888888888888888, \"#fdca26\"], [1.0, \"#f0f921\"]], \"type\": \"surface\"}], \"table\": [{\"cells\": {\"fill\": {\"color\": \"#EBF0F8\"}, \"line\": {\"color\": \"white\"}}, \"header\": {\"fill\": {\"color\": \"#C8D4E3\"}, \"line\": {\"color\": \"white\"}}, \"type\": \"table\"}]}, \"layout\": {\"annotationdefaults\": {\"arrowcolor\": \"#2a3f5f\", \"arrowhead\": 0, \"arrowwidth\": 1}, \"coloraxis\": {\"colorbar\": {\"outlinewidth\": 0, \"ticks\": \"\"}}, \"colorscale\": {\"diverging\": [[0, \"#8e0152\"], [0.1, \"#c51b7d\"], [0.2, \"#de77ae\"], [0.3, \"#f1b6da\"], [0.4, \"#fde0ef\"], [0.5, \"#f7f7f7\"], [0.6, \"#e6f5d0\"], [0.7, \"#b8e186\"], [0.8, \"#7fbc41\"], [0.9, \"#4d9221\"], [1, \"#276419\"]], \"sequential\": [[0.0, \"#0d0887\"], [0.1111111111111111, \"#46039f\"], [0.2222222222222222, \"#7201a8\"], [0.3333333333333333, \"#9c179e\"], [0.4444444444444444, \"#bd3786\"], [0.5555555555555556, \"#d8576b\"], [0.6666666666666666, \"#ed7953\"], [0.7777777777777778, \"#fb9f3a\"], [0.8888888888888888, \"#fdca26\"], [1.0, \"#f0f921\"]], \"sequentialminus\": [[0.0, \"#0d0887\"], [0.1111111111111111, \"#46039f\"], [0.2222222222222222, \"#7201a8\"], [0.3333333333333333, \"#9c179e\"], [0.4444444444444444, \"#bd3786\"], [0.5555555555555556, \"#d8576b\"], [0.6666666666666666, \"#ed7953\"], [0.7777777777777778, \"#fb9f3a\"], [0.8888888888888888, \"#fdca26\"], [1.0, \"#f0f921\"]]}, \"colorway\": [\"#636efa\", \"#EF553B\", \"#00cc96\", \"#ab63fa\", \"#FFA15A\", \"#19d3f3\", \"#FF6692\", \"#B6E880\", \"#FF97FF\", \"#FECB52\"], \"font\": {\"color\": \"#2a3f5f\"}, \"geo\": {\"bgcolor\": \"white\", \"lakecolor\": \"white\", \"landcolor\": \"#E5ECF6\", \"showlakes\": true, \"showland\": true, \"subunitcolor\": \"white\"}, \"hoverlabel\": {\"align\": \"left\"}, \"hovermode\": \"closest\", \"mapbox\": {\"style\": \"light\"}, \"paper_bgcolor\": \"white\", \"plot_bgcolor\": \"#E5ECF6\", \"polar\": {\"angularaxis\": {\"gridcolor\": \"white\", \"linecolor\": \"white\", \"ticks\": \"\"}, \"bgcolor\": \"#E5ECF6\", \"radialaxis\": {\"gridcolor\": \"white\", \"linecolor\": \"white\", \"ticks\": \"\"}}, \"scene\": {\"xaxis\": {\"backgroundcolor\": \"#E5ECF6\", \"gridcolor\": \"white\", \"gridwidth\": 2, \"linecolor\": \"white\", \"showbackground\": true, \"ticks\": \"\", \"zerolinecolor\": \"white\"}, \"yaxis\": {\"backgroundcolor\": \"#E5ECF6\", \"gridcolor\": \"white\", \"gridwidth\": 2, \"linecolor\": \"white\", \"showbackground\": true, \"ticks\": \"\", \"zerolinecolor\": \"white\"}, \"zaxis\": {\"backgroundcolor\": \"#E5ECF6\", \"gridcolor\": \"white\", \"gridwidth\": 2, \"linecolor\": \"white\", \"showbackground\": true, \"ticks\": \"\", \"zerolinecolor\": \"white\"}}, \"shapedefaults\": {\"line\": {\"color\": \"#2a3f5f\"}}, \"ternary\": {\"aaxis\": {\"gridcolor\": \"white\", \"linecolor\": \"white\", \"ticks\": \"\"}, \"baxis\": {\"gridcolor\": \"white\", \"linecolor\": \"white\", \"ticks\": \"\"}, \"bgcolor\": \"#E5ECF6\", \"caxis\": {\"gridcolor\": \"white\", \"linecolor\": \"white\", \"ticks\": \"\"}}, \"title\": {\"x\": 0.05}, \"xaxis\": {\"automargin\": true, \"gridcolor\": \"white\", \"linecolor\": \"white\", \"ticks\": \"\", \"title\": {\"standoff\": 15}, \"zerolinecolor\": \"white\", \"zerolinewidth\": 2}, \"yaxis\": {\"automargin\": true, \"gridcolor\": \"white\", \"linecolor\": \"white\", \"ticks\": \"\", \"title\": {\"standoff\": 15}, \"zerolinecolor\": \"white\", \"zerolinewidth\": 2}}}, \"title\": {\"text\": \"2019\\u5e74\\u65e5\\u5e38\\u751f\\u6d3b\\u5404\\u7c7b\\u522b\\u5360\\u6bd4\"}},\n",
       "                        {\"responsive\": true}\n",
       "                    ).then(function(){\n",
       "                            \n",
       "var gd = document.getElementById('0f8068d6-4a5b-4e45-9847-55d3c3065549');\n",
       "var x = new MutationObserver(function (mutations, observer) {{\n",
       "        var display = window.getComputedStyle(gd).display;\n",
       "        if (!display || display === 'none') {{\n",
       "            console.log([gd, 'removed!']);\n",
       "            Plotly.purge(gd);\n",
       "            observer.disconnect();\n",
       "        }}\n",
       "}});\n",
       "\n",
       "// Listen for the removal of the full notebook cells\n",
       "var notebookContainer = gd.closest('#notebook-container');\n",
       "if (notebookContainer) {{\n",
       "    x.observe(notebookContainer, {childList: true});\n",
       "}}\n",
       "\n",
       "// Listen for the clearing of the current output cell\n",
       "var outputEl = gd.closest('.output');\n",
       "if (outputEl) {{\n",
       "    x.observe(outputEl, {childList: true});\n",
       "}}\n",
       "\n",
       "                        })\n",
       "                };\n",
       "                });\n",
       "            </script>\n",
       "        </div>"
      ]
     },
     "metadata": {},
     "output_type": "display_data"
    }
   ],
   "source": [
    "fig=px.pie(disp1, names='type', values='amount',title='2019年日常生活各类别占比')\n",
    "fig.update_traces(textposition='inside', textinfo='percent+label+value')\n",
    "fig.show()"
   ]
  },
  {
   "cell_type": "code",
   "execution_count": 74,
   "metadata": {},
   "outputs": [
    {
     "data": {
      "application/vnd.plotly.v1+json": {
       "config": {
        "plotlyServerURL": "https://plot.ly"
       },
       "data": [
        {
         "alignmentgroup": "True",
         "hoverlabel": {
          "namelength": 0
         },
         "hovertemplate": "type=交通<br>月=%{x}<br>amount=%{y}",
         "legendgroup": "type=交通",
         "marker": {
          "color": "#636efa"
         },
         "name": "type=交通",
         "offsetgroup": "type=交通",
         "orientation": "v",
         "showlegend": true,
         "textposition": "auto",
         "type": "bar",
         "x": [
          1,
          2,
          3,
          4,
          5,
          6,
          7,
          8,
          9,
          10,
          11,
          12
         ],
         "xaxis": "x",
         "y": [
          4442.75,
          1007,
          1054,
          732.49,
          1512.2700000000002,
          569.4300000000001,
          5519.96,
          1208.76,
          760.98,
          1012.6199999999999,
          2151.5,
          1957.49
         ],
         "yaxis": "y"
        },
        {
         "alignmentgroup": "True",
         "hoverlabel": {
          "namelength": 0
         },
         "hovertemplate": "type=休闲娱乐<br>月=%{x}<br>amount=%{y}",
         "legendgroup": "type=休闲娱乐",
         "marker": {
          "color": "#EF553B"
         },
         "name": "type=休闲娱乐",
         "offsetgroup": "type=休闲娱乐",
         "orientation": "v",
         "showlegend": true,
         "textposition": "auto",
         "type": "bar",
         "x": [
          1,
          2,
          3,
          4,
          7,
          8,
          10,
          11,
          12
         ],
         "xaxis": "x",
         "y": [
          148.89,
          135,
          290.8,
          267.64,
          164,
          196,
          179,
          95.9,
          550.5
         ],
         "yaxis": "y"
        },
        {
         "alignmentgroup": "True",
         "hoverlabel": {
          "namelength": 0
         },
         "hovertemplate": "type=住房<br>月=%{x}<br>amount=%{y}",
         "legendgroup": "type=住房",
         "marker": {
          "color": "#00cc96"
         },
         "name": "type=住房",
         "offsetgroup": "type=住房",
         "orientation": "v",
         "showlegend": true,
         "textposition": "auto",
         "type": "bar",
         "x": [
          1,
          2,
          3,
          4,
          5,
          6,
          7,
          8,
          9,
          10,
          11,
          12
         ],
         "xaxis": "x",
         "y": [
          4639.04,
          1748.5700000000002,
          1027.85,
          1050.5,
          1781.73,
          1066.3,
          1078.6,
          1815.1200000000001,
          1208.7,
          1105.4,
          1732.22,
          1388.5
         ],
         "yaxis": "y"
        },
        {
         "alignmentgroup": "True",
         "hoverlabel": {
          "namelength": 0
         },
         "hovertemplate": "type=医疗<br>月=%{x}<br>amount=%{y}",
         "legendgroup": "type=医疗",
         "marker": {
          "color": "#ab63fa"
         },
         "name": "type=医疗",
         "offsetgroup": "type=医疗",
         "orientation": "v",
         "showlegend": true,
         "textposition": "auto",
         "type": "bar",
         "x": [
          1,
          5,
          6,
          9
         ],
         "xaxis": "x",
         "y": [
          24.3,
          312.12,
          92,
          240
         ],
         "yaxis": "y"
        },
        {
         "alignmentgroup": "True",
         "hoverlabel": {
          "namelength": 0
         },
         "hovertemplate": "type=学习<br>月=%{x}<br>amount=%{y}",
         "legendgroup": "type=学习",
         "marker": {
          "color": "#FFA15A"
         },
         "name": "type=学习",
         "offsetgroup": "type=学习",
         "orientation": "v",
         "showlegend": true,
         "textposition": "auto",
         "type": "bar",
         "x": [
          1,
          2,
          3,
          4,
          5,
          6,
          7,
          9,
          10,
          11,
          12
         ],
         "xaxis": "x",
         "y": [
          39.4,
          84.6,
          178.9,
          405,
          73.42,
          63,
          38.03,
          26.8,
          100.7,
          1580,
          1732.49
         ],
         "yaxis": "y"
        },
        {
         "alignmentgroup": "True",
         "hoverlabel": {
          "namelength": 0
         },
         "hovertemplate": "type=家居<br>月=%{x}<br>amount=%{y}",
         "legendgroup": "type=家居",
         "marker": {
          "color": "#19d3f3"
         },
         "name": "type=家居",
         "offsetgroup": "type=家居",
         "orientation": "v",
         "showlegend": true,
         "textposition": "auto",
         "type": "bar",
         "x": [
          1,
          5
         ],
         "xaxis": "x",
         "y": [
          140,
          840
         ],
         "yaxis": "y"
        },
        {
         "alignmentgroup": "True",
         "hoverlabel": {
          "namelength": 0
         },
         "hovertemplate": "type=护肤彩妆<br>月=%{x}<br>amount=%{y}",
         "legendgroup": "type=护肤彩妆",
         "marker": {
          "color": "#FF6692"
         },
         "name": "type=护肤彩妆",
         "offsetgroup": "type=护肤彩妆",
         "orientation": "v",
         "showlegend": true,
         "textposition": "auto",
         "type": "bar",
         "x": [
          1,
          3,
          4,
          5,
          6,
          8,
          9,
          10,
          11
         ],
         "xaxis": "x",
         "y": [
          131,
          410.48,
          544.8299999999999,
          184.7,
          881.42,
          686.29,
          376.01,
          164.5,
          326.44
         ],
         "yaxis": "y"
        },
        {
         "alignmentgroup": "True",
         "hoverlabel": {
          "namelength": 0
         },
         "hovertemplate": "type=日用品<br>月=%{x}<br>amount=%{y}",
         "legendgroup": "type=日用品",
         "marker": {
          "color": "#B6E880"
         },
         "name": "type=日用品",
         "offsetgroup": "type=日用品",
         "orientation": "v",
         "showlegend": true,
         "textposition": "auto",
         "type": "bar",
         "x": [
          1,
          2,
          3,
          4,
          5,
          6,
          7,
          9,
          10,
          11,
          12
         ],
         "xaxis": "x",
         "y": [
          295.78,
          88.5,
          535.1999999999999,
          158.6,
          75.71,
          1006.23,
          234.28,
          587.12,
          12.9,
          938.23,
          856.44
         ],
         "yaxis": "y"
        },
        {
         "alignmentgroup": "True",
         "hoverlabel": {
          "namelength": 0
         },
         "hovertemplate": "type=洛洛爸<br>月=%{x}<br>amount=%{y}",
         "legendgroup": "type=洛洛爸",
         "marker": {
          "color": "#FF97FF"
         },
         "name": "type=洛洛爸",
         "offsetgroup": "type=洛洛爸",
         "orientation": "v",
         "showlegend": true,
         "textposition": "auto",
         "type": "bar",
         "x": [
          1,
          2,
          3,
          4,
          5,
          6,
          7,
          8,
          9,
          10,
          11,
          12
         ],
         "xaxis": "x",
         "y": [
          1383,
          1400,
          2104,
          1988,
          1900,
          1900,
          1900,
          1900,
          1900,
          1900,
          2300,
          1900
         ],
         "yaxis": "y"
        },
        {
         "alignmentgroup": "True",
         "hoverlabel": {
          "namelength": 0
         },
         "hovertemplate": "type=衣服鞋帽<br>月=%{x}<br>amount=%{y}",
         "legendgroup": "type=衣服鞋帽",
         "marker": {
          "color": "#FECB52"
         },
         "name": "type=衣服鞋帽",
         "offsetgroup": "type=衣服鞋帽",
         "orientation": "v",
         "showlegend": true,
         "textposition": "auto",
         "type": "bar",
         "x": [
          1,
          3,
          4,
          5,
          6,
          8,
          9,
          10,
          11,
          12
         ],
         "xaxis": "x",
         "y": [
          2146,
          1344,
          35,
          1608.86,
          2694.41,
          370.44,
          1182.9,
          347.78999999999996,
          3912.13,
          2398.38
         ],
         "yaxis": "y"
        },
        {
         "alignmentgroup": "True",
         "hoverlabel": {
          "namelength": 0
         },
         "hovertemplate": "type=零食饮料<br>月=%{x}<br>amount=%{y}",
         "legendgroup": "type=零食饮料",
         "marker": {
          "color": "#636efa"
         },
         "name": "type=零食饮料",
         "offsetgroup": "type=零食饮料",
         "orientation": "v",
         "showlegend": true,
         "textposition": "auto",
         "type": "bar",
         "x": [
          1,
          3,
          4,
          5,
          6,
          7,
          8,
          9,
          10,
          11,
          12
         ],
         "xaxis": "x",
         "y": [
          101.8,
          289.61,
          393.28,
          59.599999999999994,
          26.1,
          618.02,
          204.13000000000002,
          42.09,
          116.57000000000001,
          128.42000000000002,
          354.42999999999995
         ],
         "yaxis": "y"
        },
        {
         "alignmentgroup": "True",
         "hoverlabel": {
          "namelength": 0
         },
         "hovertemplate": "type=餐饮买菜<br>月=%{x}<br>amount=%{y}",
         "legendgroup": "type=餐饮买菜",
         "marker": {
          "color": "#EF553B"
         },
         "name": "type=餐饮买菜",
         "offsetgroup": "type=餐饮买菜",
         "orientation": "v",
         "showlegend": true,
         "textposition": "auto",
         "type": "bar",
         "x": [
          1,
          2,
          3,
          4,
          5,
          6,
          7,
          8,
          9,
          10,
          11,
          12
         ],
         "xaxis": "x",
         "y": [
          2899.4700000000003,
          1517.9900000000002,
          2356.7900000000004,
          1699.8000000000006,
          3168.08,
          2618.0900000000006,
          3029.3499999999995,
          1727.9900000000005,
          2549.2799999999997,
          1996.5899999999997,
          2785.9900000000002,
          2600.37
         ],
         "yaxis": "y"
        },
        {
         "alignmentgroup": "True",
         "hoverlabel": {
          "namelength": 0
         },
         "hovertemplate": "type=保险<br>月=%{x}<br>amount=%{y}",
         "legendgroup": "type=保险",
         "marker": {
          "color": "#00cc96"
         },
         "name": "type=保险",
         "offsetgroup": "type=保险",
         "orientation": "v",
         "showlegend": true,
         "textposition": "auto",
         "type": "bar",
         "x": [
          2,
          3,
          4,
          12
         ],
         "xaxis": "x",
         "y": [
          2205,
          3528,
          2972,
          20.66
         ],
         "yaxis": "y"
        },
        {
         "alignmentgroup": "True",
         "hoverlabel": {
          "namelength": 0
         },
         "hovertemplate": "type=通讯网费<br>月=%{x}<br>amount=%{y}",
         "legendgroup": "type=通讯网费",
         "marker": {
          "color": "#ab63fa"
         },
         "name": "type=通讯网费",
         "offsetgroup": "type=通讯网费",
         "orientation": "v",
         "showlegend": true,
         "textposition": "auto",
         "type": "bar",
         "x": [
          2,
          3,
          4,
          5,
          6,
          7,
          8,
          9,
          10,
          11,
          12
         ],
         "xaxis": "x",
         "y": [
          99.5,
          199,
          159.2,
          219.15,
          149.25,
          170,
          256.65999999999997,
          118.94,
          158.31,
          139,
          297.25
         ],
         "yaxis": "y"
        },
        {
         "alignmentgroup": "True",
         "hoverlabel": {
          "namelength": 0
         },
         "hovertemplate": "type=其他支出<br>月=%{x}<br>amount=%{y}",
         "legendgroup": "type=其他支出",
         "marker": {
          "color": "#FFA15A"
         },
         "name": "type=其他支出",
         "offsetgroup": "type=其他支出",
         "orientation": "v",
         "showlegend": true,
         "textposition": "auto",
         "type": "bar",
         "x": [
          3,
          4,
          6
         ],
         "xaxis": "x",
         "y": [
          228,
          39.620000000000005,
          27
         ],
         "yaxis": "y"
        },
        {
         "alignmentgroup": "True",
         "hoverlabel": {
          "namelength": 0
         },
         "hovertemplate": "type=数码<br>月=%{x}<br>amount=%{y}",
         "legendgroup": "type=数码",
         "marker": {
          "color": "#19d3f3"
         },
         "name": "type=数码",
         "offsetgroup": "type=数码",
         "orientation": "v",
         "showlegend": true,
         "textposition": "auto",
         "type": "bar",
         "x": [
          3,
          5,
          6,
          7,
          11,
          12
         ],
         "xaxis": "x",
         "y": [
          2787.9,
          255.85999999999999,
          411.1,
          49.86,
          3415.8,
          31
         ],
         "yaxis": "y"
        },
        {
         "alignmentgroup": "True",
         "hoverlabel": {
          "namelength": 0
         },
         "hovertemplate": "type=宠物<br>月=%{x}<br>amount=%{y}",
         "legendgroup": "type=宠物",
         "marker": {
          "color": "#FF6692"
         },
         "name": "type=宠物",
         "offsetgroup": "type=宠物",
         "orientation": "v",
         "showlegend": true,
         "textposition": "auto",
         "type": "bar",
         "x": [
          4
         ],
         "xaxis": "x",
         "y": [
          119
         ],
         "yaxis": "y"
        }
       ],
       "layout": {
        "barmode": "relative",
        "legend": {
         "tracegroupgap": 0
        },
        "template": {
         "data": {
          "bar": [
           {
            "error_x": {
             "color": "#2a3f5f"
            },
            "error_y": {
             "color": "#2a3f5f"
            },
            "marker": {
             "line": {
              "color": "#E5ECF6",
              "width": 0.5
             }
            },
            "type": "bar"
           }
          ],
          "barpolar": [
           {
            "marker": {
             "line": {
              "color": "#E5ECF6",
              "width": 0.5
             }
            },
            "type": "barpolar"
           }
          ],
          "carpet": [
           {
            "aaxis": {
             "endlinecolor": "#2a3f5f",
             "gridcolor": "white",
             "linecolor": "white",
             "minorgridcolor": "white",
             "startlinecolor": "#2a3f5f"
            },
            "baxis": {
             "endlinecolor": "#2a3f5f",
             "gridcolor": "white",
             "linecolor": "white",
             "minorgridcolor": "white",
             "startlinecolor": "#2a3f5f"
            },
            "type": "carpet"
           }
          ],
          "choropleth": [
           {
            "colorbar": {
             "outlinewidth": 0,
             "ticks": ""
            },
            "type": "choropleth"
           }
          ],
          "contour": [
           {
            "colorbar": {
             "outlinewidth": 0,
             "ticks": ""
            },
            "colorscale": [
             [
              0,
              "#0d0887"
             ],
             [
              0.1111111111111111,
              "#46039f"
             ],
             [
              0.2222222222222222,
              "#7201a8"
             ],
             [
              0.3333333333333333,
              "#9c179e"
             ],
             [
              0.4444444444444444,
              "#bd3786"
             ],
             [
              0.5555555555555556,
              "#d8576b"
             ],
             [
              0.6666666666666666,
              "#ed7953"
             ],
             [
              0.7777777777777778,
              "#fb9f3a"
             ],
             [
              0.8888888888888888,
              "#fdca26"
             ],
             [
              1,
              "#f0f921"
             ]
            ],
            "type": "contour"
           }
          ],
          "contourcarpet": [
           {
            "colorbar": {
             "outlinewidth": 0,
             "ticks": ""
            },
            "type": "contourcarpet"
           }
          ],
          "heatmap": [
           {
            "colorbar": {
             "outlinewidth": 0,
             "ticks": ""
            },
            "colorscale": [
             [
              0,
              "#0d0887"
             ],
             [
              0.1111111111111111,
              "#46039f"
             ],
             [
              0.2222222222222222,
              "#7201a8"
             ],
             [
              0.3333333333333333,
              "#9c179e"
             ],
             [
              0.4444444444444444,
              "#bd3786"
             ],
             [
              0.5555555555555556,
              "#d8576b"
             ],
             [
              0.6666666666666666,
              "#ed7953"
             ],
             [
              0.7777777777777778,
              "#fb9f3a"
             ],
             [
              0.8888888888888888,
              "#fdca26"
             ],
             [
              1,
              "#f0f921"
             ]
            ],
            "type": "heatmap"
           }
          ],
          "heatmapgl": [
           {
            "colorbar": {
             "outlinewidth": 0,
             "ticks": ""
            },
            "colorscale": [
             [
              0,
              "#0d0887"
             ],
             [
              0.1111111111111111,
              "#46039f"
             ],
             [
              0.2222222222222222,
              "#7201a8"
             ],
             [
              0.3333333333333333,
              "#9c179e"
             ],
             [
              0.4444444444444444,
              "#bd3786"
             ],
             [
              0.5555555555555556,
              "#d8576b"
             ],
             [
              0.6666666666666666,
              "#ed7953"
             ],
             [
              0.7777777777777778,
              "#fb9f3a"
             ],
             [
              0.8888888888888888,
              "#fdca26"
             ],
             [
              1,
              "#f0f921"
             ]
            ],
            "type": "heatmapgl"
           }
          ],
          "histogram": [
           {
            "marker": {
             "colorbar": {
              "outlinewidth": 0,
              "ticks": ""
             }
            },
            "type": "histogram"
           }
          ],
          "histogram2d": [
           {
            "colorbar": {
             "outlinewidth": 0,
             "ticks": ""
            },
            "colorscale": [
             [
              0,
              "#0d0887"
             ],
             [
              0.1111111111111111,
              "#46039f"
             ],
             [
              0.2222222222222222,
              "#7201a8"
             ],
             [
              0.3333333333333333,
              "#9c179e"
             ],
             [
              0.4444444444444444,
              "#bd3786"
             ],
             [
              0.5555555555555556,
              "#d8576b"
             ],
             [
              0.6666666666666666,
              "#ed7953"
             ],
             [
              0.7777777777777778,
              "#fb9f3a"
             ],
             [
              0.8888888888888888,
              "#fdca26"
             ],
             [
              1,
              "#f0f921"
             ]
            ],
            "type": "histogram2d"
           }
          ],
          "histogram2dcontour": [
           {
            "colorbar": {
             "outlinewidth": 0,
             "ticks": ""
            },
            "colorscale": [
             [
              0,
              "#0d0887"
             ],
             [
              0.1111111111111111,
              "#46039f"
             ],
             [
              0.2222222222222222,
              "#7201a8"
             ],
             [
              0.3333333333333333,
              "#9c179e"
             ],
             [
              0.4444444444444444,
              "#bd3786"
             ],
             [
              0.5555555555555556,
              "#d8576b"
             ],
             [
              0.6666666666666666,
              "#ed7953"
             ],
             [
              0.7777777777777778,
              "#fb9f3a"
             ],
             [
              0.8888888888888888,
              "#fdca26"
             ],
             [
              1,
              "#f0f921"
             ]
            ],
            "type": "histogram2dcontour"
           }
          ],
          "mesh3d": [
           {
            "colorbar": {
             "outlinewidth": 0,
             "ticks": ""
            },
            "type": "mesh3d"
           }
          ],
          "parcoords": [
           {
            "line": {
             "colorbar": {
              "outlinewidth": 0,
              "ticks": ""
             }
            },
            "type": "parcoords"
           }
          ],
          "pie": [
           {
            "automargin": true,
            "type": "pie"
           }
          ],
          "scatter": [
           {
            "marker": {
             "colorbar": {
              "outlinewidth": 0,
              "ticks": ""
             }
            },
            "type": "scatter"
           }
          ],
          "scatter3d": [
           {
            "line": {
             "colorbar": {
              "outlinewidth": 0,
              "ticks": ""
             }
            },
            "marker": {
             "colorbar": {
              "outlinewidth": 0,
              "ticks": ""
             }
            },
            "type": "scatter3d"
           }
          ],
          "scattercarpet": [
           {
            "marker": {
             "colorbar": {
              "outlinewidth": 0,
              "ticks": ""
             }
            },
            "type": "scattercarpet"
           }
          ],
          "scattergeo": [
           {
            "marker": {
             "colorbar": {
              "outlinewidth": 0,
              "ticks": ""
             }
            },
            "type": "scattergeo"
           }
          ],
          "scattergl": [
           {
            "marker": {
             "colorbar": {
              "outlinewidth": 0,
              "ticks": ""
             }
            },
            "type": "scattergl"
           }
          ],
          "scattermapbox": [
           {
            "marker": {
             "colorbar": {
              "outlinewidth": 0,
              "ticks": ""
             }
            },
            "type": "scattermapbox"
           }
          ],
          "scatterpolar": [
           {
            "marker": {
             "colorbar": {
              "outlinewidth": 0,
              "ticks": ""
             }
            },
            "type": "scatterpolar"
           }
          ],
          "scatterpolargl": [
           {
            "marker": {
             "colorbar": {
              "outlinewidth": 0,
              "ticks": ""
             }
            },
            "type": "scatterpolargl"
           }
          ],
          "scatterternary": [
           {
            "marker": {
             "colorbar": {
              "outlinewidth": 0,
              "ticks": ""
             }
            },
            "type": "scatterternary"
           }
          ],
          "surface": [
           {
            "colorbar": {
             "outlinewidth": 0,
             "ticks": ""
            },
            "colorscale": [
             [
              0,
              "#0d0887"
             ],
             [
              0.1111111111111111,
              "#46039f"
             ],
             [
              0.2222222222222222,
              "#7201a8"
             ],
             [
              0.3333333333333333,
              "#9c179e"
             ],
             [
              0.4444444444444444,
              "#bd3786"
             ],
             [
              0.5555555555555556,
              "#d8576b"
             ],
             [
              0.6666666666666666,
              "#ed7953"
             ],
             [
              0.7777777777777778,
              "#fb9f3a"
             ],
             [
              0.8888888888888888,
              "#fdca26"
             ],
             [
              1,
              "#f0f921"
             ]
            ],
            "type": "surface"
           }
          ],
          "table": [
           {
            "cells": {
             "fill": {
              "color": "#EBF0F8"
             },
             "line": {
              "color": "white"
             }
            },
            "header": {
             "fill": {
              "color": "#C8D4E3"
             },
             "line": {
              "color": "white"
             }
            },
            "type": "table"
           }
          ]
         },
         "layout": {
          "annotationdefaults": {
           "arrowcolor": "#2a3f5f",
           "arrowhead": 0,
           "arrowwidth": 1
          },
          "coloraxis": {
           "colorbar": {
            "outlinewidth": 0,
            "ticks": ""
           }
          },
          "colorscale": {
           "diverging": [
            [
             0,
             "#8e0152"
            ],
            [
             0.1,
             "#c51b7d"
            ],
            [
             0.2,
             "#de77ae"
            ],
            [
             0.3,
             "#f1b6da"
            ],
            [
             0.4,
             "#fde0ef"
            ],
            [
             0.5,
             "#f7f7f7"
            ],
            [
             0.6,
             "#e6f5d0"
            ],
            [
             0.7,
             "#b8e186"
            ],
            [
             0.8,
             "#7fbc41"
            ],
            [
             0.9,
             "#4d9221"
            ],
            [
             1,
             "#276419"
            ]
           ],
           "sequential": [
            [
             0,
             "#0d0887"
            ],
            [
             0.1111111111111111,
             "#46039f"
            ],
            [
             0.2222222222222222,
             "#7201a8"
            ],
            [
             0.3333333333333333,
             "#9c179e"
            ],
            [
             0.4444444444444444,
             "#bd3786"
            ],
            [
             0.5555555555555556,
             "#d8576b"
            ],
            [
             0.6666666666666666,
             "#ed7953"
            ],
            [
             0.7777777777777778,
             "#fb9f3a"
            ],
            [
             0.8888888888888888,
             "#fdca26"
            ],
            [
             1,
             "#f0f921"
            ]
           ],
           "sequentialminus": [
            [
             0,
             "#0d0887"
            ],
            [
             0.1111111111111111,
             "#46039f"
            ],
            [
             0.2222222222222222,
             "#7201a8"
            ],
            [
             0.3333333333333333,
             "#9c179e"
            ],
            [
             0.4444444444444444,
             "#bd3786"
            ],
            [
             0.5555555555555556,
             "#d8576b"
            ],
            [
             0.6666666666666666,
             "#ed7953"
            ],
            [
             0.7777777777777778,
             "#fb9f3a"
            ],
            [
             0.8888888888888888,
             "#fdca26"
            ],
            [
             1,
             "#f0f921"
            ]
           ]
          },
          "colorway": [
           "#636efa",
           "#EF553B",
           "#00cc96",
           "#ab63fa",
           "#FFA15A",
           "#19d3f3",
           "#FF6692",
           "#B6E880",
           "#FF97FF",
           "#FECB52"
          ],
          "font": {
           "color": "#2a3f5f"
          },
          "geo": {
           "bgcolor": "white",
           "lakecolor": "white",
           "landcolor": "#E5ECF6",
           "showlakes": true,
           "showland": true,
           "subunitcolor": "white"
          },
          "hoverlabel": {
           "align": "left"
          },
          "hovermode": "closest",
          "mapbox": {
           "style": "light"
          },
          "paper_bgcolor": "white",
          "plot_bgcolor": "#E5ECF6",
          "polar": {
           "angularaxis": {
            "gridcolor": "white",
            "linecolor": "white",
            "ticks": ""
           },
           "bgcolor": "#E5ECF6",
           "radialaxis": {
            "gridcolor": "white",
            "linecolor": "white",
            "ticks": ""
           }
          },
          "scene": {
           "xaxis": {
            "backgroundcolor": "#E5ECF6",
            "gridcolor": "white",
            "gridwidth": 2,
            "linecolor": "white",
            "showbackground": true,
            "ticks": "",
            "zerolinecolor": "white"
           },
           "yaxis": {
            "backgroundcolor": "#E5ECF6",
            "gridcolor": "white",
            "gridwidth": 2,
            "linecolor": "white",
            "showbackground": true,
            "ticks": "",
            "zerolinecolor": "white"
           },
           "zaxis": {
            "backgroundcolor": "#E5ECF6",
            "gridcolor": "white",
            "gridwidth": 2,
            "linecolor": "white",
            "showbackground": true,
            "ticks": "",
            "zerolinecolor": "white"
           }
          },
          "shapedefaults": {
           "line": {
            "color": "#2a3f5f"
           }
          },
          "ternary": {
           "aaxis": {
            "gridcolor": "white",
            "linecolor": "white",
            "ticks": ""
           },
           "baxis": {
            "gridcolor": "white",
            "linecolor": "white",
            "ticks": ""
           },
           "bgcolor": "#E5ECF6",
           "caxis": {
            "gridcolor": "white",
            "linecolor": "white",
            "ticks": ""
           }
          },
          "title": {
           "x": 0.05
          },
          "xaxis": {
           "automargin": true,
           "gridcolor": "white",
           "linecolor": "white",
           "ticks": "",
           "title": {
            "standoff": 15
           },
           "zerolinecolor": "white",
           "zerolinewidth": 2
          },
          "yaxis": {
           "automargin": true,
           "gridcolor": "white",
           "linecolor": "white",
           "ticks": "",
           "title": {
            "standoff": 15
           },
           "zerolinecolor": "white",
           "zerolinewidth": 2
          }
         }
        },
        "title": {
         "text": "2019年日常生活几本每月各类支出金额"
        },
        "xaxis": {
         "anchor": "y",
         "domain": [
          0,
          1
         ],
         "title": {
          "text": "月"
         }
        },
        "yaxis": {
         "anchor": "x",
         "domain": [
          0,
          1
         ],
         "title": {
          "text": "amount"
         }
        }
       }
      },
      "text/html": [
       "<div>\n",
       "        \n",
       "        \n",
       "            <div id=\"da5413a9-d6ba-439b-92a9-7f73973a2d02\" class=\"plotly-graph-div\" style=\"height:525px; width:100%;\"></div>\n",
       "            <script type=\"text/javascript\">\n",
       "                require([\"plotly\"], function(Plotly) {\n",
       "                    window.PLOTLYENV=window.PLOTLYENV || {};\n",
       "                    \n",
       "                if (document.getElementById(\"da5413a9-d6ba-439b-92a9-7f73973a2d02\")) {\n",
       "                    Plotly.newPlot(\n",
       "                        'da5413a9-d6ba-439b-92a9-7f73973a2d02',\n",
       "                        [{\"alignmentgroup\": \"True\", \"hoverlabel\": {\"namelength\": 0}, \"hovertemplate\": \"type=\\u4ea4\\u901a<br>\\u6708=%{x}<br>amount=%{y}\", \"legendgroup\": \"type=\\u4ea4\\u901a\", \"marker\": {\"color\": \"#636efa\"}, \"name\": \"type=\\u4ea4\\u901a\", \"offsetgroup\": \"type=\\u4ea4\\u901a\", \"orientation\": \"v\", \"showlegend\": true, \"textposition\": \"auto\", \"type\": \"bar\", \"x\": [1, 2, 3, 4, 5, 6, 7, 8, 9, 10, 11, 12], \"xaxis\": \"x\", \"y\": [4442.75, 1007.0, 1054.0, 732.49, 1512.2700000000002, 569.4300000000001, 5519.96, 1208.76, 760.98, 1012.6199999999999, 2151.5, 1957.49], \"yaxis\": \"y\"}, {\"alignmentgroup\": \"True\", \"hoverlabel\": {\"namelength\": 0}, \"hovertemplate\": \"type=\\u4f11\\u95f2\\u5a31\\u4e50<br>\\u6708=%{x}<br>amount=%{y}\", \"legendgroup\": \"type=\\u4f11\\u95f2\\u5a31\\u4e50\", \"marker\": {\"color\": \"#EF553B\"}, \"name\": \"type=\\u4f11\\u95f2\\u5a31\\u4e50\", \"offsetgroup\": \"type=\\u4f11\\u95f2\\u5a31\\u4e50\", \"orientation\": \"v\", \"showlegend\": true, \"textposition\": \"auto\", \"type\": \"bar\", \"x\": [1, 2, 3, 4, 7, 8, 10, 11, 12], \"xaxis\": \"x\", \"y\": [148.89, 135.0, 290.8, 267.64, 164.0, 196.0, 179.0, 95.9, 550.5], \"yaxis\": \"y\"}, {\"alignmentgroup\": \"True\", \"hoverlabel\": {\"namelength\": 0}, \"hovertemplate\": \"type=\\u4f4f\\u623f<br>\\u6708=%{x}<br>amount=%{y}\", \"legendgroup\": \"type=\\u4f4f\\u623f\", \"marker\": {\"color\": \"#00cc96\"}, \"name\": \"type=\\u4f4f\\u623f\", \"offsetgroup\": \"type=\\u4f4f\\u623f\", \"orientation\": \"v\", \"showlegend\": true, \"textposition\": \"auto\", \"type\": \"bar\", \"x\": [1, 2, 3, 4, 5, 6, 7, 8, 9, 10, 11, 12], \"xaxis\": \"x\", \"y\": [4639.04, 1748.5700000000002, 1027.85, 1050.5, 1781.73, 1066.3, 1078.6, 1815.1200000000001, 1208.7, 1105.4, 1732.22, 1388.5], \"yaxis\": \"y\"}, {\"alignmentgroup\": \"True\", \"hoverlabel\": {\"namelength\": 0}, \"hovertemplate\": \"type=\\u533b\\u7597<br>\\u6708=%{x}<br>amount=%{y}\", \"legendgroup\": \"type=\\u533b\\u7597\", \"marker\": {\"color\": \"#ab63fa\"}, \"name\": \"type=\\u533b\\u7597\", \"offsetgroup\": \"type=\\u533b\\u7597\", \"orientation\": \"v\", \"showlegend\": true, \"textposition\": \"auto\", \"type\": \"bar\", \"x\": [1, 5, 6, 9], \"xaxis\": \"x\", \"y\": [24.3, 312.12, 92.0, 240.0], \"yaxis\": \"y\"}, {\"alignmentgroup\": \"True\", \"hoverlabel\": {\"namelength\": 0}, \"hovertemplate\": \"type=\\u5b66\\u4e60<br>\\u6708=%{x}<br>amount=%{y}\", \"legendgroup\": \"type=\\u5b66\\u4e60\", \"marker\": {\"color\": \"#FFA15A\"}, \"name\": \"type=\\u5b66\\u4e60\", \"offsetgroup\": \"type=\\u5b66\\u4e60\", \"orientation\": \"v\", \"showlegend\": true, \"textposition\": \"auto\", \"type\": \"bar\", \"x\": [1, 2, 3, 4, 5, 6, 7, 9, 10, 11, 12], \"xaxis\": \"x\", \"y\": [39.4, 84.6, 178.9, 405.0, 73.42, 63.0, 38.03, 26.8, 100.7, 1580.0, 1732.49], \"yaxis\": \"y\"}, {\"alignmentgroup\": \"True\", \"hoverlabel\": {\"namelength\": 0}, \"hovertemplate\": \"type=\\u5bb6\\u5c45<br>\\u6708=%{x}<br>amount=%{y}\", \"legendgroup\": \"type=\\u5bb6\\u5c45\", \"marker\": {\"color\": \"#19d3f3\"}, \"name\": \"type=\\u5bb6\\u5c45\", \"offsetgroup\": \"type=\\u5bb6\\u5c45\", \"orientation\": \"v\", \"showlegend\": true, \"textposition\": \"auto\", \"type\": \"bar\", \"x\": [1, 5], \"xaxis\": \"x\", \"y\": [140.0, 840.0], \"yaxis\": \"y\"}, {\"alignmentgroup\": \"True\", \"hoverlabel\": {\"namelength\": 0}, \"hovertemplate\": \"type=\\u62a4\\u80a4\\u5f69\\u5986<br>\\u6708=%{x}<br>amount=%{y}\", \"legendgroup\": \"type=\\u62a4\\u80a4\\u5f69\\u5986\", \"marker\": {\"color\": \"#FF6692\"}, \"name\": \"type=\\u62a4\\u80a4\\u5f69\\u5986\", \"offsetgroup\": \"type=\\u62a4\\u80a4\\u5f69\\u5986\", \"orientation\": \"v\", \"showlegend\": true, \"textposition\": \"auto\", \"type\": \"bar\", \"x\": [1, 3, 4, 5, 6, 8, 9, 10, 11], \"xaxis\": \"x\", \"y\": [131.0, 410.48, 544.8299999999999, 184.7, 881.42, 686.29, 376.01, 164.5, 326.44], \"yaxis\": \"y\"}, {\"alignmentgroup\": \"True\", \"hoverlabel\": {\"namelength\": 0}, \"hovertemplate\": \"type=\\u65e5\\u7528\\u54c1<br>\\u6708=%{x}<br>amount=%{y}\", \"legendgroup\": \"type=\\u65e5\\u7528\\u54c1\", \"marker\": {\"color\": \"#B6E880\"}, \"name\": \"type=\\u65e5\\u7528\\u54c1\", \"offsetgroup\": \"type=\\u65e5\\u7528\\u54c1\", \"orientation\": \"v\", \"showlegend\": true, \"textposition\": \"auto\", \"type\": \"bar\", \"x\": [1, 2, 3, 4, 5, 6, 7, 9, 10, 11, 12], \"xaxis\": \"x\", \"y\": [295.78, 88.5, 535.1999999999999, 158.6, 75.71, 1006.23, 234.28, 587.12, 12.9, 938.23, 856.44], \"yaxis\": \"y\"}, {\"alignmentgroup\": \"True\", \"hoverlabel\": {\"namelength\": 0}, \"hovertemplate\": \"type=\\u6d1b\\u6d1b\\u7238<br>\\u6708=%{x}<br>amount=%{y}\", \"legendgroup\": \"type=\\u6d1b\\u6d1b\\u7238\", \"marker\": {\"color\": \"#FF97FF\"}, \"name\": \"type=\\u6d1b\\u6d1b\\u7238\", \"offsetgroup\": \"type=\\u6d1b\\u6d1b\\u7238\", \"orientation\": \"v\", \"showlegend\": true, \"textposition\": \"auto\", \"type\": \"bar\", \"x\": [1, 2, 3, 4, 5, 6, 7, 8, 9, 10, 11, 12], \"xaxis\": \"x\", \"y\": [1383.0, 1400.0, 2104.0, 1988.0, 1900.0, 1900.0, 1900.0, 1900.0, 1900.0, 1900.0, 2300.0, 1900.0], \"yaxis\": \"y\"}, {\"alignmentgroup\": \"True\", \"hoverlabel\": {\"namelength\": 0}, \"hovertemplate\": \"type=\\u8863\\u670d\\u978b\\u5e3d<br>\\u6708=%{x}<br>amount=%{y}\", \"legendgroup\": \"type=\\u8863\\u670d\\u978b\\u5e3d\", \"marker\": {\"color\": \"#FECB52\"}, \"name\": \"type=\\u8863\\u670d\\u978b\\u5e3d\", \"offsetgroup\": \"type=\\u8863\\u670d\\u978b\\u5e3d\", \"orientation\": \"v\", \"showlegend\": true, \"textposition\": \"auto\", \"type\": \"bar\", \"x\": [1, 3, 4, 5, 6, 8, 9, 10, 11, 12], \"xaxis\": \"x\", \"y\": [2146.0, 1344.0, 35.0, 1608.86, 2694.41, 370.44, 1182.9, 347.78999999999996, 3912.13, 2398.38], \"yaxis\": \"y\"}, {\"alignmentgroup\": \"True\", \"hoverlabel\": {\"namelength\": 0}, \"hovertemplate\": \"type=\\u96f6\\u98df\\u996e\\u6599<br>\\u6708=%{x}<br>amount=%{y}\", \"legendgroup\": \"type=\\u96f6\\u98df\\u996e\\u6599\", \"marker\": {\"color\": \"#636efa\"}, \"name\": \"type=\\u96f6\\u98df\\u996e\\u6599\", \"offsetgroup\": \"type=\\u96f6\\u98df\\u996e\\u6599\", \"orientation\": \"v\", \"showlegend\": true, \"textposition\": \"auto\", \"type\": \"bar\", \"x\": [1, 3, 4, 5, 6, 7, 8, 9, 10, 11, 12], \"xaxis\": \"x\", \"y\": [101.8, 289.61, 393.28, 59.599999999999994, 26.1, 618.02, 204.13000000000002, 42.09, 116.57000000000001, 128.42000000000002, 354.42999999999995], \"yaxis\": \"y\"}, {\"alignmentgroup\": \"True\", \"hoverlabel\": {\"namelength\": 0}, \"hovertemplate\": \"type=\\u9910\\u996e\\u4e70\\u83dc<br>\\u6708=%{x}<br>amount=%{y}\", \"legendgroup\": \"type=\\u9910\\u996e\\u4e70\\u83dc\", \"marker\": {\"color\": \"#EF553B\"}, \"name\": \"type=\\u9910\\u996e\\u4e70\\u83dc\", \"offsetgroup\": \"type=\\u9910\\u996e\\u4e70\\u83dc\", \"orientation\": \"v\", \"showlegend\": true, \"textposition\": \"auto\", \"type\": \"bar\", \"x\": [1, 2, 3, 4, 5, 6, 7, 8, 9, 10, 11, 12], \"xaxis\": \"x\", \"y\": [2899.4700000000003, 1517.9900000000002, 2356.7900000000004, 1699.8000000000006, 3168.08, 2618.0900000000006, 3029.3499999999995, 1727.9900000000005, 2549.2799999999997, 1996.5899999999997, 2785.9900000000002, 2600.37], \"yaxis\": \"y\"}, {\"alignmentgroup\": \"True\", \"hoverlabel\": {\"namelength\": 0}, \"hovertemplate\": \"type=\\u4fdd\\u9669<br>\\u6708=%{x}<br>amount=%{y}\", \"legendgroup\": \"type=\\u4fdd\\u9669\", \"marker\": {\"color\": \"#00cc96\"}, \"name\": \"type=\\u4fdd\\u9669\", \"offsetgroup\": \"type=\\u4fdd\\u9669\", \"orientation\": \"v\", \"showlegend\": true, \"textposition\": \"auto\", \"type\": \"bar\", \"x\": [2, 3, 4, 12], \"xaxis\": \"x\", \"y\": [2205.0, 3528.0, 2972.0, 20.66], \"yaxis\": \"y\"}, {\"alignmentgroup\": \"True\", \"hoverlabel\": {\"namelength\": 0}, \"hovertemplate\": \"type=\\u901a\\u8baf\\u7f51\\u8d39<br>\\u6708=%{x}<br>amount=%{y}\", \"legendgroup\": \"type=\\u901a\\u8baf\\u7f51\\u8d39\", \"marker\": {\"color\": \"#ab63fa\"}, \"name\": \"type=\\u901a\\u8baf\\u7f51\\u8d39\", \"offsetgroup\": \"type=\\u901a\\u8baf\\u7f51\\u8d39\", \"orientation\": \"v\", \"showlegend\": true, \"textposition\": \"auto\", \"type\": \"bar\", \"x\": [2, 3, 4, 5, 6, 7, 8, 9, 10, 11, 12], \"xaxis\": \"x\", \"y\": [99.5, 199.0, 159.2, 219.15, 149.25, 170.0, 256.65999999999997, 118.94, 158.31, 139.0, 297.25], \"yaxis\": \"y\"}, {\"alignmentgroup\": \"True\", \"hoverlabel\": {\"namelength\": 0}, \"hovertemplate\": \"type=\\u5176\\u4ed6\\u652f\\u51fa<br>\\u6708=%{x}<br>amount=%{y}\", \"legendgroup\": \"type=\\u5176\\u4ed6\\u652f\\u51fa\", \"marker\": {\"color\": \"#FFA15A\"}, \"name\": \"type=\\u5176\\u4ed6\\u652f\\u51fa\", \"offsetgroup\": \"type=\\u5176\\u4ed6\\u652f\\u51fa\", \"orientation\": \"v\", \"showlegend\": true, \"textposition\": \"auto\", \"type\": \"bar\", \"x\": [3, 4, 6], \"xaxis\": \"x\", \"y\": [228.0, 39.620000000000005, 27.0], \"yaxis\": \"y\"}, {\"alignmentgroup\": \"True\", \"hoverlabel\": {\"namelength\": 0}, \"hovertemplate\": \"type=\\u6570\\u7801<br>\\u6708=%{x}<br>amount=%{y}\", \"legendgroup\": \"type=\\u6570\\u7801\", \"marker\": {\"color\": \"#19d3f3\"}, \"name\": \"type=\\u6570\\u7801\", \"offsetgroup\": \"type=\\u6570\\u7801\", \"orientation\": \"v\", \"showlegend\": true, \"textposition\": \"auto\", \"type\": \"bar\", \"x\": [3, 5, 6, 7, 11, 12], \"xaxis\": \"x\", \"y\": [2787.9, 255.85999999999999, 411.1, 49.86, 3415.8, 31.0], \"yaxis\": \"y\"}, {\"alignmentgroup\": \"True\", \"hoverlabel\": {\"namelength\": 0}, \"hovertemplate\": \"type=\\u5ba0\\u7269<br>\\u6708=%{x}<br>amount=%{y}\", \"legendgroup\": \"type=\\u5ba0\\u7269\", \"marker\": {\"color\": \"#FF6692\"}, \"name\": \"type=\\u5ba0\\u7269\", \"offsetgroup\": \"type=\\u5ba0\\u7269\", \"orientation\": \"v\", \"showlegend\": true, \"textposition\": \"auto\", \"type\": \"bar\", \"x\": [4], \"xaxis\": \"x\", \"y\": [119.0], \"yaxis\": \"y\"}],\n",
       "                        {\"barmode\": \"relative\", \"legend\": {\"tracegroupgap\": 0}, \"template\": {\"data\": {\"bar\": [{\"error_x\": {\"color\": \"#2a3f5f\"}, \"error_y\": {\"color\": \"#2a3f5f\"}, \"marker\": {\"line\": {\"color\": \"#E5ECF6\", \"width\": 0.5}}, \"type\": \"bar\"}], \"barpolar\": [{\"marker\": {\"line\": {\"color\": \"#E5ECF6\", \"width\": 0.5}}, \"type\": \"barpolar\"}], \"carpet\": [{\"aaxis\": {\"endlinecolor\": \"#2a3f5f\", \"gridcolor\": \"white\", \"linecolor\": \"white\", \"minorgridcolor\": \"white\", \"startlinecolor\": \"#2a3f5f\"}, \"baxis\": {\"endlinecolor\": \"#2a3f5f\", \"gridcolor\": \"white\", \"linecolor\": \"white\", \"minorgridcolor\": \"white\", \"startlinecolor\": \"#2a3f5f\"}, \"type\": \"carpet\"}], \"choropleth\": [{\"colorbar\": {\"outlinewidth\": 0, \"ticks\": \"\"}, \"type\": \"choropleth\"}], \"contour\": [{\"colorbar\": {\"outlinewidth\": 0, \"ticks\": \"\"}, \"colorscale\": [[0.0, \"#0d0887\"], [0.1111111111111111, \"#46039f\"], [0.2222222222222222, \"#7201a8\"], [0.3333333333333333, \"#9c179e\"], [0.4444444444444444, \"#bd3786\"], [0.5555555555555556, \"#d8576b\"], [0.6666666666666666, \"#ed7953\"], [0.7777777777777778, \"#fb9f3a\"], [0.8888888888888888, \"#fdca26\"], [1.0, \"#f0f921\"]], \"type\": \"contour\"}], \"contourcarpet\": [{\"colorbar\": {\"outlinewidth\": 0, \"ticks\": \"\"}, \"type\": \"contourcarpet\"}], \"heatmap\": [{\"colorbar\": {\"outlinewidth\": 0, \"ticks\": \"\"}, \"colorscale\": [[0.0, \"#0d0887\"], [0.1111111111111111, \"#46039f\"], [0.2222222222222222, \"#7201a8\"], [0.3333333333333333, \"#9c179e\"], [0.4444444444444444, \"#bd3786\"], [0.5555555555555556, \"#d8576b\"], [0.6666666666666666, \"#ed7953\"], [0.7777777777777778, \"#fb9f3a\"], [0.8888888888888888, \"#fdca26\"], [1.0, \"#f0f921\"]], \"type\": \"heatmap\"}], \"heatmapgl\": [{\"colorbar\": {\"outlinewidth\": 0, \"ticks\": \"\"}, \"colorscale\": [[0.0, \"#0d0887\"], [0.1111111111111111, \"#46039f\"], [0.2222222222222222, \"#7201a8\"], [0.3333333333333333, \"#9c179e\"], [0.4444444444444444, \"#bd3786\"], [0.5555555555555556, \"#d8576b\"], [0.6666666666666666, \"#ed7953\"], [0.7777777777777778, \"#fb9f3a\"], [0.8888888888888888, \"#fdca26\"], [1.0, \"#f0f921\"]], \"type\": \"heatmapgl\"}], \"histogram\": [{\"marker\": {\"colorbar\": {\"outlinewidth\": 0, \"ticks\": \"\"}}, \"type\": \"histogram\"}], \"histogram2d\": [{\"colorbar\": {\"outlinewidth\": 0, \"ticks\": \"\"}, \"colorscale\": [[0.0, \"#0d0887\"], [0.1111111111111111, \"#46039f\"], [0.2222222222222222, \"#7201a8\"], [0.3333333333333333, \"#9c179e\"], [0.4444444444444444, \"#bd3786\"], [0.5555555555555556, \"#d8576b\"], [0.6666666666666666, \"#ed7953\"], [0.7777777777777778, \"#fb9f3a\"], [0.8888888888888888, \"#fdca26\"], [1.0, \"#f0f921\"]], \"type\": \"histogram2d\"}], \"histogram2dcontour\": [{\"colorbar\": {\"outlinewidth\": 0, \"ticks\": \"\"}, \"colorscale\": [[0.0, \"#0d0887\"], [0.1111111111111111, \"#46039f\"], [0.2222222222222222, \"#7201a8\"], [0.3333333333333333, \"#9c179e\"], [0.4444444444444444, \"#bd3786\"], [0.5555555555555556, \"#d8576b\"], [0.6666666666666666, \"#ed7953\"], [0.7777777777777778, \"#fb9f3a\"], [0.8888888888888888, \"#fdca26\"], [1.0, \"#f0f921\"]], \"type\": \"histogram2dcontour\"}], \"mesh3d\": [{\"colorbar\": {\"outlinewidth\": 0, \"ticks\": \"\"}, \"type\": \"mesh3d\"}], \"parcoords\": [{\"line\": {\"colorbar\": {\"outlinewidth\": 0, \"ticks\": \"\"}}, \"type\": \"parcoords\"}], \"pie\": [{\"automargin\": true, \"type\": \"pie\"}], \"scatter\": [{\"marker\": {\"colorbar\": {\"outlinewidth\": 0, \"ticks\": \"\"}}, \"type\": \"scatter\"}], \"scatter3d\": [{\"line\": {\"colorbar\": {\"outlinewidth\": 0, \"ticks\": \"\"}}, \"marker\": {\"colorbar\": {\"outlinewidth\": 0, \"ticks\": \"\"}}, \"type\": \"scatter3d\"}], \"scattercarpet\": [{\"marker\": {\"colorbar\": {\"outlinewidth\": 0, \"ticks\": \"\"}}, \"type\": \"scattercarpet\"}], \"scattergeo\": [{\"marker\": {\"colorbar\": {\"outlinewidth\": 0, \"ticks\": \"\"}}, \"type\": \"scattergeo\"}], \"scattergl\": [{\"marker\": {\"colorbar\": {\"outlinewidth\": 0, \"ticks\": \"\"}}, \"type\": \"scattergl\"}], \"scattermapbox\": [{\"marker\": {\"colorbar\": {\"outlinewidth\": 0, \"ticks\": \"\"}}, \"type\": \"scattermapbox\"}], \"scatterpolar\": [{\"marker\": {\"colorbar\": {\"outlinewidth\": 0, \"ticks\": \"\"}}, \"type\": \"scatterpolar\"}], \"scatterpolargl\": [{\"marker\": {\"colorbar\": {\"outlinewidth\": 0, \"ticks\": \"\"}}, \"type\": \"scatterpolargl\"}], \"scatterternary\": [{\"marker\": {\"colorbar\": {\"outlinewidth\": 0, \"ticks\": \"\"}}, \"type\": \"scatterternary\"}], \"surface\": [{\"colorbar\": {\"outlinewidth\": 0, \"ticks\": \"\"}, \"colorscale\": [[0.0, \"#0d0887\"], [0.1111111111111111, \"#46039f\"], [0.2222222222222222, \"#7201a8\"], [0.3333333333333333, \"#9c179e\"], [0.4444444444444444, \"#bd3786\"], [0.5555555555555556, \"#d8576b\"], [0.6666666666666666, \"#ed7953\"], [0.7777777777777778, \"#fb9f3a\"], [0.8888888888888888, \"#fdca26\"], [1.0, \"#f0f921\"]], \"type\": \"surface\"}], \"table\": [{\"cells\": {\"fill\": {\"color\": \"#EBF0F8\"}, \"line\": {\"color\": \"white\"}}, \"header\": {\"fill\": {\"color\": \"#C8D4E3\"}, \"line\": {\"color\": \"white\"}}, \"type\": \"table\"}]}, \"layout\": {\"annotationdefaults\": {\"arrowcolor\": \"#2a3f5f\", \"arrowhead\": 0, \"arrowwidth\": 1}, \"coloraxis\": {\"colorbar\": {\"outlinewidth\": 0, \"ticks\": \"\"}}, \"colorscale\": {\"diverging\": [[0, \"#8e0152\"], [0.1, \"#c51b7d\"], [0.2, \"#de77ae\"], [0.3, \"#f1b6da\"], [0.4, \"#fde0ef\"], [0.5, \"#f7f7f7\"], [0.6, \"#e6f5d0\"], [0.7, \"#b8e186\"], [0.8, \"#7fbc41\"], [0.9, \"#4d9221\"], [1, \"#276419\"]], \"sequential\": [[0.0, \"#0d0887\"], [0.1111111111111111, \"#46039f\"], [0.2222222222222222, \"#7201a8\"], [0.3333333333333333, \"#9c179e\"], [0.4444444444444444, \"#bd3786\"], [0.5555555555555556, \"#d8576b\"], [0.6666666666666666, \"#ed7953\"], [0.7777777777777778, \"#fb9f3a\"], [0.8888888888888888, \"#fdca26\"], [1.0, \"#f0f921\"]], \"sequentialminus\": [[0.0, \"#0d0887\"], [0.1111111111111111, \"#46039f\"], [0.2222222222222222, \"#7201a8\"], [0.3333333333333333, \"#9c179e\"], [0.4444444444444444, \"#bd3786\"], [0.5555555555555556, \"#d8576b\"], [0.6666666666666666, \"#ed7953\"], [0.7777777777777778, \"#fb9f3a\"], [0.8888888888888888, \"#fdca26\"], [1.0, \"#f0f921\"]]}, \"colorway\": [\"#636efa\", \"#EF553B\", \"#00cc96\", \"#ab63fa\", \"#FFA15A\", \"#19d3f3\", \"#FF6692\", \"#B6E880\", \"#FF97FF\", \"#FECB52\"], \"font\": {\"color\": \"#2a3f5f\"}, \"geo\": {\"bgcolor\": \"white\", \"lakecolor\": \"white\", \"landcolor\": \"#E5ECF6\", \"showlakes\": true, \"showland\": true, \"subunitcolor\": \"white\"}, \"hoverlabel\": {\"align\": \"left\"}, \"hovermode\": \"closest\", \"mapbox\": {\"style\": \"light\"}, \"paper_bgcolor\": \"white\", \"plot_bgcolor\": \"#E5ECF6\", \"polar\": {\"angularaxis\": {\"gridcolor\": \"white\", \"linecolor\": \"white\", \"ticks\": \"\"}, \"bgcolor\": \"#E5ECF6\", \"radialaxis\": {\"gridcolor\": \"white\", \"linecolor\": \"white\", \"ticks\": \"\"}}, \"scene\": {\"xaxis\": {\"backgroundcolor\": \"#E5ECF6\", \"gridcolor\": \"white\", \"gridwidth\": 2, \"linecolor\": \"white\", \"showbackground\": true, \"ticks\": \"\", \"zerolinecolor\": \"white\"}, \"yaxis\": {\"backgroundcolor\": \"#E5ECF6\", \"gridcolor\": \"white\", \"gridwidth\": 2, \"linecolor\": \"white\", \"showbackground\": true, \"ticks\": \"\", \"zerolinecolor\": \"white\"}, \"zaxis\": {\"backgroundcolor\": \"#E5ECF6\", \"gridcolor\": \"white\", \"gridwidth\": 2, \"linecolor\": \"white\", \"showbackground\": true, \"ticks\": \"\", \"zerolinecolor\": \"white\"}}, \"shapedefaults\": {\"line\": {\"color\": \"#2a3f5f\"}}, \"ternary\": {\"aaxis\": {\"gridcolor\": \"white\", \"linecolor\": \"white\", \"ticks\": \"\"}, \"baxis\": {\"gridcolor\": \"white\", \"linecolor\": \"white\", \"ticks\": \"\"}, \"bgcolor\": \"#E5ECF6\", \"caxis\": {\"gridcolor\": \"white\", \"linecolor\": \"white\", \"ticks\": \"\"}}, \"title\": {\"x\": 0.05}, \"xaxis\": {\"automargin\": true, \"gridcolor\": \"white\", \"linecolor\": \"white\", \"ticks\": \"\", \"title\": {\"standoff\": 15}, \"zerolinecolor\": \"white\", \"zerolinewidth\": 2}, \"yaxis\": {\"automargin\": true, \"gridcolor\": \"white\", \"linecolor\": \"white\", \"ticks\": \"\", \"title\": {\"standoff\": 15}, \"zerolinecolor\": \"white\", \"zerolinewidth\": 2}}}, \"title\": {\"text\": \"2019\\u5e74\\u65e5\\u5e38\\u751f\\u6d3b\\u51e0\\u672c\\u6bcf\\u6708\\u5404\\u7c7b\\u652f\\u51fa\\u91d1\\u989d\"}, \"xaxis\": {\"anchor\": \"y\", \"domain\": [0.0, 1.0], \"title\": {\"text\": \"\\u6708\"}}, \"yaxis\": {\"anchor\": \"x\", \"domain\": [0.0, 1.0], \"title\": {\"text\": \"amount\"}}},\n",
       "                        {\"responsive\": true}\n",
       "                    ).then(function(){\n",
       "                            \n",
       "var gd = document.getElementById('da5413a9-d6ba-439b-92a9-7f73973a2d02');\n",
       "var x = new MutationObserver(function (mutations, observer) {{\n",
       "        var display = window.getComputedStyle(gd).display;\n",
       "        if (!display || display === 'none') {{\n",
       "            console.log([gd, 'removed!']);\n",
       "            Plotly.purge(gd);\n",
       "            observer.disconnect();\n",
       "        }}\n",
       "}});\n",
       "\n",
       "// Listen for the removal of the full notebook cells\n",
       "var notebookContainer = gd.closest('#notebook-container');\n",
       "if (notebookContainer) {{\n",
       "    x.observe(notebookContainer, {childList: true});\n",
       "}}\n",
       "\n",
       "// Listen for the clearing of the current output cell\n",
       "var outputEl = gd.closest('.output');\n",
       "if (outputEl) {{\n",
       "    x.observe(outputEl, {childList: true});\n",
       "}}\n",
       "\n",
       "                        })\n",
       "                };\n",
       "                });\n",
       "            </script>\n",
       "        </div>"
      ]
     },
     "metadata": {},
     "output_type": "display_data"
    }
   ],
   "source": [
    "fig=px.bar(disp1, x='month', y='amount',\n",
    "          labels={'month':'月'}, \n",
    "          color='type',\n",
    "          title=\"2019年日常生活每月各类支出金额\")\n",
    "fig.show()"
   ]
  },
  {
   "cell_type": "code",
   "execution_count": 89,
   "metadata": {},
   "outputs": [
    {
     "data": {
      "text/html": [
       "<div>\n",
       "<style scoped>\n",
       "    .dataframe tbody tr th:only-of-type {\n",
       "        vertical-align: middle;\n",
       "    }\n",
       "\n",
       "    .dataframe tbody tr th {\n",
       "        vertical-align: top;\n",
       "    }\n",
       "\n",
       "    .dataframe thead th {\n",
       "        text-align: right;\n",
       "    }\n",
       "</style>\n",
       "<table border=\"1\" class=\"dataframe\">\n",
       "  <thead>\n",
       "    <tr style=\"text-align: right;\">\n",
       "      <th></th>\n",
       "      <th>month</th>\n",
       "      <th>name</th>\n",
       "      <th>type</th>\n",
       "      <th>user</th>\n",
       "      <th>amount</th>\n",
       "    </tr>\n",
       "  </thead>\n",
       "  <tbody>\n",
       "    <tr>\n",
       "      <th>0</th>\n",
       "      <td>1</td>\n",
       "      <td>亲子育儿</td>\n",
       "      <td>医疗健康</td>\n",
       "      <td>张嘉芯</td>\n",
       "      <td>172.40</td>\n",
       "    </tr>\n",
       "    <tr>\n",
       "      <th>1</th>\n",
       "      <td>1</td>\n",
       "      <td>亲子育儿</td>\n",
       "      <td>医疗健康</td>\n",
       "      <td>张楚淇</td>\n",
       "      <td>25.00</td>\n",
       "    </tr>\n",
       "    <tr>\n",
       "      <th>2</th>\n",
       "      <td>1</td>\n",
       "      <td>亲子育儿</td>\n",
       "      <td>奶粉</td>\n",
       "      <td>张楚淇</td>\n",
       "      <td>775.99</td>\n",
       "    </tr>\n",
       "    <tr>\n",
       "      <th>3</th>\n",
       "      <td>1</td>\n",
       "      <td>亲子育儿</td>\n",
       "      <td>宝宝服饰</td>\n",
       "      <td>张嘉芯</td>\n",
       "      <td>10.00</td>\n",
       "    </tr>\n",
       "    <tr>\n",
       "      <th>4</th>\n",
       "      <td>1</td>\n",
       "      <td>亲子育儿</td>\n",
       "      <td>宝宝食品</td>\n",
       "      <td>张嘉芯</td>\n",
       "      <td>16.72</td>\n",
       "    </tr>\n",
       "  </tbody>\n",
       "</table>\n",
       "</div>"
      ],
      "text/plain": [
       "   month  name  type user  amount\n",
       "0      1  亲子育儿  医疗健康  张嘉芯  172.40\n",
       "1      1  亲子育儿  医疗健康  张楚淇   25.00\n",
       "2      1  亲子育儿    奶粉  张楚淇  775.99\n",
       "3      1  亲子育儿  宝宝服饰  张嘉芯   10.00\n",
       "4      1  亲子育儿  宝宝食品  张嘉芯   16.72"
      ]
     },
     "execution_count": 89,
     "metadata": {},
     "output_type": "execute_result"
    }
   ],
   "source": [
    "#支出统计\n",
    "out2=out.groupby(['month','账本名称','类别','成员'])[['金额(本币)']].sum().reset_index()\n",
    "out2.columns=['month','name','type','user','amount']\n",
    "\n",
    "disp2=out2[out2['name']=='亲子育儿']\n",
    "disp2.head()"
   ]
  },
  {
   "cell_type": "code",
   "execution_count": 91,
   "metadata": {},
   "outputs": [
    {
     "data": {
      "application/vnd.plotly.v1+json": {
       "config": {
        "plotlyServerURL": "https://plot.ly"
       },
       "data": [
        {
         "domain": {
          "x": [
           0,
           1
          ],
          "y": [
           0,
           1
          ]
         },
         "hoverlabel": {
          "namelength": 0
         },
         "hovertemplate": "type=%{label}<br>amount=%{value}",
         "labels": [
          "医疗健康",
          "医疗健康",
          "奶粉",
          "宝宝服饰",
          "宝宝食品",
          "宝宝食品",
          "教育支出",
          "教育支出",
          "日常用品",
          "玩具乐器",
          "其他",
          "奶粉",
          "宝宝食品",
          "教育支出",
          "教育支出",
          "玩具乐器",
          "书籍音像",
          "其他",
          "医疗健康",
          "奶粉",
          "宝宝服饰",
          "宝宝食品",
          "尿布尿片",
          "教育支出",
          "玩具乐器",
          "医疗健康",
          "奶粉",
          "宝宝服饰",
          "宝宝食品",
          "教育支出",
          "教育支出",
          "其他",
          "奶粉",
          "宝宝服饰",
          "宝宝食品",
          "尿布尿片",
          "教育支出",
          "教育支出",
          "日常用品",
          "玩具乐器",
          "书籍音像",
          "医疗健康",
          "奶粉",
          "宝宝服饰",
          "宝宝服饰",
          "宝宝食品",
          "宝宝食品",
          "尿布尿片",
          "教育支出",
          "教育支出",
          "日常用品",
          "日常用品",
          "洗浴护肤",
          "玩具乐器",
          "玩具乐器",
          "其他",
          "医疗健康",
          "宝宝服饰",
          "宝宝食品",
          "宝宝食品",
          "教育支出",
          "日常用品",
          "日常用品",
          "玩具乐器",
          "其他",
          "奶粉",
          "宝宝服饰",
          "宝宝服饰",
          "尿布尿片",
          "教育支出",
          "玩具乐器",
          "书籍音像",
          "亲子时光",
          "其他",
          "其他",
          "医疗健康",
          "医疗健康",
          "宝宝服饰",
          "宝宝服饰",
          "宝宝食品",
          "教育支出",
          "教育支出",
          "日常用品",
          "洗浴护肤",
          "玩具乐器",
          "医疗健康",
          "宝宝服饰",
          "宝宝服饰",
          "宝宝食品",
          "宝宝食品",
          "尿布尿片",
          "教育支出",
          "教育支出",
          "日常用品",
          "玩具乐器",
          "书籍音像",
          "奶粉",
          "宝宝服饰",
          "宝宝服饰",
          "宝宝食品",
          "尿布尿片",
          "教育支出",
          "教育支出",
          "日常用品",
          "日常用品",
          "洗浴护肤",
          "玩具乐器",
          "其他",
          "医疗健康",
          "医疗健康",
          "宝宝服饰",
          "宝宝服饰",
          "宝宝食品",
          "尿布尿片",
          "教育支出",
          "日常用品",
          "日常用品",
          "玩具乐器"
         ],
         "legendgroup": "",
         "name": "",
         "showlegend": true,
         "textinfo": "percent+label+value",
         "textposition": "inside",
         "type": "pie",
         "values": [
          172.4,
          25,
          775.9899999999999,
          10,
          16.72,
          196.1,
          518.2,
          2000,
          238,
          47,
          100,
          535.52,
          30.5,
          1500,
          500,
          5,
          15373.6,
          227,
          3223,
          246.88,
          312.9,
          65.9,
          250.71,
          1000,
          961.9,
          3393.9,
          222.24,
          118,
          135.36,
          1400,
          1000,
          64,
          480.85,
          503.24,
          227.5,
          144.23,
          410,
          1000,
          167.8,
          204.4,
          99,
          504.36,
          878.1700000000001,
          742,
          179,
          6,
          9.9,
          545.05,
          3099,
          2000,
          26.5,
          28.9,
          52.66,
          511.76,
          14.9,
          15,
          50,
          156.81,
          20.6,
          30,
          2000,
          30,
          182.39999999999998,
          35,
          15,
          478.95,
          154.7,
          148.5,
          593.55,
          2010.95,
          55.66,
          11.97,
          45,
          6900,
          9.9,
          230,
          25,
          1008.8,
          277,
          258.6,
          950,
          2000,
          82.68,
          29,
          55.8,
          9586.4,
          125.7,
          32,
          15.9,
          76.6,
          43,
          599,
          2000,
          47.04,
          131.5,
          8760,
          479,
          432.9,
          34.9,
          224.49,
          221.22,
          2899,
          2000,
          265.01,
          248.56,
          58,
          23.8,
          331,
          170.4,
          460.5,
          633.71,
          155.96,
          9.9,
          240.04,
          2000,
          29,
          183.43,
          25.4
         ]
        }
       ],
       "layout": {
        "legend": {
         "tracegroupgap": 0
        },
        "template": {
         "data": {
          "bar": [
           {
            "error_x": {
             "color": "#2a3f5f"
            },
            "error_y": {
             "color": "#2a3f5f"
            },
            "marker": {
             "line": {
              "color": "#E5ECF6",
              "width": 0.5
             }
            },
            "type": "bar"
           }
          ],
          "barpolar": [
           {
            "marker": {
             "line": {
              "color": "#E5ECF6",
              "width": 0.5
             }
            },
            "type": "barpolar"
           }
          ],
          "carpet": [
           {
            "aaxis": {
             "endlinecolor": "#2a3f5f",
             "gridcolor": "white",
             "linecolor": "white",
             "minorgridcolor": "white",
             "startlinecolor": "#2a3f5f"
            },
            "baxis": {
             "endlinecolor": "#2a3f5f",
             "gridcolor": "white",
             "linecolor": "white",
             "minorgridcolor": "white",
             "startlinecolor": "#2a3f5f"
            },
            "type": "carpet"
           }
          ],
          "choropleth": [
           {
            "colorbar": {
             "outlinewidth": 0,
             "ticks": ""
            },
            "type": "choropleth"
           }
          ],
          "contour": [
           {
            "colorbar": {
             "outlinewidth": 0,
             "ticks": ""
            },
            "colorscale": [
             [
              0,
              "#0d0887"
             ],
             [
              0.1111111111111111,
              "#46039f"
             ],
             [
              0.2222222222222222,
              "#7201a8"
             ],
             [
              0.3333333333333333,
              "#9c179e"
             ],
             [
              0.4444444444444444,
              "#bd3786"
             ],
             [
              0.5555555555555556,
              "#d8576b"
             ],
             [
              0.6666666666666666,
              "#ed7953"
             ],
             [
              0.7777777777777778,
              "#fb9f3a"
             ],
             [
              0.8888888888888888,
              "#fdca26"
             ],
             [
              1,
              "#f0f921"
             ]
            ],
            "type": "contour"
           }
          ],
          "contourcarpet": [
           {
            "colorbar": {
             "outlinewidth": 0,
             "ticks": ""
            },
            "type": "contourcarpet"
           }
          ],
          "heatmap": [
           {
            "colorbar": {
             "outlinewidth": 0,
             "ticks": ""
            },
            "colorscale": [
             [
              0,
              "#0d0887"
             ],
             [
              0.1111111111111111,
              "#46039f"
             ],
             [
              0.2222222222222222,
              "#7201a8"
             ],
             [
              0.3333333333333333,
              "#9c179e"
             ],
             [
              0.4444444444444444,
              "#bd3786"
             ],
             [
              0.5555555555555556,
              "#d8576b"
             ],
             [
              0.6666666666666666,
              "#ed7953"
             ],
             [
              0.7777777777777778,
              "#fb9f3a"
             ],
             [
              0.8888888888888888,
              "#fdca26"
             ],
             [
              1,
              "#f0f921"
             ]
            ],
            "type": "heatmap"
           }
          ],
          "heatmapgl": [
           {
            "colorbar": {
             "outlinewidth": 0,
             "ticks": ""
            },
            "colorscale": [
             [
              0,
              "#0d0887"
             ],
             [
              0.1111111111111111,
              "#46039f"
             ],
             [
              0.2222222222222222,
              "#7201a8"
             ],
             [
              0.3333333333333333,
              "#9c179e"
             ],
             [
              0.4444444444444444,
              "#bd3786"
             ],
             [
              0.5555555555555556,
              "#d8576b"
             ],
             [
              0.6666666666666666,
              "#ed7953"
             ],
             [
              0.7777777777777778,
              "#fb9f3a"
             ],
             [
              0.8888888888888888,
              "#fdca26"
             ],
             [
              1,
              "#f0f921"
             ]
            ],
            "type": "heatmapgl"
           }
          ],
          "histogram": [
           {
            "marker": {
             "colorbar": {
              "outlinewidth": 0,
              "ticks": ""
             }
            },
            "type": "histogram"
           }
          ],
          "histogram2d": [
           {
            "colorbar": {
             "outlinewidth": 0,
             "ticks": ""
            },
            "colorscale": [
             [
              0,
              "#0d0887"
             ],
             [
              0.1111111111111111,
              "#46039f"
             ],
             [
              0.2222222222222222,
              "#7201a8"
             ],
             [
              0.3333333333333333,
              "#9c179e"
             ],
             [
              0.4444444444444444,
              "#bd3786"
             ],
             [
              0.5555555555555556,
              "#d8576b"
             ],
             [
              0.6666666666666666,
              "#ed7953"
             ],
             [
              0.7777777777777778,
              "#fb9f3a"
             ],
             [
              0.8888888888888888,
              "#fdca26"
             ],
             [
              1,
              "#f0f921"
             ]
            ],
            "type": "histogram2d"
           }
          ],
          "histogram2dcontour": [
           {
            "colorbar": {
             "outlinewidth": 0,
             "ticks": ""
            },
            "colorscale": [
             [
              0,
              "#0d0887"
             ],
             [
              0.1111111111111111,
              "#46039f"
             ],
             [
              0.2222222222222222,
              "#7201a8"
             ],
             [
              0.3333333333333333,
              "#9c179e"
             ],
             [
              0.4444444444444444,
              "#bd3786"
             ],
             [
              0.5555555555555556,
              "#d8576b"
             ],
             [
              0.6666666666666666,
              "#ed7953"
             ],
             [
              0.7777777777777778,
              "#fb9f3a"
             ],
             [
              0.8888888888888888,
              "#fdca26"
             ],
             [
              1,
              "#f0f921"
             ]
            ],
            "type": "histogram2dcontour"
           }
          ],
          "mesh3d": [
           {
            "colorbar": {
             "outlinewidth": 0,
             "ticks": ""
            },
            "type": "mesh3d"
           }
          ],
          "parcoords": [
           {
            "line": {
             "colorbar": {
              "outlinewidth": 0,
              "ticks": ""
             }
            },
            "type": "parcoords"
           }
          ],
          "pie": [
           {
            "automargin": true,
            "type": "pie"
           }
          ],
          "scatter": [
           {
            "marker": {
             "colorbar": {
              "outlinewidth": 0,
              "ticks": ""
             }
            },
            "type": "scatter"
           }
          ],
          "scatter3d": [
           {
            "line": {
             "colorbar": {
              "outlinewidth": 0,
              "ticks": ""
             }
            },
            "marker": {
             "colorbar": {
              "outlinewidth": 0,
              "ticks": ""
             }
            },
            "type": "scatter3d"
           }
          ],
          "scattercarpet": [
           {
            "marker": {
             "colorbar": {
              "outlinewidth": 0,
              "ticks": ""
             }
            },
            "type": "scattercarpet"
           }
          ],
          "scattergeo": [
           {
            "marker": {
             "colorbar": {
              "outlinewidth": 0,
              "ticks": ""
             }
            },
            "type": "scattergeo"
           }
          ],
          "scattergl": [
           {
            "marker": {
             "colorbar": {
              "outlinewidth": 0,
              "ticks": ""
             }
            },
            "type": "scattergl"
           }
          ],
          "scattermapbox": [
           {
            "marker": {
             "colorbar": {
              "outlinewidth": 0,
              "ticks": ""
             }
            },
            "type": "scattermapbox"
           }
          ],
          "scatterpolar": [
           {
            "marker": {
             "colorbar": {
              "outlinewidth": 0,
              "ticks": ""
             }
            },
            "type": "scatterpolar"
           }
          ],
          "scatterpolargl": [
           {
            "marker": {
             "colorbar": {
              "outlinewidth": 0,
              "ticks": ""
             }
            },
            "type": "scatterpolargl"
           }
          ],
          "scatterternary": [
           {
            "marker": {
             "colorbar": {
              "outlinewidth": 0,
              "ticks": ""
             }
            },
            "type": "scatterternary"
           }
          ],
          "surface": [
           {
            "colorbar": {
             "outlinewidth": 0,
             "ticks": ""
            },
            "colorscale": [
             [
              0,
              "#0d0887"
             ],
             [
              0.1111111111111111,
              "#46039f"
             ],
             [
              0.2222222222222222,
              "#7201a8"
             ],
             [
              0.3333333333333333,
              "#9c179e"
             ],
             [
              0.4444444444444444,
              "#bd3786"
             ],
             [
              0.5555555555555556,
              "#d8576b"
             ],
             [
              0.6666666666666666,
              "#ed7953"
             ],
             [
              0.7777777777777778,
              "#fb9f3a"
             ],
             [
              0.8888888888888888,
              "#fdca26"
             ],
             [
              1,
              "#f0f921"
             ]
            ],
            "type": "surface"
           }
          ],
          "table": [
           {
            "cells": {
             "fill": {
              "color": "#EBF0F8"
             },
             "line": {
              "color": "white"
             }
            },
            "header": {
             "fill": {
              "color": "#C8D4E3"
             },
             "line": {
              "color": "white"
             }
            },
            "type": "table"
           }
          ]
         },
         "layout": {
          "annotationdefaults": {
           "arrowcolor": "#2a3f5f",
           "arrowhead": 0,
           "arrowwidth": 1
          },
          "coloraxis": {
           "colorbar": {
            "outlinewidth": 0,
            "ticks": ""
           }
          },
          "colorscale": {
           "diverging": [
            [
             0,
             "#8e0152"
            ],
            [
             0.1,
             "#c51b7d"
            ],
            [
             0.2,
             "#de77ae"
            ],
            [
             0.3,
             "#f1b6da"
            ],
            [
             0.4,
             "#fde0ef"
            ],
            [
             0.5,
             "#f7f7f7"
            ],
            [
             0.6,
             "#e6f5d0"
            ],
            [
             0.7,
             "#b8e186"
            ],
            [
             0.8,
             "#7fbc41"
            ],
            [
             0.9,
             "#4d9221"
            ],
            [
             1,
             "#276419"
            ]
           ],
           "sequential": [
            [
             0,
             "#0d0887"
            ],
            [
             0.1111111111111111,
             "#46039f"
            ],
            [
             0.2222222222222222,
             "#7201a8"
            ],
            [
             0.3333333333333333,
             "#9c179e"
            ],
            [
             0.4444444444444444,
             "#bd3786"
            ],
            [
             0.5555555555555556,
             "#d8576b"
            ],
            [
             0.6666666666666666,
             "#ed7953"
            ],
            [
             0.7777777777777778,
             "#fb9f3a"
            ],
            [
             0.8888888888888888,
             "#fdca26"
            ],
            [
             1,
             "#f0f921"
            ]
           ],
           "sequentialminus": [
            [
             0,
             "#0d0887"
            ],
            [
             0.1111111111111111,
             "#46039f"
            ],
            [
             0.2222222222222222,
             "#7201a8"
            ],
            [
             0.3333333333333333,
             "#9c179e"
            ],
            [
             0.4444444444444444,
             "#bd3786"
            ],
            [
             0.5555555555555556,
             "#d8576b"
            ],
            [
             0.6666666666666666,
             "#ed7953"
            ],
            [
             0.7777777777777778,
             "#fb9f3a"
            ],
            [
             0.8888888888888888,
             "#fdca26"
            ],
            [
             1,
             "#f0f921"
            ]
           ]
          },
          "colorway": [
           "#636efa",
           "#EF553B",
           "#00cc96",
           "#ab63fa",
           "#FFA15A",
           "#19d3f3",
           "#FF6692",
           "#B6E880",
           "#FF97FF",
           "#FECB52"
          ],
          "font": {
           "color": "#2a3f5f"
          },
          "geo": {
           "bgcolor": "white",
           "lakecolor": "white",
           "landcolor": "#E5ECF6",
           "showlakes": true,
           "showland": true,
           "subunitcolor": "white"
          },
          "hoverlabel": {
           "align": "left"
          },
          "hovermode": "closest",
          "mapbox": {
           "style": "light"
          },
          "paper_bgcolor": "white",
          "plot_bgcolor": "#E5ECF6",
          "polar": {
           "angularaxis": {
            "gridcolor": "white",
            "linecolor": "white",
            "ticks": ""
           },
           "bgcolor": "#E5ECF6",
           "radialaxis": {
            "gridcolor": "white",
            "linecolor": "white",
            "ticks": ""
           }
          },
          "scene": {
           "xaxis": {
            "backgroundcolor": "#E5ECF6",
            "gridcolor": "white",
            "gridwidth": 2,
            "linecolor": "white",
            "showbackground": true,
            "ticks": "",
            "zerolinecolor": "white"
           },
           "yaxis": {
            "backgroundcolor": "#E5ECF6",
            "gridcolor": "white",
            "gridwidth": 2,
            "linecolor": "white",
            "showbackground": true,
            "ticks": "",
            "zerolinecolor": "white"
           },
           "zaxis": {
            "backgroundcolor": "#E5ECF6",
            "gridcolor": "white",
            "gridwidth": 2,
            "linecolor": "white",
            "showbackground": true,
            "ticks": "",
            "zerolinecolor": "white"
           }
          },
          "shapedefaults": {
           "line": {
            "color": "#2a3f5f"
           }
          },
          "ternary": {
           "aaxis": {
            "gridcolor": "white",
            "linecolor": "white",
            "ticks": ""
           },
           "baxis": {
            "gridcolor": "white",
            "linecolor": "white",
            "ticks": ""
           },
           "bgcolor": "#E5ECF6",
           "caxis": {
            "gridcolor": "white",
            "linecolor": "white",
            "ticks": ""
           }
          },
          "title": {
           "x": 0.05
          },
          "xaxis": {
           "automargin": true,
           "gridcolor": "white",
           "linecolor": "white",
           "ticks": "",
           "title": {
            "standoff": 15
           },
           "zerolinecolor": "white",
           "zerolinewidth": 2
          },
          "yaxis": {
           "automargin": true,
           "gridcolor": "white",
           "linecolor": "white",
           "ticks": "",
           "title": {
            "standoff": 15
           },
           "zerolinecolor": "white",
           "zerolinewidth": 2
          }
         }
        },
        "title": {
         "text": "2019年亲子育儿各类别消费占比"
        }
       }
      },
      "text/html": [
       "<div>\n",
       "        \n",
       "        \n",
       "            <div id=\"261a8f58-0047-4387-adca-1f14aa4cc9fd\" class=\"plotly-graph-div\" style=\"height:525px; width:100%;\"></div>\n",
       "            <script type=\"text/javascript\">\n",
       "                require([\"plotly\"], function(Plotly) {\n",
       "                    window.PLOTLYENV=window.PLOTLYENV || {};\n",
       "                    \n",
       "                if (document.getElementById(\"261a8f58-0047-4387-adca-1f14aa4cc9fd\")) {\n",
       "                    Plotly.newPlot(\n",
       "                        '261a8f58-0047-4387-adca-1f14aa4cc9fd',\n",
       "                        [{\"domain\": {\"x\": [0.0, 1.0], \"y\": [0.0, 1.0]}, \"hoverlabel\": {\"namelength\": 0}, \"hovertemplate\": \"type=%{label}<br>amount=%{value}\", \"labels\": [\"\\u533b\\u7597\\u5065\\u5eb7\", \"\\u533b\\u7597\\u5065\\u5eb7\", \"\\u5976\\u7c89\", \"\\u5b9d\\u5b9d\\u670d\\u9970\", \"\\u5b9d\\u5b9d\\u98df\\u54c1\", \"\\u5b9d\\u5b9d\\u98df\\u54c1\", \"\\u6559\\u80b2\\u652f\\u51fa\", \"\\u6559\\u80b2\\u652f\\u51fa\", \"\\u65e5\\u5e38\\u7528\\u54c1\", \"\\u73a9\\u5177\\u4e50\\u5668\", \"\\u5176\\u4ed6\", \"\\u5976\\u7c89\", \"\\u5b9d\\u5b9d\\u98df\\u54c1\", \"\\u6559\\u80b2\\u652f\\u51fa\", \"\\u6559\\u80b2\\u652f\\u51fa\", \"\\u73a9\\u5177\\u4e50\\u5668\", \"\\u4e66\\u7c4d\\u97f3\\u50cf\", \"\\u5176\\u4ed6\", \"\\u533b\\u7597\\u5065\\u5eb7\", \"\\u5976\\u7c89\", \"\\u5b9d\\u5b9d\\u670d\\u9970\", \"\\u5b9d\\u5b9d\\u98df\\u54c1\", \"\\u5c3f\\u5e03\\u5c3f\\u7247\", \"\\u6559\\u80b2\\u652f\\u51fa\", \"\\u73a9\\u5177\\u4e50\\u5668\", \"\\u533b\\u7597\\u5065\\u5eb7\", \"\\u5976\\u7c89\", \"\\u5b9d\\u5b9d\\u670d\\u9970\", \"\\u5b9d\\u5b9d\\u98df\\u54c1\", \"\\u6559\\u80b2\\u652f\\u51fa\", \"\\u6559\\u80b2\\u652f\\u51fa\", \"\\u5176\\u4ed6\", \"\\u5976\\u7c89\", \"\\u5b9d\\u5b9d\\u670d\\u9970\", \"\\u5b9d\\u5b9d\\u98df\\u54c1\", \"\\u5c3f\\u5e03\\u5c3f\\u7247\", \"\\u6559\\u80b2\\u652f\\u51fa\", \"\\u6559\\u80b2\\u652f\\u51fa\", \"\\u65e5\\u5e38\\u7528\\u54c1\", \"\\u73a9\\u5177\\u4e50\\u5668\", \"\\u4e66\\u7c4d\\u97f3\\u50cf\", \"\\u533b\\u7597\\u5065\\u5eb7\", \"\\u5976\\u7c89\", \"\\u5b9d\\u5b9d\\u670d\\u9970\", \"\\u5b9d\\u5b9d\\u670d\\u9970\", \"\\u5b9d\\u5b9d\\u98df\\u54c1\", \"\\u5b9d\\u5b9d\\u98df\\u54c1\", \"\\u5c3f\\u5e03\\u5c3f\\u7247\", \"\\u6559\\u80b2\\u652f\\u51fa\", \"\\u6559\\u80b2\\u652f\\u51fa\", \"\\u65e5\\u5e38\\u7528\\u54c1\", \"\\u65e5\\u5e38\\u7528\\u54c1\", \"\\u6d17\\u6d74\\u62a4\\u80a4\", \"\\u73a9\\u5177\\u4e50\\u5668\", \"\\u73a9\\u5177\\u4e50\\u5668\", \"\\u5176\\u4ed6\", \"\\u533b\\u7597\\u5065\\u5eb7\", \"\\u5b9d\\u5b9d\\u670d\\u9970\", \"\\u5b9d\\u5b9d\\u98df\\u54c1\", \"\\u5b9d\\u5b9d\\u98df\\u54c1\", \"\\u6559\\u80b2\\u652f\\u51fa\", \"\\u65e5\\u5e38\\u7528\\u54c1\", \"\\u65e5\\u5e38\\u7528\\u54c1\", \"\\u73a9\\u5177\\u4e50\\u5668\", \"\\u5176\\u4ed6\", \"\\u5976\\u7c89\", \"\\u5b9d\\u5b9d\\u670d\\u9970\", \"\\u5b9d\\u5b9d\\u670d\\u9970\", \"\\u5c3f\\u5e03\\u5c3f\\u7247\", \"\\u6559\\u80b2\\u652f\\u51fa\", \"\\u73a9\\u5177\\u4e50\\u5668\", \"\\u4e66\\u7c4d\\u97f3\\u50cf\", \"\\u4eb2\\u5b50\\u65f6\\u5149\", \"\\u5176\\u4ed6\", \"\\u5176\\u4ed6\", \"\\u533b\\u7597\\u5065\\u5eb7\", \"\\u533b\\u7597\\u5065\\u5eb7\", \"\\u5b9d\\u5b9d\\u670d\\u9970\", \"\\u5b9d\\u5b9d\\u670d\\u9970\", \"\\u5b9d\\u5b9d\\u98df\\u54c1\", \"\\u6559\\u80b2\\u652f\\u51fa\", \"\\u6559\\u80b2\\u652f\\u51fa\", \"\\u65e5\\u5e38\\u7528\\u54c1\", \"\\u6d17\\u6d74\\u62a4\\u80a4\", \"\\u73a9\\u5177\\u4e50\\u5668\", \"\\u533b\\u7597\\u5065\\u5eb7\", \"\\u5b9d\\u5b9d\\u670d\\u9970\", \"\\u5b9d\\u5b9d\\u670d\\u9970\", \"\\u5b9d\\u5b9d\\u98df\\u54c1\", \"\\u5b9d\\u5b9d\\u98df\\u54c1\", \"\\u5c3f\\u5e03\\u5c3f\\u7247\", \"\\u6559\\u80b2\\u652f\\u51fa\", \"\\u6559\\u80b2\\u652f\\u51fa\", \"\\u65e5\\u5e38\\u7528\\u54c1\", \"\\u73a9\\u5177\\u4e50\\u5668\", \"\\u4e66\\u7c4d\\u97f3\\u50cf\", \"\\u5976\\u7c89\", \"\\u5b9d\\u5b9d\\u670d\\u9970\", \"\\u5b9d\\u5b9d\\u670d\\u9970\", \"\\u5b9d\\u5b9d\\u98df\\u54c1\", \"\\u5c3f\\u5e03\\u5c3f\\u7247\", \"\\u6559\\u80b2\\u652f\\u51fa\", \"\\u6559\\u80b2\\u652f\\u51fa\", \"\\u65e5\\u5e38\\u7528\\u54c1\", \"\\u65e5\\u5e38\\u7528\\u54c1\", \"\\u6d17\\u6d74\\u62a4\\u80a4\", \"\\u73a9\\u5177\\u4e50\\u5668\", \"\\u5176\\u4ed6\", \"\\u533b\\u7597\\u5065\\u5eb7\", \"\\u533b\\u7597\\u5065\\u5eb7\", \"\\u5b9d\\u5b9d\\u670d\\u9970\", \"\\u5b9d\\u5b9d\\u670d\\u9970\", \"\\u5b9d\\u5b9d\\u98df\\u54c1\", \"\\u5c3f\\u5e03\\u5c3f\\u7247\", \"\\u6559\\u80b2\\u652f\\u51fa\", \"\\u65e5\\u5e38\\u7528\\u54c1\", \"\\u65e5\\u5e38\\u7528\\u54c1\", \"\\u73a9\\u5177\\u4e50\\u5668\"], \"legendgroup\": \"\", \"name\": \"\", \"showlegend\": true, \"textinfo\": \"percent+label+value\", \"textposition\": \"inside\", \"type\": \"pie\", \"values\": [172.4, 25.0, 775.9899999999999, 10.0, 16.72, 196.1, 518.2, 2000.0, 238.0, 47.0, 100.0, 535.52, 30.5, 1500.0, 500.0, 5.0, 15373.6, 227.0, 3223.0, 246.88, 312.9, 65.9, 250.71, 1000.0, 961.9, 3393.9, 222.24, 118.0, 135.36, 1400.0, 1000.0, 64.0, 480.85, 503.24, 227.5, 144.23, 410.0, 1000.0, 167.8, 204.4, 99.0, 504.36, 878.1700000000001, 742.0, 179.0, 6.0, 9.9, 545.05, 3099.0, 2000.0, 26.5, 28.9, 52.66, 511.76, 14.9, 15.0, 50.0, 156.81, 20.6, 30.0, 2000.0, 30.0, 182.39999999999998, 35.0, 15.0, 478.95, 154.7, 148.5, 593.55, 2010.95, 55.66, 11.97, 45.0, 6900.0, 9.9, 230.0, 25.0, 1008.8, 277.0, 258.6, 950.0, 2000.0, 82.68, 29.0, 55.8, 9586.4, 125.7, 32.0, 15.9, 76.6, 43.0, 599.0, 2000.0, 47.04, 131.5, 8760.0, 479.0, 432.9, 34.9, 224.49, 221.22, 2899.0, 2000.0, 265.01, 248.56, 58.0, 23.8, 331.0, 170.4, 460.5, 633.71, 155.96, 9.9, 240.04, 2000.0, 29.0, 183.43, 25.4]}],\n",
       "                        {\"legend\": {\"tracegroupgap\": 0}, \"template\": {\"data\": {\"bar\": [{\"error_x\": {\"color\": \"#2a3f5f\"}, \"error_y\": {\"color\": \"#2a3f5f\"}, \"marker\": {\"line\": {\"color\": \"#E5ECF6\", \"width\": 0.5}}, \"type\": \"bar\"}], \"barpolar\": [{\"marker\": {\"line\": {\"color\": \"#E5ECF6\", \"width\": 0.5}}, \"type\": \"barpolar\"}], \"carpet\": [{\"aaxis\": {\"endlinecolor\": \"#2a3f5f\", \"gridcolor\": \"white\", \"linecolor\": \"white\", \"minorgridcolor\": \"white\", \"startlinecolor\": \"#2a3f5f\"}, \"baxis\": {\"endlinecolor\": \"#2a3f5f\", \"gridcolor\": \"white\", \"linecolor\": \"white\", \"minorgridcolor\": \"white\", \"startlinecolor\": \"#2a3f5f\"}, \"type\": \"carpet\"}], \"choropleth\": [{\"colorbar\": {\"outlinewidth\": 0, \"ticks\": \"\"}, \"type\": \"choropleth\"}], \"contour\": [{\"colorbar\": {\"outlinewidth\": 0, \"ticks\": \"\"}, \"colorscale\": [[0.0, \"#0d0887\"], [0.1111111111111111, \"#46039f\"], [0.2222222222222222, \"#7201a8\"], [0.3333333333333333, \"#9c179e\"], [0.4444444444444444, \"#bd3786\"], [0.5555555555555556, \"#d8576b\"], [0.6666666666666666, \"#ed7953\"], [0.7777777777777778, \"#fb9f3a\"], [0.8888888888888888, \"#fdca26\"], [1.0, \"#f0f921\"]], \"type\": \"contour\"}], \"contourcarpet\": [{\"colorbar\": {\"outlinewidth\": 0, \"ticks\": \"\"}, \"type\": \"contourcarpet\"}], \"heatmap\": [{\"colorbar\": {\"outlinewidth\": 0, \"ticks\": \"\"}, \"colorscale\": [[0.0, \"#0d0887\"], [0.1111111111111111, \"#46039f\"], [0.2222222222222222, \"#7201a8\"], [0.3333333333333333, \"#9c179e\"], [0.4444444444444444, \"#bd3786\"], [0.5555555555555556, \"#d8576b\"], [0.6666666666666666, \"#ed7953\"], [0.7777777777777778, \"#fb9f3a\"], [0.8888888888888888, \"#fdca26\"], [1.0, \"#f0f921\"]], \"type\": \"heatmap\"}], \"heatmapgl\": [{\"colorbar\": {\"outlinewidth\": 0, \"ticks\": \"\"}, \"colorscale\": [[0.0, \"#0d0887\"], [0.1111111111111111, \"#46039f\"], [0.2222222222222222, \"#7201a8\"], [0.3333333333333333, \"#9c179e\"], [0.4444444444444444, \"#bd3786\"], [0.5555555555555556, \"#d8576b\"], [0.6666666666666666, \"#ed7953\"], [0.7777777777777778, \"#fb9f3a\"], [0.8888888888888888, \"#fdca26\"], [1.0, \"#f0f921\"]], \"type\": \"heatmapgl\"}], \"histogram\": [{\"marker\": {\"colorbar\": {\"outlinewidth\": 0, \"ticks\": \"\"}}, \"type\": \"histogram\"}], \"histogram2d\": [{\"colorbar\": {\"outlinewidth\": 0, \"ticks\": \"\"}, \"colorscale\": [[0.0, \"#0d0887\"], [0.1111111111111111, \"#46039f\"], [0.2222222222222222, \"#7201a8\"], [0.3333333333333333, \"#9c179e\"], [0.4444444444444444, \"#bd3786\"], [0.5555555555555556, \"#d8576b\"], [0.6666666666666666, \"#ed7953\"], [0.7777777777777778, \"#fb9f3a\"], [0.8888888888888888, \"#fdca26\"], [1.0, \"#f0f921\"]], \"type\": \"histogram2d\"}], \"histogram2dcontour\": [{\"colorbar\": {\"outlinewidth\": 0, \"ticks\": \"\"}, \"colorscale\": [[0.0, \"#0d0887\"], [0.1111111111111111, \"#46039f\"], [0.2222222222222222, \"#7201a8\"], [0.3333333333333333, \"#9c179e\"], [0.4444444444444444, \"#bd3786\"], [0.5555555555555556, \"#d8576b\"], [0.6666666666666666, \"#ed7953\"], [0.7777777777777778, \"#fb9f3a\"], [0.8888888888888888, \"#fdca26\"], [1.0, \"#f0f921\"]], \"type\": \"histogram2dcontour\"}], \"mesh3d\": [{\"colorbar\": {\"outlinewidth\": 0, \"ticks\": \"\"}, \"type\": \"mesh3d\"}], \"parcoords\": [{\"line\": {\"colorbar\": {\"outlinewidth\": 0, \"ticks\": \"\"}}, \"type\": \"parcoords\"}], \"pie\": [{\"automargin\": true, \"type\": \"pie\"}], \"scatter\": [{\"marker\": {\"colorbar\": {\"outlinewidth\": 0, \"ticks\": \"\"}}, \"type\": \"scatter\"}], \"scatter3d\": [{\"line\": {\"colorbar\": {\"outlinewidth\": 0, \"ticks\": \"\"}}, \"marker\": {\"colorbar\": {\"outlinewidth\": 0, \"ticks\": \"\"}}, \"type\": \"scatter3d\"}], \"scattercarpet\": [{\"marker\": {\"colorbar\": {\"outlinewidth\": 0, \"ticks\": \"\"}}, \"type\": \"scattercarpet\"}], \"scattergeo\": [{\"marker\": {\"colorbar\": {\"outlinewidth\": 0, \"ticks\": \"\"}}, \"type\": \"scattergeo\"}], \"scattergl\": [{\"marker\": {\"colorbar\": {\"outlinewidth\": 0, \"ticks\": \"\"}}, \"type\": \"scattergl\"}], \"scattermapbox\": [{\"marker\": {\"colorbar\": {\"outlinewidth\": 0, \"ticks\": \"\"}}, \"type\": \"scattermapbox\"}], \"scatterpolar\": [{\"marker\": {\"colorbar\": {\"outlinewidth\": 0, \"ticks\": \"\"}}, \"type\": \"scatterpolar\"}], \"scatterpolargl\": [{\"marker\": {\"colorbar\": {\"outlinewidth\": 0, \"ticks\": \"\"}}, \"type\": \"scatterpolargl\"}], \"scatterternary\": [{\"marker\": {\"colorbar\": {\"outlinewidth\": 0, \"ticks\": \"\"}}, \"type\": \"scatterternary\"}], \"surface\": [{\"colorbar\": {\"outlinewidth\": 0, \"ticks\": \"\"}, \"colorscale\": [[0.0, \"#0d0887\"], [0.1111111111111111, \"#46039f\"], [0.2222222222222222, \"#7201a8\"], [0.3333333333333333, \"#9c179e\"], [0.4444444444444444, \"#bd3786\"], [0.5555555555555556, \"#d8576b\"], [0.6666666666666666, \"#ed7953\"], [0.7777777777777778, \"#fb9f3a\"], [0.8888888888888888, \"#fdca26\"], [1.0, \"#f0f921\"]], \"type\": \"surface\"}], \"table\": [{\"cells\": {\"fill\": {\"color\": \"#EBF0F8\"}, \"line\": {\"color\": \"white\"}}, \"header\": {\"fill\": {\"color\": \"#C8D4E3\"}, \"line\": {\"color\": \"white\"}}, \"type\": \"table\"}]}, \"layout\": {\"annotationdefaults\": {\"arrowcolor\": \"#2a3f5f\", \"arrowhead\": 0, \"arrowwidth\": 1}, \"coloraxis\": {\"colorbar\": {\"outlinewidth\": 0, \"ticks\": \"\"}}, \"colorscale\": {\"diverging\": [[0, \"#8e0152\"], [0.1, \"#c51b7d\"], [0.2, \"#de77ae\"], [0.3, \"#f1b6da\"], [0.4, \"#fde0ef\"], [0.5, \"#f7f7f7\"], [0.6, \"#e6f5d0\"], [0.7, \"#b8e186\"], [0.8, \"#7fbc41\"], [0.9, \"#4d9221\"], [1, \"#276419\"]], \"sequential\": [[0.0, \"#0d0887\"], [0.1111111111111111, \"#46039f\"], [0.2222222222222222, \"#7201a8\"], [0.3333333333333333, \"#9c179e\"], [0.4444444444444444, \"#bd3786\"], [0.5555555555555556, \"#d8576b\"], [0.6666666666666666, \"#ed7953\"], [0.7777777777777778, \"#fb9f3a\"], [0.8888888888888888, \"#fdca26\"], [1.0, \"#f0f921\"]], \"sequentialminus\": [[0.0, \"#0d0887\"], [0.1111111111111111, \"#46039f\"], [0.2222222222222222, \"#7201a8\"], [0.3333333333333333, \"#9c179e\"], [0.4444444444444444, \"#bd3786\"], [0.5555555555555556, \"#d8576b\"], [0.6666666666666666, \"#ed7953\"], [0.7777777777777778, \"#fb9f3a\"], [0.8888888888888888, \"#fdca26\"], [1.0, \"#f0f921\"]]}, \"colorway\": [\"#636efa\", \"#EF553B\", \"#00cc96\", \"#ab63fa\", \"#FFA15A\", \"#19d3f3\", \"#FF6692\", \"#B6E880\", \"#FF97FF\", \"#FECB52\"], \"font\": {\"color\": \"#2a3f5f\"}, \"geo\": {\"bgcolor\": \"white\", \"lakecolor\": \"white\", \"landcolor\": \"#E5ECF6\", \"showlakes\": true, \"showland\": true, \"subunitcolor\": \"white\"}, \"hoverlabel\": {\"align\": \"left\"}, \"hovermode\": \"closest\", \"mapbox\": {\"style\": \"light\"}, \"paper_bgcolor\": \"white\", \"plot_bgcolor\": \"#E5ECF6\", \"polar\": {\"angularaxis\": {\"gridcolor\": \"white\", \"linecolor\": \"white\", \"ticks\": \"\"}, \"bgcolor\": \"#E5ECF6\", \"radialaxis\": {\"gridcolor\": \"white\", \"linecolor\": \"white\", \"ticks\": \"\"}}, \"scene\": {\"xaxis\": {\"backgroundcolor\": \"#E5ECF6\", \"gridcolor\": \"white\", \"gridwidth\": 2, \"linecolor\": \"white\", \"showbackground\": true, \"ticks\": \"\", \"zerolinecolor\": \"white\"}, \"yaxis\": {\"backgroundcolor\": \"#E5ECF6\", \"gridcolor\": \"white\", \"gridwidth\": 2, \"linecolor\": \"white\", \"showbackground\": true, \"ticks\": \"\", \"zerolinecolor\": \"white\"}, \"zaxis\": {\"backgroundcolor\": \"#E5ECF6\", \"gridcolor\": \"white\", \"gridwidth\": 2, \"linecolor\": \"white\", \"showbackground\": true, \"ticks\": \"\", \"zerolinecolor\": \"white\"}}, \"shapedefaults\": {\"line\": {\"color\": \"#2a3f5f\"}}, \"ternary\": {\"aaxis\": {\"gridcolor\": \"white\", \"linecolor\": \"white\", \"ticks\": \"\"}, \"baxis\": {\"gridcolor\": \"white\", \"linecolor\": \"white\", \"ticks\": \"\"}, \"bgcolor\": \"#E5ECF6\", \"caxis\": {\"gridcolor\": \"white\", \"linecolor\": \"white\", \"ticks\": \"\"}}, \"title\": {\"x\": 0.05}, \"xaxis\": {\"automargin\": true, \"gridcolor\": \"white\", \"linecolor\": \"white\", \"ticks\": \"\", \"title\": {\"standoff\": 15}, \"zerolinecolor\": \"white\", \"zerolinewidth\": 2}, \"yaxis\": {\"automargin\": true, \"gridcolor\": \"white\", \"linecolor\": \"white\", \"ticks\": \"\", \"title\": {\"standoff\": 15}, \"zerolinecolor\": \"white\", \"zerolinewidth\": 2}}}, \"title\": {\"text\": \"2019\\u5e74\\u4eb2\\u5b50\\u80b2\\u513f\\u5404\\u7c7b\\u522b\\u6d88\\u8d39\\u5360\\u6bd4\"}},\n",
       "                        {\"responsive\": true}\n",
       "                    ).then(function(){\n",
       "                            \n",
       "var gd = document.getElementById('261a8f58-0047-4387-adca-1f14aa4cc9fd');\n",
       "var x = new MutationObserver(function (mutations, observer) {{\n",
       "        var display = window.getComputedStyle(gd).display;\n",
       "        if (!display || display === 'none') {{\n",
       "            console.log([gd, 'removed!']);\n",
       "            Plotly.purge(gd);\n",
       "            observer.disconnect();\n",
       "        }}\n",
       "}});\n",
       "\n",
       "// Listen for the removal of the full notebook cells\n",
       "var notebookContainer = gd.closest('#notebook-container');\n",
       "if (notebookContainer) {{\n",
       "    x.observe(notebookContainer, {childList: true});\n",
       "}}\n",
       "\n",
       "// Listen for the clearing of the current output cell\n",
       "var outputEl = gd.closest('.output');\n",
       "if (outputEl) {{\n",
       "    x.observe(outputEl, {childList: true});\n",
       "}}\n",
       "\n",
       "                        })\n",
       "                };\n",
       "                });\n",
       "            </script>\n",
       "        </div>"
      ]
     },
     "metadata": {},
     "output_type": "display_data"
    }
   ],
   "source": [
    "fig=px.pie(disp2, names='type', values='amount', title='2019年亲子育儿各类别消费占比')\n",
    "fig.update_traces(textposition='inside', textinfo='percent+label+value')\n",
    "fig.show()"
   ]
  },
  {
   "cell_type": "code",
   "execution_count": 93,
   "metadata": {},
   "outputs": [
    {
     "data": {
      "application/vnd.plotly.v1+json": {
       "config": {
        "plotlyServerURL": "https://plot.ly"
       },
       "data": [
        {
         "domain": {
          "x": [
           0,
           1
          ],
          "y": [
           0,
           1
          ]
         },
         "hoverlabel": {
          "namelength": 0
         },
         "hovertemplate": "user=%{label}<br>amount=%{value}",
         "labels": [
          "张嘉芯",
          "张楚淇",
          "张楚淇",
          "张嘉芯",
          "张嘉芯",
          "张楚淇",
          "张嘉芯",
          "张楚淇",
          "张楚淇",
          "张嘉芯",
          "张嘉芯",
          "张楚淇",
          "张嘉芯",
          "张嘉芯",
          "张楚淇",
          "张嘉芯",
          "张嘉芯",
          "张嘉芯",
          "张嘉芯",
          "张楚淇",
          "张嘉芯",
          "张嘉芯",
          "张楚淇",
          "张楚淇",
          "张嘉芯",
          "张嘉芯",
          "张楚淇",
          "张嘉芯",
          "张楚淇",
          "张嘉芯",
          "张楚淇",
          "张楚淇",
          "张楚淇",
          "张嘉芯",
          "张楚淇",
          "张楚淇",
          "张嘉芯",
          "张楚淇",
          "张楚淇",
          "张嘉芯",
          "张嘉芯",
          "张楚淇",
          "张楚淇",
          "张嘉芯",
          "张楚淇",
          "张嘉芯",
          "张楚淇",
          "张楚淇",
          "张嘉芯",
          "张楚淇",
          "张嘉芯",
          "张楚淇",
          "张楚淇",
          "张嘉芯",
          "张楚淇",
          "张嘉芯",
          "张楚淇",
          "张嘉芯",
          "张嘉芯",
          "张楚淇",
          "张楚淇",
          "张嘉芯",
          "张楚淇",
          "张嘉芯",
          "张嘉芯",
          "张楚淇",
          "张嘉芯",
          "张楚淇",
          "张楚淇",
          "张楚淇",
          "张嘉芯",
          "张嘉芯",
          "张楚淇",
          "张嘉芯",
          "张楚淇",
          "张嘉芯",
          "张楚淇",
          "张嘉芯",
          "张楚淇",
          "张楚淇",
          "张嘉芯",
          "张楚淇",
          "张楚淇",
          "张嘉芯",
          "张嘉芯",
          "张楚淇",
          "张嘉芯",
          "张楚淇",
          "张嘉芯",
          "张楚淇",
          "张楚淇",
          "张嘉芯",
          "张楚淇",
          "张楚淇",
          "张嘉芯",
          "张嘉芯",
          "张楚淇",
          "张嘉芯",
          "张楚淇",
          "张楚淇",
          "张楚淇",
          "张嘉芯",
          "张楚淇",
          "张嘉芯",
          "张楚淇",
          "张嘉芯",
          "张嘉芯",
          "张嘉芯",
          "张嘉芯",
          "张楚淇",
          "张嘉芯",
          "张楚淇",
          "张嘉芯",
          "张楚淇",
          "张楚淇",
          "张嘉芯",
          "张楚淇",
          "张嘉芯"
         ],
         "legendgroup": "",
         "name": "",
         "showlegend": true,
         "textinfo": "percent+label+value",
         "textposition": "inside",
         "type": "pie",
         "values": [
          172.4,
          25,
          775.9899999999999,
          10,
          16.72,
          196.1,
          518.2,
          2000,
          238,
          47,
          100,
          535.52,
          30.5,
          1500,
          500,
          5,
          15373.6,
          227,
          3223,
          246.88,
          312.9,
          65.9,
          250.71,
          1000,
          961.9,
          3393.9,
          222.24,
          118,
          135.36,
          1400,
          1000,
          64,
          480.85,
          503.24,
          227.5,
          144.23,
          410,
          1000,
          167.8,
          204.4,
          99,
          504.36,
          878.1700000000001,
          742,
          179,
          6,
          9.9,
          545.05,
          3099,
          2000,
          26.5,
          28.9,
          52.66,
          511.76,
          14.9,
          15,
          50,
          156.81,
          20.6,
          30,
          2000,
          30,
          182.39999999999998,
          35,
          15,
          478.95,
          154.7,
          148.5,
          593.55,
          2010.95,
          55.66,
          11.97,
          45,
          6900,
          9.9,
          230,
          25,
          1008.8,
          277,
          258.6,
          950,
          2000,
          82.68,
          29,
          55.8,
          9586.4,
          125.7,
          32,
          15.9,
          76.6,
          43,
          599,
          2000,
          47.04,
          131.5,
          8760,
          479,
          432.9,
          34.9,
          224.49,
          221.22,
          2899,
          2000,
          265.01,
          248.56,
          58,
          23.8,
          331,
          170.4,
          460.5,
          633.71,
          155.96,
          9.9,
          240.04,
          2000,
          29,
          183.43,
          25.4
         ]
        }
       ],
       "layout": {
        "legend": {
         "tracegroupgap": 0
        },
        "template": {
         "data": {
          "bar": [
           {
            "error_x": {
             "color": "#2a3f5f"
            },
            "error_y": {
             "color": "#2a3f5f"
            },
            "marker": {
             "line": {
              "color": "#E5ECF6",
              "width": 0.5
             }
            },
            "type": "bar"
           }
          ],
          "barpolar": [
           {
            "marker": {
             "line": {
              "color": "#E5ECF6",
              "width": 0.5
             }
            },
            "type": "barpolar"
           }
          ],
          "carpet": [
           {
            "aaxis": {
             "endlinecolor": "#2a3f5f",
             "gridcolor": "white",
             "linecolor": "white",
             "minorgridcolor": "white",
             "startlinecolor": "#2a3f5f"
            },
            "baxis": {
             "endlinecolor": "#2a3f5f",
             "gridcolor": "white",
             "linecolor": "white",
             "minorgridcolor": "white",
             "startlinecolor": "#2a3f5f"
            },
            "type": "carpet"
           }
          ],
          "choropleth": [
           {
            "colorbar": {
             "outlinewidth": 0,
             "ticks": ""
            },
            "type": "choropleth"
           }
          ],
          "contour": [
           {
            "colorbar": {
             "outlinewidth": 0,
             "ticks": ""
            },
            "colorscale": [
             [
              0,
              "#0d0887"
             ],
             [
              0.1111111111111111,
              "#46039f"
             ],
             [
              0.2222222222222222,
              "#7201a8"
             ],
             [
              0.3333333333333333,
              "#9c179e"
             ],
             [
              0.4444444444444444,
              "#bd3786"
             ],
             [
              0.5555555555555556,
              "#d8576b"
             ],
             [
              0.6666666666666666,
              "#ed7953"
             ],
             [
              0.7777777777777778,
              "#fb9f3a"
             ],
             [
              0.8888888888888888,
              "#fdca26"
             ],
             [
              1,
              "#f0f921"
             ]
            ],
            "type": "contour"
           }
          ],
          "contourcarpet": [
           {
            "colorbar": {
             "outlinewidth": 0,
             "ticks": ""
            },
            "type": "contourcarpet"
           }
          ],
          "heatmap": [
           {
            "colorbar": {
             "outlinewidth": 0,
             "ticks": ""
            },
            "colorscale": [
             [
              0,
              "#0d0887"
             ],
             [
              0.1111111111111111,
              "#46039f"
             ],
             [
              0.2222222222222222,
              "#7201a8"
             ],
             [
              0.3333333333333333,
              "#9c179e"
             ],
             [
              0.4444444444444444,
              "#bd3786"
             ],
             [
              0.5555555555555556,
              "#d8576b"
             ],
             [
              0.6666666666666666,
              "#ed7953"
             ],
             [
              0.7777777777777778,
              "#fb9f3a"
             ],
             [
              0.8888888888888888,
              "#fdca26"
             ],
             [
              1,
              "#f0f921"
             ]
            ],
            "type": "heatmap"
           }
          ],
          "heatmapgl": [
           {
            "colorbar": {
             "outlinewidth": 0,
             "ticks": ""
            },
            "colorscale": [
             [
              0,
              "#0d0887"
             ],
             [
              0.1111111111111111,
              "#46039f"
             ],
             [
              0.2222222222222222,
              "#7201a8"
             ],
             [
              0.3333333333333333,
              "#9c179e"
             ],
             [
              0.4444444444444444,
              "#bd3786"
             ],
             [
              0.5555555555555556,
              "#d8576b"
             ],
             [
              0.6666666666666666,
              "#ed7953"
             ],
             [
              0.7777777777777778,
              "#fb9f3a"
             ],
             [
              0.8888888888888888,
              "#fdca26"
             ],
             [
              1,
              "#f0f921"
             ]
            ],
            "type": "heatmapgl"
           }
          ],
          "histogram": [
           {
            "marker": {
             "colorbar": {
              "outlinewidth": 0,
              "ticks": ""
             }
            },
            "type": "histogram"
           }
          ],
          "histogram2d": [
           {
            "colorbar": {
             "outlinewidth": 0,
             "ticks": ""
            },
            "colorscale": [
             [
              0,
              "#0d0887"
             ],
             [
              0.1111111111111111,
              "#46039f"
             ],
             [
              0.2222222222222222,
              "#7201a8"
             ],
             [
              0.3333333333333333,
              "#9c179e"
             ],
             [
              0.4444444444444444,
              "#bd3786"
             ],
             [
              0.5555555555555556,
              "#d8576b"
             ],
             [
              0.6666666666666666,
              "#ed7953"
             ],
             [
              0.7777777777777778,
              "#fb9f3a"
             ],
             [
              0.8888888888888888,
              "#fdca26"
             ],
             [
              1,
              "#f0f921"
             ]
            ],
            "type": "histogram2d"
           }
          ],
          "histogram2dcontour": [
           {
            "colorbar": {
             "outlinewidth": 0,
             "ticks": ""
            },
            "colorscale": [
             [
              0,
              "#0d0887"
             ],
             [
              0.1111111111111111,
              "#46039f"
             ],
             [
              0.2222222222222222,
              "#7201a8"
             ],
             [
              0.3333333333333333,
              "#9c179e"
             ],
             [
              0.4444444444444444,
              "#bd3786"
             ],
             [
              0.5555555555555556,
              "#d8576b"
             ],
             [
              0.6666666666666666,
              "#ed7953"
             ],
             [
              0.7777777777777778,
              "#fb9f3a"
             ],
             [
              0.8888888888888888,
              "#fdca26"
             ],
             [
              1,
              "#f0f921"
             ]
            ],
            "type": "histogram2dcontour"
           }
          ],
          "mesh3d": [
           {
            "colorbar": {
             "outlinewidth": 0,
             "ticks": ""
            },
            "type": "mesh3d"
           }
          ],
          "parcoords": [
           {
            "line": {
             "colorbar": {
              "outlinewidth": 0,
              "ticks": ""
             }
            },
            "type": "parcoords"
           }
          ],
          "pie": [
           {
            "automargin": true,
            "type": "pie"
           }
          ],
          "scatter": [
           {
            "marker": {
             "colorbar": {
              "outlinewidth": 0,
              "ticks": ""
             }
            },
            "type": "scatter"
           }
          ],
          "scatter3d": [
           {
            "line": {
             "colorbar": {
              "outlinewidth": 0,
              "ticks": ""
             }
            },
            "marker": {
             "colorbar": {
              "outlinewidth": 0,
              "ticks": ""
             }
            },
            "type": "scatter3d"
           }
          ],
          "scattercarpet": [
           {
            "marker": {
             "colorbar": {
              "outlinewidth": 0,
              "ticks": ""
             }
            },
            "type": "scattercarpet"
           }
          ],
          "scattergeo": [
           {
            "marker": {
             "colorbar": {
              "outlinewidth": 0,
              "ticks": ""
             }
            },
            "type": "scattergeo"
           }
          ],
          "scattergl": [
           {
            "marker": {
             "colorbar": {
              "outlinewidth": 0,
              "ticks": ""
             }
            },
            "type": "scattergl"
           }
          ],
          "scattermapbox": [
           {
            "marker": {
             "colorbar": {
              "outlinewidth": 0,
              "ticks": ""
             }
            },
            "type": "scattermapbox"
           }
          ],
          "scatterpolar": [
           {
            "marker": {
             "colorbar": {
              "outlinewidth": 0,
              "ticks": ""
             }
            },
            "type": "scatterpolar"
           }
          ],
          "scatterpolargl": [
           {
            "marker": {
             "colorbar": {
              "outlinewidth": 0,
              "ticks": ""
             }
            },
            "type": "scatterpolargl"
           }
          ],
          "scatterternary": [
           {
            "marker": {
             "colorbar": {
              "outlinewidth": 0,
              "ticks": ""
             }
            },
            "type": "scatterternary"
           }
          ],
          "surface": [
           {
            "colorbar": {
             "outlinewidth": 0,
             "ticks": ""
            },
            "colorscale": [
             [
              0,
              "#0d0887"
             ],
             [
              0.1111111111111111,
              "#46039f"
             ],
             [
              0.2222222222222222,
              "#7201a8"
             ],
             [
              0.3333333333333333,
              "#9c179e"
             ],
             [
              0.4444444444444444,
              "#bd3786"
             ],
             [
              0.5555555555555556,
              "#d8576b"
             ],
             [
              0.6666666666666666,
              "#ed7953"
             ],
             [
              0.7777777777777778,
              "#fb9f3a"
             ],
             [
              0.8888888888888888,
              "#fdca26"
             ],
             [
              1,
              "#f0f921"
             ]
            ],
            "type": "surface"
           }
          ],
          "table": [
           {
            "cells": {
             "fill": {
              "color": "#EBF0F8"
             },
             "line": {
              "color": "white"
             }
            },
            "header": {
             "fill": {
              "color": "#C8D4E3"
             },
             "line": {
              "color": "white"
             }
            },
            "type": "table"
           }
          ]
         },
         "layout": {
          "annotationdefaults": {
           "arrowcolor": "#2a3f5f",
           "arrowhead": 0,
           "arrowwidth": 1
          },
          "coloraxis": {
           "colorbar": {
            "outlinewidth": 0,
            "ticks": ""
           }
          },
          "colorscale": {
           "diverging": [
            [
             0,
             "#8e0152"
            ],
            [
             0.1,
             "#c51b7d"
            ],
            [
             0.2,
             "#de77ae"
            ],
            [
             0.3,
             "#f1b6da"
            ],
            [
             0.4,
             "#fde0ef"
            ],
            [
             0.5,
             "#f7f7f7"
            ],
            [
             0.6,
             "#e6f5d0"
            ],
            [
             0.7,
             "#b8e186"
            ],
            [
             0.8,
             "#7fbc41"
            ],
            [
             0.9,
             "#4d9221"
            ],
            [
             1,
             "#276419"
            ]
           ],
           "sequential": [
            [
             0,
             "#0d0887"
            ],
            [
             0.1111111111111111,
             "#46039f"
            ],
            [
             0.2222222222222222,
             "#7201a8"
            ],
            [
             0.3333333333333333,
             "#9c179e"
            ],
            [
             0.4444444444444444,
             "#bd3786"
            ],
            [
             0.5555555555555556,
             "#d8576b"
            ],
            [
             0.6666666666666666,
             "#ed7953"
            ],
            [
             0.7777777777777778,
             "#fb9f3a"
            ],
            [
             0.8888888888888888,
             "#fdca26"
            ],
            [
             1,
             "#f0f921"
            ]
           ],
           "sequentialminus": [
            [
             0,
             "#0d0887"
            ],
            [
             0.1111111111111111,
             "#46039f"
            ],
            [
             0.2222222222222222,
             "#7201a8"
            ],
            [
             0.3333333333333333,
             "#9c179e"
            ],
            [
             0.4444444444444444,
             "#bd3786"
            ],
            [
             0.5555555555555556,
             "#d8576b"
            ],
            [
             0.6666666666666666,
             "#ed7953"
            ],
            [
             0.7777777777777778,
             "#fb9f3a"
            ],
            [
             0.8888888888888888,
             "#fdca26"
            ],
            [
             1,
             "#f0f921"
            ]
           ]
          },
          "colorway": [
           "#636efa",
           "#EF553B",
           "#00cc96",
           "#ab63fa",
           "#FFA15A",
           "#19d3f3",
           "#FF6692",
           "#B6E880",
           "#FF97FF",
           "#FECB52"
          ],
          "font": {
           "color": "#2a3f5f"
          },
          "geo": {
           "bgcolor": "white",
           "lakecolor": "white",
           "landcolor": "#E5ECF6",
           "showlakes": true,
           "showland": true,
           "subunitcolor": "white"
          },
          "hoverlabel": {
           "align": "left"
          },
          "hovermode": "closest",
          "mapbox": {
           "style": "light"
          },
          "paper_bgcolor": "white",
          "plot_bgcolor": "#E5ECF6",
          "polar": {
           "angularaxis": {
            "gridcolor": "white",
            "linecolor": "white",
            "ticks": ""
           },
           "bgcolor": "#E5ECF6",
           "radialaxis": {
            "gridcolor": "white",
            "linecolor": "white",
            "ticks": ""
           }
          },
          "scene": {
           "xaxis": {
            "backgroundcolor": "#E5ECF6",
            "gridcolor": "white",
            "gridwidth": 2,
            "linecolor": "white",
            "showbackground": true,
            "ticks": "",
            "zerolinecolor": "white"
           },
           "yaxis": {
            "backgroundcolor": "#E5ECF6",
            "gridcolor": "white",
            "gridwidth": 2,
            "linecolor": "white",
            "showbackground": true,
            "ticks": "",
            "zerolinecolor": "white"
           },
           "zaxis": {
            "backgroundcolor": "#E5ECF6",
            "gridcolor": "white",
            "gridwidth": 2,
            "linecolor": "white",
            "showbackground": true,
            "ticks": "",
            "zerolinecolor": "white"
           }
          },
          "shapedefaults": {
           "line": {
            "color": "#2a3f5f"
           }
          },
          "ternary": {
           "aaxis": {
            "gridcolor": "white",
            "linecolor": "white",
            "ticks": ""
           },
           "baxis": {
            "gridcolor": "white",
            "linecolor": "white",
            "ticks": ""
           },
           "bgcolor": "#E5ECF6",
           "caxis": {
            "gridcolor": "white",
            "linecolor": "white",
            "ticks": ""
           }
          },
          "title": {
           "x": 0.05
          },
          "xaxis": {
           "automargin": true,
           "gridcolor": "white",
           "linecolor": "white",
           "ticks": "",
           "title": {
            "standoff": 15
           },
           "zerolinecolor": "white",
           "zerolinewidth": 2
          },
          "yaxis": {
           "automargin": true,
           "gridcolor": "white",
           "linecolor": "white",
           "ticks": "",
           "title": {
            "standoff": 15
           },
           "zerolinecolor": "white",
           "zerolinewidth": 2
          }
         }
        },
        "title": {
         "text": "2019年亲子育儿各成员消费占比"
        }
       }
      },
      "text/html": [
       "<div>\n",
       "        \n",
       "        \n",
       "            <div id=\"2eec49f4-a814-4331-842a-4826f646d746\" class=\"plotly-graph-div\" style=\"height:525px; width:100%;\"></div>\n",
       "            <script type=\"text/javascript\">\n",
       "                require([\"plotly\"], function(Plotly) {\n",
       "                    window.PLOTLYENV=window.PLOTLYENV || {};\n",
       "                    \n",
       "                if (document.getElementById(\"2eec49f4-a814-4331-842a-4826f646d746\")) {\n",
       "                    Plotly.newPlot(\n",
       "                        '2eec49f4-a814-4331-842a-4826f646d746',\n",
       "                        [{\"domain\": {\"x\": [0.0, 1.0], \"y\": [0.0, 1.0]}, \"hoverlabel\": {\"namelength\": 0}, \"hovertemplate\": \"user=%{label}<br>amount=%{value}\", \"labels\": [\"\\u5f20\\u5609\\u82af\", \"\\u5f20\\u695a\\u6dc7\", \"\\u5f20\\u695a\\u6dc7\", \"\\u5f20\\u5609\\u82af\", \"\\u5f20\\u5609\\u82af\", \"\\u5f20\\u695a\\u6dc7\", \"\\u5f20\\u5609\\u82af\", \"\\u5f20\\u695a\\u6dc7\", \"\\u5f20\\u695a\\u6dc7\", \"\\u5f20\\u5609\\u82af\", \"\\u5f20\\u5609\\u82af\", \"\\u5f20\\u695a\\u6dc7\", \"\\u5f20\\u5609\\u82af\", \"\\u5f20\\u5609\\u82af\", \"\\u5f20\\u695a\\u6dc7\", \"\\u5f20\\u5609\\u82af\", \"\\u5f20\\u5609\\u82af\", \"\\u5f20\\u5609\\u82af\", \"\\u5f20\\u5609\\u82af\", \"\\u5f20\\u695a\\u6dc7\", \"\\u5f20\\u5609\\u82af\", \"\\u5f20\\u5609\\u82af\", \"\\u5f20\\u695a\\u6dc7\", \"\\u5f20\\u695a\\u6dc7\", \"\\u5f20\\u5609\\u82af\", \"\\u5f20\\u5609\\u82af\", \"\\u5f20\\u695a\\u6dc7\", \"\\u5f20\\u5609\\u82af\", \"\\u5f20\\u695a\\u6dc7\", \"\\u5f20\\u5609\\u82af\", \"\\u5f20\\u695a\\u6dc7\", \"\\u5f20\\u695a\\u6dc7\", \"\\u5f20\\u695a\\u6dc7\", \"\\u5f20\\u5609\\u82af\", \"\\u5f20\\u695a\\u6dc7\", \"\\u5f20\\u695a\\u6dc7\", \"\\u5f20\\u5609\\u82af\", \"\\u5f20\\u695a\\u6dc7\", \"\\u5f20\\u695a\\u6dc7\", \"\\u5f20\\u5609\\u82af\", \"\\u5f20\\u5609\\u82af\", \"\\u5f20\\u695a\\u6dc7\", \"\\u5f20\\u695a\\u6dc7\", \"\\u5f20\\u5609\\u82af\", \"\\u5f20\\u695a\\u6dc7\", \"\\u5f20\\u5609\\u82af\", \"\\u5f20\\u695a\\u6dc7\", \"\\u5f20\\u695a\\u6dc7\", \"\\u5f20\\u5609\\u82af\", \"\\u5f20\\u695a\\u6dc7\", \"\\u5f20\\u5609\\u82af\", \"\\u5f20\\u695a\\u6dc7\", \"\\u5f20\\u695a\\u6dc7\", \"\\u5f20\\u5609\\u82af\", \"\\u5f20\\u695a\\u6dc7\", \"\\u5f20\\u5609\\u82af\", \"\\u5f20\\u695a\\u6dc7\", \"\\u5f20\\u5609\\u82af\", \"\\u5f20\\u5609\\u82af\", \"\\u5f20\\u695a\\u6dc7\", \"\\u5f20\\u695a\\u6dc7\", \"\\u5f20\\u5609\\u82af\", \"\\u5f20\\u695a\\u6dc7\", \"\\u5f20\\u5609\\u82af\", \"\\u5f20\\u5609\\u82af\", \"\\u5f20\\u695a\\u6dc7\", \"\\u5f20\\u5609\\u82af\", \"\\u5f20\\u695a\\u6dc7\", \"\\u5f20\\u695a\\u6dc7\", \"\\u5f20\\u695a\\u6dc7\", \"\\u5f20\\u5609\\u82af\", \"\\u5f20\\u5609\\u82af\", \"\\u5f20\\u695a\\u6dc7\", \"\\u5f20\\u5609\\u82af\", \"\\u5f20\\u695a\\u6dc7\", \"\\u5f20\\u5609\\u82af\", \"\\u5f20\\u695a\\u6dc7\", \"\\u5f20\\u5609\\u82af\", \"\\u5f20\\u695a\\u6dc7\", \"\\u5f20\\u695a\\u6dc7\", \"\\u5f20\\u5609\\u82af\", \"\\u5f20\\u695a\\u6dc7\", \"\\u5f20\\u695a\\u6dc7\", \"\\u5f20\\u5609\\u82af\", \"\\u5f20\\u5609\\u82af\", \"\\u5f20\\u695a\\u6dc7\", \"\\u5f20\\u5609\\u82af\", \"\\u5f20\\u695a\\u6dc7\", \"\\u5f20\\u5609\\u82af\", \"\\u5f20\\u695a\\u6dc7\", \"\\u5f20\\u695a\\u6dc7\", \"\\u5f20\\u5609\\u82af\", \"\\u5f20\\u695a\\u6dc7\", \"\\u5f20\\u695a\\u6dc7\", \"\\u5f20\\u5609\\u82af\", \"\\u5f20\\u5609\\u82af\", \"\\u5f20\\u695a\\u6dc7\", \"\\u5f20\\u5609\\u82af\", \"\\u5f20\\u695a\\u6dc7\", \"\\u5f20\\u695a\\u6dc7\", \"\\u5f20\\u695a\\u6dc7\", \"\\u5f20\\u5609\\u82af\", \"\\u5f20\\u695a\\u6dc7\", \"\\u5f20\\u5609\\u82af\", \"\\u5f20\\u695a\\u6dc7\", \"\\u5f20\\u5609\\u82af\", \"\\u5f20\\u5609\\u82af\", \"\\u5f20\\u5609\\u82af\", \"\\u5f20\\u5609\\u82af\", \"\\u5f20\\u695a\\u6dc7\", \"\\u5f20\\u5609\\u82af\", \"\\u5f20\\u695a\\u6dc7\", \"\\u5f20\\u5609\\u82af\", \"\\u5f20\\u695a\\u6dc7\", \"\\u5f20\\u695a\\u6dc7\", \"\\u5f20\\u5609\\u82af\", \"\\u5f20\\u695a\\u6dc7\", \"\\u5f20\\u5609\\u82af\"], \"legendgroup\": \"\", \"name\": \"\", \"showlegend\": true, \"textinfo\": \"percent+label+value\", \"textposition\": \"inside\", \"type\": \"pie\", \"values\": [172.4, 25.0, 775.9899999999999, 10.0, 16.72, 196.1, 518.2, 2000.0, 238.0, 47.0, 100.0, 535.52, 30.5, 1500.0, 500.0, 5.0, 15373.6, 227.0, 3223.0, 246.88, 312.9, 65.9, 250.71, 1000.0, 961.9, 3393.9, 222.24, 118.0, 135.36, 1400.0, 1000.0, 64.0, 480.85, 503.24, 227.5, 144.23, 410.0, 1000.0, 167.8, 204.4, 99.0, 504.36, 878.1700000000001, 742.0, 179.0, 6.0, 9.9, 545.05, 3099.0, 2000.0, 26.5, 28.9, 52.66, 511.76, 14.9, 15.0, 50.0, 156.81, 20.6, 30.0, 2000.0, 30.0, 182.39999999999998, 35.0, 15.0, 478.95, 154.7, 148.5, 593.55, 2010.95, 55.66, 11.97, 45.0, 6900.0, 9.9, 230.0, 25.0, 1008.8, 277.0, 258.6, 950.0, 2000.0, 82.68, 29.0, 55.8, 9586.4, 125.7, 32.0, 15.9, 76.6, 43.0, 599.0, 2000.0, 47.04, 131.5, 8760.0, 479.0, 432.9, 34.9, 224.49, 221.22, 2899.0, 2000.0, 265.01, 248.56, 58.0, 23.8, 331.0, 170.4, 460.5, 633.71, 155.96, 9.9, 240.04, 2000.0, 29.0, 183.43, 25.4]}],\n",
       "                        {\"legend\": {\"tracegroupgap\": 0}, \"template\": {\"data\": {\"bar\": [{\"error_x\": {\"color\": \"#2a3f5f\"}, \"error_y\": {\"color\": \"#2a3f5f\"}, \"marker\": {\"line\": {\"color\": \"#E5ECF6\", \"width\": 0.5}}, \"type\": \"bar\"}], \"barpolar\": [{\"marker\": {\"line\": {\"color\": \"#E5ECF6\", \"width\": 0.5}}, \"type\": \"barpolar\"}], \"carpet\": [{\"aaxis\": {\"endlinecolor\": \"#2a3f5f\", \"gridcolor\": \"white\", \"linecolor\": \"white\", \"minorgridcolor\": \"white\", \"startlinecolor\": \"#2a3f5f\"}, \"baxis\": {\"endlinecolor\": \"#2a3f5f\", \"gridcolor\": \"white\", \"linecolor\": \"white\", \"minorgridcolor\": \"white\", \"startlinecolor\": \"#2a3f5f\"}, \"type\": \"carpet\"}], \"choropleth\": [{\"colorbar\": {\"outlinewidth\": 0, \"ticks\": \"\"}, \"type\": \"choropleth\"}], \"contour\": [{\"colorbar\": {\"outlinewidth\": 0, \"ticks\": \"\"}, \"colorscale\": [[0.0, \"#0d0887\"], [0.1111111111111111, \"#46039f\"], [0.2222222222222222, \"#7201a8\"], [0.3333333333333333, \"#9c179e\"], [0.4444444444444444, \"#bd3786\"], [0.5555555555555556, \"#d8576b\"], [0.6666666666666666, \"#ed7953\"], [0.7777777777777778, \"#fb9f3a\"], [0.8888888888888888, \"#fdca26\"], [1.0, \"#f0f921\"]], \"type\": \"contour\"}], \"contourcarpet\": [{\"colorbar\": {\"outlinewidth\": 0, \"ticks\": \"\"}, \"type\": \"contourcarpet\"}], \"heatmap\": [{\"colorbar\": {\"outlinewidth\": 0, \"ticks\": \"\"}, \"colorscale\": [[0.0, \"#0d0887\"], [0.1111111111111111, \"#46039f\"], [0.2222222222222222, \"#7201a8\"], [0.3333333333333333, \"#9c179e\"], [0.4444444444444444, \"#bd3786\"], [0.5555555555555556, \"#d8576b\"], [0.6666666666666666, \"#ed7953\"], [0.7777777777777778, \"#fb9f3a\"], [0.8888888888888888, \"#fdca26\"], [1.0, \"#f0f921\"]], \"type\": \"heatmap\"}], \"heatmapgl\": [{\"colorbar\": {\"outlinewidth\": 0, \"ticks\": \"\"}, \"colorscale\": [[0.0, \"#0d0887\"], [0.1111111111111111, \"#46039f\"], [0.2222222222222222, \"#7201a8\"], [0.3333333333333333, \"#9c179e\"], [0.4444444444444444, \"#bd3786\"], [0.5555555555555556, \"#d8576b\"], [0.6666666666666666, \"#ed7953\"], [0.7777777777777778, \"#fb9f3a\"], [0.8888888888888888, \"#fdca26\"], [1.0, \"#f0f921\"]], \"type\": \"heatmapgl\"}], \"histogram\": [{\"marker\": {\"colorbar\": {\"outlinewidth\": 0, \"ticks\": \"\"}}, \"type\": \"histogram\"}], \"histogram2d\": [{\"colorbar\": {\"outlinewidth\": 0, \"ticks\": \"\"}, \"colorscale\": [[0.0, \"#0d0887\"], [0.1111111111111111, \"#46039f\"], [0.2222222222222222, \"#7201a8\"], [0.3333333333333333, \"#9c179e\"], [0.4444444444444444, \"#bd3786\"], [0.5555555555555556, \"#d8576b\"], [0.6666666666666666, \"#ed7953\"], [0.7777777777777778, \"#fb9f3a\"], [0.8888888888888888, \"#fdca26\"], [1.0, \"#f0f921\"]], \"type\": \"histogram2d\"}], \"histogram2dcontour\": [{\"colorbar\": {\"outlinewidth\": 0, \"ticks\": \"\"}, \"colorscale\": [[0.0, \"#0d0887\"], [0.1111111111111111, \"#46039f\"], [0.2222222222222222, \"#7201a8\"], [0.3333333333333333, \"#9c179e\"], [0.4444444444444444, \"#bd3786\"], [0.5555555555555556, \"#d8576b\"], [0.6666666666666666, \"#ed7953\"], [0.7777777777777778, \"#fb9f3a\"], [0.8888888888888888, \"#fdca26\"], [1.0, \"#f0f921\"]], \"type\": \"histogram2dcontour\"}], \"mesh3d\": [{\"colorbar\": {\"outlinewidth\": 0, \"ticks\": \"\"}, \"type\": \"mesh3d\"}], \"parcoords\": [{\"line\": {\"colorbar\": {\"outlinewidth\": 0, \"ticks\": \"\"}}, \"type\": \"parcoords\"}], \"pie\": [{\"automargin\": true, \"type\": \"pie\"}], \"scatter\": [{\"marker\": {\"colorbar\": {\"outlinewidth\": 0, \"ticks\": \"\"}}, \"type\": \"scatter\"}], \"scatter3d\": [{\"line\": {\"colorbar\": {\"outlinewidth\": 0, \"ticks\": \"\"}}, \"marker\": {\"colorbar\": {\"outlinewidth\": 0, \"ticks\": \"\"}}, \"type\": \"scatter3d\"}], \"scattercarpet\": [{\"marker\": {\"colorbar\": {\"outlinewidth\": 0, \"ticks\": \"\"}}, \"type\": \"scattercarpet\"}], \"scattergeo\": [{\"marker\": {\"colorbar\": {\"outlinewidth\": 0, \"ticks\": \"\"}}, \"type\": \"scattergeo\"}], \"scattergl\": [{\"marker\": {\"colorbar\": {\"outlinewidth\": 0, \"ticks\": \"\"}}, \"type\": \"scattergl\"}], \"scattermapbox\": [{\"marker\": {\"colorbar\": {\"outlinewidth\": 0, \"ticks\": \"\"}}, \"type\": \"scattermapbox\"}], \"scatterpolar\": [{\"marker\": {\"colorbar\": {\"outlinewidth\": 0, \"ticks\": \"\"}}, \"type\": \"scatterpolar\"}], \"scatterpolargl\": [{\"marker\": {\"colorbar\": {\"outlinewidth\": 0, \"ticks\": \"\"}}, \"type\": \"scatterpolargl\"}], \"scatterternary\": [{\"marker\": {\"colorbar\": {\"outlinewidth\": 0, \"ticks\": \"\"}}, \"type\": \"scatterternary\"}], \"surface\": [{\"colorbar\": {\"outlinewidth\": 0, \"ticks\": \"\"}, \"colorscale\": [[0.0, \"#0d0887\"], [0.1111111111111111, \"#46039f\"], [0.2222222222222222, \"#7201a8\"], [0.3333333333333333, \"#9c179e\"], [0.4444444444444444, \"#bd3786\"], [0.5555555555555556, \"#d8576b\"], [0.6666666666666666, \"#ed7953\"], [0.7777777777777778, \"#fb9f3a\"], [0.8888888888888888, \"#fdca26\"], [1.0, \"#f0f921\"]], \"type\": \"surface\"}], \"table\": [{\"cells\": {\"fill\": {\"color\": \"#EBF0F8\"}, \"line\": {\"color\": \"white\"}}, \"header\": {\"fill\": {\"color\": \"#C8D4E3\"}, \"line\": {\"color\": \"white\"}}, \"type\": \"table\"}]}, \"layout\": {\"annotationdefaults\": {\"arrowcolor\": \"#2a3f5f\", \"arrowhead\": 0, \"arrowwidth\": 1}, \"coloraxis\": {\"colorbar\": {\"outlinewidth\": 0, \"ticks\": \"\"}}, \"colorscale\": {\"diverging\": [[0, \"#8e0152\"], [0.1, \"#c51b7d\"], [0.2, \"#de77ae\"], [0.3, \"#f1b6da\"], [0.4, \"#fde0ef\"], [0.5, \"#f7f7f7\"], [0.6, \"#e6f5d0\"], [0.7, \"#b8e186\"], [0.8, \"#7fbc41\"], [0.9, \"#4d9221\"], [1, \"#276419\"]], \"sequential\": [[0.0, \"#0d0887\"], [0.1111111111111111, \"#46039f\"], [0.2222222222222222, \"#7201a8\"], [0.3333333333333333, \"#9c179e\"], [0.4444444444444444, \"#bd3786\"], [0.5555555555555556, \"#d8576b\"], [0.6666666666666666, \"#ed7953\"], [0.7777777777777778, \"#fb9f3a\"], [0.8888888888888888, \"#fdca26\"], [1.0, \"#f0f921\"]], \"sequentialminus\": [[0.0, \"#0d0887\"], [0.1111111111111111, \"#46039f\"], [0.2222222222222222, \"#7201a8\"], [0.3333333333333333, \"#9c179e\"], [0.4444444444444444, \"#bd3786\"], [0.5555555555555556, \"#d8576b\"], [0.6666666666666666, \"#ed7953\"], [0.7777777777777778, \"#fb9f3a\"], [0.8888888888888888, \"#fdca26\"], [1.0, \"#f0f921\"]]}, \"colorway\": [\"#636efa\", \"#EF553B\", \"#00cc96\", \"#ab63fa\", \"#FFA15A\", \"#19d3f3\", \"#FF6692\", \"#B6E880\", \"#FF97FF\", \"#FECB52\"], \"font\": {\"color\": \"#2a3f5f\"}, \"geo\": {\"bgcolor\": \"white\", \"lakecolor\": \"white\", \"landcolor\": \"#E5ECF6\", \"showlakes\": true, \"showland\": true, \"subunitcolor\": \"white\"}, \"hoverlabel\": {\"align\": \"left\"}, \"hovermode\": \"closest\", \"mapbox\": {\"style\": \"light\"}, \"paper_bgcolor\": \"white\", \"plot_bgcolor\": \"#E5ECF6\", \"polar\": {\"angularaxis\": {\"gridcolor\": \"white\", \"linecolor\": \"white\", \"ticks\": \"\"}, \"bgcolor\": \"#E5ECF6\", \"radialaxis\": {\"gridcolor\": \"white\", \"linecolor\": \"white\", \"ticks\": \"\"}}, \"scene\": {\"xaxis\": {\"backgroundcolor\": \"#E5ECF6\", \"gridcolor\": \"white\", \"gridwidth\": 2, \"linecolor\": \"white\", \"showbackground\": true, \"ticks\": \"\", \"zerolinecolor\": \"white\"}, \"yaxis\": {\"backgroundcolor\": \"#E5ECF6\", \"gridcolor\": \"white\", \"gridwidth\": 2, \"linecolor\": \"white\", \"showbackground\": true, \"ticks\": \"\", \"zerolinecolor\": \"white\"}, \"zaxis\": {\"backgroundcolor\": \"#E5ECF6\", \"gridcolor\": \"white\", \"gridwidth\": 2, \"linecolor\": \"white\", \"showbackground\": true, \"ticks\": \"\", \"zerolinecolor\": \"white\"}}, \"shapedefaults\": {\"line\": {\"color\": \"#2a3f5f\"}}, \"ternary\": {\"aaxis\": {\"gridcolor\": \"white\", \"linecolor\": \"white\", \"ticks\": \"\"}, \"baxis\": {\"gridcolor\": \"white\", \"linecolor\": \"white\", \"ticks\": \"\"}, \"bgcolor\": \"#E5ECF6\", \"caxis\": {\"gridcolor\": \"white\", \"linecolor\": \"white\", \"ticks\": \"\"}}, \"title\": {\"x\": 0.05}, \"xaxis\": {\"automargin\": true, \"gridcolor\": \"white\", \"linecolor\": \"white\", \"ticks\": \"\", \"title\": {\"standoff\": 15}, \"zerolinecolor\": \"white\", \"zerolinewidth\": 2}, \"yaxis\": {\"automargin\": true, \"gridcolor\": \"white\", \"linecolor\": \"white\", \"ticks\": \"\", \"title\": {\"standoff\": 15}, \"zerolinecolor\": \"white\", \"zerolinewidth\": 2}}}, \"title\": {\"text\": \"2019\\u5e74\\u4eb2\\u5b50\\u80b2\\u513f\\u5404\\u6210\\u5458\\u6d88\\u8d39\\u5360\\u6bd4\"}},\n",
       "                        {\"responsive\": true}\n",
       "                    ).then(function(){\n",
       "                            \n",
       "var gd = document.getElementById('2eec49f4-a814-4331-842a-4826f646d746');\n",
       "var x = new MutationObserver(function (mutations, observer) {{\n",
       "        var display = window.getComputedStyle(gd).display;\n",
       "        if (!display || display === 'none') {{\n",
       "            console.log([gd, 'removed!']);\n",
       "            Plotly.purge(gd);\n",
       "            observer.disconnect();\n",
       "        }}\n",
       "}});\n",
       "\n",
       "// Listen for the removal of the full notebook cells\n",
       "var notebookContainer = gd.closest('#notebook-container');\n",
       "if (notebookContainer) {{\n",
       "    x.observe(notebookContainer, {childList: true});\n",
       "}}\n",
       "\n",
       "// Listen for the clearing of the current output cell\n",
       "var outputEl = gd.closest('.output');\n",
       "if (outputEl) {{\n",
       "    x.observe(outputEl, {childList: true});\n",
       "}}\n",
       "\n",
       "                        })\n",
       "                };\n",
       "                });\n",
       "            </script>\n",
       "        </div>"
      ]
     },
     "metadata": {},
     "output_type": "display_data"
    }
   ],
   "source": [
    "fig=px.pie(disp2, names='user', values='amount', title='2019年亲子育儿各成员消费占比')\n",
    "fig.update_traces(textposition='inside', textinfo='percent+label+value')\n",
    "fig.show()"
   ]
  },
  {
   "cell_type": "code",
   "execution_count": 113,
   "metadata": {},
   "outputs": [
    {
     "data": {
      "text/html": [
       "<div>\n",
       "<style scoped>\n",
       "    .dataframe tbody tr th:only-of-type {\n",
       "        vertical-align: middle;\n",
       "    }\n",
       "\n",
       "    .dataframe tbody tr th {\n",
       "        vertical-align: top;\n",
       "    }\n",
       "\n",
       "    .dataframe thead th {\n",
       "        text-align: right;\n",
       "    }\n",
       "</style>\n",
       "<table border=\"1\" class=\"dataframe\">\n",
       "  <thead>\n",
       "    <tr style=\"text-align: right;\">\n",
       "      <th></th>\n",
       "      <th>type</th>\n",
       "      <th>user</th>\n",
       "      <th>amount</th>\n",
       "    </tr>\n",
       "  </thead>\n",
       "  <tbody>\n",
       "    <tr>\n",
       "      <th>0</th>\n",
       "      <td>书籍音像</td>\n",
       "      <td>张嘉芯</td>\n",
       "      <td>24244.57</td>\n",
       "    </tr>\n",
       "    <tr>\n",
       "      <th>1</th>\n",
       "      <td>亲子时光</td>\n",
       "      <td>张楚淇</td>\n",
       "      <td>45.00</td>\n",
       "    </tr>\n",
       "    <tr>\n",
       "      <th>2</th>\n",
       "      <td>其他</td>\n",
       "      <td>张嘉芯</td>\n",
       "      <td>7588.00</td>\n",
       "    </tr>\n",
       "    <tr>\n",
       "      <th>3</th>\n",
       "      <td>其他</td>\n",
       "      <td>张楚淇</td>\n",
       "      <td>73.90</td>\n",
       "    </tr>\n",
       "    <tr>\n",
       "      <th>4</th>\n",
       "      <td>医疗健康</td>\n",
       "      <td>张嘉芯</td>\n",
       "      <td>7189.70</td>\n",
       "    </tr>\n",
       "  </tbody>\n",
       "</table>\n",
       "</div>"
      ],
      "text/plain": [
       "   type user    amount\n",
       "0  书籍音像  张嘉芯  24244.57\n",
       "1  亲子时光  张楚淇     45.00\n",
       "2    其他  张嘉芯   7588.00\n",
       "3    其他  张楚淇     73.90\n",
       "4  医疗健康  张嘉芯   7189.70"
      ]
     },
     "execution_count": 113,
     "metadata": {},
     "output_type": "execute_result"
    }
   ],
   "source": [
    "#支出统计\n",
    "out3=out[out['账本名称']=='亲子育儿']\n",
    "\n",
    "#支出统计\n",
    "out3=out3.groupby(['month','账本名称','类别', '成员'])[['金额(本币)']].sum().reset_index()\n",
    "out3.columns=['month','name','type','user','amount']\n",
    "out3.head()\n",
    "\n",
    "disp3=out3.groupby(['type','user'])[['amount']].sum().reset_index()\n",
    "\n",
    "disp3.head()\n"
   ]
  },
  {
   "cell_type": "code",
   "execution_count": 116,
   "metadata": {},
   "outputs": [
    {
     "data": {
      "application/vnd.plotly.v1+json": {
       "config": {
        "plotlyServerURL": "https://plot.ly"
       },
       "data": [
        {
         "labels": [
          "Eve",
          "Cain",
          "Seth",
          "Enos",
          "Noam",
          "Abel",
          "Awan",
          "Enoch",
          "Azura"
         ],
         "parents": [
          "",
          "Eve",
          "Eve",
          "Seth",
          "Seth",
          "Eve",
          "Eve",
          "Awan",
          "Eve"
         ],
         "type": "sunburst",
         "values": [
          10,
          14,
          12,
          10,
          2,
          6,
          6,
          4,
          4
         ]
        }
       ],
       "layout": {
        "margin": {
         "b": 0,
         "l": 0,
         "r": 0,
         "t": 0
        },
        "template": {
         "data": {
          "bar": [
           {
            "error_x": {
             "color": "#2a3f5f"
            },
            "error_y": {
             "color": "#2a3f5f"
            },
            "marker": {
             "line": {
              "color": "#E5ECF6",
              "width": 0.5
             }
            },
            "type": "bar"
           }
          ],
          "barpolar": [
           {
            "marker": {
             "line": {
              "color": "#E5ECF6",
              "width": 0.5
             }
            },
            "type": "barpolar"
           }
          ],
          "carpet": [
           {
            "aaxis": {
             "endlinecolor": "#2a3f5f",
             "gridcolor": "white",
             "linecolor": "white",
             "minorgridcolor": "white",
             "startlinecolor": "#2a3f5f"
            },
            "baxis": {
             "endlinecolor": "#2a3f5f",
             "gridcolor": "white",
             "linecolor": "white",
             "minorgridcolor": "white",
             "startlinecolor": "#2a3f5f"
            },
            "type": "carpet"
           }
          ],
          "choropleth": [
           {
            "colorbar": {
             "outlinewidth": 0,
             "ticks": ""
            },
            "type": "choropleth"
           }
          ],
          "contour": [
           {
            "colorbar": {
             "outlinewidth": 0,
             "ticks": ""
            },
            "colorscale": [
             [
              0,
              "#0d0887"
             ],
             [
              0.1111111111111111,
              "#46039f"
             ],
             [
              0.2222222222222222,
              "#7201a8"
             ],
             [
              0.3333333333333333,
              "#9c179e"
             ],
             [
              0.4444444444444444,
              "#bd3786"
             ],
             [
              0.5555555555555556,
              "#d8576b"
             ],
             [
              0.6666666666666666,
              "#ed7953"
             ],
             [
              0.7777777777777778,
              "#fb9f3a"
             ],
             [
              0.8888888888888888,
              "#fdca26"
             ],
             [
              1,
              "#f0f921"
             ]
            ],
            "type": "contour"
           }
          ],
          "contourcarpet": [
           {
            "colorbar": {
             "outlinewidth": 0,
             "ticks": ""
            },
            "type": "contourcarpet"
           }
          ],
          "heatmap": [
           {
            "colorbar": {
             "outlinewidth": 0,
             "ticks": ""
            },
            "colorscale": [
             [
              0,
              "#0d0887"
             ],
             [
              0.1111111111111111,
              "#46039f"
             ],
             [
              0.2222222222222222,
              "#7201a8"
             ],
             [
              0.3333333333333333,
              "#9c179e"
             ],
             [
              0.4444444444444444,
              "#bd3786"
             ],
             [
              0.5555555555555556,
              "#d8576b"
             ],
             [
              0.6666666666666666,
              "#ed7953"
             ],
             [
              0.7777777777777778,
              "#fb9f3a"
             ],
             [
              0.8888888888888888,
              "#fdca26"
             ],
             [
              1,
              "#f0f921"
             ]
            ],
            "type": "heatmap"
           }
          ],
          "heatmapgl": [
           {
            "colorbar": {
             "outlinewidth": 0,
             "ticks": ""
            },
            "colorscale": [
             [
              0,
              "#0d0887"
             ],
             [
              0.1111111111111111,
              "#46039f"
             ],
             [
              0.2222222222222222,
              "#7201a8"
             ],
             [
              0.3333333333333333,
              "#9c179e"
             ],
             [
              0.4444444444444444,
              "#bd3786"
             ],
             [
              0.5555555555555556,
              "#d8576b"
             ],
             [
              0.6666666666666666,
              "#ed7953"
             ],
             [
              0.7777777777777778,
              "#fb9f3a"
             ],
             [
              0.8888888888888888,
              "#fdca26"
             ],
             [
              1,
              "#f0f921"
             ]
            ],
            "type": "heatmapgl"
           }
          ],
          "histogram": [
           {
            "marker": {
             "colorbar": {
              "outlinewidth": 0,
              "ticks": ""
             }
            },
            "type": "histogram"
           }
          ],
          "histogram2d": [
           {
            "colorbar": {
             "outlinewidth": 0,
             "ticks": ""
            },
            "colorscale": [
             [
              0,
              "#0d0887"
             ],
             [
              0.1111111111111111,
              "#46039f"
             ],
             [
              0.2222222222222222,
              "#7201a8"
             ],
             [
              0.3333333333333333,
              "#9c179e"
             ],
             [
              0.4444444444444444,
              "#bd3786"
             ],
             [
              0.5555555555555556,
              "#d8576b"
             ],
             [
              0.6666666666666666,
              "#ed7953"
             ],
             [
              0.7777777777777778,
              "#fb9f3a"
             ],
             [
              0.8888888888888888,
              "#fdca26"
             ],
             [
              1,
              "#f0f921"
             ]
            ],
            "type": "histogram2d"
           }
          ],
          "histogram2dcontour": [
           {
            "colorbar": {
             "outlinewidth": 0,
             "ticks": ""
            },
            "colorscale": [
             [
              0,
              "#0d0887"
             ],
             [
              0.1111111111111111,
              "#46039f"
             ],
             [
              0.2222222222222222,
              "#7201a8"
             ],
             [
              0.3333333333333333,
              "#9c179e"
             ],
             [
              0.4444444444444444,
              "#bd3786"
             ],
             [
              0.5555555555555556,
              "#d8576b"
             ],
             [
              0.6666666666666666,
              "#ed7953"
             ],
             [
              0.7777777777777778,
              "#fb9f3a"
             ],
             [
              0.8888888888888888,
              "#fdca26"
             ],
             [
              1,
              "#f0f921"
             ]
            ],
            "type": "histogram2dcontour"
           }
          ],
          "mesh3d": [
           {
            "colorbar": {
             "outlinewidth": 0,
             "ticks": ""
            },
            "type": "mesh3d"
           }
          ],
          "parcoords": [
           {
            "line": {
             "colorbar": {
              "outlinewidth": 0,
              "ticks": ""
             }
            },
            "type": "parcoords"
           }
          ],
          "pie": [
           {
            "automargin": true,
            "type": "pie"
           }
          ],
          "scatter": [
           {
            "marker": {
             "colorbar": {
              "outlinewidth": 0,
              "ticks": ""
             }
            },
            "type": "scatter"
           }
          ],
          "scatter3d": [
           {
            "line": {
             "colorbar": {
              "outlinewidth": 0,
              "ticks": ""
             }
            },
            "marker": {
             "colorbar": {
              "outlinewidth": 0,
              "ticks": ""
             }
            },
            "type": "scatter3d"
           }
          ],
          "scattercarpet": [
           {
            "marker": {
             "colorbar": {
              "outlinewidth": 0,
              "ticks": ""
             }
            },
            "type": "scattercarpet"
           }
          ],
          "scattergeo": [
           {
            "marker": {
             "colorbar": {
              "outlinewidth": 0,
              "ticks": ""
             }
            },
            "type": "scattergeo"
           }
          ],
          "scattergl": [
           {
            "marker": {
             "colorbar": {
              "outlinewidth": 0,
              "ticks": ""
             }
            },
            "type": "scattergl"
           }
          ],
          "scattermapbox": [
           {
            "marker": {
             "colorbar": {
              "outlinewidth": 0,
              "ticks": ""
             }
            },
            "type": "scattermapbox"
           }
          ],
          "scatterpolar": [
           {
            "marker": {
             "colorbar": {
              "outlinewidth": 0,
              "ticks": ""
             }
            },
            "type": "scatterpolar"
           }
          ],
          "scatterpolargl": [
           {
            "marker": {
             "colorbar": {
              "outlinewidth": 0,
              "ticks": ""
             }
            },
            "type": "scatterpolargl"
           }
          ],
          "scatterternary": [
           {
            "marker": {
             "colorbar": {
              "outlinewidth": 0,
              "ticks": ""
             }
            },
            "type": "scatterternary"
           }
          ],
          "surface": [
           {
            "colorbar": {
             "outlinewidth": 0,
             "ticks": ""
            },
            "colorscale": [
             [
              0,
              "#0d0887"
             ],
             [
              0.1111111111111111,
              "#46039f"
             ],
             [
              0.2222222222222222,
              "#7201a8"
             ],
             [
              0.3333333333333333,
              "#9c179e"
             ],
             [
              0.4444444444444444,
              "#bd3786"
             ],
             [
              0.5555555555555556,
              "#d8576b"
             ],
             [
              0.6666666666666666,
              "#ed7953"
             ],
             [
              0.7777777777777778,
              "#fb9f3a"
             ],
             [
              0.8888888888888888,
              "#fdca26"
             ],
             [
              1,
              "#f0f921"
             ]
            ],
            "type": "surface"
           }
          ],
          "table": [
           {
            "cells": {
             "fill": {
              "color": "#EBF0F8"
             },
             "line": {
              "color": "white"
             }
            },
            "header": {
             "fill": {
              "color": "#C8D4E3"
             },
             "line": {
              "color": "white"
             }
            },
            "type": "table"
           }
          ]
         },
         "layout": {
          "annotationdefaults": {
           "arrowcolor": "#2a3f5f",
           "arrowhead": 0,
           "arrowwidth": 1
          },
          "coloraxis": {
           "colorbar": {
            "outlinewidth": 0,
            "ticks": ""
           }
          },
          "colorscale": {
           "diverging": [
            [
             0,
             "#8e0152"
            ],
            [
             0.1,
             "#c51b7d"
            ],
            [
             0.2,
             "#de77ae"
            ],
            [
             0.3,
             "#f1b6da"
            ],
            [
             0.4,
             "#fde0ef"
            ],
            [
             0.5,
             "#f7f7f7"
            ],
            [
             0.6,
             "#e6f5d0"
            ],
            [
             0.7,
             "#b8e186"
            ],
            [
             0.8,
             "#7fbc41"
            ],
            [
             0.9,
             "#4d9221"
            ],
            [
             1,
             "#276419"
            ]
           ],
           "sequential": [
            [
             0,
             "#0d0887"
            ],
            [
             0.1111111111111111,
             "#46039f"
            ],
            [
             0.2222222222222222,
             "#7201a8"
            ],
            [
             0.3333333333333333,
             "#9c179e"
            ],
            [
             0.4444444444444444,
             "#bd3786"
            ],
            [
             0.5555555555555556,
             "#d8576b"
            ],
            [
             0.6666666666666666,
             "#ed7953"
            ],
            [
             0.7777777777777778,
             "#fb9f3a"
            ],
            [
             0.8888888888888888,
             "#fdca26"
            ],
            [
             1,
             "#f0f921"
            ]
           ],
           "sequentialminus": [
            [
             0,
             "#0d0887"
            ],
            [
             0.1111111111111111,
             "#46039f"
            ],
            [
             0.2222222222222222,
             "#7201a8"
            ],
            [
             0.3333333333333333,
             "#9c179e"
            ],
            [
             0.4444444444444444,
             "#bd3786"
            ],
            [
             0.5555555555555556,
             "#d8576b"
            ],
            [
             0.6666666666666666,
             "#ed7953"
            ],
            [
             0.7777777777777778,
             "#fb9f3a"
            ],
            [
             0.8888888888888888,
             "#fdca26"
            ],
            [
             1,
             "#f0f921"
            ]
           ]
          },
          "colorway": [
           "#636efa",
           "#EF553B",
           "#00cc96",
           "#ab63fa",
           "#FFA15A",
           "#19d3f3",
           "#FF6692",
           "#B6E880",
           "#FF97FF",
           "#FECB52"
          ],
          "font": {
           "color": "#2a3f5f"
          },
          "geo": {
           "bgcolor": "white",
           "lakecolor": "white",
           "landcolor": "#E5ECF6",
           "showlakes": true,
           "showland": true,
           "subunitcolor": "white"
          },
          "hoverlabel": {
           "align": "left"
          },
          "hovermode": "closest",
          "mapbox": {
           "style": "light"
          },
          "paper_bgcolor": "white",
          "plot_bgcolor": "#E5ECF6",
          "polar": {
           "angularaxis": {
            "gridcolor": "white",
            "linecolor": "white",
            "ticks": ""
           },
           "bgcolor": "#E5ECF6",
           "radialaxis": {
            "gridcolor": "white",
            "linecolor": "white",
            "ticks": ""
           }
          },
          "scene": {
           "xaxis": {
            "backgroundcolor": "#E5ECF6",
            "gridcolor": "white",
            "gridwidth": 2,
            "linecolor": "white",
            "showbackground": true,
            "ticks": "",
            "zerolinecolor": "white"
           },
           "yaxis": {
            "backgroundcolor": "#E5ECF6",
            "gridcolor": "white",
            "gridwidth": 2,
            "linecolor": "white",
            "showbackground": true,
            "ticks": "",
            "zerolinecolor": "white"
           },
           "zaxis": {
            "backgroundcolor": "#E5ECF6",
            "gridcolor": "white",
            "gridwidth": 2,
            "linecolor": "white",
            "showbackground": true,
            "ticks": "",
            "zerolinecolor": "white"
           }
          },
          "shapedefaults": {
           "line": {
            "color": "#2a3f5f"
           }
          },
          "ternary": {
           "aaxis": {
            "gridcolor": "white",
            "linecolor": "white",
            "ticks": ""
           },
           "baxis": {
            "gridcolor": "white",
            "linecolor": "white",
            "ticks": ""
           },
           "bgcolor": "#E5ECF6",
           "caxis": {
            "gridcolor": "white",
            "linecolor": "white",
            "ticks": ""
           }
          },
          "title": {
           "x": 0.05
          },
          "xaxis": {
           "automargin": true,
           "gridcolor": "white",
           "linecolor": "white",
           "ticks": "",
           "title": {
            "standoff": 15
           },
           "zerolinecolor": "white",
           "zerolinewidth": 2
          },
          "yaxis": {
           "automargin": true,
           "gridcolor": "white",
           "linecolor": "white",
           "ticks": "",
           "title": {
            "standoff": 15
           },
           "zerolinecolor": "white",
           "zerolinewidth": 2
          }
         }
        }
       }
      },
      "text/html": [
       "<div>\n",
       "        \n",
       "        \n",
       "            <div id=\"b160b030-c806-4f2f-aedc-be14d8dfa4b4\" class=\"plotly-graph-div\" style=\"height:525px; width:100%;\"></div>\n",
       "            <script type=\"text/javascript\">\n",
       "                require([\"plotly\"], function(Plotly) {\n",
       "                    window.PLOTLYENV=window.PLOTLYENV || {};\n",
       "                    \n",
       "                if (document.getElementById(\"b160b030-c806-4f2f-aedc-be14d8dfa4b4\")) {\n",
       "                    Plotly.newPlot(\n",
       "                        'b160b030-c806-4f2f-aedc-be14d8dfa4b4',\n",
       "                        [{\"labels\": [\"Eve\", \"Cain\", \"Seth\", \"Enos\", \"Noam\", \"Abel\", \"Awan\", \"Enoch\", \"Azura\"], \"parents\": [\"\", \"Eve\", \"Eve\", \"Seth\", \"Seth\", \"Eve\", \"Eve\", \"Awan\", \"Eve\"], \"type\": \"sunburst\", \"values\": [10, 14, 12, 10, 2, 6, 6, 4, 4]}],\n",
       "                        {\"margin\": {\"b\": 0, \"l\": 0, \"r\": 0, \"t\": 0}, \"template\": {\"data\": {\"bar\": [{\"error_x\": {\"color\": \"#2a3f5f\"}, \"error_y\": {\"color\": \"#2a3f5f\"}, \"marker\": {\"line\": {\"color\": \"#E5ECF6\", \"width\": 0.5}}, \"type\": \"bar\"}], \"barpolar\": [{\"marker\": {\"line\": {\"color\": \"#E5ECF6\", \"width\": 0.5}}, \"type\": \"barpolar\"}], \"carpet\": [{\"aaxis\": {\"endlinecolor\": \"#2a3f5f\", \"gridcolor\": \"white\", \"linecolor\": \"white\", \"minorgridcolor\": \"white\", \"startlinecolor\": \"#2a3f5f\"}, \"baxis\": {\"endlinecolor\": \"#2a3f5f\", \"gridcolor\": \"white\", \"linecolor\": \"white\", \"minorgridcolor\": \"white\", \"startlinecolor\": \"#2a3f5f\"}, \"type\": \"carpet\"}], \"choropleth\": [{\"colorbar\": {\"outlinewidth\": 0, \"ticks\": \"\"}, \"type\": \"choropleth\"}], \"contour\": [{\"colorbar\": {\"outlinewidth\": 0, \"ticks\": \"\"}, \"colorscale\": [[0.0, \"#0d0887\"], [0.1111111111111111, \"#46039f\"], [0.2222222222222222, \"#7201a8\"], [0.3333333333333333, \"#9c179e\"], [0.4444444444444444, \"#bd3786\"], [0.5555555555555556, \"#d8576b\"], [0.6666666666666666, \"#ed7953\"], [0.7777777777777778, \"#fb9f3a\"], [0.8888888888888888, \"#fdca26\"], [1.0, \"#f0f921\"]], \"type\": \"contour\"}], \"contourcarpet\": [{\"colorbar\": {\"outlinewidth\": 0, \"ticks\": \"\"}, \"type\": \"contourcarpet\"}], \"heatmap\": [{\"colorbar\": {\"outlinewidth\": 0, \"ticks\": \"\"}, \"colorscale\": [[0.0, \"#0d0887\"], [0.1111111111111111, \"#46039f\"], [0.2222222222222222, \"#7201a8\"], [0.3333333333333333, \"#9c179e\"], [0.4444444444444444, \"#bd3786\"], [0.5555555555555556, \"#d8576b\"], [0.6666666666666666, \"#ed7953\"], [0.7777777777777778, \"#fb9f3a\"], [0.8888888888888888, \"#fdca26\"], [1.0, \"#f0f921\"]], \"type\": \"heatmap\"}], \"heatmapgl\": [{\"colorbar\": {\"outlinewidth\": 0, \"ticks\": \"\"}, \"colorscale\": [[0.0, \"#0d0887\"], [0.1111111111111111, \"#46039f\"], [0.2222222222222222, \"#7201a8\"], [0.3333333333333333, \"#9c179e\"], [0.4444444444444444, \"#bd3786\"], [0.5555555555555556, \"#d8576b\"], [0.6666666666666666, \"#ed7953\"], [0.7777777777777778, \"#fb9f3a\"], [0.8888888888888888, \"#fdca26\"], [1.0, \"#f0f921\"]], \"type\": \"heatmapgl\"}], \"histogram\": [{\"marker\": {\"colorbar\": {\"outlinewidth\": 0, \"ticks\": \"\"}}, \"type\": \"histogram\"}], \"histogram2d\": [{\"colorbar\": {\"outlinewidth\": 0, \"ticks\": \"\"}, \"colorscale\": [[0.0, \"#0d0887\"], [0.1111111111111111, \"#46039f\"], [0.2222222222222222, \"#7201a8\"], [0.3333333333333333, \"#9c179e\"], [0.4444444444444444, \"#bd3786\"], [0.5555555555555556, \"#d8576b\"], [0.6666666666666666, \"#ed7953\"], [0.7777777777777778, \"#fb9f3a\"], [0.8888888888888888, \"#fdca26\"], [1.0, \"#f0f921\"]], \"type\": \"histogram2d\"}], \"histogram2dcontour\": [{\"colorbar\": {\"outlinewidth\": 0, \"ticks\": \"\"}, \"colorscale\": [[0.0, \"#0d0887\"], [0.1111111111111111, \"#46039f\"], [0.2222222222222222, \"#7201a8\"], [0.3333333333333333, \"#9c179e\"], [0.4444444444444444, \"#bd3786\"], [0.5555555555555556, \"#d8576b\"], [0.6666666666666666, \"#ed7953\"], [0.7777777777777778, \"#fb9f3a\"], [0.8888888888888888, \"#fdca26\"], [1.0, \"#f0f921\"]], \"type\": \"histogram2dcontour\"}], \"mesh3d\": [{\"colorbar\": {\"outlinewidth\": 0, \"ticks\": \"\"}, \"type\": \"mesh3d\"}], \"parcoords\": [{\"line\": {\"colorbar\": {\"outlinewidth\": 0, \"ticks\": \"\"}}, \"type\": \"parcoords\"}], \"pie\": [{\"automargin\": true, \"type\": \"pie\"}], \"scatter\": [{\"marker\": {\"colorbar\": {\"outlinewidth\": 0, \"ticks\": \"\"}}, \"type\": \"scatter\"}], \"scatter3d\": [{\"line\": {\"colorbar\": {\"outlinewidth\": 0, \"ticks\": \"\"}}, \"marker\": {\"colorbar\": {\"outlinewidth\": 0, \"ticks\": \"\"}}, \"type\": \"scatter3d\"}], \"scattercarpet\": [{\"marker\": {\"colorbar\": {\"outlinewidth\": 0, \"ticks\": \"\"}}, \"type\": \"scattercarpet\"}], \"scattergeo\": [{\"marker\": {\"colorbar\": {\"outlinewidth\": 0, \"ticks\": \"\"}}, \"type\": \"scattergeo\"}], \"scattergl\": [{\"marker\": {\"colorbar\": {\"outlinewidth\": 0, \"ticks\": \"\"}}, \"type\": \"scattergl\"}], \"scattermapbox\": [{\"marker\": {\"colorbar\": {\"outlinewidth\": 0, \"ticks\": \"\"}}, \"type\": \"scattermapbox\"}], \"scatterpolar\": [{\"marker\": {\"colorbar\": {\"outlinewidth\": 0, \"ticks\": \"\"}}, \"type\": \"scatterpolar\"}], \"scatterpolargl\": [{\"marker\": {\"colorbar\": {\"outlinewidth\": 0, \"ticks\": \"\"}}, \"type\": \"scatterpolargl\"}], \"scatterternary\": [{\"marker\": {\"colorbar\": {\"outlinewidth\": 0, \"ticks\": \"\"}}, \"type\": \"scatterternary\"}], \"surface\": [{\"colorbar\": {\"outlinewidth\": 0, \"ticks\": \"\"}, \"colorscale\": [[0.0, \"#0d0887\"], [0.1111111111111111, \"#46039f\"], [0.2222222222222222, \"#7201a8\"], [0.3333333333333333, \"#9c179e\"], [0.4444444444444444, \"#bd3786\"], [0.5555555555555556, \"#d8576b\"], [0.6666666666666666, \"#ed7953\"], [0.7777777777777778, \"#fb9f3a\"], [0.8888888888888888, \"#fdca26\"], [1.0, \"#f0f921\"]], \"type\": \"surface\"}], \"table\": [{\"cells\": {\"fill\": {\"color\": \"#EBF0F8\"}, \"line\": {\"color\": \"white\"}}, \"header\": {\"fill\": {\"color\": \"#C8D4E3\"}, \"line\": {\"color\": \"white\"}}, \"type\": \"table\"}]}, \"layout\": {\"annotationdefaults\": {\"arrowcolor\": \"#2a3f5f\", \"arrowhead\": 0, \"arrowwidth\": 1}, \"coloraxis\": {\"colorbar\": {\"outlinewidth\": 0, \"ticks\": \"\"}}, \"colorscale\": {\"diverging\": [[0, \"#8e0152\"], [0.1, \"#c51b7d\"], [0.2, \"#de77ae\"], [0.3, \"#f1b6da\"], [0.4, \"#fde0ef\"], [0.5, \"#f7f7f7\"], [0.6, \"#e6f5d0\"], [0.7, \"#b8e186\"], [0.8, \"#7fbc41\"], [0.9, \"#4d9221\"], [1, \"#276419\"]], \"sequential\": [[0.0, \"#0d0887\"], [0.1111111111111111, \"#46039f\"], [0.2222222222222222, \"#7201a8\"], [0.3333333333333333, \"#9c179e\"], [0.4444444444444444, \"#bd3786\"], [0.5555555555555556, \"#d8576b\"], [0.6666666666666666, \"#ed7953\"], [0.7777777777777778, \"#fb9f3a\"], [0.8888888888888888, \"#fdca26\"], [1.0, \"#f0f921\"]], \"sequentialminus\": [[0.0, \"#0d0887\"], [0.1111111111111111, \"#46039f\"], [0.2222222222222222, \"#7201a8\"], [0.3333333333333333, \"#9c179e\"], [0.4444444444444444, \"#bd3786\"], [0.5555555555555556, \"#d8576b\"], [0.6666666666666666, \"#ed7953\"], [0.7777777777777778, \"#fb9f3a\"], [0.8888888888888888, \"#fdca26\"], [1.0, \"#f0f921\"]]}, \"colorway\": [\"#636efa\", \"#EF553B\", \"#00cc96\", \"#ab63fa\", \"#FFA15A\", \"#19d3f3\", \"#FF6692\", \"#B6E880\", \"#FF97FF\", \"#FECB52\"], \"font\": {\"color\": \"#2a3f5f\"}, \"geo\": {\"bgcolor\": \"white\", \"lakecolor\": \"white\", \"landcolor\": \"#E5ECF6\", \"showlakes\": true, \"showland\": true, \"subunitcolor\": \"white\"}, \"hoverlabel\": {\"align\": \"left\"}, \"hovermode\": \"closest\", \"mapbox\": {\"style\": \"light\"}, \"paper_bgcolor\": \"white\", \"plot_bgcolor\": \"#E5ECF6\", \"polar\": {\"angularaxis\": {\"gridcolor\": \"white\", \"linecolor\": \"white\", \"ticks\": \"\"}, \"bgcolor\": \"#E5ECF6\", \"radialaxis\": {\"gridcolor\": \"white\", \"linecolor\": \"white\", \"ticks\": \"\"}}, \"scene\": {\"xaxis\": {\"backgroundcolor\": \"#E5ECF6\", \"gridcolor\": \"white\", \"gridwidth\": 2, \"linecolor\": \"white\", \"showbackground\": true, \"ticks\": \"\", \"zerolinecolor\": \"white\"}, \"yaxis\": {\"backgroundcolor\": \"#E5ECF6\", \"gridcolor\": \"white\", \"gridwidth\": 2, \"linecolor\": \"white\", \"showbackground\": true, \"ticks\": \"\", \"zerolinecolor\": \"white\"}, \"zaxis\": {\"backgroundcolor\": \"#E5ECF6\", \"gridcolor\": \"white\", \"gridwidth\": 2, \"linecolor\": \"white\", \"showbackground\": true, \"ticks\": \"\", \"zerolinecolor\": \"white\"}}, \"shapedefaults\": {\"line\": {\"color\": \"#2a3f5f\"}}, \"ternary\": {\"aaxis\": {\"gridcolor\": \"white\", \"linecolor\": \"white\", \"ticks\": \"\"}, \"baxis\": {\"gridcolor\": \"white\", \"linecolor\": \"white\", \"ticks\": \"\"}, \"bgcolor\": \"#E5ECF6\", \"caxis\": {\"gridcolor\": \"white\", \"linecolor\": \"white\", \"ticks\": \"\"}}, \"title\": {\"x\": 0.05}, \"xaxis\": {\"automargin\": true, \"gridcolor\": \"white\", \"linecolor\": \"white\", \"ticks\": \"\", \"title\": {\"standoff\": 15}, \"zerolinecolor\": \"white\", \"zerolinewidth\": 2}, \"yaxis\": {\"automargin\": true, \"gridcolor\": \"white\", \"linecolor\": \"white\", \"ticks\": \"\", \"title\": {\"standoff\": 15}, \"zerolinecolor\": \"white\", \"zerolinewidth\": 2}}}},\n",
       "                        {\"responsive\": true}\n",
       "                    ).then(function(){\n",
       "                            \n",
       "var gd = document.getElementById('b160b030-c806-4f2f-aedc-be14d8dfa4b4');\n",
       "var x = new MutationObserver(function (mutations, observer) {{\n",
       "        var display = window.getComputedStyle(gd).display;\n",
       "        if (!display || display === 'none') {{\n",
       "            console.log([gd, 'removed!']);\n",
       "            Plotly.purge(gd);\n",
       "            observer.disconnect();\n",
       "        }}\n",
       "}});\n",
       "\n",
       "// Listen for the removal of the full notebook cells\n",
       "var notebookContainer = gd.closest('#notebook-container');\n",
       "if (notebookContainer) {{\n",
       "    x.observe(notebookContainer, {childList: true});\n",
       "}}\n",
       "\n",
       "// Listen for the clearing of the current output cell\n",
       "var outputEl = gd.closest('.output');\n",
       "if (outputEl) {{\n",
       "    x.observe(outputEl, {childList: true});\n",
       "}}\n",
       "\n",
       "                        })\n",
       "                };\n",
       "                });\n",
       "            </script>\n",
       "        </div>"
      ]
     },
     "metadata": {},
     "output_type": "display_data"
    }
   ],
   "source": [
    "fig =go.Figure(go.Sunburst(\n",
    "    labels=[\"Eve\", \"Cain\", \"Seth\", \"Enos\", \"Noam\", \"Abel\", \"Awan\", \"Enoch\", \"Azura\"],\n",
    "    parents=[\"\", \"Eve\", \"Eve\", \"Seth\", \"Seth\", \"Eve\", \"Eve\", \"Awan\", \"Eve\" ],\n",
    "    values=[10, 14, 12, 10, 2, 6, 6, 4, 4],\n",
    "))\n",
    "# Update layout for tight margin\n",
    "# See https://plot.ly/python/creating-and-updating-figures/\n",
    "fig.update_layout(margin = dict(t=0, l=0, r=0, b=0))\n",
    "\n",
    "fig.show()"
   ]
  },
  {
   "cell_type": "code",
   "execution_count": 115,
   "metadata": {},
   "outputs": [
    {
     "data": {
      "application/vnd.plotly.v1+json": {
       "config": {
        "plotlyServerURL": "https://plot.ly"
       },
       "data": [
        {
         "labels": [
          "书籍音像",
          "亲子时光",
          "其他",
          "其他",
          "医疗健康",
          "医疗健康",
          "奶粉",
          "宝宝服饰",
          "宝宝服饰",
          "宝宝食品",
          "宝宝食品",
          "尿布尿片",
          "教育支出",
          "教育支出",
          "日常用品",
          "日常用品",
          "洗浴护肤",
          "洗浴护肤",
          "玩具乐器",
          "玩具乐器"
         ],
         "parents": [
          "张嘉芯",
          "张楚淇",
          "张嘉芯",
          "张楚淇",
          "张嘉芯",
          "张楚淇",
          "张楚淇",
          "张嘉芯",
          "张楚淇",
          "张嘉芯",
          "张楚淇",
          "张楚淇",
          "张嘉芯",
          "张楚淇",
          "张嘉芯",
          "张楚淇",
          "张嘉芯",
          "张楚淇",
          "张嘉芯",
          "张楚淇"
         ],
         "type": "sunburst",
         "values": [
          24244.57,
          45,
          7588,
          73.9,
          7189.7,
          10651.26,
          4097.6,
          4198.76,
          827.36,
          165.52,
          1158.5500000000002,
          2037.8,
          11375.2,
          19510.95,
          350.51,
          1178.81,
          87,
          52.66,
          2057.22,
          14.9
         ]
        }
       ],
       "layout": {
        "template": {
         "data": {
          "bar": [
           {
            "error_x": {
             "color": "#2a3f5f"
            },
            "error_y": {
             "color": "#2a3f5f"
            },
            "marker": {
             "line": {
              "color": "#E5ECF6",
              "width": 0.5
             }
            },
            "type": "bar"
           }
          ],
          "barpolar": [
           {
            "marker": {
             "line": {
              "color": "#E5ECF6",
              "width": 0.5
             }
            },
            "type": "barpolar"
           }
          ],
          "carpet": [
           {
            "aaxis": {
             "endlinecolor": "#2a3f5f",
             "gridcolor": "white",
             "linecolor": "white",
             "minorgridcolor": "white",
             "startlinecolor": "#2a3f5f"
            },
            "baxis": {
             "endlinecolor": "#2a3f5f",
             "gridcolor": "white",
             "linecolor": "white",
             "minorgridcolor": "white",
             "startlinecolor": "#2a3f5f"
            },
            "type": "carpet"
           }
          ],
          "choropleth": [
           {
            "colorbar": {
             "outlinewidth": 0,
             "ticks": ""
            },
            "type": "choropleth"
           }
          ],
          "contour": [
           {
            "colorbar": {
             "outlinewidth": 0,
             "ticks": ""
            },
            "colorscale": [
             [
              0,
              "#0d0887"
             ],
             [
              0.1111111111111111,
              "#46039f"
             ],
             [
              0.2222222222222222,
              "#7201a8"
             ],
             [
              0.3333333333333333,
              "#9c179e"
             ],
             [
              0.4444444444444444,
              "#bd3786"
             ],
             [
              0.5555555555555556,
              "#d8576b"
             ],
             [
              0.6666666666666666,
              "#ed7953"
             ],
             [
              0.7777777777777778,
              "#fb9f3a"
             ],
             [
              0.8888888888888888,
              "#fdca26"
             ],
             [
              1,
              "#f0f921"
             ]
            ],
            "type": "contour"
           }
          ],
          "contourcarpet": [
           {
            "colorbar": {
             "outlinewidth": 0,
             "ticks": ""
            },
            "type": "contourcarpet"
           }
          ],
          "heatmap": [
           {
            "colorbar": {
             "outlinewidth": 0,
             "ticks": ""
            },
            "colorscale": [
             [
              0,
              "#0d0887"
             ],
             [
              0.1111111111111111,
              "#46039f"
             ],
             [
              0.2222222222222222,
              "#7201a8"
             ],
             [
              0.3333333333333333,
              "#9c179e"
             ],
             [
              0.4444444444444444,
              "#bd3786"
             ],
             [
              0.5555555555555556,
              "#d8576b"
             ],
             [
              0.6666666666666666,
              "#ed7953"
             ],
             [
              0.7777777777777778,
              "#fb9f3a"
             ],
             [
              0.8888888888888888,
              "#fdca26"
             ],
             [
              1,
              "#f0f921"
             ]
            ],
            "type": "heatmap"
           }
          ],
          "heatmapgl": [
           {
            "colorbar": {
             "outlinewidth": 0,
             "ticks": ""
            },
            "colorscale": [
             [
              0,
              "#0d0887"
             ],
             [
              0.1111111111111111,
              "#46039f"
             ],
             [
              0.2222222222222222,
              "#7201a8"
             ],
             [
              0.3333333333333333,
              "#9c179e"
             ],
             [
              0.4444444444444444,
              "#bd3786"
             ],
             [
              0.5555555555555556,
              "#d8576b"
             ],
             [
              0.6666666666666666,
              "#ed7953"
             ],
             [
              0.7777777777777778,
              "#fb9f3a"
             ],
             [
              0.8888888888888888,
              "#fdca26"
             ],
             [
              1,
              "#f0f921"
             ]
            ],
            "type": "heatmapgl"
           }
          ],
          "histogram": [
           {
            "marker": {
             "colorbar": {
              "outlinewidth": 0,
              "ticks": ""
             }
            },
            "type": "histogram"
           }
          ],
          "histogram2d": [
           {
            "colorbar": {
             "outlinewidth": 0,
             "ticks": ""
            },
            "colorscale": [
             [
              0,
              "#0d0887"
             ],
             [
              0.1111111111111111,
              "#46039f"
             ],
             [
              0.2222222222222222,
              "#7201a8"
             ],
             [
              0.3333333333333333,
              "#9c179e"
             ],
             [
              0.4444444444444444,
              "#bd3786"
             ],
             [
              0.5555555555555556,
              "#d8576b"
             ],
             [
              0.6666666666666666,
              "#ed7953"
             ],
             [
              0.7777777777777778,
              "#fb9f3a"
             ],
             [
              0.8888888888888888,
              "#fdca26"
             ],
             [
              1,
              "#f0f921"
             ]
            ],
            "type": "histogram2d"
           }
          ],
          "histogram2dcontour": [
           {
            "colorbar": {
             "outlinewidth": 0,
             "ticks": ""
            },
            "colorscale": [
             [
              0,
              "#0d0887"
             ],
             [
              0.1111111111111111,
              "#46039f"
             ],
             [
              0.2222222222222222,
              "#7201a8"
             ],
             [
              0.3333333333333333,
              "#9c179e"
             ],
             [
              0.4444444444444444,
              "#bd3786"
             ],
             [
              0.5555555555555556,
              "#d8576b"
             ],
             [
              0.6666666666666666,
              "#ed7953"
             ],
             [
              0.7777777777777778,
              "#fb9f3a"
             ],
             [
              0.8888888888888888,
              "#fdca26"
             ],
             [
              1,
              "#f0f921"
             ]
            ],
            "type": "histogram2dcontour"
           }
          ],
          "mesh3d": [
           {
            "colorbar": {
             "outlinewidth": 0,
             "ticks": ""
            },
            "type": "mesh3d"
           }
          ],
          "parcoords": [
           {
            "line": {
             "colorbar": {
              "outlinewidth": 0,
              "ticks": ""
             }
            },
            "type": "parcoords"
           }
          ],
          "pie": [
           {
            "automargin": true,
            "type": "pie"
           }
          ],
          "scatter": [
           {
            "marker": {
             "colorbar": {
              "outlinewidth": 0,
              "ticks": ""
             }
            },
            "type": "scatter"
           }
          ],
          "scatter3d": [
           {
            "line": {
             "colorbar": {
              "outlinewidth": 0,
              "ticks": ""
             }
            },
            "marker": {
             "colorbar": {
              "outlinewidth": 0,
              "ticks": ""
             }
            },
            "type": "scatter3d"
           }
          ],
          "scattercarpet": [
           {
            "marker": {
             "colorbar": {
              "outlinewidth": 0,
              "ticks": ""
             }
            },
            "type": "scattercarpet"
           }
          ],
          "scattergeo": [
           {
            "marker": {
             "colorbar": {
              "outlinewidth": 0,
              "ticks": ""
             }
            },
            "type": "scattergeo"
           }
          ],
          "scattergl": [
           {
            "marker": {
             "colorbar": {
              "outlinewidth": 0,
              "ticks": ""
             }
            },
            "type": "scattergl"
           }
          ],
          "scattermapbox": [
           {
            "marker": {
             "colorbar": {
              "outlinewidth": 0,
              "ticks": ""
             }
            },
            "type": "scattermapbox"
           }
          ],
          "scatterpolar": [
           {
            "marker": {
             "colorbar": {
              "outlinewidth": 0,
              "ticks": ""
             }
            },
            "type": "scatterpolar"
           }
          ],
          "scatterpolargl": [
           {
            "marker": {
             "colorbar": {
              "outlinewidth": 0,
              "ticks": ""
             }
            },
            "type": "scatterpolargl"
           }
          ],
          "scatterternary": [
           {
            "marker": {
             "colorbar": {
              "outlinewidth": 0,
              "ticks": ""
             }
            },
            "type": "scatterternary"
           }
          ],
          "surface": [
           {
            "colorbar": {
             "outlinewidth": 0,
             "ticks": ""
            },
            "colorscale": [
             [
              0,
              "#0d0887"
             ],
             [
              0.1111111111111111,
              "#46039f"
             ],
             [
              0.2222222222222222,
              "#7201a8"
             ],
             [
              0.3333333333333333,
              "#9c179e"
             ],
             [
              0.4444444444444444,
              "#bd3786"
             ],
             [
              0.5555555555555556,
              "#d8576b"
             ],
             [
              0.6666666666666666,
              "#ed7953"
             ],
             [
              0.7777777777777778,
              "#fb9f3a"
             ],
             [
              0.8888888888888888,
              "#fdca26"
             ],
             [
              1,
              "#f0f921"
             ]
            ],
            "type": "surface"
           }
          ],
          "table": [
           {
            "cells": {
             "fill": {
              "color": "#EBF0F8"
             },
             "line": {
              "color": "white"
             }
            },
            "header": {
             "fill": {
              "color": "#C8D4E3"
             },
             "line": {
              "color": "white"
             }
            },
            "type": "table"
           }
          ]
         },
         "layout": {
          "annotationdefaults": {
           "arrowcolor": "#2a3f5f",
           "arrowhead": 0,
           "arrowwidth": 1
          },
          "coloraxis": {
           "colorbar": {
            "outlinewidth": 0,
            "ticks": ""
           }
          },
          "colorscale": {
           "diverging": [
            [
             0,
             "#8e0152"
            ],
            [
             0.1,
             "#c51b7d"
            ],
            [
             0.2,
             "#de77ae"
            ],
            [
             0.3,
             "#f1b6da"
            ],
            [
             0.4,
             "#fde0ef"
            ],
            [
             0.5,
             "#f7f7f7"
            ],
            [
             0.6,
             "#e6f5d0"
            ],
            [
             0.7,
             "#b8e186"
            ],
            [
             0.8,
             "#7fbc41"
            ],
            [
             0.9,
             "#4d9221"
            ],
            [
             1,
             "#276419"
            ]
           ],
           "sequential": [
            [
             0,
             "#0d0887"
            ],
            [
             0.1111111111111111,
             "#46039f"
            ],
            [
             0.2222222222222222,
             "#7201a8"
            ],
            [
             0.3333333333333333,
             "#9c179e"
            ],
            [
             0.4444444444444444,
             "#bd3786"
            ],
            [
             0.5555555555555556,
             "#d8576b"
            ],
            [
             0.6666666666666666,
             "#ed7953"
            ],
            [
             0.7777777777777778,
             "#fb9f3a"
            ],
            [
             0.8888888888888888,
             "#fdca26"
            ],
            [
             1,
             "#f0f921"
            ]
           ],
           "sequentialminus": [
            [
             0,
             "#0d0887"
            ],
            [
             0.1111111111111111,
             "#46039f"
            ],
            [
             0.2222222222222222,
             "#7201a8"
            ],
            [
             0.3333333333333333,
             "#9c179e"
            ],
            [
             0.4444444444444444,
             "#bd3786"
            ],
            [
             0.5555555555555556,
             "#d8576b"
            ],
            [
             0.6666666666666666,
             "#ed7953"
            ],
            [
             0.7777777777777778,
             "#fb9f3a"
            ],
            [
             0.8888888888888888,
             "#fdca26"
            ],
            [
             1,
             "#f0f921"
            ]
           ]
          },
          "colorway": [
           "#636efa",
           "#EF553B",
           "#00cc96",
           "#ab63fa",
           "#FFA15A",
           "#19d3f3",
           "#FF6692",
           "#B6E880",
           "#FF97FF",
           "#FECB52"
          ],
          "font": {
           "color": "#2a3f5f"
          },
          "geo": {
           "bgcolor": "white",
           "lakecolor": "white",
           "landcolor": "#E5ECF6",
           "showlakes": true,
           "showland": true,
           "subunitcolor": "white"
          },
          "hoverlabel": {
           "align": "left"
          },
          "hovermode": "closest",
          "mapbox": {
           "style": "light"
          },
          "paper_bgcolor": "white",
          "plot_bgcolor": "#E5ECF6",
          "polar": {
           "angularaxis": {
            "gridcolor": "white",
            "linecolor": "white",
            "ticks": ""
           },
           "bgcolor": "#E5ECF6",
           "radialaxis": {
            "gridcolor": "white",
            "linecolor": "white",
            "ticks": ""
           }
          },
          "scene": {
           "xaxis": {
            "backgroundcolor": "#E5ECF6",
            "gridcolor": "white",
            "gridwidth": 2,
            "linecolor": "white",
            "showbackground": true,
            "ticks": "",
            "zerolinecolor": "white"
           },
           "yaxis": {
            "backgroundcolor": "#E5ECF6",
            "gridcolor": "white",
            "gridwidth": 2,
            "linecolor": "white",
            "showbackground": true,
            "ticks": "",
            "zerolinecolor": "white"
           },
           "zaxis": {
            "backgroundcolor": "#E5ECF6",
            "gridcolor": "white",
            "gridwidth": 2,
            "linecolor": "white",
            "showbackground": true,
            "ticks": "",
            "zerolinecolor": "white"
           }
          },
          "shapedefaults": {
           "line": {
            "color": "#2a3f5f"
           }
          },
          "ternary": {
           "aaxis": {
            "gridcolor": "white",
            "linecolor": "white",
            "ticks": ""
           },
           "baxis": {
            "gridcolor": "white",
            "linecolor": "white",
            "ticks": ""
           },
           "bgcolor": "#E5ECF6",
           "caxis": {
            "gridcolor": "white",
            "linecolor": "white",
            "ticks": ""
           }
          },
          "title": {
           "x": 0.05
          },
          "xaxis": {
           "automargin": true,
           "gridcolor": "white",
           "linecolor": "white",
           "ticks": "",
           "title": {
            "standoff": 15
           },
           "zerolinecolor": "white",
           "zerolinewidth": 2
          },
          "yaxis": {
           "automargin": true,
           "gridcolor": "white",
           "linecolor": "white",
           "ticks": "",
           "title": {
            "standoff": 15
           },
           "zerolinecolor": "white",
           "zerolinewidth": 2
          }
         }
        }
       }
      },
      "text/html": [
       "<div>\n",
       "        \n",
       "        \n",
       "            <div id=\"d7956f92-09aa-4967-b7f7-20f7c844a8d1\" class=\"plotly-graph-div\" style=\"height:525px; width:100%;\"></div>\n",
       "            <script type=\"text/javascript\">\n",
       "                require([\"plotly\"], function(Plotly) {\n",
       "                    window.PLOTLYENV=window.PLOTLYENV || {};\n",
       "                    \n",
       "                if (document.getElementById(\"d7956f92-09aa-4967-b7f7-20f7c844a8d1\")) {\n",
       "                    Plotly.newPlot(\n",
       "                        'd7956f92-09aa-4967-b7f7-20f7c844a8d1',\n",
       "                        [{\"labels\": [\"\\u4e66\\u7c4d\\u97f3\\u50cf\", \"\\u4eb2\\u5b50\\u65f6\\u5149\", \"\\u5176\\u4ed6\", \"\\u5176\\u4ed6\", \"\\u533b\\u7597\\u5065\\u5eb7\", \"\\u533b\\u7597\\u5065\\u5eb7\", \"\\u5976\\u7c89\", \"\\u5b9d\\u5b9d\\u670d\\u9970\", \"\\u5b9d\\u5b9d\\u670d\\u9970\", \"\\u5b9d\\u5b9d\\u98df\\u54c1\", \"\\u5b9d\\u5b9d\\u98df\\u54c1\", \"\\u5c3f\\u5e03\\u5c3f\\u7247\", \"\\u6559\\u80b2\\u652f\\u51fa\", \"\\u6559\\u80b2\\u652f\\u51fa\", \"\\u65e5\\u5e38\\u7528\\u54c1\", \"\\u65e5\\u5e38\\u7528\\u54c1\", \"\\u6d17\\u6d74\\u62a4\\u80a4\", \"\\u6d17\\u6d74\\u62a4\\u80a4\", \"\\u73a9\\u5177\\u4e50\\u5668\", \"\\u73a9\\u5177\\u4e50\\u5668\"], \"parents\": [\"\\u5f20\\u5609\\u82af\", \"\\u5f20\\u695a\\u6dc7\", \"\\u5f20\\u5609\\u82af\", \"\\u5f20\\u695a\\u6dc7\", \"\\u5f20\\u5609\\u82af\", \"\\u5f20\\u695a\\u6dc7\", \"\\u5f20\\u695a\\u6dc7\", \"\\u5f20\\u5609\\u82af\", \"\\u5f20\\u695a\\u6dc7\", \"\\u5f20\\u5609\\u82af\", \"\\u5f20\\u695a\\u6dc7\", \"\\u5f20\\u695a\\u6dc7\", \"\\u5f20\\u5609\\u82af\", \"\\u5f20\\u695a\\u6dc7\", \"\\u5f20\\u5609\\u82af\", \"\\u5f20\\u695a\\u6dc7\", \"\\u5f20\\u5609\\u82af\", \"\\u5f20\\u695a\\u6dc7\", \"\\u5f20\\u5609\\u82af\", \"\\u5f20\\u695a\\u6dc7\"], \"type\": \"sunburst\", \"values\": [24244.57, 45.0, 7588.0, 73.9, 7189.7, 10651.26, 4097.6, 4198.76, 827.36, 165.52, 1158.5500000000002, 2037.8, 11375.2, 19510.95, 350.51, 1178.81, 87.0, 52.66, 2057.22, 14.9]}],\n",
       "                        {\"template\": {\"data\": {\"bar\": [{\"error_x\": {\"color\": \"#2a3f5f\"}, \"error_y\": {\"color\": \"#2a3f5f\"}, \"marker\": {\"line\": {\"color\": \"#E5ECF6\", \"width\": 0.5}}, \"type\": \"bar\"}], \"barpolar\": [{\"marker\": {\"line\": {\"color\": \"#E5ECF6\", \"width\": 0.5}}, \"type\": \"barpolar\"}], \"carpet\": [{\"aaxis\": {\"endlinecolor\": \"#2a3f5f\", \"gridcolor\": \"white\", \"linecolor\": \"white\", \"minorgridcolor\": \"white\", \"startlinecolor\": \"#2a3f5f\"}, \"baxis\": {\"endlinecolor\": \"#2a3f5f\", \"gridcolor\": \"white\", \"linecolor\": \"white\", \"minorgridcolor\": \"white\", \"startlinecolor\": \"#2a3f5f\"}, \"type\": \"carpet\"}], \"choropleth\": [{\"colorbar\": {\"outlinewidth\": 0, \"ticks\": \"\"}, \"type\": \"choropleth\"}], \"contour\": [{\"colorbar\": {\"outlinewidth\": 0, \"ticks\": \"\"}, \"colorscale\": [[0.0, \"#0d0887\"], [0.1111111111111111, \"#46039f\"], [0.2222222222222222, \"#7201a8\"], [0.3333333333333333, \"#9c179e\"], [0.4444444444444444, \"#bd3786\"], [0.5555555555555556, \"#d8576b\"], [0.6666666666666666, \"#ed7953\"], [0.7777777777777778, \"#fb9f3a\"], [0.8888888888888888, \"#fdca26\"], [1.0, \"#f0f921\"]], \"type\": \"contour\"}], \"contourcarpet\": [{\"colorbar\": {\"outlinewidth\": 0, \"ticks\": \"\"}, \"type\": \"contourcarpet\"}], \"heatmap\": [{\"colorbar\": {\"outlinewidth\": 0, \"ticks\": \"\"}, \"colorscale\": [[0.0, \"#0d0887\"], [0.1111111111111111, \"#46039f\"], [0.2222222222222222, \"#7201a8\"], [0.3333333333333333, \"#9c179e\"], [0.4444444444444444, \"#bd3786\"], [0.5555555555555556, \"#d8576b\"], [0.6666666666666666, \"#ed7953\"], [0.7777777777777778, \"#fb9f3a\"], [0.8888888888888888, \"#fdca26\"], [1.0, \"#f0f921\"]], \"type\": \"heatmap\"}], \"heatmapgl\": [{\"colorbar\": {\"outlinewidth\": 0, \"ticks\": \"\"}, \"colorscale\": [[0.0, \"#0d0887\"], [0.1111111111111111, \"#46039f\"], [0.2222222222222222, \"#7201a8\"], [0.3333333333333333, \"#9c179e\"], [0.4444444444444444, \"#bd3786\"], [0.5555555555555556, \"#d8576b\"], [0.6666666666666666, \"#ed7953\"], [0.7777777777777778, \"#fb9f3a\"], [0.8888888888888888, \"#fdca26\"], [1.0, \"#f0f921\"]], \"type\": \"heatmapgl\"}], \"histogram\": [{\"marker\": {\"colorbar\": {\"outlinewidth\": 0, \"ticks\": \"\"}}, \"type\": \"histogram\"}], \"histogram2d\": [{\"colorbar\": {\"outlinewidth\": 0, \"ticks\": \"\"}, \"colorscale\": [[0.0, \"#0d0887\"], [0.1111111111111111, \"#46039f\"], [0.2222222222222222, \"#7201a8\"], [0.3333333333333333, \"#9c179e\"], [0.4444444444444444, \"#bd3786\"], [0.5555555555555556, \"#d8576b\"], [0.6666666666666666, \"#ed7953\"], [0.7777777777777778, \"#fb9f3a\"], [0.8888888888888888, \"#fdca26\"], [1.0, \"#f0f921\"]], \"type\": \"histogram2d\"}], \"histogram2dcontour\": [{\"colorbar\": {\"outlinewidth\": 0, \"ticks\": \"\"}, \"colorscale\": [[0.0, \"#0d0887\"], [0.1111111111111111, \"#46039f\"], [0.2222222222222222, \"#7201a8\"], [0.3333333333333333, \"#9c179e\"], [0.4444444444444444, \"#bd3786\"], [0.5555555555555556, \"#d8576b\"], [0.6666666666666666, \"#ed7953\"], [0.7777777777777778, \"#fb9f3a\"], [0.8888888888888888, \"#fdca26\"], [1.0, \"#f0f921\"]], \"type\": \"histogram2dcontour\"}], \"mesh3d\": [{\"colorbar\": {\"outlinewidth\": 0, \"ticks\": \"\"}, \"type\": \"mesh3d\"}], \"parcoords\": [{\"line\": {\"colorbar\": {\"outlinewidth\": 0, \"ticks\": \"\"}}, \"type\": \"parcoords\"}], \"pie\": [{\"automargin\": true, \"type\": \"pie\"}], \"scatter\": [{\"marker\": {\"colorbar\": {\"outlinewidth\": 0, \"ticks\": \"\"}}, \"type\": \"scatter\"}], \"scatter3d\": [{\"line\": {\"colorbar\": {\"outlinewidth\": 0, \"ticks\": \"\"}}, \"marker\": {\"colorbar\": {\"outlinewidth\": 0, \"ticks\": \"\"}}, \"type\": \"scatter3d\"}], \"scattercarpet\": [{\"marker\": {\"colorbar\": {\"outlinewidth\": 0, \"ticks\": \"\"}}, \"type\": \"scattercarpet\"}], \"scattergeo\": [{\"marker\": {\"colorbar\": {\"outlinewidth\": 0, \"ticks\": \"\"}}, \"type\": \"scattergeo\"}], \"scattergl\": [{\"marker\": {\"colorbar\": {\"outlinewidth\": 0, \"ticks\": \"\"}}, \"type\": \"scattergl\"}], \"scattermapbox\": [{\"marker\": {\"colorbar\": {\"outlinewidth\": 0, \"ticks\": \"\"}}, \"type\": \"scattermapbox\"}], \"scatterpolar\": [{\"marker\": {\"colorbar\": {\"outlinewidth\": 0, \"ticks\": \"\"}}, \"type\": \"scatterpolar\"}], \"scatterpolargl\": [{\"marker\": {\"colorbar\": {\"outlinewidth\": 0, \"ticks\": \"\"}}, \"type\": \"scatterpolargl\"}], \"scatterternary\": [{\"marker\": {\"colorbar\": {\"outlinewidth\": 0, \"ticks\": \"\"}}, \"type\": \"scatterternary\"}], \"surface\": [{\"colorbar\": {\"outlinewidth\": 0, \"ticks\": \"\"}, \"colorscale\": [[0.0, \"#0d0887\"], [0.1111111111111111, \"#46039f\"], [0.2222222222222222, \"#7201a8\"], [0.3333333333333333, \"#9c179e\"], [0.4444444444444444, \"#bd3786\"], [0.5555555555555556, \"#d8576b\"], [0.6666666666666666, \"#ed7953\"], [0.7777777777777778, \"#fb9f3a\"], [0.8888888888888888, \"#fdca26\"], [1.0, \"#f0f921\"]], \"type\": \"surface\"}], \"table\": [{\"cells\": {\"fill\": {\"color\": \"#EBF0F8\"}, \"line\": {\"color\": \"white\"}}, \"header\": {\"fill\": {\"color\": \"#C8D4E3\"}, \"line\": {\"color\": \"white\"}}, \"type\": \"table\"}]}, \"layout\": {\"annotationdefaults\": {\"arrowcolor\": \"#2a3f5f\", \"arrowhead\": 0, \"arrowwidth\": 1}, \"coloraxis\": {\"colorbar\": {\"outlinewidth\": 0, \"ticks\": \"\"}}, \"colorscale\": {\"diverging\": [[0, \"#8e0152\"], [0.1, \"#c51b7d\"], [0.2, \"#de77ae\"], [0.3, \"#f1b6da\"], [0.4, \"#fde0ef\"], [0.5, \"#f7f7f7\"], [0.6, \"#e6f5d0\"], [0.7, \"#b8e186\"], [0.8, \"#7fbc41\"], [0.9, \"#4d9221\"], [1, \"#276419\"]], \"sequential\": [[0.0, \"#0d0887\"], [0.1111111111111111, \"#46039f\"], [0.2222222222222222, \"#7201a8\"], [0.3333333333333333, \"#9c179e\"], [0.4444444444444444, \"#bd3786\"], [0.5555555555555556, \"#d8576b\"], [0.6666666666666666, \"#ed7953\"], [0.7777777777777778, \"#fb9f3a\"], [0.8888888888888888, \"#fdca26\"], [1.0, \"#f0f921\"]], \"sequentialminus\": [[0.0, \"#0d0887\"], [0.1111111111111111, \"#46039f\"], [0.2222222222222222, \"#7201a8\"], [0.3333333333333333, \"#9c179e\"], [0.4444444444444444, \"#bd3786\"], [0.5555555555555556, \"#d8576b\"], [0.6666666666666666, \"#ed7953\"], [0.7777777777777778, \"#fb9f3a\"], [0.8888888888888888, \"#fdca26\"], [1.0, \"#f0f921\"]]}, \"colorway\": [\"#636efa\", \"#EF553B\", \"#00cc96\", \"#ab63fa\", \"#FFA15A\", \"#19d3f3\", \"#FF6692\", \"#B6E880\", \"#FF97FF\", \"#FECB52\"], \"font\": {\"color\": \"#2a3f5f\"}, \"geo\": {\"bgcolor\": \"white\", \"lakecolor\": \"white\", \"landcolor\": \"#E5ECF6\", \"showlakes\": true, \"showland\": true, \"subunitcolor\": \"white\"}, \"hoverlabel\": {\"align\": \"left\"}, \"hovermode\": \"closest\", \"mapbox\": {\"style\": \"light\"}, \"paper_bgcolor\": \"white\", \"plot_bgcolor\": \"#E5ECF6\", \"polar\": {\"angularaxis\": {\"gridcolor\": \"white\", \"linecolor\": \"white\", \"ticks\": \"\"}, \"bgcolor\": \"#E5ECF6\", \"radialaxis\": {\"gridcolor\": \"white\", \"linecolor\": \"white\", \"ticks\": \"\"}}, \"scene\": {\"xaxis\": {\"backgroundcolor\": \"#E5ECF6\", \"gridcolor\": \"white\", \"gridwidth\": 2, \"linecolor\": \"white\", \"showbackground\": true, \"ticks\": \"\", \"zerolinecolor\": \"white\"}, \"yaxis\": {\"backgroundcolor\": \"#E5ECF6\", \"gridcolor\": \"white\", \"gridwidth\": 2, \"linecolor\": \"white\", \"showbackground\": true, \"ticks\": \"\", \"zerolinecolor\": \"white\"}, \"zaxis\": {\"backgroundcolor\": \"#E5ECF6\", \"gridcolor\": \"white\", \"gridwidth\": 2, \"linecolor\": \"white\", \"showbackground\": true, \"ticks\": \"\", \"zerolinecolor\": \"white\"}}, \"shapedefaults\": {\"line\": {\"color\": \"#2a3f5f\"}}, \"ternary\": {\"aaxis\": {\"gridcolor\": \"white\", \"linecolor\": \"white\", \"ticks\": \"\"}, \"baxis\": {\"gridcolor\": \"white\", \"linecolor\": \"white\", \"ticks\": \"\"}, \"bgcolor\": \"#E5ECF6\", \"caxis\": {\"gridcolor\": \"white\", \"linecolor\": \"white\", \"ticks\": \"\"}}, \"title\": {\"x\": 0.05}, \"xaxis\": {\"automargin\": true, \"gridcolor\": \"white\", \"linecolor\": \"white\", \"ticks\": \"\", \"title\": {\"standoff\": 15}, \"zerolinecolor\": \"white\", \"zerolinewidth\": 2}, \"yaxis\": {\"automargin\": true, \"gridcolor\": \"white\", \"linecolor\": \"white\", \"ticks\": \"\", \"title\": {\"standoff\": 15}, \"zerolinecolor\": \"white\", \"zerolinewidth\": 2}}}},\n",
       "                        {\"responsive\": true}\n",
       "                    ).then(function(){\n",
       "                            \n",
       "var gd = document.getElementById('d7956f92-09aa-4967-b7f7-20f7c844a8d1');\n",
       "var x = new MutationObserver(function (mutations, observer) {{\n",
       "        var display = window.getComputedStyle(gd).display;\n",
       "        if (!display || display === 'none') {{\n",
       "            console.log([gd, 'removed!']);\n",
       "            Plotly.purge(gd);\n",
       "            observer.disconnect();\n",
       "        }}\n",
       "}});\n",
       "\n",
       "// Listen for the removal of the full notebook cells\n",
       "var notebookContainer = gd.closest('#notebook-container');\n",
       "if (notebookContainer) {{\n",
       "    x.observe(notebookContainer, {childList: true});\n",
       "}}\n",
       "\n",
       "// Listen for the clearing of the current output cell\n",
       "var outputEl = gd.closest('.output');\n",
       "if (outputEl) {{\n",
       "    x.observe(outputEl, {childList: true});\n",
       "}}\n",
       "\n",
       "                        })\n",
       "                };\n",
       "                });\n",
       "            </script>\n",
       "        </div>"
      ]
     },
     "metadata": {},
     "output_type": "display_data"
    }
   ],
   "source": [
    "fig =go.Figure(go.Sunburst(\n",
    "    labels=disp3.type,\n",
    "    parents=disp3.user,\n",
    "    values=disp3.amount,\n",
    "))\n",
    "#fig.update_layout(margin = dict(t=0, l=0, r=0, b=0))\n",
    "\n",
    "fig.show()"
   ]
  },
  {
   "cell_type": "code",
   "execution_count": 100,
   "metadata": {},
   "outputs": [
    {
     "data": {
      "application/vnd.plotly.v1+json": {
       "config": {
        "plotlyServerURL": "https://plot.ly"
       },
       "data": [
        {
         "name": "张嘉芯",
         "type": "bar",
         "x": [
          "医疗健康",
          "医疗健康",
          "奶粉",
          "宝宝服饰",
          "宝宝食品",
          "宝宝食品",
          "教育支出",
          "教育支出",
          "日常用品",
          "玩具乐器",
          "其他",
          "奶粉",
          "宝宝食品",
          "教育支出",
          "教育支出",
          "玩具乐器",
          "书籍音像",
          "其他",
          "医疗健康",
          "奶粉",
          "宝宝服饰",
          "宝宝食品",
          "尿布尿片",
          "教育支出",
          "玩具乐器",
          "医疗健康",
          "奶粉",
          "宝宝服饰",
          "宝宝食品",
          "教育支出",
          "教育支出",
          "其他",
          "奶粉",
          "宝宝服饰",
          "宝宝食品",
          "尿布尿片",
          "教育支出",
          "教育支出",
          "日常用品",
          "玩具乐器",
          "书籍音像",
          "医疗健康",
          "奶粉",
          "宝宝服饰",
          "宝宝服饰",
          "宝宝食品",
          "宝宝食品",
          "尿布尿片",
          "教育支出",
          "教育支出",
          "日常用品",
          "日常用品",
          "洗浴护肤",
          "玩具乐器",
          "玩具乐器",
          "其他",
          "医疗健康",
          "宝宝服饰",
          "宝宝食品",
          "宝宝食品",
          "教育支出",
          "日常用品",
          "日常用品",
          "玩具乐器",
          "其他",
          "奶粉",
          "宝宝服饰",
          "宝宝服饰",
          "尿布尿片",
          "教育支出",
          "玩具乐器",
          "书籍音像",
          "亲子时光",
          "其他",
          "其他",
          "医疗健康",
          "医疗健康",
          "宝宝服饰",
          "宝宝服饰",
          "宝宝食品",
          "教育支出",
          "教育支出",
          "日常用品",
          "洗浴护肤",
          "玩具乐器",
          "医疗健康",
          "宝宝服饰",
          "宝宝服饰",
          "宝宝食品",
          "宝宝食品",
          "尿布尿片",
          "教育支出",
          "教育支出",
          "日常用品",
          "玩具乐器",
          "书籍音像",
          "奶粉",
          "宝宝服饰",
          "宝宝服饰",
          "宝宝食品",
          "尿布尿片",
          "教育支出",
          "教育支出",
          "日常用品",
          "日常用品",
          "洗浴护肤",
          "玩具乐器",
          "其他",
          "医疗健康",
          "医疗健康",
          "宝宝服饰",
          "宝宝服饰",
          "宝宝食品",
          "尿布尿片",
          "教育支出",
          "日常用品",
          "日常用品",
          "玩具乐器"
         ],
         "y": [
          172.4,
          10,
          16.72,
          518.2,
          47,
          100,
          30.5,
          1500,
          5,
          15373.6,
          227,
          3223,
          312.9,
          65.9,
          961.9,
          3393.9,
          118,
          1400,
          503.24,
          410,
          204.4,
          99,
          742,
          6,
          3099,
          26.5,
          511.76,
          15,
          156.81,
          20.6,
          30,
          35,
          15,
          154.7,
          55.66,
          11.97,
          6900,
          230,
          1008.8,
          950,
          29,
          55.8,
          125.7,
          15.9,
          599,
          131.5,
          8760,
          432.9,
          2899,
          265.01,
          58,
          23.8,
          331,
          170.4,
          633.71,
          9.9,
          29,
          25.4
         ]
        },
        {
         "name": "张楚淇",
         "type": "bar",
         "x": [
          "医疗健康",
          "医疗健康",
          "奶粉",
          "宝宝服饰",
          "宝宝食品",
          "宝宝食品",
          "教育支出",
          "教育支出",
          "日常用品",
          "玩具乐器",
          "其他",
          "奶粉",
          "宝宝食品",
          "教育支出",
          "教育支出",
          "玩具乐器",
          "书籍音像",
          "其他",
          "医疗健康",
          "奶粉",
          "宝宝服饰",
          "宝宝食品",
          "尿布尿片",
          "教育支出",
          "玩具乐器",
          "医疗健康",
          "奶粉",
          "宝宝服饰",
          "宝宝食品",
          "教育支出",
          "教育支出",
          "其他",
          "奶粉",
          "宝宝服饰",
          "宝宝食品",
          "尿布尿片",
          "教育支出",
          "教育支出",
          "日常用品",
          "玩具乐器",
          "书籍音像",
          "医疗健康",
          "奶粉",
          "宝宝服饰",
          "宝宝服饰",
          "宝宝食品",
          "宝宝食品",
          "尿布尿片",
          "教育支出",
          "教育支出",
          "日常用品",
          "日常用品",
          "洗浴护肤",
          "玩具乐器",
          "玩具乐器",
          "其他",
          "医疗健康",
          "宝宝服饰",
          "宝宝食品",
          "宝宝食品",
          "教育支出",
          "日常用品",
          "日常用品",
          "玩具乐器",
          "其他",
          "奶粉",
          "宝宝服饰",
          "宝宝服饰",
          "尿布尿片",
          "教育支出",
          "玩具乐器",
          "书籍音像",
          "亲子时光",
          "其他",
          "其他",
          "医疗健康",
          "医疗健康",
          "宝宝服饰",
          "宝宝服饰",
          "宝宝食品",
          "教育支出",
          "教育支出",
          "日常用品",
          "洗浴护肤",
          "玩具乐器",
          "医疗健康",
          "宝宝服饰",
          "宝宝服饰",
          "宝宝食品",
          "宝宝食品",
          "尿布尿片",
          "教育支出",
          "教育支出",
          "日常用品",
          "玩具乐器",
          "书籍音像",
          "奶粉",
          "宝宝服饰",
          "宝宝服饰",
          "宝宝食品",
          "尿布尿片",
          "教育支出",
          "教育支出",
          "日常用品",
          "日常用品",
          "洗浴护肤",
          "玩具乐器",
          "其他",
          "医疗健康",
          "医疗健康",
          "宝宝服饰",
          "宝宝服饰",
          "宝宝食品",
          "尿布尿片",
          "教育支出",
          "日常用品",
          "日常用品",
          "玩具乐器"
         ],
         "y": [
          25,
          775.9899999999999,
          196.1,
          2000,
          238,
          535.52,
          500,
          246.88,
          250.71,
          1000,
          222.24,
          135.36,
          1000,
          64,
          480.85,
          227.5,
          144.23,
          1000,
          167.8,
          504.36,
          878.1700000000001,
          179,
          9.9,
          545.05,
          2000,
          28.9,
          52.66,
          14.9,
          50,
          30,
          2000,
          182.39999999999998,
          478.95,
          148.5,
          593.55,
          2010.95,
          45,
          9.9,
          25,
          277,
          258.6,
          2000,
          82.68,
          9586.4,
          32,
          76.6,
          43,
          2000,
          47.04,
          479,
          34.9,
          224.49,
          221.22,
          2000,
          248.56,
          460.5,
          155.96,
          240.04,
          2000,
          183.43
         ]
        }
       ],
       "layout": {
        "barmode": "stack",
        "template": {
         "data": {
          "bar": [
           {
            "error_x": {
             "color": "#2a3f5f"
            },
            "error_y": {
             "color": "#2a3f5f"
            },
            "marker": {
             "line": {
              "color": "#E5ECF6",
              "width": 0.5
             }
            },
            "type": "bar"
           }
          ],
          "barpolar": [
           {
            "marker": {
             "line": {
              "color": "#E5ECF6",
              "width": 0.5
             }
            },
            "type": "barpolar"
           }
          ],
          "carpet": [
           {
            "aaxis": {
             "endlinecolor": "#2a3f5f",
             "gridcolor": "white",
             "linecolor": "white",
             "minorgridcolor": "white",
             "startlinecolor": "#2a3f5f"
            },
            "baxis": {
             "endlinecolor": "#2a3f5f",
             "gridcolor": "white",
             "linecolor": "white",
             "minorgridcolor": "white",
             "startlinecolor": "#2a3f5f"
            },
            "type": "carpet"
           }
          ],
          "choropleth": [
           {
            "colorbar": {
             "outlinewidth": 0,
             "ticks": ""
            },
            "type": "choropleth"
           }
          ],
          "contour": [
           {
            "colorbar": {
             "outlinewidth": 0,
             "ticks": ""
            },
            "colorscale": [
             [
              0,
              "#0d0887"
             ],
             [
              0.1111111111111111,
              "#46039f"
             ],
             [
              0.2222222222222222,
              "#7201a8"
             ],
             [
              0.3333333333333333,
              "#9c179e"
             ],
             [
              0.4444444444444444,
              "#bd3786"
             ],
             [
              0.5555555555555556,
              "#d8576b"
             ],
             [
              0.6666666666666666,
              "#ed7953"
             ],
             [
              0.7777777777777778,
              "#fb9f3a"
             ],
             [
              0.8888888888888888,
              "#fdca26"
             ],
             [
              1,
              "#f0f921"
             ]
            ],
            "type": "contour"
           }
          ],
          "contourcarpet": [
           {
            "colorbar": {
             "outlinewidth": 0,
             "ticks": ""
            },
            "type": "contourcarpet"
           }
          ],
          "heatmap": [
           {
            "colorbar": {
             "outlinewidth": 0,
             "ticks": ""
            },
            "colorscale": [
             [
              0,
              "#0d0887"
             ],
             [
              0.1111111111111111,
              "#46039f"
             ],
             [
              0.2222222222222222,
              "#7201a8"
             ],
             [
              0.3333333333333333,
              "#9c179e"
             ],
             [
              0.4444444444444444,
              "#bd3786"
             ],
             [
              0.5555555555555556,
              "#d8576b"
             ],
             [
              0.6666666666666666,
              "#ed7953"
             ],
             [
              0.7777777777777778,
              "#fb9f3a"
             ],
             [
              0.8888888888888888,
              "#fdca26"
             ],
             [
              1,
              "#f0f921"
             ]
            ],
            "type": "heatmap"
           }
          ],
          "heatmapgl": [
           {
            "colorbar": {
             "outlinewidth": 0,
             "ticks": ""
            },
            "colorscale": [
             [
              0,
              "#0d0887"
             ],
             [
              0.1111111111111111,
              "#46039f"
             ],
             [
              0.2222222222222222,
              "#7201a8"
             ],
             [
              0.3333333333333333,
              "#9c179e"
             ],
             [
              0.4444444444444444,
              "#bd3786"
             ],
             [
              0.5555555555555556,
              "#d8576b"
             ],
             [
              0.6666666666666666,
              "#ed7953"
             ],
             [
              0.7777777777777778,
              "#fb9f3a"
             ],
             [
              0.8888888888888888,
              "#fdca26"
             ],
             [
              1,
              "#f0f921"
             ]
            ],
            "type": "heatmapgl"
           }
          ],
          "histogram": [
           {
            "marker": {
             "colorbar": {
              "outlinewidth": 0,
              "ticks": ""
             }
            },
            "type": "histogram"
           }
          ],
          "histogram2d": [
           {
            "colorbar": {
             "outlinewidth": 0,
             "ticks": ""
            },
            "colorscale": [
             [
              0,
              "#0d0887"
             ],
             [
              0.1111111111111111,
              "#46039f"
             ],
             [
              0.2222222222222222,
              "#7201a8"
             ],
             [
              0.3333333333333333,
              "#9c179e"
             ],
             [
              0.4444444444444444,
              "#bd3786"
             ],
             [
              0.5555555555555556,
              "#d8576b"
             ],
             [
              0.6666666666666666,
              "#ed7953"
             ],
             [
              0.7777777777777778,
              "#fb9f3a"
             ],
             [
              0.8888888888888888,
              "#fdca26"
             ],
             [
              1,
              "#f0f921"
             ]
            ],
            "type": "histogram2d"
           }
          ],
          "histogram2dcontour": [
           {
            "colorbar": {
             "outlinewidth": 0,
             "ticks": ""
            },
            "colorscale": [
             [
              0,
              "#0d0887"
             ],
             [
              0.1111111111111111,
              "#46039f"
             ],
             [
              0.2222222222222222,
              "#7201a8"
             ],
             [
              0.3333333333333333,
              "#9c179e"
             ],
             [
              0.4444444444444444,
              "#bd3786"
             ],
             [
              0.5555555555555556,
              "#d8576b"
             ],
             [
              0.6666666666666666,
              "#ed7953"
             ],
             [
              0.7777777777777778,
              "#fb9f3a"
             ],
             [
              0.8888888888888888,
              "#fdca26"
             ],
             [
              1,
              "#f0f921"
             ]
            ],
            "type": "histogram2dcontour"
           }
          ],
          "mesh3d": [
           {
            "colorbar": {
             "outlinewidth": 0,
             "ticks": ""
            },
            "type": "mesh3d"
           }
          ],
          "parcoords": [
           {
            "line": {
             "colorbar": {
              "outlinewidth": 0,
              "ticks": ""
             }
            },
            "type": "parcoords"
           }
          ],
          "pie": [
           {
            "automargin": true,
            "type": "pie"
           }
          ],
          "scatter": [
           {
            "marker": {
             "colorbar": {
              "outlinewidth": 0,
              "ticks": ""
             }
            },
            "type": "scatter"
           }
          ],
          "scatter3d": [
           {
            "line": {
             "colorbar": {
              "outlinewidth": 0,
              "ticks": ""
             }
            },
            "marker": {
             "colorbar": {
              "outlinewidth": 0,
              "ticks": ""
             }
            },
            "type": "scatter3d"
           }
          ],
          "scattercarpet": [
           {
            "marker": {
             "colorbar": {
              "outlinewidth": 0,
              "ticks": ""
             }
            },
            "type": "scattercarpet"
           }
          ],
          "scattergeo": [
           {
            "marker": {
             "colorbar": {
              "outlinewidth": 0,
              "ticks": ""
             }
            },
            "type": "scattergeo"
           }
          ],
          "scattergl": [
           {
            "marker": {
             "colorbar": {
              "outlinewidth": 0,
              "ticks": ""
             }
            },
            "type": "scattergl"
           }
          ],
          "scattermapbox": [
           {
            "marker": {
             "colorbar": {
              "outlinewidth": 0,
              "ticks": ""
             }
            },
            "type": "scattermapbox"
           }
          ],
          "scatterpolar": [
           {
            "marker": {
             "colorbar": {
              "outlinewidth": 0,
              "ticks": ""
             }
            },
            "type": "scatterpolar"
           }
          ],
          "scatterpolargl": [
           {
            "marker": {
             "colorbar": {
              "outlinewidth": 0,
              "ticks": ""
             }
            },
            "type": "scatterpolargl"
           }
          ],
          "scatterternary": [
           {
            "marker": {
             "colorbar": {
              "outlinewidth": 0,
              "ticks": ""
             }
            },
            "type": "scatterternary"
           }
          ],
          "surface": [
           {
            "colorbar": {
             "outlinewidth": 0,
             "ticks": ""
            },
            "colorscale": [
             [
              0,
              "#0d0887"
             ],
             [
              0.1111111111111111,
              "#46039f"
             ],
             [
              0.2222222222222222,
              "#7201a8"
             ],
             [
              0.3333333333333333,
              "#9c179e"
             ],
             [
              0.4444444444444444,
              "#bd3786"
             ],
             [
              0.5555555555555556,
              "#d8576b"
             ],
             [
              0.6666666666666666,
              "#ed7953"
             ],
             [
              0.7777777777777778,
              "#fb9f3a"
             ],
             [
              0.8888888888888888,
              "#fdca26"
             ],
             [
              1,
              "#f0f921"
             ]
            ],
            "type": "surface"
           }
          ],
          "table": [
           {
            "cells": {
             "fill": {
              "color": "#EBF0F8"
             },
             "line": {
              "color": "white"
             }
            },
            "header": {
             "fill": {
              "color": "#C8D4E3"
             },
             "line": {
              "color": "white"
             }
            },
            "type": "table"
           }
          ]
         },
         "layout": {
          "annotationdefaults": {
           "arrowcolor": "#2a3f5f",
           "arrowhead": 0,
           "arrowwidth": 1
          },
          "coloraxis": {
           "colorbar": {
            "outlinewidth": 0,
            "ticks": ""
           }
          },
          "colorscale": {
           "diverging": [
            [
             0,
             "#8e0152"
            ],
            [
             0.1,
             "#c51b7d"
            ],
            [
             0.2,
             "#de77ae"
            ],
            [
             0.3,
             "#f1b6da"
            ],
            [
             0.4,
             "#fde0ef"
            ],
            [
             0.5,
             "#f7f7f7"
            ],
            [
             0.6,
             "#e6f5d0"
            ],
            [
             0.7,
             "#b8e186"
            ],
            [
             0.8,
             "#7fbc41"
            ],
            [
             0.9,
             "#4d9221"
            ],
            [
             1,
             "#276419"
            ]
           ],
           "sequential": [
            [
             0,
             "#0d0887"
            ],
            [
             0.1111111111111111,
             "#46039f"
            ],
            [
             0.2222222222222222,
             "#7201a8"
            ],
            [
             0.3333333333333333,
             "#9c179e"
            ],
            [
             0.4444444444444444,
             "#bd3786"
            ],
            [
             0.5555555555555556,
             "#d8576b"
            ],
            [
             0.6666666666666666,
             "#ed7953"
            ],
            [
             0.7777777777777778,
             "#fb9f3a"
            ],
            [
             0.8888888888888888,
             "#fdca26"
            ],
            [
             1,
             "#f0f921"
            ]
           ],
           "sequentialminus": [
            [
             0,
             "#0d0887"
            ],
            [
             0.1111111111111111,
             "#46039f"
            ],
            [
             0.2222222222222222,
             "#7201a8"
            ],
            [
             0.3333333333333333,
             "#9c179e"
            ],
            [
             0.4444444444444444,
             "#bd3786"
            ],
            [
             0.5555555555555556,
             "#d8576b"
            ],
            [
             0.6666666666666666,
             "#ed7953"
            ],
            [
             0.7777777777777778,
             "#fb9f3a"
            ],
            [
             0.8888888888888888,
             "#fdca26"
            ],
            [
             1,
             "#f0f921"
            ]
           ]
          },
          "colorway": [
           "#636efa",
           "#EF553B",
           "#00cc96",
           "#ab63fa",
           "#FFA15A",
           "#19d3f3",
           "#FF6692",
           "#B6E880",
           "#FF97FF",
           "#FECB52"
          ],
          "font": {
           "color": "#2a3f5f"
          },
          "geo": {
           "bgcolor": "white",
           "lakecolor": "white",
           "landcolor": "#E5ECF6",
           "showlakes": true,
           "showland": true,
           "subunitcolor": "white"
          },
          "hoverlabel": {
           "align": "left"
          },
          "hovermode": "closest",
          "mapbox": {
           "style": "light"
          },
          "paper_bgcolor": "white",
          "plot_bgcolor": "#E5ECF6",
          "polar": {
           "angularaxis": {
            "gridcolor": "white",
            "linecolor": "white",
            "ticks": ""
           },
           "bgcolor": "#E5ECF6",
           "radialaxis": {
            "gridcolor": "white",
            "linecolor": "white",
            "ticks": ""
           }
          },
          "scene": {
           "xaxis": {
            "backgroundcolor": "#E5ECF6",
            "gridcolor": "white",
            "gridwidth": 2,
            "linecolor": "white",
            "showbackground": true,
            "ticks": "",
            "zerolinecolor": "white"
           },
           "yaxis": {
            "backgroundcolor": "#E5ECF6",
            "gridcolor": "white",
            "gridwidth": 2,
            "linecolor": "white",
            "showbackground": true,
            "ticks": "",
            "zerolinecolor": "white"
           },
           "zaxis": {
            "backgroundcolor": "#E5ECF6",
            "gridcolor": "white",
            "gridwidth": 2,
            "linecolor": "white",
            "showbackground": true,
            "ticks": "",
            "zerolinecolor": "white"
           }
          },
          "shapedefaults": {
           "line": {
            "color": "#2a3f5f"
           }
          },
          "ternary": {
           "aaxis": {
            "gridcolor": "white",
            "linecolor": "white",
            "ticks": ""
           },
           "baxis": {
            "gridcolor": "white",
            "linecolor": "white",
            "ticks": ""
           },
           "bgcolor": "#E5ECF6",
           "caxis": {
            "gridcolor": "white",
            "linecolor": "white",
            "ticks": ""
           }
          },
          "title": {
           "x": 0.05
          },
          "xaxis": {
           "automargin": true,
           "gridcolor": "white",
           "linecolor": "white",
           "ticks": "",
           "title": {
            "standoff": 15
           },
           "zerolinecolor": "white",
           "zerolinewidth": 2
          },
          "yaxis": {
           "automargin": true,
           "gridcolor": "white",
           "linecolor": "white",
           "ticks": "",
           "title": {
            "standoff": 15
           },
           "zerolinecolor": "white",
           "zerolinewidth": 2
          }
         }
        }
       }
      },
      "text/html": [
       "<div>\n",
       "        \n",
       "        \n",
       "            <div id=\"c55e39e6-6ce8-436d-bf78-7aaa6b21914e\" class=\"plotly-graph-div\" style=\"height:525px; width:100%;\"></div>\n",
       "            <script type=\"text/javascript\">\n",
       "                require([\"plotly\"], function(Plotly) {\n",
       "                    window.PLOTLYENV=window.PLOTLYENV || {};\n",
       "                    \n",
       "                if (document.getElementById(\"c55e39e6-6ce8-436d-bf78-7aaa6b21914e\")) {\n",
       "                    Plotly.newPlot(\n",
       "                        'c55e39e6-6ce8-436d-bf78-7aaa6b21914e',\n",
       "                        [{\"name\": \"\\u5f20\\u5609\\u82af\", \"type\": \"bar\", \"x\": [\"\\u533b\\u7597\\u5065\\u5eb7\", \"\\u533b\\u7597\\u5065\\u5eb7\", \"\\u5976\\u7c89\", \"\\u5b9d\\u5b9d\\u670d\\u9970\", \"\\u5b9d\\u5b9d\\u98df\\u54c1\", \"\\u5b9d\\u5b9d\\u98df\\u54c1\", \"\\u6559\\u80b2\\u652f\\u51fa\", \"\\u6559\\u80b2\\u652f\\u51fa\", \"\\u65e5\\u5e38\\u7528\\u54c1\", \"\\u73a9\\u5177\\u4e50\\u5668\", \"\\u5176\\u4ed6\", \"\\u5976\\u7c89\", \"\\u5b9d\\u5b9d\\u98df\\u54c1\", \"\\u6559\\u80b2\\u652f\\u51fa\", \"\\u6559\\u80b2\\u652f\\u51fa\", \"\\u73a9\\u5177\\u4e50\\u5668\", \"\\u4e66\\u7c4d\\u97f3\\u50cf\", \"\\u5176\\u4ed6\", \"\\u533b\\u7597\\u5065\\u5eb7\", \"\\u5976\\u7c89\", \"\\u5b9d\\u5b9d\\u670d\\u9970\", \"\\u5b9d\\u5b9d\\u98df\\u54c1\", \"\\u5c3f\\u5e03\\u5c3f\\u7247\", \"\\u6559\\u80b2\\u652f\\u51fa\", \"\\u73a9\\u5177\\u4e50\\u5668\", \"\\u533b\\u7597\\u5065\\u5eb7\", \"\\u5976\\u7c89\", \"\\u5b9d\\u5b9d\\u670d\\u9970\", \"\\u5b9d\\u5b9d\\u98df\\u54c1\", \"\\u6559\\u80b2\\u652f\\u51fa\", \"\\u6559\\u80b2\\u652f\\u51fa\", \"\\u5176\\u4ed6\", \"\\u5976\\u7c89\", \"\\u5b9d\\u5b9d\\u670d\\u9970\", \"\\u5b9d\\u5b9d\\u98df\\u54c1\", \"\\u5c3f\\u5e03\\u5c3f\\u7247\", \"\\u6559\\u80b2\\u652f\\u51fa\", \"\\u6559\\u80b2\\u652f\\u51fa\", \"\\u65e5\\u5e38\\u7528\\u54c1\", \"\\u73a9\\u5177\\u4e50\\u5668\", \"\\u4e66\\u7c4d\\u97f3\\u50cf\", \"\\u533b\\u7597\\u5065\\u5eb7\", \"\\u5976\\u7c89\", \"\\u5b9d\\u5b9d\\u670d\\u9970\", \"\\u5b9d\\u5b9d\\u670d\\u9970\", \"\\u5b9d\\u5b9d\\u98df\\u54c1\", \"\\u5b9d\\u5b9d\\u98df\\u54c1\", \"\\u5c3f\\u5e03\\u5c3f\\u7247\", \"\\u6559\\u80b2\\u652f\\u51fa\", \"\\u6559\\u80b2\\u652f\\u51fa\", \"\\u65e5\\u5e38\\u7528\\u54c1\", \"\\u65e5\\u5e38\\u7528\\u54c1\", \"\\u6d17\\u6d74\\u62a4\\u80a4\", \"\\u73a9\\u5177\\u4e50\\u5668\", \"\\u73a9\\u5177\\u4e50\\u5668\", \"\\u5176\\u4ed6\", \"\\u533b\\u7597\\u5065\\u5eb7\", \"\\u5b9d\\u5b9d\\u670d\\u9970\", \"\\u5b9d\\u5b9d\\u98df\\u54c1\", \"\\u5b9d\\u5b9d\\u98df\\u54c1\", \"\\u6559\\u80b2\\u652f\\u51fa\", \"\\u65e5\\u5e38\\u7528\\u54c1\", \"\\u65e5\\u5e38\\u7528\\u54c1\", \"\\u73a9\\u5177\\u4e50\\u5668\", \"\\u5176\\u4ed6\", \"\\u5976\\u7c89\", \"\\u5b9d\\u5b9d\\u670d\\u9970\", \"\\u5b9d\\u5b9d\\u670d\\u9970\", \"\\u5c3f\\u5e03\\u5c3f\\u7247\", \"\\u6559\\u80b2\\u652f\\u51fa\", \"\\u73a9\\u5177\\u4e50\\u5668\", \"\\u4e66\\u7c4d\\u97f3\\u50cf\", \"\\u4eb2\\u5b50\\u65f6\\u5149\", \"\\u5176\\u4ed6\", \"\\u5176\\u4ed6\", \"\\u533b\\u7597\\u5065\\u5eb7\", \"\\u533b\\u7597\\u5065\\u5eb7\", \"\\u5b9d\\u5b9d\\u670d\\u9970\", \"\\u5b9d\\u5b9d\\u670d\\u9970\", \"\\u5b9d\\u5b9d\\u98df\\u54c1\", \"\\u6559\\u80b2\\u652f\\u51fa\", \"\\u6559\\u80b2\\u652f\\u51fa\", \"\\u65e5\\u5e38\\u7528\\u54c1\", \"\\u6d17\\u6d74\\u62a4\\u80a4\", \"\\u73a9\\u5177\\u4e50\\u5668\", \"\\u533b\\u7597\\u5065\\u5eb7\", \"\\u5b9d\\u5b9d\\u670d\\u9970\", \"\\u5b9d\\u5b9d\\u670d\\u9970\", \"\\u5b9d\\u5b9d\\u98df\\u54c1\", \"\\u5b9d\\u5b9d\\u98df\\u54c1\", \"\\u5c3f\\u5e03\\u5c3f\\u7247\", \"\\u6559\\u80b2\\u652f\\u51fa\", \"\\u6559\\u80b2\\u652f\\u51fa\", \"\\u65e5\\u5e38\\u7528\\u54c1\", \"\\u73a9\\u5177\\u4e50\\u5668\", \"\\u4e66\\u7c4d\\u97f3\\u50cf\", \"\\u5976\\u7c89\", \"\\u5b9d\\u5b9d\\u670d\\u9970\", \"\\u5b9d\\u5b9d\\u670d\\u9970\", \"\\u5b9d\\u5b9d\\u98df\\u54c1\", \"\\u5c3f\\u5e03\\u5c3f\\u7247\", \"\\u6559\\u80b2\\u652f\\u51fa\", \"\\u6559\\u80b2\\u652f\\u51fa\", \"\\u65e5\\u5e38\\u7528\\u54c1\", \"\\u65e5\\u5e38\\u7528\\u54c1\", \"\\u6d17\\u6d74\\u62a4\\u80a4\", \"\\u73a9\\u5177\\u4e50\\u5668\", \"\\u5176\\u4ed6\", \"\\u533b\\u7597\\u5065\\u5eb7\", \"\\u533b\\u7597\\u5065\\u5eb7\", \"\\u5b9d\\u5b9d\\u670d\\u9970\", \"\\u5b9d\\u5b9d\\u670d\\u9970\", \"\\u5b9d\\u5b9d\\u98df\\u54c1\", \"\\u5c3f\\u5e03\\u5c3f\\u7247\", \"\\u6559\\u80b2\\u652f\\u51fa\", \"\\u65e5\\u5e38\\u7528\\u54c1\", \"\\u65e5\\u5e38\\u7528\\u54c1\", \"\\u73a9\\u5177\\u4e50\\u5668\"], \"y\": [172.4, 10.0, 16.72, 518.2, 47.0, 100.0, 30.5, 1500.0, 5.0, 15373.6, 227.0, 3223.0, 312.9, 65.9, 961.9, 3393.9, 118.0, 1400.0, 503.24, 410.0, 204.4, 99.0, 742.0, 6.0, 3099.0, 26.5, 511.76, 15.0, 156.81, 20.6, 30.0, 35.0, 15.0, 154.7, 55.66, 11.97, 6900.0, 230.0, 1008.8, 950.0, 29.0, 55.8, 125.7, 15.9, 599.0, 131.5, 8760.0, 432.9, 2899.0, 265.01, 58.0, 23.8, 331.0, 170.4, 633.71, 9.9, 29.0, 25.4]}, {\"name\": \"\\u5f20\\u695a\\u6dc7\", \"type\": \"bar\", \"x\": [\"\\u533b\\u7597\\u5065\\u5eb7\", \"\\u533b\\u7597\\u5065\\u5eb7\", \"\\u5976\\u7c89\", \"\\u5b9d\\u5b9d\\u670d\\u9970\", \"\\u5b9d\\u5b9d\\u98df\\u54c1\", \"\\u5b9d\\u5b9d\\u98df\\u54c1\", \"\\u6559\\u80b2\\u652f\\u51fa\", \"\\u6559\\u80b2\\u652f\\u51fa\", \"\\u65e5\\u5e38\\u7528\\u54c1\", \"\\u73a9\\u5177\\u4e50\\u5668\", \"\\u5176\\u4ed6\", \"\\u5976\\u7c89\", \"\\u5b9d\\u5b9d\\u98df\\u54c1\", \"\\u6559\\u80b2\\u652f\\u51fa\", \"\\u6559\\u80b2\\u652f\\u51fa\", \"\\u73a9\\u5177\\u4e50\\u5668\", \"\\u4e66\\u7c4d\\u97f3\\u50cf\", \"\\u5176\\u4ed6\", \"\\u533b\\u7597\\u5065\\u5eb7\", \"\\u5976\\u7c89\", \"\\u5b9d\\u5b9d\\u670d\\u9970\", \"\\u5b9d\\u5b9d\\u98df\\u54c1\", \"\\u5c3f\\u5e03\\u5c3f\\u7247\", \"\\u6559\\u80b2\\u652f\\u51fa\", \"\\u73a9\\u5177\\u4e50\\u5668\", \"\\u533b\\u7597\\u5065\\u5eb7\", \"\\u5976\\u7c89\", \"\\u5b9d\\u5b9d\\u670d\\u9970\", \"\\u5b9d\\u5b9d\\u98df\\u54c1\", \"\\u6559\\u80b2\\u652f\\u51fa\", \"\\u6559\\u80b2\\u652f\\u51fa\", \"\\u5176\\u4ed6\", \"\\u5976\\u7c89\", \"\\u5b9d\\u5b9d\\u670d\\u9970\", \"\\u5b9d\\u5b9d\\u98df\\u54c1\", \"\\u5c3f\\u5e03\\u5c3f\\u7247\", \"\\u6559\\u80b2\\u652f\\u51fa\", \"\\u6559\\u80b2\\u652f\\u51fa\", \"\\u65e5\\u5e38\\u7528\\u54c1\", \"\\u73a9\\u5177\\u4e50\\u5668\", \"\\u4e66\\u7c4d\\u97f3\\u50cf\", \"\\u533b\\u7597\\u5065\\u5eb7\", \"\\u5976\\u7c89\", \"\\u5b9d\\u5b9d\\u670d\\u9970\", \"\\u5b9d\\u5b9d\\u670d\\u9970\", \"\\u5b9d\\u5b9d\\u98df\\u54c1\", \"\\u5b9d\\u5b9d\\u98df\\u54c1\", \"\\u5c3f\\u5e03\\u5c3f\\u7247\", \"\\u6559\\u80b2\\u652f\\u51fa\", \"\\u6559\\u80b2\\u652f\\u51fa\", \"\\u65e5\\u5e38\\u7528\\u54c1\", \"\\u65e5\\u5e38\\u7528\\u54c1\", \"\\u6d17\\u6d74\\u62a4\\u80a4\", \"\\u73a9\\u5177\\u4e50\\u5668\", \"\\u73a9\\u5177\\u4e50\\u5668\", \"\\u5176\\u4ed6\", \"\\u533b\\u7597\\u5065\\u5eb7\", \"\\u5b9d\\u5b9d\\u670d\\u9970\", \"\\u5b9d\\u5b9d\\u98df\\u54c1\", \"\\u5b9d\\u5b9d\\u98df\\u54c1\", \"\\u6559\\u80b2\\u652f\\u51fa\", \"\\u65e5\\u5e38\\u7528\\u54c1\", \"\\u65e5\\u5e38\\u7528\\u54c1\", \"\\u73a9\\u5177\\u4e50\\u5668\", \"\\u5176\\u4ed6\", \"\\u5976\\u7c89\", \"\\u5b9d\\u5b9d\\u670d\\u9970\", \"\\u5b9d\\u5b9d\\u670d\\u9970\", \"\\u5c3f\\u5e03\\u5c3f\\u7247\", \"\\u6559\\u80b2\\u652f\\u51fa\", \"\\u73a9\\u5177\\u4e50\\u5668\", \"\\u4e66\\u7c4d\\u97f3\\u50cf\", \"\\u4eb2\\u5b50\\u65f6\\u5149\", \"\\u5176\\u4ed6\", \"\\u5176\\u4ed6\", \"\\u533b\\u7597\\u5065\\u5eb7\", \"\\u533b\\u7597\\u5065\\u5eb7\", \"\\u5b9d\\u5b9d\\u670d\\u9970\", \"\\u5b9d\\u5b9d\\u670d\\u9970\", \"\\u5b9d\\u5b9d\\u98df\\u54c1\", \"\\u6559\\u80b2\\u652f\\u51fa\", \"\\u6559\\u80b2\\u652f\\u51fa\", \"\\u65e5\\u5e38\\u7528\\u54c1\", \"\\u6d17\\u6d74\\u62a4\\u80a4\", \"\\u73a9\\u5177\\u4e50\\u5668\", \"\\u533b\\u7597\\u5065\\u5eb7\", \"\\u5b9d\\u5b9d\\u670d\\u9970\", \"\\u5b9d\\u5b9d\\u670d\\u9970\", \"\\u5b9d\\u5b9d\\u98df\\u54c1\", \"\\u5b9d\\u5b9d\\u98df\\u54c1\", \"\\u5c3f\\u5e03\\u5c3f\\u7247\", \"\\u6559\\u80b2\\u652f\\u51fa\", \"\\u6559\\u80b2\\u652f\\u51fa\", \"\\u65e5\\u5e38\\u7528\\u54c1\", \"\\u73a9\\u5177\\u4e50\\u5668\", \"\\u4e66\\u7c4d\\u97f3\\u50cf\", \"\\u5976\\u7c89\", \"\\u5b9d\\u5b9d\\u670d\\u9970\", \"\\u5b9d\\u5b9d\\u670d\\u9970\", \"\\u5b9d\\u5b9d\\u98df\\u54c1\", \"\\u5c3f\\u5e03\\u5c3f\\u7247\", \"\\u6559\\u80b2\\u652f\\u51fa\", \"\\u6559\\u80b2\\u652f\\u51fa\", \"\\u65e5\\u5e38\\u7528\\u54c1\", \"\\u65e5\\u5e38\\u7528\\u54c1\", \"\\u6d17\\u6d74\\u62a4\\u80a4\", \"\\u73a9\\u5177\\u4e50\\u5668\", \"\\u5176\\u4ed6\", \"\\u533b\\u7597\\u5065\\u5eb7\", \"\\u533b\\u7597\\u5065\\u5eb7\", \"\\u5b9d\\u5b9d\\u670d\\u9970\", \"\\u5b9d\\u5b9d\\u670d\\u9970\", \"\\u5b9d\\u5b9d\\u98df\\u54c1\", \"\\u5c3f\\u5e03\\u5c3f\\u7247\", \"\\u6559\\u80b2\\u652f\\u51fa\", \"\\u65e5\\u5e38\\u7528\\u54c1\", \"\\u65e5\\u5e38\\u7528\\u54c1\", \"\\u73a9\\u5177\\u4e50\\u5668\"], \"y\": [25.0, 775.9899999999999, 196.1, 2000.0, 238.0, 535.52, 500.0, 246.88, 250.71, 1000.0, 222.24, 135.36, 1000.0, 64.0, 480.85, 227.5, 144.23, 1000.0, 167.8, 504.36, 878.1700000000001, 179.0, 9.9, 545.05, 2000.0, 28.9, 52.66, 14.9, 50.0, 30.0, 2000.0, 182.39999999999998, 478.95, 148.5, 593.55, 2010.95, 45.0, 9.9, 25.0, 277.0, 258.6, 2000.0, 82.68, 9586.4, 32.0, 76.6, 43.0, 2000.0, 47.04, 479.0, 34.9, 224.49, 221.22, 2000.0, 248.56, 460.5, 155.96, 240.04, 2000.0, 183.43]}],\n",
       "                        {\"barmode\": \"stack\", \"template\": {\"data\": {\"bar\": [{\"error_x\": {\"color\": \"#2a3f5f\"}, \"error_y\": {\"color\": \"#2a3f5f\"}, \"marker\": {\"line\": {\"color\": \"#E5ECF6\", \"width\": 0.5}}, \"type\": \"bar\"}], \"barpolar\": [{\"marker\": {\"line\": {\"color\": \"#E5ECF6\", \"width\": 0.5}}, \"type\": \"barpolar\"}], \"carpet\": [{\"aaxis\": {\"endlinecolor\": \"#2a3f5f\", \"gridcolor\": \"white\", \"linecolor\": \"white\", \"minorgridcolor\": \"white\", \"startlinecolor\": \"#2a3f5f\"}, \"baxis\": {\"endlinecolor\": \"#2a3f5f\", \"gridcolor\": \"white\", \"linecolor\": \"white\", \"minorgridcolor\": \"white\", \"startlinecolor\": \"#2a3f5f\"}, \"type\": \"carpet\"}], \"choropleth\": [{\"colorbar\": {\"outlinewidth\": 0, \"ticks\": \"\"}, \"type\": \"choropleth\"}], \"contour\": [{\"colorbar\": {\"outlinewidth\": 0, \"ticks\": \"\"}, \"colorscale\": [[0.0, \"#0d0887\"], [0.1111111111111111, \"#46039f\"], [0.2222222222222222, \"#7201a8\"], [0.3333333333333333, \"#9c179e\"], [0.4444444444444444, \"#bd3786\"], [0.5555555555555556, \"#d8576b\"], [0.6666666666666666, \"#ed7953\"], [0.7777777777777778, \"#fb9f3a\"], [0.8888888888888888, \"#fdca26\"], [1.0, \"#f0f921\"]], \"type\": \"contour\"}], \"contourcarpet\": [{\"colorbar\": {\"outlinewidth\": 0, \"ticks\": \"\"}, \"type\": \"contourcarpet\"}], \"heatmap\": [{\"colorbar\": {\"outlinewidth\": 0, \"ticks\": \"\"}, \"colorscale\": [[0.0, \"#0d0887\"], [0.1111111111111111, \"#46039f\"], [0.2222222222222222, \"#7201a8\"], [0.3333333333333333, \"#9c179e\"], [0.4444444444444444, \"#bd3786\"], [0.5555555555555556, \"#d8576b\"], [0.6666666666666666, \"#ed7953\"], [0.7777777777777778, \"#fb9f3a\"], [0.8888888888888888, \"#fdca26\"], [1.0, \"#f0f921\"]], \"type\": \"heatmap\"}], \"heatmapgl\": [{\"colorbar\": {\"outlinewidth\": 0, \"ticks\": \"\"}, \"colorscale\": [[0.0, \"#0d0887\"], [0.1111111111111111, \"#46039f\"], [0.2222222222222222, \"#7201a8\"], [0.3333333333333333, \"#9c179e\"], [0.4444444444444444, \"#bd3786\"], [0.5555555555555556, \"#d8576b\"], [0.6666666666666666, \"#ed7953\"], [0.7777777777777778, \"#fb9f3a\"], [0.8888888888888888, \"#fdca26\"], [1.0, \"#f0f921\"]], \"type\": \"heatmapgl\"}], \"histogram\": [{\"marker\": {\"colorbar\": {\"outlinewidth\": 0, \"ticks\": \"\"}}, \"type\": \"histogram\"}], \"histogram2d\": [{\"colorbar\": {\"outlinewidth\": 0, \"ticks\": \"\"}, \"colorscale\": [[0.0, \"#0d0887\"], [0.1111111111111111, \"#46039f\"], [0.2222222222222222, \"#7201a8\"], [0.3333333333333333, \"#9c179e\"], [0.4444444444444444, \"#bd3786\"], [0.5555555555555556, \"#d8576b\"], [0.6666666666666666, \"#ed7953\"], [0.7777777777777778, \"#fb9f3a\"], [0.8888888888888888, \"#fdca26\"], [1.0, \"#f0f921\"]], \"type\": \"histogram2d\"}], \"histogram2dcontour\": [{\"colorbar\": {\"outlinewidth\": 0, \"ticks\": \"\"}, \"colorscale\": [[0.0, \"#0d0887\"], [0.1111111111111111, \"#46039f\"], [0.2222222222222222, \"#7201a8\"], [0.3333333333333333, \"#9c179e\"], [0.4444444444444444, \"#bd3786\"], [0.5555555555555556, \"#d8576b\"], [0.6666666666666666, \"#ed7953\"], [0.7777777777777778, \"#fb9f3a\"], [0.8888888888888888, \"#fdca26\"], [1.0, \"#f0f921\"]], \"type\": \"histogram2dcontour\"}], \"mesh3d\": [{\"colorbar\": {\"outlinewidth\": 0, \"ticks\": \"\"}, \"type\": \"mesh3d\"}], \"parcoords\": [{\"line\": {\"colorbar\": {\"outlinewidth\": 0, \"ticks\": \"\"}}, \"type\": \"parcoords\"}], \"pie\": [{\"automargin\": true, \"type\": \"pie\"}], \"scatter\": [{\"marker\": {\"colorbar\": {\"outlinewidth\": 0, \"ticks\": \"\"}}, \"type\": \"scatter\"}], \"scatter3d\": [{\"line\": {\"colorbar\": {\"outlinewidth\": 0, \"ticks\": \"\"}}, \"marker\": {\"colorbar\": {\"outlinewidth\": 0, \"ticks\": \"\"}}, \"type\": \"scatter3d\"}], \"scattercarpet\": [{\"marker\": {\"colorbar\": {\"outlinewidth\": 0, \"ticks\": \"\"}}, \"type\": \"scattercarpet\"}], \"scattergeo\": [{\"marker\": {\"colorbar\": {\"outlinewidth\": 0, \"ticks\": \"\"}}, \"type\": \"scattergeo\"}], \"scattergl\": [{\"marker\": {\"colorbar\": {\"outlinewidth\": 0, \"ticks\": \"\"}}, \"type\": \"scattergl\"}], \"scattermapbox\": [{\"marker\": {\"colorbar\": {\"outlinewidth\": 0, \"ticks\": \"\"}}, \"type\": \"scattermapbox\"}], \"scatterpolar\": [{\"marker\": {\"colorbar\": {\"outlinewidth\": 0, \"ticks\": \"\"}}, \"type\": \"scatterpolar\"}], \"scatterpolargl\": [{\"marker\": {\"colorbar\": {\"outlinewidth\": 0, \"ticks\": \"\"}}, \"type\": \"scatterpolargl\"}], \"scatterternary\": [{\"marker\": {\"colorbar\": {\"outlinewidth\": 0, \"ticks\": \"\"}}, \"type\": \"scatterternary\"}], \"surface\": [{\"colorbar\": {\"outlinewidth\": 0, \"ticks\": \"\"}, \"colorscale\": [[0.0, \"#0d0887\"], [0.1111111111111111, \"#46039f\"], [0.2222222222222222, \"#7201a8\"], [0.3333333333333333, \"#9c179e\"], [0.4444444444444444, \"#bd3786\"], [0.5555555555555556, \"#d8576b\"], [0.6666666666666666, \"#ed7953\"], [0.7777777777777778, \"#fb9f3a\"], [0.8888888888888888, \"#fdca26\"], [1.0, \"#f0f921\"]], \"type\": \"surface\"}], \"table\": [{\"cells\": {\"fill\": {\"color\": \"#EBF0F8\"}, \"line\": {\"color\": \"white\"}}, \"header\": {\"fill\": {\"color\": \"#C8D4E3\"}, \"line\": {\"color\": \"white\"}}, \"type\": \"table\"}]}, \"layout\": {\"annotationdefaults\": {\"arrowcolor\": \"#2a3f5f\", \"arrowhead\": 0, \"arrowwidth\": 1}, \"coloraxis\": {\"colorbar\": {\"outlinewidth\": 0, \"ticks\": \"\"}}, \"colorscale\": {\"diverging\": [[0, \"#8e0152\"], [0.1, \"#c51b7d\"], [0.2, \"#de77ae\"], [0.3, \"#f1b6da\"], [0.4, \"#fde0ef\"], [0.5, \"#f7f7f7\"], [0.6, \"#e6f5d0\"], [0.7, \"#b8e186\"], [0.8, \"#7fbc41\"], [0.9, \"#4d9221\"], [1, \"#276419\"]], \"sequential\": [[0.0, \"#0d0887\"], [0.1111111111111111, \"#46039f\"], [0.2222222222222222, \"#7201a8\"], [0.3333333333333333, \"#9c179e\"], [0.4444444444444444, \"#bd3786\"], [0.5555555555555556, \"#d8576b\"], [0.6666666666666666, \"#ed7953\"], [0.7777777777777778, \"#fb9f3a\"], [0.8888888888888888, \"#fdca26\"], [1.0, \"#f0f921\"]], \"sequentialminus\": [[0.0, \"#0d0887\"], [0.1111111111111111, \"#46039f\"], [0.2222222222222222, \"#7201a8\"], [0.3333333333333333, \"#9c179e\"], [0.4444444444444444, \"#bd3786\"], [0.5555555555555556, \"#d8576b\"], [0.6666666666666666, \"#ed7953\"], [0.7777777777777778, \"#fb9f3a\"], [0.8888888888888888, \"#fdca26\"], [1.0, \"#f0f921\"]]}, \"colorway\": [\"#636efa\", \"#EF553B\", \"#00cc96\", \"#ab63fa\", \"#FFA15A\", \"#19d3f3\", \"#FF6692\", \"#B6E880\", \"#FF97FF\", \"#FECB52\"], \"font\": {\"color\": \"#2a3f5f\"}, \"geo\": {\"bgcolor\": \"white\", \"lakecolor\": \"white\", \"landcolor\": \"#E5ECF6\", \"showlakes\": true, \"showland\": true, \"subunitcolor\": \"white\"}, \"hoverlabel\": {\"align\": \"left\"}, \"hovermode\": \"closest\", \"mapbox\": {\"style\": \"light\"}, \"paper_bgcolor\": \"white\", \"plot_bgcolor\": \"#E5ECF6\", \"polar\": {\"angularaxis\": {\"gridcolor\": \"white\", \"linecolor\": \"white\", \"ticks\": \"\"}, \"bgcolor\": \"#E5ECF6\", \"radialaxis\": {\"gridcolor\": \"white\", \"linecolor\": \"white\", \"ticks\": \"\"}}, \"scene\": {\"xaxis\": {\"backgroundcolor\": \"#E5ECF6\", \"gridcolor\": \"white\", \"gridwidth\": 2, \"linecolor\": \"white\", \"showbackground\": true, \"ticks\": \"\", \"zerolinecolor\": \"white\"}, \"yaxis\": {\"backgroundcolor\": \"#E5ECF6\", \"gridcolor\": \"white\", \"gridwidth\": 2, \"linecolor\": \"white\", \"showbackground\": true, \"ticks\": \"\", \"zerolinecolor\": \"white\"}, \"zaxis\": {\"backgroundcolor\": \"#E5ECF6\", \"gridcolor\": \"white\", \"gridwidth\": 2, \"linecolor\": \"white\", \"showbackground\": true, \"ticks\": \"\", \"zerolinecolor\": \"white\"}}, \"shapedefaults\": {\"line\": {\"color\": \"#2a3f5f\"}}, \"ternary\": {\"aaxis\": {\"gridcolor\": \"white\", \"linecolor\": \"white\", \"ticks\": \"\"}, \"baxis\": {\"gridcolor\": \"white\", \"linecolor\": \"white\", \"ticks\": \"\"}, \"bgcolor\": \"#E5ECF6\", \"caxis\": {\"gridcolor\": \"white\", \"linecolor\": \"white\", \"ticks\": \"\"}}, \"title\": {\"x\": 0.05}, \"xaxis\": {\"automargin\": true, \"gridcolor\": \"white\", \"linecolor\": \"white\", \"ticks\": \"\", \"title\": {\"standoff\": 15}, \"zerolinecolor\": \"white\", \"zerolinewidth\": 2}, \"yaxis\": {\"automargin\": true, \"gridcolor\": \"white\", \"linecolor\": \"white\", \"ticks\": \"\", \"title\": {\"standoff\": 15}, \"zerolinecolor\": \"white\", \"zerolinewidth\": 2}}}},\n",
       "                        {\"responsive\": true}\n",
       "                    ).then(function(){\n",
       "                            \n",
       "var gd = document.getElementById('c55e39e6-6ce8-436d-bf78-7aaa6b21914e');\n",
       "var x = new MutationObserver(function (mutations, observer) {{\n",
       "        var display = window.getComputedStyle(gd).display;\n",
       "        if (!display || display === 'none') {{\n",
       "            console.log([gd, 'removed!']);\n",
       "            Plotly.purge(gd);\n",
       "            observer.disconnect();\n",
       "        }}\n",
       "}});\n",
       "\n",
       "// Listen for the removal of the full notebook cells\n",
       "var notebookContainer = gd.closest('#notebook-container');\n",
       "if (notebookContainer) {{\n",
       "    x.observe(notebookContainer, {childList: true});\n",
       "}}\n",
       "\n",
       "// Listen for the clearing of the current output cell\n",
       "var outputEl = gd.closest('.output');\n",
       "if (outputEl) {{\n",
       "    x.observe(outputEl, {childList: true});\n",
       "}}\n",
       "\n",
       "                        })\n",
       "                };\n",
       "                });\n",
       "            </script>\n",
       "        </div>"
      ]
     },
     "metadata": {},
     "output_type": "display_data"
    }
   ],
   "source": [
    "#fig=px.bar(disp2.sort_values(by=['amount'],ascending=False), x='type', y='amount',\n",
    "#          color='user',\n",
    "#          title='2019年亲子育儿账本各成员和类别支出金额')\n",
    "\n",
    "fig=go.Figure([go.Bar(name='张嘉芯', x=disp2.type, y=disp2[disp2['user']=='张嘉芯'].amount),\n",
    "              go.Bar(name='张楚淇', x=disp2.type, y=disp2[disp2['user']=='张楚淇'].amount)])\n",
    "\n",
    "fig.update_layout(barmode='stack')\n",
    "fig.show()"
   ]
  },
  {
   "cell_type": "code",
   "execution_count": 75,
   "metadata": {},
   "outputs": [
    {
     "data": {
      "application/vnd.plotly.v1+json": {
       "config": {
        "plotlyServerURL": "https://plot.ly"
       },
       "data": [
        {
         "alignmentgroup": "True",
         "hoverlabel": {
          "namelength": 0
         },
         "hovertemplate": "type=医疗健康<br>月=%{x}<br>amount=%{y}",
         "legendgroup": "type=医疗健康",
         "marker": {
          "color": "#636efa"
         },
         "name": "type=医疗健康",
         "offsetgroup": "type=医疗健康",
         "orientation": "v",
         "showlegend": true,
         "textposition": "auto",
         "type": "bar",
         "x": [
          1,
          3,
          4,
          6,
          7,
          9,
          10,
          12
         ],
         "xaxis": "x",
         "y": [
          197.4,
          3223,
          3393.9,
          504.36,
          50,
          255,
          9586.4,
          630.9
         ],
         "yaxis": "y"
        },
        {
         "alignmentgroup": "True",
         "hoverlabel": {
          "namelength": 0
         },
         "hovertemplate": "type=奶粉<br>月=%{x}<br>amount=%{y}",
         "legendgroup": "type=奶粉",
         "marker": {
          "color": "#EF553B"
         },
         "name": "type=奶粉",
         "offsetgroup": "type=奶粉",
         "orientation": "v",
         "showlegend": true,
         "textposition": "auto",
         "type": "bar",
         "x": [
          1,
          2,
          3,
          4,
          5,
          6,
          8,
          11
         ],
         "xaxis": "x",
         "y": [
          775.9899999999999,
          535.52,
          246.88,
          222.24,
          480.85,
          878.1700000000001,
          478.95,
          479
         ],
         "yaxis": "y"
        },
        {
         "alignmentgroup": "True",
         "hoverlabel": {
          "namelength": 0
         },
         "hovertemplate": "type=宝宝服饰<br>月=%{x}<br>amount=%{y}",
         "legendgroup": "type=宝宝服饰",
         "marker": {
          "color": "#00cc96"
         },
         "name": "type=宝宝服饰",
         "offsetgroup": "type=宝宝服饰",
         "orientation": "v",
         "showlegend": true,
         "textposition": "auto",
         "type": "bar",
         "x": [
          1,
          3,
          4,
          5,
          6,
          7,
          8,
          9,
          10,
          11,
          12
         ],
         "xaxis": "x",
         "y": [
          10,
          312.9,
          118,
          503.24,
          921,
          156.81,
          316.16,
          1285.8,
          157.7,
          467.8,
          789.6700000000001
         ],
         "yaxis": "y"
        },
        {
         "alignmentgroup": "True",
         "hoverlabel": {
          "namelength": 0
         },
         "hovertemplate": "type=宝宝食品<br>月=%{x}<br>amount=%{y}",
         "legendgroup": "type=宝宝食品",
         "marker": {
          "color": "#ab63fa"
         },
         "name": "type=宝宝食品",
         "offsetgroup": "type=宝宝食品",
         "orientation": "v",
         "showlegend": true,
         "textposition": "auto",
         "type": "bar",
         "x": [
          1,
          2,
          3,
          4,
          5,
          6,
          7,
          9,
          10,
          11,
          12
         ],
         "xaxis": "x",
         "y": [
          212.82,
          30.5,
          65.9,
          135.36,
          227.5,
          15.9,
          50.6,
          258.6,
          92.5,
          224.49,
          9.9
         ],
         "yaxis": "y"
        },
        {
         "alignmentgroup": "True",
         "hoverlabel": {
          "namelength": 0
         },
         "hovertemplate": "type=教育支出<br>月=%{x}<br>amount=%{y}",
         "legendgroup": "type=教育支出",
         "marker": {
          "color": "#FFA15A"
         },
         "name": "type=教育支出",
         "offsetgroup": "type=教育支出",
         "orientation": "v",
         "showlegend": true,
         "textposition": "auto",
         "type": "bar",
         "x": [
          1,
          2,
          3,
          4,
          5,
          6,
          7,
          8,
          9,
          10,
          11,
          12
         ],
         "xaxis": "x",
         "y": [
          2518.2,
          2000,
          2000,
          2400,
          1410,
          5099,
          2000,
          2010.95,
          2950,
          2599,
          4917.969999999999,
          2000
         ],
         "yaxis": "y"
        },
        {
         "alignmentgroup": "True",
         "hoverlabel": {
          "namelength": 0
         },
         "hovertemplate": "type=日常用品<br>月=%{x}<br>amount=%{y}",
         "legendgroup": "type=日常用品",
         "marker": {
          "color": "#19d3f3"
         },
         "name": "type=日常用品",
         "offsetgroup": "type=日常用品",
         "orientation": "v",
         "showlegend": true,
         "textposition": "auto",
         "type": "bar",
         "x": [
          1,
          5,
          6,
          7,
          9,
          10,
          11,
          12
         ],
         "xaxis": "x",
         "y": [
          238,
          167.8,
          55.4,
          212.39999999999998,
          82.68,
          107.52,
          513.5699999999999,
          212.43
         ],
         "yaxis": "y"
        },
        {
         "alignmentgroup": "True",
         "hoverlabel": {
          "namelength": 0
         },
         "hovertemplate": "type=玩具乐器<br>月=%{x}<br>amount=%{y}",
         "legendgroup": "type=玩具乐器",
         "marker": {
          "color": "#FF6692"
         },
         "name": "type=玩具乐器",
         "offsetgroup": "type=玩具乐器",
         "orientation": "v",
         "showlegend": true,
         "textposition": "auto",
         "type": "bar",
         "x": [
          1,
          2,
          3,
          5,
          6,
          7,
          8,
          9,
          10,
          11,
          12
         ],
         "xaxis": "x",
         "y": [
          47,
          5,
          961.9,
          204.4,
          526.66,
          35,
          55.66,
          55.8,
          131.5,
          28.8,
          25.4
         ],
         "yaxis": "y"
        },
        {
         "alignmentgroup": "True",
         "hoverlabel": {
          "namelength": 0
         },
         "hovertemplate": "type=其他<br>月=%{x}<br>amount=%{y}",
         "legendgroup": "type=其他",
         "marker": {
          "color": "#B6E880"
         },
         "name": "type=其他",
         "offsetgroup": "type=其他",
         "orientation": "v",
         "showlegend": true,
         "textposition": "auto",
         "type": "bar",
         "x": [
          2,
          3,
          5,
          7,
          8,
          9,
          12
         ],
         "xaxis": "x",
         "y": [
          100,
          227,
          64,
          15,
          15,
          6909.9,
          331
         ],
         "yaxis": "y"
        },
        {
         "alignmentgroup": "True",
         "hoverlabel": {
          "namelength": 0
         },
         "hovertemplate": "type=书籍音像<br>月=%{x}<br>amount=%{y}",
         "legendgroup": "type=书籍音像",
         "marker": {
          "color": "#FF97FF"
         },
         "name": "type=书籍音像",
         "offsetgroup": "type=书籍音像",
         "orientation": "v",
         "showlegend": true,
         "textposition": "auto",
         "type": "bar",
         "x": [
          3,
          6,
          9,
          11
         ],
         "xaxis": "x",
         "y": [
          15373.6,
          99,
          11.97,
          8760
         ],
         "yaxis": "y"
        },
        {
         "alignmentgroup": "True",
         "hoverlabel": {
          "namelength": 0
         },
         "hovertemplate": "type=尿布尿片<br>月=%{x}<br>amount=%{y}",
         "legendgroup": "type=尿布尿片",
         "marker": {
          "color": "#FECB52"
         },
         "name": "type=尿布尿片",
         "offsetgroup": "type=尿布尿片",
         "orientation": "v",
         "showlegend": true,
         "textposition": "auto",
         "type": "bar",
         "x": [
          3,
          5,
          6,
          8,
          10,
          11,
          12
         ],
         "xaxis": "x",
         "y": [
          250.71,
          144.23,
          545.05,
          593.55,
          43,
          221.22,
          240.04
         ],
         "yaxis": "y"
        },
        {
         "alignmentgroup": "True",
         "hoverlabel": {
          "namelength": 0
         },
         "hovertemplate": "type=亲子时光<br>月=%{x}<br>amount=%{y}",
         "legendgroup": "type=亲子时光",
         "marker": {
          "color": "#636efa"
         },
         "name": "type=亲子时光",
         "offsetgroup": "type=亲子时光",
         "orientation": "v",
         "showlegend": true,
         "textposition": "auto",
         "type": "bar",
         "x": [
          4,
          9
         ],
         "xaxis": "x",
         "y": [
          190,
          45
         ],
         "yaxis": "y"
        },
        {
         "alignmentgroup": "True",
         "hoverlabel": {
          "namelength": 0
         },
         "hovertemplate": "type=洗浴护肤<br>月=%{x}<br>amount=%{y}",
         "legendgroup": "type=洗浴护肤",
         "marker": {
          "color": "#EF553B"
         },
         "name": "type=洗浴护肤",
         "offsetgroup": "type=洗浴护肤",
         "orientation": "v",
         "showlegend": true,
         "textposition": "auto",
         "type": "bar",
         "x": [
          6,
          9,
          11
         ],
         "xaxis": "x",
         "y": [
          52.66,
          29,
          58
         ],
         "yaxis": "y"
        }
       ],
       "layout": {
        "barmode": "relative",
        "legend": {
         "tracegroupgap": 0
        },
        "template": {
         "data": {
          "bar": [
           {
            "error_x": {
             "color": "#2a3f5f"
            },
            "error_y": {
             "color": "#2a3f5f"
            },
            "marker": {
             "line": {
              "color": "#E5ECF6",
              "width": 0.5
             }
            },
            "type": "bar"
           }
          ],
          "barpolar": [
           {
            "marker": {
             "line": {
              "color": "#E5ECF6",
              "width": 0.5
             }
            },
            "type": "barpolar"
           }
          ],
          "carpet": [
           {
            "aaxis": {
             "endlinecolor": "#2a3f5f",
             "gridcolor": "white",
             "linecolor": "white",
             "minorgridcolor": "white",
             "startlinecolor": "#2a3f5f"
            },
            "baxis": {
             "endlinecolor": "#2a3f5f",
             "gridcolor": "white",
             "linecolor": "white",
             "minorgridcolor": "white",
             "startlinecolor": "#2a3f5f"
            },
            "type": "carpet"
           }
          ],
          "choropleth": [
           {
            "colorbar": {
             "outlinewidth": 0,
             "ticks": ""
            },
            "type": "choropleth"
           }
          ],
          "contour": [
           {
            "colorbar": {
             "outlinewidth": 0,
             "ticks": ""
            },
            "colorscale": [
             [
              0,
              "#0d0887"
             ],
             [
              0.1111111111111111,
              "#46039f"
             ],
             [
              0.2222222222222222,
              "#7201a8"
             ],
             [
              0.3333333333333333,
              "#9c179e"
             ],
             [
              0.4444444444444444,
              "#bd3786"
             ],
             [
              0.5555555555555556,
              "#d8576b"
             ],
             [
              0.6666666666666666,
              "#ed7953"
             ],
             [
              0.7777777777777778,
              "#fb9f3a"
             ],
             [
              0.8888888888888888,
              "#fdca26"
             ],
             [
              1,
              "#f0f921"
             ]
            ],
            "type": "contour"
           }
          ],
          "contourcarpet": [
           {
            "colorbar": {
             "outlinewidth": 0,
             "ticks": ""
            },
            "type": "contourcarpet"
           }
          ],
          "heatmap": [
           {
            "colorbar": {
             "outlinewidth": 0,
             "ticks": ""
            },
            "colorscale": [
             [
              0,
              "#0d0887"
             ],
             [
              0.1111111111111111,
              "#46039f"
             ],
             [
              0.2222222222222222,
              "#7201a8"
             ],
             [
              0.3333333333333333,
              "#9c179e"
             ],
             [
              0.4444444444444444,
              "#bd3786"
             ],
             [
              0.5555555555555556,
              "#d8576b"
             ],
             [
              0.6666666666666666,
              "#ed7953"
             ],
             [
              0.7777777777777778,
              "#fb9f3a"
             ],
             [
              0.8888888888888888,
              "#fdca26"
             ],
             [
              1,
              "#f0f921"
             ]
            ],
            "type": "heatmap"
           }
          ],
          "heatmapgl": [
           {
            "colorbar": {
             "outlinewidth": 0,
             "ticks": ""
            },
            "colorscale": [
             [
              0,
              "#0d0887"
             ],
             [
              0.1111111111111111,
              "#46039f"
             ],
             [
              0.2222222222222222,
              "#7201a8"
             ],
             [
              0.3333333333333333,
              "#9c179e"
             ],
             [
              0.4444444444444444,
              "#bd3786"
             ],
             [
              0.5555555555555556,
              "#d8576b"
             ],
             [
              0.6666666666666666,
              "#ed7953"
             ],
             [
              0.7777777777777778,
              "#fb9f3a"
             ],
             [
              0.8888888888888888,
              "#fdca26"
             ],
             [
              1,
              "#f0f921"
             ]
            ],
            "type": "heatmapgl"
           }
          ],
          "histogram": [
           {
            "marker": {
             "colorbar": {
              "outlinewidth": 0,
              "ticks": ""
             }
            },
            "type": "histogram"
           }
          ],
          "histogram2d": [
           {
            "colorbar": {
             "outlinewidth": 0,
             "ticks": ""
            },
            "colorscale": [
             [
              0,
              "#0d0887"
             ],
             [
              0.1111111111111111,
              "#46039f"
             ],
             [
              0.2222222222222222,
              "#7201a8"
             ],
             [
              0.3333333333333333,
              "#9c179e"
             ],
             [
              0.4444444444444444,
              "#bd3786"
             ],
             [
              0.5555555555555556,
              "#d8576b"
             ],
             [
              0.6666666666666666,
              "#ed7953"
             ],
             [
              0.7777777777777778,
              "#fb9f3a"
             ],
             [
              0.8888888888888888,
              "#fdca26"
             ],
             [
              1,
              "#f0f921"
             ]
            ],
            "type": "histogram2d"
           }
          ],
          "histogram2dcontour": [
           {
            "colorbar": {
             "outlinewidth": 0,
             "ticks": ""
            },
            "colorscale": [
             [
              0,
              "#0d0887"
             ],
             [
              0.1111111111111111,
              "#46039f"
             ],
             [
              0.2222222222222222,
              "#7201a8"
             ],
             [
              0.3333333333333333,
              "#9c179e"
             ],
             [
              0.4444444444444444,
              "#bd3786"
             ],
             [
              0.5555555555555556,
              "#d8576b"
             ],
             [
              0.6666666666666666,
              "#ed7953"
             ],
             [
              0.7777777777777778,
              "#fb9f3a"
             ],
             [
              0.8888888888888888,
              "#fdca26"
             ],
             [
              1,
              "#f0f921"
             ]
            ],
            "type": "histogram2dcontour"
           }
          ],
          "mesh3d": [
           {
            "colorbar": {
             "outlinewidth": 0,
             "ticks": ""
            },
            "type": "mesh3d"
           }
          ],
          "parcoords": [
           {
            "line": {
             "colorbar": {
              "outlinewidth": 0,
              "ticks": ""
             }
            },
            "type": "parcoords"
           }
          ],
          "pie": [
           {
            "automargin": true,
            "type": "pie"
           }
          ],
          "scatter": [
           {
            "marker": {
             "colorbar": {
              "outlinewidth": 0,
              "ticks": ""
             }
            },
            "type": "scatter"
           }
          ],
          "scatter3d": [
           {
            "line": {
             "colorbar": {
              "outlinewidth": 0,
              "ticks": ""
             }
            },
            "marker": {
             "colorbar": {
              "outlinewidth": 0,
              "ticks": ""
             }
            },
            "type": "scatter3d"
           }
          ],
          "scattercarpet": [
           {
            "marker": {
             "colorbar": {
              "outlinewidth": 0,
              "ticks": ""
             }
            },
            "type": "scattercarpet"
           }
          ],
          "scattergeo": [
           {
            "marker": {
             "colorbar": {
              "outlinewidth": 0,
              "ticks": ""
             }
            },
            "type": "scattergeo"
           }
          ],
          "scattergl": [
           {
            "marker": {
             "colorbar": {
              "outlinewidth": 0,
              "ticks": ""
             }
            },
            "type": "scattergl"
           }
          ],
          "scattermapbox": [
           {
            "marker": {
             "colorbar": {
              "outlinewidth": 0,
              "ticks": ""
             }
            },
            "type": "scattermapbox"
           }
          ],
          "scatterpolar": [
           {
            "marker": {
             "colorbar": {
              "outlinewidth": 0,
              "ticks": ""
             }
            },
            "type": "scatterpolar"
           }
          ],
          "scatterpolargl": [
           {
            "marker": {
             "colorbar": {
              "outlinewidth": 0,
              "ticks": ""
             }
            },
            "type": "scatterpolargl"
           }
          ],
          "scatterternary": [
           {
            "marker": {
             "colorbar": {
              "outlinewidth": 0,
              "ticks": ""
             }
            },
            "type": "scatterternary"
           }
          ],
          "surface": [
           {
            "colorbar": {
             "outlinewidth": 0,
             "ticks": ""
            },
            "colorscale": [
             [
              0,
              "#0d0887"
             ],
             [
              0.1111111111111111,
              "#46039f"
             ],
             [
              0.2222222222222222,
              "#7201a8"
             ],
             [
              0.3333333333333333,
              "#9c179e"
             ],
             [
              0.4444444444444444,
              "#bd3786"
             ],
             [
              0.5555555555555556,
              "#d8576b"
             ],
             [
              0.6666666666666666,
              "#ed7953"
             ],
             [
              0.7777777777777778,
              "#fb9f3a"
             ],
             [
              0.8888888888888888,
              "#fdca26"
             ],
             [
              1,
              "#f0f921"
             ]
            ],
            "type": "surface"
           }
          ],
          "table": [
           {
            "cells": {
             "fill": {
              "color": "#EBF0F8"
             },
             "line": {
              "color": "white"
             }
            },
            "header": {
             "fill": {
              "color": "#C8D4E3"
             },
             "line": {
              "color": "white"
             }
            },
            "type": "table"
           }
          ]
         },
         "layout": {
          "annotationdefaults": {
           "arrowcolor": "#2a3f5f",
           "arrowhead": 0,
           "arrowwidth": 1
          },
          "coloraxis": {
           "colorbar": {
            "outlinewidth": 0,
            "ticks": ""
           }
          },
          "colorscale": {
           "diverging": [
            [
             0,
             "#8e0152"
            ],
            [
             0.1,
             "#c51b7d"
            ],
            [
             0.2,
             "#de77ae"
            ],
            [
             0.3,
             "#f1b6da"
            ],
            [
             0.4,
             "#fde0ef"
            ],
            [
             0.5,
             "#f7f7f7"
            ],
            [
             0.6,
             "#e6f5d0"
            ],
            [
             0.7,
             "#b8e186"
            ],
            [
             0.8,
             "#7fbc41"
            ],
            [
             0.9,
             "#4d9221"
            ],
            [
             1,
             "#276419"
            ]
           ],
           "sequential": [
            [
             0,
             "#0d0887"
            ],
            [
             0.1111111111111111,
             "#46039f"
            ],
            [
             0.2222222222222222,
             "#7201a8"
            ],
            [
             0.3333333333333333,
             "#9c179e"
            ],
            [
             0.4444444444444444,
             "#bd3786"
            ],
            [
             0.5555555555555556,
             "#d8576b"
            ],
            [
             0.6666666666666666,
             "#ed7953"
            ],
            [
             0.7777777777777778,
             "#fb9f3a"
            ],
            [
             0.8888888888888888,
             "#fdca26"
            ],
            [
             1,
             "#f0f921"
            ]
           ],
           "sequentialminus": [
            [
             0,
             "#0d0887"
            ],
            [
             0.1111111111111111,
             "#46039f"
            ],
            [
             0.2222222222222222,
             "#7201a8"
            ],
            [
             0.3333333333333333,
             "#9c179e"
            ],
            [
             0.4444444444444444,
             "#bd3786"
            ],
            [
             0.5555555555555556,
             "#d8576b"
            ],
            [
             0.6666666666666666,
             "#ed7953"
            ],
            [
             0.7777777777777778,
             "#fb9f3a"
            ],
            [
             0.8888888888888888,
             "#fdca26"
            ],
            [
             1,
             "#f0f921"
            ]
           ]
          },
          "colorway": [
           "#636efa",
           "#EF553B",
           "#00cc96",
           "#ab63fa",
           "#FFA15A",
           "#19d3f3",
           "#FF6692",
           "#B6E880",
           "#FF97FF",
           "#FECB52"
          ],
          "font": {
           "color": "#2a3f5f"
          },
          "geo": {
           "bgcolor": "white",
           "lakecolor": "white",
           "landcolor": "#E5ECF6",
           "showlakes": true,
           "showland": true,
           "subunitcolor": "white"
          },
          "hoverlabel": {
           "align": "left"
          },
          "hovermode": "closest",
          "mapbox": {
           "style": "light"
          },
          "paper_bgcolor": "white",
          "plot_bgcolor": "#E5ECF6",
          "polar": {
           "angularaxis": {
            "gridcolor": "white",
            "linecolor": "white",
            "ticks": ""
           },
           "bgcolor": "#E5ECF6",
           "radialaxis": {
            "gridcolor": "white",
            "linecolor": "white",
            "ticks": ""
           }
          },
          "scene": {
           "xaxis": {
            "backgroundcolor": "#E5ECF6",
            "gridcolor": "white",
            "gridwidth": 2,
            "linecolor": "white",
            "showbackground": true,
            "ticks": "",
            "zerolinecolor": "white"
           },
           "yaxis": {
            "backgroundcolor": "#E5ECF6",
            "gridcolor": "white",
            "gridwidth": 2,
            "linecolor": "white",
            "showbackground": true,
            "ticks": "",
            "zerolinecolor": "white"
           },
           "zaxis": {
            "backgroundcolor": "#E5ECF6",
            "gridcolor": "white",
            "gridwidth": 2,
            "linecolor": "white",
            "showbackground": true,
            "ticks": "",
            "zerolinecolor": "white"
           }
          },
          "shapedefaults": {
           "line": {
            "color": "#2a3f5f"
           }
          },
          "ternary": {
           "aaxis": {
            "gridcolor": "white",
            "linecolor": "white",
            "ticks": ""
           },
           "baxis": {
            "gridcolor": "white",
            "linecolor": "white",
            "ticks": ""
           },
           "bgcolor": "#E5ECF6",
           "caxis": {
            "gridcolor": "white",
            "linecolor": "white",
            "ticks": ""
           }
          },
          "title": {
           "x": 0.05
          },
          "xaxis": {
           "automargin": true,
           "gridcolor": "white",
           "linecolor": "white",
           "ticks": "",
           "title": {
            "standoff": 15
           },
           "zerolinecolor": "white",
           "zerolinewidth": 2
          },
          "yaxis": {
           "automargin": true,
           "gridcolor": "white",
           "linecolor": "white",
           "ticks": "",
           "title": {
            "standoff": 15
           },
           "zerolinecolor": "white",
           "zerolinewidth": 2
          }
         }
        },
        "title": {
         "text": "2019年亲子育儿账本每月各类支出金额"
        },
        "xaxis": {
         "anchor": "y",
         "domain": [
          0,
          1
         ],
         "title": {
          "text": "月"
         }
        },
        "yaxis": {
         "anchor": "x",
         "domain": [
          0,
          1
         ],
         "title": {
          "text": "amount"
         }
        }
       }
      },
      "text/html": [
       "<div>\n",
       "        \n",
       "        \n",
       "            <div id=\"bad53dda-af9b-4125-8fc8-2f83a677198c\" class=\"plotly-graph-div\" style=\"height:525px; width:100%;\"></div>\n",
       "            <script type=\"text/javascript\">\n",
       "                require([\"plotly\"], function(Plotly) {\n",
       "                    window.PLOTLYENV=window.PLOTLYENV || {};\n",
       "                    \n",
       "                if (document.getElementById(\"bad53dda-af9b-4125-8fc8-2f83a677198c\")) {\n",
       "                    Plotly.newPlot(\n",
       "                        'bad53dda-af9b-4125-8fc8-2f83a677198c',\n",
       "                        [{\"alignmentgroup\": \"True\", \"hoverlabel\": {\"namelength\": 0}, \"hovertemplate\": \"type=\\u533b\\u7597\\u5065\\u5eb7<br>\\u6708=%{x}<br>amount=%{y}\", \"legendgroup\": \"type=\\u533b\\u7597\\u5065\\u5eb7\", \"marker\": {\"color\": \"#636efa\"}, \"name\": \"type=\\u533b\\u7597\\u5065\\u5eb7\", \"offsetgroup\": \"type=\\u533b\\u7597\\u5065\\u5eb7\", \"orientation\": \"v\", \"showlegend\": true, \"textposition\": \"auto\", \"type\": \"bar\", \"x\": [1, 3, 4, 6, 7, 9, 10, 12], \"xaxis\": \"x\", \"y\": [197.4, 3223.0, 3393.9, 504.36, 50.0, 255.0, 9586.4, 630.9], \"yaxis\": \"y\"}, {\"alignmentgroup\": \"True\", \"hoverlabel\": {\"namelength\": 0}, \"hovertemplate\": \"type=\\u5976\\u7c89<br>\\u6708=%{x}<br>amount=%{y}\", \"legendgroup\": \"type=\\u5976\\u7c89\", \"marker\": {\"color\": \"#EF553B\"}, \"name\": \"type=\\u5976\\u7c89\", \"offsetgroup\": \"type=\\u5976\\u7c89\", \"orientation\": \"v\", \"showlegend\": true, \"textposition\": \"auto\", \"type\": \"bar\", \"x\": [1, 2, 3, 4, 5, 6, 8, 11], \"xaxis\": \"x\", \"y\": [775.9899999999999, 535.52, 246.88, 222.24, 480.85, 878.1700000000001, 478.95, 479.0], \"yaxis\": \"y\"}, {\"alignmentgroup\": \"True\", \"hoverlabel\": {\"namelength\": 0}, \"hovertemplate\": \"type=\\u5b9d\\u5b9d\\u670d\\u9970<br>\\u6708=%{x}<br>amount=%{y}\", \"legendgroup\": \"type=\\u5b9d\\u5b9d\\u670d\\u9970\", \"marker\": {\"color\": \"#00cc96\"}, \"name\": \"type=\\u5b9d\\u5b9d\\u670d\\u9970\", \"offsetgroup\": \"type=\\u5b9d\\u5b9d\\u670d\\u9970\", \"orientation\": \"v\", \"showlegend\": true, \"textposition\": \"auto\", \"type\": \"bar\", \"x\": [1, 3, 4, 5, 6, 7, 8, 9, 10, 11, 12], \"xaxis\": \"x\", \"y\": [10.0, 312.9, 118.0, 503.24, 921.0, 156.81, 316.16, 1285.8, 157.7, 467.8, 789.6700000000001], \"yaxis\": \"y\"}, {\"alignmentgroup\": \"True\", \"hoverlabel\": {\"namelength\": 0}, \"hovertemplate\": \"type=\\u5b9d\\u5b9d\\u98df\\u54c1<br>\\u6708=%{x}<br>amount=%{y}\", \"legendgroup\": \"type=\\u5b9d\\u5b9d\\u98df\\u54c1\", \"marker\": {\"color\": \"#ab63fa\"}, \"name\": \"type=\\u5b9d\\u5b9d\\u98df\\u54c1\", \"offsetgroup\": \"type=\\u5b9d\\u5b9d\\u98df\\u54c1\", \"orientation\": \"v\", \"showlegend\": true, \"textposition\": \"auto\", \"type\": \"bar\", \"x\": [1, 2, 3, 4, 5, 6, 7, 9, 10, 11, 12], \"xaxis\": \"x\", \"y\": [212.82, 30.5, 65.9, 135.36, 227.5, 15.9, 50.6, 258.6, 92.5, 224.49, 9.9], \"yaxis\": \"y\"}, {\"alignmentgroup\": \"True\", \"hoverlabel\": {\"namelength\": 0}, \"hovertemplate\": \"type=\\u6559\\u80b2\\u652f\\u51fa<br>\\u6708=%{x}<br>amount=%{y}\", \"legendgroup\": \"type=\\u6559\\u80b2\\u652f\\u51fa\", \"marker\": {\"color\": \"#FFA15A\"}, \"name\": \"type=\\u6559\\u80b2\\u652f\\u51fa\", \"offsetgroup\": \"type=\\u6559\\u80b2\\u652f\\u51fa\", \"orientation\": \"v\", \"showlegend\": true, \"textposition\": \"auto\", \"type\": \"bar\", \"x\": [1, 2, 3, 4, 5, 6, 7, 8, 9, 10, 11, 12], \"xaxis\": \"x\", \"y\": [2518.2, 2000.0, 2000.0, 2400.0, 1410.0, 5099.0, 2000.0, 2010.95, 2950.0, 2599.0, 4917.969999999999, 2000.0], \"yaxis\": \"y\"}, {\"alignmentgroup\": \"True\", \"hoverlabel\": {\"namelength\": 0}, \"hovertemplate\": \"type=\\u65e5\\u5e38\\u7528\\u54c1<br>\\u6708=%{x}<br>amount=%{y}\", \"legendgroup\": \"type=\\u65e5\\u5e38\\u7528\\u54c1\", \"marker\": {\"color\": \"#19d3f3\"}, \"name\": \"type=\\u65e5\\u5e38\\u7528\\u54c1\", \"offsetgroup\": \"type=\\u65e5\\u5e38\\u7528\\u54c1\", \"orientation\": \"v\", \"showlegend\": true, \"textposition\": \"auto\", \"type\": \"bar\", \"x\": [1, 5, 6, 7, 9, 10, 11, 12], \"xaxis\": \"x\", \"y\": [238.0, 167.8, 55.4, 212.39999999999998, 82.68, 107.52, 513.5699999999999, 212.43], \"yaxis\": \"y\"}, {\"alignmentgroup\": \"True\", \"hoverlabel\": {\"namelength\": 0}, \"hovertemplate\": \"type=\\u73a9\\u5177\\u4e50\\u5668<br>\\u6708=%{x}<br>amount=%{y}\", \"legendgroup\": \"type=\\u73a9\\u5177\\u4e50\\u5668\", \"marker\": {\"color\": \"#FF6692\"}, \"name\": \"type=\\u73a9\\u5177\\u4e50\\u5668\", \"offsetgroup\": \"type=\\u73a9\\u5177\\u4e50\\u5668\", \"orientation\": \"v\", \"showlegend\": true, \"textposition\": \"auto\", \"type\": \"bar\", \"x\": [1, 2, 3, 5, 6, 7, 8, 9, 10, 11, 12], \"xaxis\": \"x\", \"y\": [47.0, 5.0, 961.9, 204.4, 526.66, 35.0, 55.66, 55.8, 131.5, 28.8, 25.4], \"yaxis\": \"y\"}, {\"alignmentgroup\": \"True\", \"hoverlabel\": {\"namelength\": 0}, \"hovertemplate\": \"type=\\u5176\\u4ed6<br>\\u6708=%{x}<br>amount=%{y}\", \"legendgroup\": \"type=\\u5176\\u4ed6\", \"marker\": {\"color\": \"#B6E880\"}, \"name\": \"type=\\u5176\\u4ed6\", \"offsetgroup\": \"type=\\u5176\\u4ed6\", \"orientation\": \"v\", \"showlegend\": true, \"textposition\": \"auto\", \"type\": \"bar\", \"x\": [2, 3, 5, 7, 8, 9, 12], \"xaxis\": \"x\", \"y\": [100.0, 227.0, 64.0, 15.0, 15.0, 6909.9, 331.0], \"yaxis\": \"y\"}, {\"alignmentgroup\": \"True\", \"hoverlabel\": {\"namelength\": 0}, \"hovertemplate\": \"type=\\u4e66\\u7c4d\\u97f3\\u50cf<br>\\u6708=%{x}<br>amount=%{y}\", \"legendgroup\": \"type=\\u4e66\\u7c4d\\u97f3\\u50cf\", \"marker\": {\"color\": \"#FF97FF\"}, \"name\": \"type=\\u4e66\\u7c4d\\u97f3\\u50cf\", \"offsetgroup\": \"type=\\u4e66\\u7c4d\\u97f3\\u50cf\", \"orientation\": \"v\", \"showlegend\": true, \"textposition\": \"auto\", \"type\": \"bar\", \"x\": [3, 6, 9, 11], \"xaxis\": \"x\", \"y\": [15373.6, 99.0, 11.97, 8760.0], \"yaxis\": \"y\"}, {\"alignmentgroup\": \"True\", \"hoverlabel\": {\"namelength\": 0}, \"hovertemplate\": \"type=\\u5c3f\\u5e03\\u5c3f\\u7247<br>\\u6708=%{x}<br>amount=%{y}\", \"legendgroup\": \"type=\\u5c3f\\u5e03\\u5c3f\\u7247\", \"marker\": {\"color\": \"#FECB52\"}, \"name\": \"type=\\u5c3f\\u5e03\\u5c3f\\u7247\", \"offsetgroup\": \"type=\\u5c3f\\u5e03\\u5c3f\\u7247\", \"orientation\": \"v\", \"showlegend\": true, \"textposition\": \"auto\", \"type\": \"bar\", \"x\": [3, 5, 6, 8, 10, 11, 12], \"xaxis\": \"x\", \"y\": [250.71, 144.23, 545.05, 593.55, 43.0, 221.22, 240.04], \"yaxis\": \"y\"}, {\"alignmentgroup\": \"True\", \"hoverlabel\": {\"namelength\": 0}, \"hovertemplate\": \"type=\\u4eb2\\u5b50\\u65f6\\u5149<br>\\u6708=%{x}<br>amount=%{y}\", \"legendgroup\": \"type=\\u4eb2\\u5b50\\u65f6\\u5149\", \"marker\": {\"color\": \"#636efa\"}, \"name\": \"type=\\u4eb2\\u5b50\\u65f6\\u5149\", \"offsetgroup\": \"type=\\u4eb2\\u5b50\\u65f6\\u5149\", \"orientation\": \"v\", \"showlegend\": true, \"textposition\": \"auto\", \"type\": \"bar\", \"x\": [4, 9], \"xaxis\": \"x\", \"y\": [190.0, 45.0], \"yaxis\": \"y\"}, {\"alignmentgroup\": \"True\", \"hoverlabel\": {\"namelength\": 0}, \"hovertemplate\": \"type=\\u6d17\\u6d74\\u62a4\\u80a4<br>\\u6708=%{x}<br>amount=%{y}\", \"legendgroup\": \"type=\\u6d17\\u6d74\\u62a4\\u80a4\", \"marker\": {\"color\": \"#EF553B\"}, \"name\": \"type=\\u6d17\\u6d74\\u62a4\\u80a4\", \"offsetgroup\": \"type=\\u6d17\\u6d74\\u62a4\\u80a4\", \"orientation\": \"v\", \"showlegend\": true, \"textposition\": \"auto\", \"type\": \"bar\", \"x\": [6, 9, 11], \"xaxis\": \"x\", \"y\": [52.66, 29.0, 58.0], \"yaxis\": \"y\"}],\n",
       "                        {\"barmode\": \"relative\", \"legend\": {\"tracegroupgap\": 0}, \"template\": {\"data\": {\"bar\": [{\"error_x\": {\"color\": \"#2a3f5f\"}, \"error_y\": {\"color\": \"#2a3f5f\"}, \"marker\": {\"line\": {\"color\": \"#E5ECF6\", \"width\": 0.5}}, \"type\": \"bar\"}], \"barpolar\": [{\"marker\": {\"line\": {\"color\": \"#E5ECF6\", \"width\": 0.5}}, \"type\": \"barpolar\"}], \"carpet\": [{\"aaxis\": {\"endlinecolor\": \"#2a3f5f\", \"gridcolor\": \"white\", \"linecolor\": \"white\", \"minorgridcolor\": \"white\", \"startlinecolor\": \"#2a3f5f\"}, \"baxis\": {\"endlinecolor\": \"#2a3f5f\", \"gridcolor\": \"white\", \"linecolor\": \"white\", \"minorgridcolor\": \"white\", \"startlinecolor\": \"#2a3f5f\"}, \"type\": \"carpet\"}], \"choropleth\": [{\"colorbar\": {\"outlinewidth\": 0, \"ticks\": \"\"}, \"type\": \"choropleth\"}], \"contour\": [{\"colorbar\": {\"outlinewidth\": 0, \"ticks\": \"\"}, \"colorscale\": [[0.0, \"#0d0887\"], [0.1111111111111111, \"#46039f\"], [0.2222222222222222, \"#7201a8\"], [0.3333333333333333, \"#9c179e\"], [0.4444444444444444, \"#bd3786\"], [0.5555555555555556, \"#d8576b\"], [0.6666666666666666, \"#ed7953\"], [0.7777777777777778, \"#fb9f3a\"], [0.8888888888888888, \"#fdca26\"], [1.0, \"#f0f921\"]], \"type\": \"contour\"}], \"contourcarpet\": [{\"colorbar\": {\"outlinewidth\": 0, \"ticks\": \"\"}, \"type\": \"contourcarpet\"}], \"heatmap\": [{\"colorbar\": {\"outlinewidth\": 0, \"ticks\": \"\"}, \"colorscale\": [[0.0, \"#0d0887\"], [0.1111111111111111, \"#46039f\"], [0.2222222222222222, \"#7201a8\"], [0.3333333333333333, \"#9c179e\"], [0.4444444444444444, \"#bd3786\"], [0.5555555555555556, \"#d8576b\"], [0.6666666666666666, \"#ed7953\"], [0.7777777777777778, \"#fb9f3a\"], [0.8888888888888888, \"#fdca26\"], [1.0, \"#f0f921\"]], \"type\": \"heatmap\"}], \"heatmapgl\": [{\"colorbar\": {\"outlinewidth\": 0, \"ticks\": \"\"}, \"colorscale\": [[0.0, \"#0d0887\"], [0.1111111111111111, \"#46039f\"], [0.2222222222222222, \"#7201a8\"], [0.3333333333333333, \"#9c179e\"], [0.4444444444444444, \"#bd3786\"], [0.5555555555555556, \"#d8576b\"], [0.6666666666666666, \"#ed7953\"], [0.7777777777777778, \"#fb9f3a\"], [0.8888888888888888, \"#fdca26\"], [1.0, \"#f0f921\"]], \"type\": \"heatmapgl\"}], \"histogram\": [{\"marker\": {\"colorbar\": {\"outlinewidth\": 0, \"ticks\": \"\"}}, \"type\": \"histogram\"}], \"histogram2d\": [{\"colorbar\": {\"outlinewidth\": 0, \"ticks\": \"\"}, \"colorscale\": [[0.0, \"#0d0887\"], [0.1111111111111111, \"#46039f\"], [0.2222222222222222, \"#7201a8\"], [0.3333333333333333, \"#9c179e\"], [0.4444444444444444, \"#bd3786\"], [0.5555555555555556, \"#d8576b\"], [0.6666666666666666, \"#ed7953\"], [0.7777777777777778, \"#fb9f3a\"], [0.8888888888888888, \"#fdca26\"], [1.0, \"#f0f921\"]], \"type\": \"histogram2d\"}], \"histogram2dcontour\": [{\"colorbar\": {\"outlinewidth\": 0, \"ticks\": \"\"}, \"colorscale\": [[0.0, \"#0d0887\"], [0.1111111111111111, \"#46039f\"], [0.2222222222222222, \"#7201a8\"], [0.3333333333333333, \"#9c179e\"], [0.4444444444444444, \"#bd3786\"], [0.5555555555555556, \"#d8576b\"], [0.6666666666666666, \"#ed7953\"], [0.7777777777777778, \"#fb9f3a\"], [0.8888888888888888, \"#fdca26\"], [1.0, \"#f0f921\"]], \"type\": \"histogram2dcontour\"}], \"mesh3d\": [{\"colorbar\": {\"outlinewidth\": 0, \"ticks\": \"\"}, \"type\": \"mesh3d\"}], \"parcoords\": [{\"line\": {\"colorbar\": {\"outlinewidth\": 0, \"ticks\": \"\"}}, \"type\": \"parcoords\"}], \"pie\": [{\"automargin\": true, \"type\": \"pie\"}], \"scatter\": [{\"marker\": {\"colorbar\": {\"outlinewidth\": 0, \"ticks\": \"\"}}, \"type\": \"scatter\"}], \"scatter3d\": [{\"line\": {\"colorbar\": {\"outlinewidth\": 0, \"ticks\": \"\"}}, \"marker\": {\"colorbar\": {\"outlinewidth\": 0, \"ticks\": \"\"}}, \"type\": \"scatter3d\"}], \"scattercarpet\": [{\"marker\": {\"colorbar\": {\"outlinewidth\": 0, \"ticks\": \"\"}}, \"type\": \"scattercarpet\"}], \"scattergeo\": [{\"marker\": {\"colorbar\": {\"outlinewidth\": 0, \"ticks\": \"\"}}, \"type\": \"scattergeo\"}], \"scattergl\": [{\"marker\": {\"colorbar\": {\"outlinewidth\": 0, \"ticks\": \"\"}}, \"type\": \"scattergl\"}], \"scattermapbox\": [{\"marker\": {\"colorbar\": {\"outlinewidth\": 0, \"ticks\": \"\"}}, \"type\": \"scattermapbox\"}], \"scatterpolar\": [{\"marker\": {\"colorbar\": {\"outlinewidth\": 0, \"ticks\": \"\"}}, \"type\": \"scatterpolar\"}], \"scatterpolargl\": [{\"marker\": {\"colorbar\": {\"outlinewidth\": 0, \"ticks\": \"\"}}, \"type\": \"scatterpolargl\"}], \"scatterternary\": [{\"marker\": {\"colorbar\": {\"outlinewidth\": 0, \"ticks\": \"\"}}, \"type\": \"scatterternary\"}], \"surface\": [{\"colorbar\": {\"outlinewidth\": 0, \"ticks\": \"\"}, \"colorscale\": [[0.0, \"#0d0887\"], [0.1111111111111111, \"#46039f\"], [0.2222222222222222, \"#7201a8\"], [0.3333333333333333, \"#9c179e\"], [0.4444444444444444, \"#bd3786\"], [0.5555555555555556, \"#d8576b\"], [0.6666666666666666, \"#ed7953\"], [0.7777777777777778, \"#fb9f3a\"], [0.8888888888888888, \"#fdca26\"], [1.0, \"#f0f921\"]], \"type\": \"surface\"}], \"table\": [{\"cells\": {\"fill\": {\"color\": \"#EBF0F8\"}, \"line\": {\"color\": \"white\"}}, \"header\": {\"fill\": {\"color\": \"#C8D4E3\"}, \"line\": {\"color\": \"white\"}}, \"type\": \"table\"}]}, \"layout\": {\"annotationdefaults\": {\"arrowcolor\": \"#2a3f5f\", \"arrowhead\": 0, \"arrowwidth\": 1}, \"coloraxis\": {\"colorbar\": {\"outlinewidth\": 0, \"ticks\": \"\"}}, \"colorscale\": {\"diverging\": [[0, \"#8e0152\"], [0.1, \"#c51b7d\"], [0.2, \"#de77ae\"], [0.3, \"#f1b6da\"], [0.4, \"#fde0ef\"], [0.5, \"#f7f7f7\"], [0.6, \"#e6f5d0\"], [0.7, \"#b8e186\"], [0.8, \"#7fbc41\"], [0.9, \"#4d9221\"], [1, \"#276419\"]], \"sequential\": [[0.0, \"#0d0887\"], [0.1111111111111111, \"#46039f\"], [0.2222222222222222, \"#7201a8\"], [0.3333333333333333, \"#9c179e\"], [0.4444444444444444, \"#bd3786\"], [0.5555555555555556, \"#d8576b\"], [0.6666666666666666, \"#ed7953\"], [0.7777777777777778, \"#fb9f3a\"], [0.8888888888888888, \"#fdca26\"], [1.0, \"#f0f921\"]], \"sequentialminus\": [[0.0, \"#0d0887\"], [0.1111111111111111, \"#46039f\"], [0.2222222222222222, \"#7201a8\"], [0.3333333333333333, \"#9c179e\"], [0.4444444444444444, \"#bd3786\"], [0.5555555555555556, \"#d8576b\"], [0.6666666666666666, \"#ed7953\"], [0.7777777777777778, \"#fb9f3a\"], [0.8888888888888888, \"#fdca26\"], [1.0, \"#f0f921\"]]}, \"colorway\": [\"#636efa\", \"#EF553B\", \"#00cc96\", \"#ab63fa\", \"#FFA15A\", \"#19d3f3\", \"#FF6692\", \"#B6E880\", \"#FF97FF\", \"#FECB52\"], \"font\": {\"color\": \"#2a3f5f\"}, \"geo\": {\"bgcolor\": \"white\", \"lakecolor\": \"white\", \"landcolor\": \"#E5ECF6\", \"showlakes\": true, \"showland\": true, \"subunitcolor\": \"white\"}, \"hoverlabel\": {\"align\": \"left\"}, \"hovermode\": \"closest\", \"mapbox\": {\"style\": \"light\"}, \"paper_bgcolor\": \"white\", \"plot_bgcolor\": \"#E5ECF6\", \"polar\": {\"angularaxis\": {\"gridcolor\": \"white\", \"linecolor\": \"white\", \"ticks\": \"\"}, \"bgcolor\": \"#E5ECF6\", \"radialaxis\": {\"gridcolor\": \"white\", \"linecolor\": \"white\", \"ticks\": \"\"}}, \"scene\": {\"xaxis\": {\"backgroundcolor\": \"#E5ECF6\", \"gridcolor\": \"white\", \"gridwidth\": 2, \"linecolor\": \"white\", \"showbackground\": true, \"ticks\": \"\", \"zerolinecolor\": \"white\"}, \"yaxis\": {\"backgroundcolor\": \"#E5ECF6\", \"gridcolor\": \"white\", \"gridwidth\": 2, \"linecolor\": \"white\", \"showbackground\": true, \"ticks\": \"\", \"zerolinecolor\": \"white\"}, \"zaxis\": {\"backgroundcolor\": \"#E5ECF6\", \"gridcolor\": \"white\", \"gridwidth\": 2, \"linecolor\": \"white\", \"showbackground\": true, \"ticks\": \"\", \"zerolinecolor\": \"white\"}}, \"shapedefaults\": {\"line\": {\"color\": \"#2a3f5f\"}}, \"ternary\": {\"aaxis\": {\"gridcolor\": \"white\", \"linecolor\": \"white\", \"ticks\": \"\"}, \"baxis\": {\"gridcolor\": \"white\", \"linecolor\": \"white\", \"ticks\": \"\"}, \"bgcolor\": \"#E5ECF6\", \"caxis\": {\"gridcolor\": \"white\", \"linecolor\": \"white\", \"ticks\": \"\"}}, \"title\": {\"x\": 0.05}, \"xaxis\": {\"automargin\": true, \"gridcolor\": \"white\", \"linecolor\": \"white\", \"ticks\": \"\", \"title\": {\"standoff\": 15}, \"zerolinecolor\": \"white\", \"zerolinewidth\": 2}, \"yaxis\": {\"automargin\": true, \"gridcolor\": \"white\", \"linecolor\": \"white\", \"ticks\": \"\", \"title\": {\"standoff\": 15}, \"zerolinecolor\": \"white\", \"zerolinewidth\": 2}}}, \"title\": {\"text\": \"2019\\u5e74\\u4eb2\\u5b50\\u80b2\\u513f\\u8d26\\u672c\\u6bcf\\u6708\\u5404\\u7c7b\\u652f\\u51fa\\u91d1\\u989d\"}, \"xaxis\": {\"anchor\": \"y\", \"domain\": [0.0, 1.0], \"title\": {\"text\": \"\\u6708\"}}, \"yaxis\": {\"anchor\": \"x\", \"domain\": [0.0, 1.0], \"title\": {\"text\": \"amount\"}}},\n",
       "                        {\"responsive\": true}\n",
       "                    ).then(function(){\n",
       "                            \n",
       "var gd = document.getElementById('bad53dda-af9b-4125-8fc8-2f83a677198c');\n",
       "var x = new MutationObserver(function (mutations, observer) {{\n",
       "        var display = window.getComputedStyle(gd).display;\n",
       "        if (!display || display === 'none') {{\n",
       "            console.log([gd, 'removed!']);\n",
       "            Plotly.purge(gd);\n",
       "            observer.disconnect();\n",
       "        }}\n",
       "}});\n",
       "\n",
       "// Listen for the removal of the full notebook cells\n",
       "var notebookContainer = gd.closest('#notebook-container');\n",
       "if (notebookContainer) {{\n",
       "    x.observe(notebookContainer, {childList: true});\n",
       "}}\n",
       "\n",
       "// Listen for the clearing of the current output cell\n",
       "var outputEl = gd.closest('.output');\n",
       "if (outputEl) {{\n",
       "    x.observe(outputEl, {childList: true});\n",
       "}}\n",
       "\n",
       "                        })\n",
       "                };\n",
       "                });\n",
       "            </script>\n",
       "        </div>"
      ]
     },
     "metadata": {},
     "output_type": "display_data"
    }
   ],
   "source": [
    "fig=px.bar(disp2, x='month', y='amount',\n",
    "          labels={'month':'月'}, \n",
    "          color='type',\n",
    "          title='2019年亲子育儿账本每月各类支出金额')\n",
    "fig.show()"
   ]
  },
  {
   "cell_type": "code",
   "execution_count": null,
   "metadata": {},
   "outputs": [],
   "source": []
  },
  {
   "cell_type": "code",
   "execution_count": null,
   "metadata": {},
   "outputs": [],
   "source": [
    "#支出统计\n",
    "out=data[data['收入/支出']=='支出']\n",
    "out1=out.groupby(['month','账本名称','类别','成员'])[['金额(本币)']].sum().reset_index()\n",
    "out1.columns=['month','name','type','user','amount']\n",
    "out1.head()"
   ]
  }
 ],
 "metadata": {
  "kernelspec": {
   "display_name": "Python 3",
   "language": "python",
   "name": "python3"
  },
  "language_info": {
   "codemirror_mode": {
    "name": "ipython",
    "version": 3
   },
   "file_extension": ".py",
   "mimetype": "text/x-python",
   "name": "python",
   "nbconvert_exporter": "python",
   "pygments_lexer": "ipython3",
   "version": "3.7.3"
  },
  "toc": {
   "base_numbering": 1,
   "nav_menu": {},
   "number_sections": true,
   "sideBar": true,
   "skip_h1_title": false,
   "title_cell": "Table of Contents",
   "title_sidebar": "Contents",
   "toc_cell": false,
   "toc_position": {},
   "toc_section_display": true,
   "toc_window_display": false
  }
 },
 "nbformat": 4,
 "nbformat_minor": 2
}
